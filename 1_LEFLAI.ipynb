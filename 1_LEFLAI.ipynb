{
  "nbformat": 4,
  "nbformat_minor": 0,
  "metadata": {
    "colab": {
      "name": "#1 LEFLAI ",
      "provenance": [],
      "collapsed_sections": []
    },
    "kernelspec": {
      "name": "python3",
      "display_name": "Python 3"
    },
    "language_info": {
      "name": "python"
    }
  },
  "cells": [
    {
      "cell_type": "markdown",
      "metadata": {
        "id": "iG7k5koMcaY5"
      },
      "source": [
        "![banner flai.jpg](data:image/jpeg;base64,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)"
      ]
    },
    {
      "cell_type": "markdown",
      "metadata": {
        "id": "CaxddGsIYfRx"
      },
      "source": [
        "#📘 **Laboratório de Ensino FLAI** - Projeto Piloto\n",
        "---\n"
      ]
    },
    {
      "cell_type": "markdown",
      "metadata": {
        "id": "jEUg6yBCZM1A"
      },
      "source": [
        "💡 **Ideia:** Proposta Hands-on de pequenos projetos em Python\n",
        "\n",
        "\n",
        "📌 **Objetivos:** Criar intimidade com programação.\n",
        "\n",
        "\n",
        "👥 **Para quem:** Para iniciantes na linguagem Python.\n",
        "\n",
        "\n",
        "📋 **Tema de hoje:** Vamos criar nosso próprio Cassino!\n",
        "\n",
        "---"
      ]
    },
    {
      "cell_type": "markdown",
      "metadata": {
        "id": "ES_PxlVzYwfV"
      },
      "source": [
        "## ✨ **1. A Arte de Programar**\n"
      ]
    },
    {
      "cell_type": "markdown",
      "metadata": {
        "id": "UlPLvz9FjRRf"
      },
      "source": [
        "- Como conversar com o computador.\n",
        "\n",
        "- Algoritmo, o passo a passo que o computador precisa.\n",
        "\n",
        "- Traduzir os problemas do cotidiano nos objetos de programação, através de propriedades similares. \n",
        "\n",
        "- Programar é por etapas, é construtivo, do simples ao complexo\n",
        "\n",
        "- Funções para a aula de hoje: input, random.randint, random.choice, while, if, contador"
      ]
    },
    {
      "cell_type": "markdown",
      "metadata": {
        "id": "z1xt_qPVU7CQ"
      },
      "source": [
        "#### Função **input**"
      ]
    },
    {
      "cell_type": "code",
      "metadata": {
        "colab": {
          "base_uri": "https://localhost:8080/"
        },
        "id": "2iUDgxxaXSoP",
        "outputId": "e10abd8d-c657-43ea-df30-297a3586f808"
      },
      "source": [
        "nome = input('Qual é o seu nome? ')"
      ],
      "execution_count": null,
      "outputs": [
        {
          "output_type": "stream",
          "text": [
            "Qual é o seu nome? Jony\n"
          ],
          "name": "stdout"
        }
      ]
    },
    {
      "cell_type": "code",
      "metadata": {
        "colab": {
          "base_uri": "https://localhost:8080/"
        },
        "id": "vCB8s1E-XXb_",
        "outputId": "24df0121-f8ff-410e-cfc4-b88906ba27e0"
      },
      "source": [
        "print('O nome apresentado foi {}'.format(nome))"
      ],
      "execution_count": null,
      "outputs": [
        {
          "output_type": "stream",
          "text": [
            "O nome apresentado foi Jony\n"
          ],
          "name": "stdout"
        }
      ]
    },
    {
      "cell_type": "code",
      "metadata": {
        "colab": {
          "base_uri": "https://localhost:8080/"
        },
        "id": "owJHYrgKXj02",
        "outputId": "109e4e16-69f4-47c6-d261-362cead3f0f4"
      },
      "source": [
        "idade = input('Quantos anos você tem?')"
      ],
      "execution_count": null,
      "outputs": [
        {
          "output_type": "stream",
          "text": [
            "Quantos anos você tem?34\n"
          ],
          "name": "stdout"
        }
      ]
    },
    {
      "cell_type": "code",
      "metadata": {
        "colab": {
          "base_uri": "https://localhost:8080/"
        },
        "id": "OxGqSLNIX3zw",
        "outputId": "c297db20-1b22-47d8-cede-d22e9d4c1e11"
      },
      "source": [
        "type(idade)"
      ],
      "execution_count": null,
      "outputs": [
        {
          "output_type": "execute_result",
          "data": {
            "text/plain": [
              "str"
            ]
          },
          "metadata": {
            "tags": []
          },
          "execution_count": 16
        }
      ]
    },
    {
      "cell_type": "code",
      "metadata": {
        "colab": {
          "base_uri": "https://localhost:8080/"
        },
        "id": "M-Jeufm3X5ih",
        "outputId": "062fd2ab-da38-408c-cf6e-1cd16070c047"
      },
      "source": [
        "int(idade)*5"
      ],
      "execution_count": null,
      "outputs": [
        {
          "output_type": "execute_result",
          "data": {
            "text/plain": [
              "170"
            ]
          },
          "metadata": {
            "tags": []
          },
          "execution_count": 25
        }
      ]
    },
    {
      "cell_type": "markdown",
      "metadata": {
        "id": "9VaQUr3s0pYN"
      },
      "source": [
        "#### Biblioteca **random**, função **randint** e **choice**"
      ]
    },
    {
      "cell_type": "code",
      "metadata": {
        "id": "ewazd_VSYJJJ"
      },
      "source": [
        "import random"
      ],
      "execution_count": null,
      "outputs": []
    },
    {
      "cell_type": "code",
      "metadata": {
        "colab": {
          "base_uri": "https://localhost:8080/"
        },
        "id": "BB8BhCblY24W",
        "outputId": "2bb6e310-6736-473a-a949-b2cc5ee8290c"
      },
      "source": [
        "random.randint(1, 10)"
      ],
      "execution_count": null,
      "outputs": [
        {
          "output_type": "execute_result",
          "data": {
            "text/plain": [
              "4"
            ]
          },
          "metadata": {
            "tags": []
          },
          "execution_count": 95
        }
      ]
    },
    {
      "cell_type": "code",
      "metadata": {
        "colab": {
          "base_uri": "https://localhost:8080/"
        },
        "id": "C8wg_WrZ04Da",
        "outputId": "64ac0866-aabd-4283-bbd7-11df42b943b6"
      },
      "source": [
        "lista = [1, 4, 6, 10]\n",
        "random.choice(lista)"
      ],
      "execution_count": null,
      "outputs": [
        {
          "output_type": "execute_result",
          "data": {
            "text/plain": [
              "1"
            ]
          },
          "metadata": {
            "tags": []
          },
          "execution_count": 94
        }
      ]
    },
    {
      "cell_type": "markdown",
      "metadata": {
        "id": "XPVDMRu10-os"
      },
      "source": [
        "#### **Condicionais IF-ELSE**"
      ]
    },
    {
      "cell_type": "code",
      "metadata": {
        "colab": {
          "base_uri": "https://localhost:8080/"
        },
        "id": "Gd-rMiTvZSuv",
        "outputId": "3a163bb3-8e52-4bff-95a6-c6953cebd3f0"
      },
      "source": [
        "#  Exemplo Condicionais\n",
        "\n",
        "lista = [1, 4, 6, 10]\n",
        "x = random.choice(lista)\n",
        "\n",
        "if x == 10:\n",
        "    print('Oba, saiu o 10! :)')\n",
        "else:\n",
        "    print('Eita, não saiu o 10! :(')"
      ],
      "execution_count": null,
      "outputs": [
        {
          "output_type": "stream",
          "text": [
            "Eita, não saiu o 10! :(\n"
          ],
          "name": "stdout"
        }
      ]
    },
    {
      "cell_type": "markdown",
      "metadata": {
        "id": "c3KoWULK1F7f"
      },
      "source": [
        "#### **Iterador WHILE**"
      ]
    },
    {
      "cell_type": "code",
      "metadata": {
        "colab": {
          "base_uri": "https://localhost:8080/"
        },
        "id": "fRtcbBrFZlXu",
        "outputId": "bf0e07e6-fb6a-4a6b-85c8-c34fdedd69ac"
      },
      "source": [
        "# Exemplo de WHILE\n",
        "\n",
        "lista = [1, 4, 6, 10]\n",
        "\n",
        "while True:\n",
        "    numero = int(input('Digite o numero 10: ')) \n",
        "    if numero == 10:\n",
        "        print('Muito obrigado!')\n",
        "        break\n",
        "    else:\n",
        "        print('Escreveu errado!')"
      ],
      "execution_count": null,
      "outputs": [
        {
          "output_type": "stream",
          "text": [
            "Digite o numero 10: 11\n",
            "Escreveu errado!\n",
            "Digite o numero 10: 23\n",
            "Escreveu errado!\n",
            "Digite o numero 10: 443\n",
            "Escreveu errado!\n",
            "Digite o numero 10: 10\n",
            "Muito obrigado!\n"
          ],
          "name": "stdout"
        }
      ]
    },
    {
      "cell_type": "markdown",
      "metadata": {
        "id": "DdCOAEJ7Ywwq"
      },
      "source": [
        "##✨ **2. Programa A: Roletinha!** "
      ]
    },
    {
      "cell_type": "markdown",
      "metadata": {
        "id": "ARXJr67s11f1"
      },
      "source": [
        "**Vamos fazer um programa que simule o Jogo da Roletinha, uma roleta menorzinha!**\n",
        "\n",
        "Nesse jogo, o jogador aposta em um número de 1-6. Então, arremessa uma bola que pode cair em qualquer numéro de 0-6. Caso a bola acerta o valor escolhido, então o jogador ganha 6x o valor apostado. \n",
        "\n",
        "**Algoritmo**\n",
        "1. Perguntar a quantia que o jogador quer apostar\n",
        "2. Perguntar qual o número (1-6) em que o jogador deseja colocar a aposta.\n",
        "3. Arremessar a bolinha, isto é, gerar um número aleatorio entre 0-6. \n",
        "4. Imprima o resultado sorteado na tela\n",
        "5. Se o jogador acertou então imprima na tela o resultado e o seu premio\n",
        "6. Se o jogador errou, imprima na tela o resultado\n",
        "\n",
        "**Objetivo Extra**\n",
        "\n",
        "- Transforme o programa em uma função chamada 'Roletinha', que não requer nenhum argumento de entrada, abra o jogo, imprima os resultados e retorne o valor ganho no jogo.\n",
        "\n",
        "- Implemente algo que impeça o jogador de colocar entradas fora do esperado nos inputs!\n",
        "\n",
        "- Implemente algo para colocar um tempo entre a entradas dos inputs e o sorteio do jogo, com o objetivo de 'criar um mistério!'"
      ]
    },
    {
      "cell_type": "code",
      "metadata": {
        "id": "_db5yQ5x_Jg1",
        "colab": {
          "base_uri": "https://localhost:8080/"
        },
        "outputId": "5e2c05e1-3b3f-41f2-83b9-b816736d9250"
      },
      "source": [
        "# Implementação\n",
        "\n",
        "import random\n",
        "\n",
        "aposta = int(input('\\nQuanto quer apostar? '))\n",
        "numero = int(input('\\nQual número de 1-6 você deseja apostar? '))\n",
        "roleta = random.randint(0, 6)\n",
        "print('O resultado da roleta é: {}.'.format(roleta))\n",
        "\n",
        "if numero == roleta:\n",
        "    ganhos = 6*aposta\n",
        "    print('\\nJogador Ganhou!')\n",
        "    print('Tome aqui seus {} reais'.format(ganhos))\n",
        "else:\n",
        "    print('\\nInfelizmente, você perdeu!')\n",
        "    print('Mais sorte na próxima!')\n"
      ],
      "execution_count": null,
      "outputs": [
        {
          "output_type": "stream",
          "text": [
            "\n",
            "Quanto quer apostar? 12\n",
            "\n",
            "Qual número de 1-6 você deseja apostar? 1\n",
            "O resultado da roleta é: 6.\n",
            "\n",
            "Infelizmente, você perdeu!\n",
            "Mais sorte na próxima!\n"
          ],
          "name": "stdout"
        }
      ]
    },
    {
      "cell_type": "code",
      "metadata": {
        "id": "eLTwGXnD_QyP"
      },
      "source": [
        "# Objetivo Extra\n",
        "\n",
        "def Roletinha():\n",
        "    aposta = int(input('\\nQuanto quer apostar? '))\n",
        "    numero = int(input('\\nQual número de 1-6 você deseja apostar? '))\n",
        "    roleta = random.randint(0, 6)\n",
        "    print('O resultado da roleta é: {}.'.format(roleta))\n",
        "\n",
        "    if numero == roleta:\n",
        "        ganhos = 6*aposta\n",
        "        print('\\n*** Jogador Ganhou! ***')\n",
        "        print('Tome aqui seus {} reais'.format(ganhos))\n",
        "    else:\n",
        "        ganhos = 0\n",
        "        print('\\nInfelizmente, você perdeu!')\n",
        "        print('Mais sorte na próxima!')\n",
        "    \n",
        "    return ganhos"
      ],
      "execution_count": null,
      "outputs": []
    },
    {
      "cell_type": "code",
      "metadata": {
        "id": "v6UDdnQIJohd",
        "colab": {
          "base_uri": "https://localhost:8080/"
        },
        "outputId": "c48c8763-0165-420f-f48d-fa77166f5e30"
      },
      "source": [
        "Roletinha()"
      ],
      "execution_count": null,
      "outputs": [
        {
          "output_type": "stream",
          "text": [
            "\n",
            "Quanto quer apostar? 12\n",
            "\n",
            "Qual número de 1-6 você deseja apostar? 1\n",
            "O resultado da roleta é: 2.\n",
            "\n",
            "Infelizmente, você perdeu!\n",
            "Mais sorte na próxima!\n"
          ],
          "name": "stdout"
        },
        {
          "output_type": "execute_result",
          "data": {
            "text/plain": [
              "0"
            ]
          },
          "metadata": {
            "tags": []
          },
          "execution_count": 102
        }
      ]
    },
    {
      "cell_type": "markdown",
      "metadata": {
        "id": "lcuhLKbPKw0O"
      },
      "source": [
        "##✨ **3. Programa B: Jogo do 21 Adaptado**"
      ]
    },
    {
      "cell_type": "markdown",
      "metadata": {
        "id": "8ojdx-ngd7rg"
      },
      "source": [
        "**Vamos fazer um programa que simule o Jogo 21!**\n",
        "\n",
        "Nesse jogo, o jogador recebe uma carta do baralho. O As vale 1, as demais cartas com letras valem 10 e as cartas com números valem seus próprios números. O jogador pede quantas cartas quiser e pode parar quando quiser. Se somar mais do que 21, ele perde. Quando para antes de somar 21, o jogador vence se a sua soma for maior que o 'jogo da banca'. Nesse caso, o jogo da banca é um número aleatório entre 12 e 21. Quando o jogador ganha, recebe o dobro do que apostou. \n",
        "\n",
        "\n",
        "**Algoritmo**\n",
        "1. Perguntar ao jogador quanto ele quer apostar.\n",
        "1. Sorteie a primeira carta do jogador e imprima na tela o valor da carta\n",
        "1. Repetir a pergunta: \"deseja receber mais uma carta ou parar?\" até que o jogador escolha parar. Enquanto repetir:\n",
        "  1. Sorteie uma carta aleatória e imprima na tela o valor da carta\n",
        "  1. Imprima na tela a soma das cartas\n",
        "  1. Se passou de 21, diga que o jogador perdeu e encerre o jogo\n",
        "  1. Se não passo de 21, repita a pergunta. \n",
        "1. Se o jogador parar, gerar um valor aleatório entre 12 e 21.\n",
        "1. Se a soma do jogador for maior que o valor gerado, ele vence. Caso contrário, o jogador perde.\n",
        "1. Apresente o resultado final na tela e o valor ganho na aposta. \n",
        "\n",
        "**Objetivo Extra**\n",
        "\n",
        "Transforme o programa em uma função chamada 'Roleta', que não requer nenhum argumento de entrada, abra o jogo e imprima os resultados"
      ]
    },
    {
      "cell_type": "code",
      "metadata": {
        "id": "hYkrd-YH17KH"
      },
      "source": [
        "# AGORA É A VEZ DE VOCÊS"
      ],
      "execution_count": null,
      "outputs": []
    },
    {
      "cell_type": "markdown",
      "metadata": {
        "id": "urQHL5UuK8Y4"
      },
      "source": [
        "##✨ **4. Programa FINAL**\n"
      ]
    },
    {
      "cell_type": "markdown",
      "metadata": {
        "id": "MkjoUs1Pd7wv"
      },
      "source": [
        "\n",
        "Para finalizar, faça um programa que pergunte o nome do jogador, o saúde no Cassino, apresente os jogos disponíveis e permita que ele escolha qual jogar. \n",
        "\n",
        "**Algoritmo**\n",
        "\n",
        "1. Perguntar o nome do j Jogador.\n",
        "1. Imprimir a saudação.\n",
        "1. Perguntar qual jogo o jogador deseja jogar.\n",
        "1. Conectar com o jogo escolhido pelo jogador. "
      ]
    },
    {
      "cell_type": "code",
      "metadata": {
        "id": "irRacOl619qG"
      },
      "source": [
        "import numpy as np\n",
        "import random as rd\n",
        "import pandas as pd\n",
        "  \n",
        "nome = ['Alfred','Bruce','Barry','Clark','Diana']\n",
        "numapostadores = len(nome)\n",
        "dinheiro = np.zeros(numapostadores)\n",
        "nuap = np.zeros(numapostadores)\n",
        "ganhou = np.zeros(numapostadores)\n",
        "perdeu = np.zeros(numapostadores)\n",
        "vlap = np.zeros(numapostadores)\n",
        "sevaiapostar = np.zeros(numapostadores)\n",
        "apperdeu = np.zeros(numapostadores)\n",
        "apganhou = np.zeros(numapostadores)\n",
        "numeroroleta = 0\n",
        "max = 10\n",
        "colunas=['Dinheiro','Ganhou','Perdeu','Apos.lose', 'Apos.win']\n",
        "for c in range(numapostadores):\n",
        "    dinheiro[c]= rd.randint(100,500)"
      ],
      "execution_count": 1,
      "outputs": []
    },
    {
      "cell_type": "code",
      "metadata": {
        "id": "RaKk9V61OR7s"
      },
      "source": [
        "def Roleta():\n",
        "  numeroroleta = rd.randint(1,max)\n",
        "  for c in range(numapostadores):\n",
        "    sevaiapostar[c] = rd.randint(0,1)\n",
        "    vlap[c] = rd.randint(10,30)\n",
        "    nuap[c] = rd.randint(1,max)\n",
        "    if sevaiapostar[c] == 1:\n",
        "      dinheiro[c] =dinheiro[c]- vlap[c]\n",
        "\n",
        "  for c in range(numapostadores):\n",
        "    if nuap[c] == numeroroleta:\n",
        "      if sevaiapostar[c] == 1:\n",
        "        ganhou[c] = ganhou[c] + vlap[c]*6\n",
        "        dinheiro[c] =dinheiro[c]+ vlap[c]*6\n",
        "        apganhou[c] += 1\n",
        "    else:\n",
        "      if sevaiapostar[c] == 1:\n",
        "        perdeu[c] = perdeu[c] + vlap[c]\n",
        "        apperdeu[c] += 1"
      ],
      "execution_count": 2,
      "outputs": []
    },
    {
      "cell_type": "code",
      "metadata": {
        "id": "6bcja5dlOTAJ"
      },
      "source": [
        "def Resultado():\n",
        "  apostadores = pd.DataFrame( index = nome, columns = colunas)\n",
        "  apostadores['Dinheiro']=dinheiro\n",
        "  apostadores['Ganhou']=ganhou\n",
        "  apostadores['Perdeu']=perdeu\n",
        "  apostadores['Apos.lose']=apperdeu\n",
        "  apostadores['Apos.win']=apganhou\n",
        "  return apostadores"
      ],
      "execution_count": 3,
      "outputs": []
    },
    {
      "cell_type": "code",
      "metadata": {
        "colab": {
          "base_uri": "https://localhost:8080/",
          "height": 221
        },
        "id": "XlIiHR6uOWwC",
        "outputId": "acd96668-2c69-4514-c4a3-a33181722d85"
      },
      "source": [
        "print('Antes das apostas')\n",
        "Resultado()"
      ],
      "execution_count": 4,
      "outputs": [
        {
          "output_type": "stream",
          "text": [
            "Antes das apostas\n"
          ],
          "name": "stdout"
        },
        {
          "output_type": "execute_result",
          "data": {
            "text/html": [
              "<div>\n",
              "<style scoped>\n",
              "    .dataframe tbody tr th:only-of-type {\n",
              "        vertical-align: middle;\n",
              "    }\n",
              "\n",
              "    .dataframe tbody tr th {\n",
              "        vertical-align: top;\n",
              "    }\n",
              "\n",
              "    .dataframe thead th {\n",
              "        text-align: right;\n",
              "    }\n",
              "</style>\n",
              "<table border=\"1\" class=\"dataframe\">\n",
              "  <thead>\n",
              "    <tr style=\"text-align: right;\">\n",
              "      <th></th>\n",
              "      <th>Dinheiro</th>\n",
              "      <th>Ganhou</th>\n",
              "      <th>Perdeu</th>\n",
              "      <th>Apos.lose</th>\n",
              "      <th>Apos.win</th>\n",
              "    </tr>\n",
              "  </thead>\n",
              "  <tbody>\n",
              "    <tr>\n",
              "      <th>Alfred</th>\n",
              "      <td>402.0</td>\n",
              "      <td>0.0</td>\n",
              "      <td>0.0</td>\n",
              "      <td>0.0</td>\n",
              "      <td>0.0</td>\n",
              "    </tr>\n",
              "    <tr>\n",
              "      <th>Bruce</th>\n",
              "      <td>120.0</td>\n",
              "      <td>0.0</td>\n",
              "      <td>0.0</td>\n",
              "      <td>0.0</td>\n",
              "      <td>0.0</td>\n",
              "    </tr>\n",
              "    <tr>\n",
              "      <th>Barry</th>\n",
              "      <td>152.0</td>\n",
              "      <td>0.0</td>\n",
              "      <td>0.0</td>\n",
              "      <td>0.0</td>\n",
              "      <td>0.0</td>\n",
              "    </tr>\n",
              "    <tr>\n",
              "      <th>Clark</th>\n",
              "      <td>115.0</td>\n",
              "      <td>0.0</td>\n",
              "      <td>0.0</td>\n",
              "      <td>0.0</td>\n",
              "      <td>0.0</td>\n",
              "    </tr>\n",
              "    <tr>\n",
              "      <th>Diana</th>\n",
              "      <td>359.0</td>\n",
              "      <td>0.0</td>\n",
              "      <td>0.0</td>\n",
              "      <td>0.0</td>\n",
              "      <td>0.0</td>\n",
              "    </tr>\n",
              "  </tbody>\n",
              "</table>\n",
              "</div>"
            ],
            "text/plain": [
              "        Dinheiro  Ganhou  Perdeu  Apos.lose  Apos.win\n",
              "Alfred     402.0     0.0     0.0        0.0       0.0\n",
              "Bruce      120.0     0.0     0.0        0.0       0.0\n",
              "Barry      152.0     0.0     0.0        0.0       0.0\n",
              "Clark      115.0     0.0     0.0        0.0       0.0\n",
              "Diana      359.0     0.0     0.0        0.0       0.0"
            ]
          },
          "metadata": {
            "tags": []
          },
          "execution_count": 4
        }
      ]
    },
    {
      "cell_type": "code",
      "metadata": {
        "colab": {
          "base_uri": "https://localhost:8080/",
          "height": 204
        },
        "id": "k0iSFn2DOZVF",
        "outputId": "b8adbe76-a32f-49aa-ab3c-51734f0add19"
      },
      "source": [
        "numerodeapostas=rd.randint(3,10)\n",
        "for c in range(numerodeapostas):\n",
        " Roleta()\n",
        "Resultado()"
      ],
      "execution_count": 5,
      "outputs": [
        {
          "output_type": "execute_result",
          "data": {
            "text/html": [
              "<div>\n",
              "<style scoped>\n",
              "    .dataframe tbody tr th:only-of-type {\n",
              "        vertical-align: middle;\n",
              "    }\n",
              "\n",
              "    .dataframe tbody tr th {\n",
              "        vertical-align: top;\n",
              "    }\n",
              "\n",
              "    .dataframe thead th {\n",
              "        text-align: right;\n",
              "    }\n",
              "</style>\n",
              "<table border=\"1\" class=\"dataframe\">\n",
              "  <thead>\n",
              "    <tr style=\"text-align: right;\">\n",
              "      <th></th>\n",
              "      <th>Dinheiro</th>\n",
              "      <th>Ganhou</th>\n",
              "      <th>Perdeu</th>\n",
              "      <th>Apos.lose</th>\n",
              "      <th>Apos.win</th>\n",
              "    </tr>\n",
              "  </thead>\n",
              "  <tbody>\n",
              "    <tr>\n",
              "      <th>Alfred</th>\n",
              "      <td>553.0</td>\n",
              "      <td>246.0</td>\n",
              "      <td>54.0</td>\n",
              "      <td>3.0</td>\n",
              "      <td>2.0</td>\n",
              "    </tr>\n",
              "    <tr>\n",
              "      <th>Bruce</th>\n",
              "      <td>23.0</td>\n",
              "      <td>0.0</td>\n",
              "      <td>97.0</td>\n",
              "      <td>4.0</td>\n",
              "      <td>0.0</td>\n",
              "    </tr>\n",
              "    <tr>\n",
              "      <th>Barry</th>\n",
              "      <td>207.0</td>\n",
              "      <td>180.0</td>\n",
              "      <td>95.0</td>\n",
              "      <td>4.0</td>\n",
              "      <td>1.0</td>\n",
              "    </tr>\n",
              "    <tr>\n",
              "      <th>Clark</th>\n",
              "      <td>5.0</td>\n",
              "      <td>0.0</td>\n",
              "      <td>110.0</td>\n",
              "      <td>5.0</td>\n",
              "      <td>0.0</td>\n",
              "    </tr>\n",
              "    <tr>\n",
              "      <th>Diana</th>\n",
              "      <td>283.0</td>\n",
              "      <td>0.0</td>\n",
              "      <td>76.0</td>\n",
              "      <td>3.0</td>\n",
              "      <td>0.0</td>\n",
              "    </tr>\n",
              "  </tbody>\n",
              "</table>\n",
              "</div>"
            ],
            "text/plain": [
              "        Dinheiro  Ganhou  Perdeu  Apos.lose  Apos.win\n",
              "Alfred     553.0   246.0    54.0        3.0       2.0\n",
              "Bruce       23.0     0.0    97.0        4.0       0.0\n",
              "Barry      207.0   180.0    95.0        4.0       1.0\n",
              "Clark        5.0     0.0   110.0        5.0       0.0\n",
              "Diana      283.0     0.0    76.0        3.0       0.0"
            ]
          },
          "metadata": {
            "tags": []
          },
          "execution_count": 5
        }
      ]
    },
    {
      "cell_type": "code",
      "metadata": {
        "colab": {
          "base_uri": "https://localhost:8080/"
        },
        "id": "eQ5_zN8lObL8",
        "outputId": "ed1ab407-4318-4404-bcc9-6e87c46ac153"
      },
      "source": [
        "print('Foram feitas {} apostas'.format(numerodeapostas))"
      ],
      "execution_count": 6,
      "outputs": [
        {
          "output_type": "stream",
          "text": [
            "Foram feitas 9 apostas\n"
          ],
          "name": "stdout"
        }
      ]
    },
    {
      "cell_type": "code",
      "metadata": {
        "id": "55SKYdxoOeT8"
      },
      "source": [
        "Resultado()['Perdeu'].plot(kind ='bar',title='Dinheiro perdido');"
      ],
      "execution_count": null,
      "outputs": []
    },
    {
      "cell_type": "code",
      "metadata": {
        "id": "Fr7Mj6--Oepb"
      },
      "source": [
        "Resultado()['Ganhou'].plot(kind ='bar',title='Dinheiro que ganhou');"
      ],
      "execution_count": null,
      "outputs": []
    },
    {
      "cell_type": "code",
      "metadata": {
        "id": "v-thU1SGOexB"
      },
      "source": [
        "sum =Resultado()['Apos.lose']+Resultado()['Apos.win']\n",
        "sum.plot(kind ='bar',title='Quantas veses apostou');"
      ],
      "execution_count": null,
      "outputs": []
    },
    {
      "cell_type": "code",
      "metadata": {
        "id": "byqqburYOe3L"
      },
      "source": [
        ""
      ],
      "execution_count": null,
      "outputs": []
    }
  ]
}