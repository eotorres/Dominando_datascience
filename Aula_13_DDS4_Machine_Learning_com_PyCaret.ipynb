{
  "nbformat": 4,
  "nbformat_minor": 0,
  "metadata": {
    "colab": {
      "name": "Aula 13 - DDS4 - Machine Learning com PyCaret.ipynb",
      "provenance": [],
      "collapsed_sections": []
    },
    "kernelspec": {
      "display_name": "Python 3",
      "language": "python",
      "name": "python3"
    },
    "language_info": {
      "codemirror_mode": {
        "name": "ipython",
        "version": 3
      },
      "file_extension": ".py",
      "mimetype": "text/x-python",
      "name": "python",
      "nbconvert_exporter": "python",
      "pygments_lexer": "ipython3",
      "version": "3.8.5"
    }
  },
  "cells": [
    {
      "cell_type": "markdown",
      "metadata": {
        "id": "D8w2JO85LIwH"
      },
      "source": [
        "# **Aula 13 - DDS4 - Machine Learning com PyCaret**"
      ]
    },
    {
      "cell_type": "markdown",
      "metadata": {
        "id": "VwzL4QfMotyt"
      },
      "source": [
        "## **DADOS DE CUSTOS MÉDICOS**"
      ]
    },
    {
      "cell_type": "code",
      "metadata": {
        "id": "URrcemIMpEZx"
      },
      "source": [
        "#instalar pycaret\n",
        "!pip install pycaret[full]"
      ],
      "execution_count": null,
      "outputs": []
    },
    {
      "cell_type": "code",
      "metadata": {
        "colab": {
          "base_uri": "https://localhost:8080/"
        },
        "id": "X5S8QlR3LMVQ",
        "outputId": "569233e4-5593-4ed8-a18e-9a70cfe41073"
      },
      "source": [
        "#Criando drive no colab\n",
        "from google.colab import drive\n",
        "drive.mount('/content/drive')"
      ],
      "execution_count": 2,
      "outputs": [
        {
          "output_type": "stream",
          "text": [
            "Mounted at /content/drive\n"
          ],
          "name": "stdout"
        }
      ]
    },
    {
      "cell_type": "code",
      "metadata": {
        "colab": {
          "base_uri": "https://localhost:8080/"
        },
        "id": "aq6rBOZsLPOZ",
        "outputId": "54c5c73f-f3a8-4843-b0d6-90aea9ad7960"
      },
      "source": [
        "#Validando pasta que origem\n",
        "import os\n",
        "os.chdir(\"/content/drive/My Drive\")\n",
        "!ls"
      ],
      "execution_count": 3,
      "outputs": [
        {
          "output_type": "stream",
          "text": [
            " Apostilas\n",
            "'Aula 13 - DDS4 - Machine Learning com PyCaret.ipynb'\n",
            " Aula_3_1_Nocoes_de_Inferencia_Simulacao_de_uma_Pesquisa_Eleitoral.ipynb\n",
            " insurance.csv\n"
          ],
          "name": "stdout"
        }
      ]
    },
    {
      "cell_type": "code",
      "metadata": {
        "id": "dg1dzEAGwLKY"
      },
      "source": [
        "from pycaret.datasets import get_data\n",
        "dados = get_data('/content/drive/My Drive/insurance') "
      ],
      "execution_count": null,
      "outputs": []
    },
    {
      "cell_type": "code",
      "metadata": {
        "id": "osRH3Q8jLIwP"
      },
      "source": [
        "dados.head()"
      ],
      "execution_count": null,
      "outputs": []
    },
    {
      "cell_type": "code",
      "metadata": {
        "id": "cuxmDXXd-l41"
      },
      "source": [
        "import seaborn as sns\n",
        "sns.scatterplot(x = 'bmi', y = 'charges', hue = 'smoker', data = dados);"
      ],
      "execution_count": null,
      "outputs": []
    },
    {
      "cell_type": "markdown",
      "metadata": {
        "id": "ykc6haBG8lkO"
      },
      "source": [
        "---"
      ]
    },
    {
      "cell_type": "markdown",
      "metadata": {
        "id": "liQNf8Hv7zvV"
      },
      "source": [
        "## **Objetivo Primário: construir um bom modelo para previsão dos custos médicos de uma pessoa**"
      ]
    },
    {
      "cell_type": "code",
      "metadata": {
        "id": "qn8rVrIA86X2"
      },
      "source": [
        "import pycaret.regression as pyreg "
      ],
      "execution_count": 6,
      "outputs": []
    },
    {
      "cell_type": "code",
      "metadata": {
        "id": "293USS7uLIwT"
      },
      "source": [
        "?pyreg.setup"
      ],
      "execution_count": 7,
      "outputs": []
    },
    {
      "cell_type": "code",
      "metadata": {
        "id": "RIR-pdn39grR"
      },
      "source": [
        "# setup\n",
        "regressao = pyreg.setup(data = dados, target = 'charges', \n",
        "                       combine_rare_levels = True,\n",
        "                       normalize = True)"
      ],
      "execution_count": null,
      "outputs": []
    },
    {
      "cell_type": "code",
      "metadata": {
        "colab": {
          "base_uri": "https://localhost:8080/"
        },
        "id": "0dPFHaD5LIwU",
        "outputId": "cafeb003-9a30-41b1-d3d6-15ec8b45a30b"
      },
      "source": [
        "pyreg.models().shape"
      ],
      "execution_count": 9,
      "outputs": [
        {
          "output_type": "execute_result",
          "data": {
            "text/plain": [
              "(25, 3)"
            ]
          },
          "metadata": {
            "tags": []
          },
          "execution_count": 9
        }
      ]
    },
    {
      "cell_type": "code",
      "metadata": {
        "id": "6NEbG3XwO0dz"
      },
      "source": [
        "rf = pyreg.create_model('rf')"
      ],
      "execution_count": null,
      "outputs": []
    },
    {
      "cell_type": "code",
      "metadata": {
        "id": "LK-iDV2_LIwW"
      },
      "source": [
        "rf_tunado = pyreg.tune_model(rf, optimize = 'RMSLE')"
      ],
      "execution_count": null,
      "outputs": []
    },
    {
      "cell_type": "code",
      "metadata": {
        "id": "3RoxvX9j9kpx"
      },
      "source": [
        "# Comparando os modelos implementados, ordenando pelo RMSLE\n",
        "melhores = pyreg.compare_models(sort = 'RMSLE', n_select = 15)"
      ],
      "execution_count": null,
      "outputs": []
    },
    {
      "cell_type": "code",
      "metadata": {
        "id": "pxeZNhxHLIwX"
      },
      "source": [
        "melhores"
      ],
      "execution_count": null,
      "outputs": []
    },
    {
      "cell_type": "code",
      "metadata": {
        "id": "f3K-BIXsAODi"
      },
      "source": [
        "melhores_tunados = []\n",
        "\n",
        "for i in range(len(melhores)):\n",
        "    melhores_tunados.append(pyreg.tune_model(melhores[i], optimize = 'RMSLE'))"
      ],
      "execution_count": null,
      "outputs": []
    },
    {
      "cell_type": "code",
      "metadata": {
        "id": "sBddGQBYLIwY"
      },
      "source": [
        "for i in range(len(melhores_tunados)):\n",
        "    ccc = pyreg.predict_model(melhores_tunados[i]) "
      ],
      "execution_count": null,
      "outputs": []
    },
    {
      "cell_type": "code",
      "metadata": {
        "id": "ZyuCMyTjCswF"
      },
      "source": [
        "combinado9 = pyreg.blend_models(melhores_tunados[:9])"
      ],
      "execution_count": null,
      "outputs": []
    },
    {
      "cell_type": "code",
      "metadata": {
        "id": "ccbXdlcBLIwb"
      },
      "source": [
        "et = pyreg.create_model('et')"
      ],
      "execution_count": null,
      "outputs": []
    },
    {
      "cell_type": "code",
      "metadata": {
        "id": "BtuTASKYLIwb"
      },
      "source": [
        "et_tunado = pyreg.tune_model(et, optimize = 'RMSLE')"
      ],
      "execution_count": null,
      "outputs": []
    },
    {
      "cell_type": "code",
      "metadata": {
        "id": "vqXhMiUqFQbM"
      },
      "source": [
        "# Performance nos dados de validacao\n",
        "pred = pyreg.predict_model(et_tunado)\n",
        "pred"
      ],
      "execution_count": null,
      "outputs": []
    },
    {
      "cell_type": "code",
      "metadata": {
        "id": "RU14nMRpKKkh"
      },
      "source": [
        "pred['Label']"
      ],
      "execution_count": null,
      "outputs": []
    },
    {
      "cell_type": "code",
      "metadata": {
        "collapsed": true,
        "id": "TXXmjs2TPEWi"
      },
      "source": [
        "pyreg.evaluate_model(et_tunado)\n"
      ],
      "execution_count": null,
      "outputs": []
    },
    {
      "cell_type": "code",
      "metadata": {
        "id": "Xc7jvEnR9kEq"
      },
      "source": [
        "# Utilizando o modelo escolhido nos dados todos para gerar o modelo final\n",
        "modelo_final = pyreg.finalize_model(et_tunado)"
      ],
      "execution_count": 23,
      "outputs": []
    },
    {
      "cell_type": "code",
      "metadata": {
        "id": "775XfhoZ9jFV",
        "colab": {
          "base_uri": "https://localhost:8080/"
        },
        "outputId": "0625a67a-0ebf-4217-87f7-8048a3f7f63c"
      },
      "source": [
        "# Salvando o modelo\n",
        "pyreg.save_model(modelo_final, 'meu-modelo-para-charges')"
      ],
      "execution_count": 26,
      "outputs": [
        {
          "output_type": "stream",
          "text": [
            "Transformation Pipeline and Model Succesfully Saved\n"
          ],
          "name": "stdout"
        },
        {
          "output_type": "execute_result",
          "data": {
            "text/plain": [
              "(Pipeline(memory=None,\n",
              "          steps=[('dtypes',\n",
              "                  DataTypes_Auto_infer(categorical_features=[],\n",
              "                                       display_types=True, features_todrop=[],\n",
              "                                       id_columns=[], ml_usecase='regression',\n",
              "                                       numerical_features=[], target='charges',\n",
              "                                       time_features=[])),\n",
              "                 ('imputer',\n",
              "                  Simple_Imputer(categorical_strategy='not_available',\n",
              "                                 fill_value_categorical=None,\n",
              "                                 fill_value_numerical=None,\n",
              "                                 numeric_strategy...\n",
              "                  ExtraTreesRegressor(bootstrap=False, ccp_alpha=0.0,\n",
              "                                      criterion='mae', max_depth=3,\n",
              "                                      max_features=1.0, max_leaf_nodes=None,\n",
              "                                      max_samples=None,\n",
              "                                      min_impurity_decrease=0.0001,\n",
              "                                      min_impurity_split=None,\n",
              "                                      min_samples_leaf=4, min_samples_split=2,\n",
              "                                      min_weight_fraction_leaf=0.0,\n",
              "                                      n_estimators=70, n_jobs=-1,\n",
              "                                      oob_score=False, random_state=1747,\n",
              "                                      verbose=0, warm_start=False)]],\n",
              "          verbose=False), 'meu-modelo-para-charges.pkl')"
            ]
          },
          "metadata": {
            "tags": []
          },
          "execution_count": 26
        }
      ]
    },
    {
      "cell_type": "markdown",
      "metadata": {
        "id": "MnaOACj3LIwf"
      },
      "source": [
        "---"
      ]
    },
    {
      "cell_type": "code",
      "metadata": {
        "id": "4bcgC4abKsEN"
      },
      "source": [
        "# Deploy Básico\n",
        "import pandas as pd\n",
        "\n",
        "def CustoSeguro(age, sex, bmi, children, smoker, region):\n",
        "    dados0 = {'age': [age], 'sex': [sex], 'bmi': [bmi], 'children': [children], 'smoker': [smoker], 'region': [region]}\n",
        "    dados = pd.DataFrame(dados0)\n",
        "\n",
        "    modelo = pyreg.load_model('meu-modelo-para-charges')\n",
        "\n",
        "    pred = float(pyreg.predict_model(modelo, data = dados)['Label'].round(2))\n",
        "    valor = round(1.8*pred, 2)\n",
        "    \n",
        "    print(' ')\n",
        "    print('Idade: {}'.format(age))\n",
        "    print('Sexo: {}'.format(sex))\n",
        "    print('IMC: {}'.format(bmi))\n",
        "    print('Crianças: {}'.format(children))\n",
        "    print('Fumante: {}'.format(smoker))\n",
        "    print('Região: {}'.format(region))\n",
        "    print(' ')\n",
        "    print('Custo do Seguro: ${}'.format(pred))\n",
        "    print('Valor de Venda: ${}'.format(valor))\n"
      ],
      "execution_count": 27,
      "outputs": []
    },
    {
      "cell_type": "code",
      "metadata": {
        "id": "dNOov3G_Q0_X"
      },
      "source": [
        "CustoSeguro(age = 34, sex = 'male', bmi = 30, children = 0, smoker =  'yes', region = 'southwest')"
      ],
      "execution_count": null,
      "outputs": []
    },
    {
      "cell_type": "code",
      "metadata": {
        "id": "ulEfJvsvqC7v"
      },
      "source": [
        "CustoSeguro(45, 'female', 20, 2, 'yes', 'southwest')"
      ],
      "execution_count": null,
      "outputs": []
    },
    {
      "cell_type": "code",
      "metadata": {
        "id": "yJKkitbrLIwg"
      },
      "source": [
        "CustoSeguro(age = 45, \n",
        "            sex = 'female', \n",
        "            bmi = 40, \n",
        "            children = 5, \n",
        "            smoker =  'yes', \n",
        "            region = 'southwest')"
      ],
      "execution_count": null,
      "outputs": []
    },
    {
      "cell_type": "markdown",
      "metadata": {
        "id": "qCKLQVBVpDzJ"
      },
      "source": [
        "---"
      ]
    },
    {
      "cell_type": "markdown",
      "metadata": {
        "id": "zN-p1luD8T6g"
      },
      "source": [
        "## **Objetivo secundário: construir um modelo para detectar fumantes e possíveis fraudadores dessa variável.**"
      ]
    },
    {
      "cell_type": "code",
      "metadata": {
        "id": "oa84uOYwrZU9"
      },
      "source": [
        "from pycaret.classification import *"
      ],
      "execution_count": 31,
      "outputs": []
    },
    {
      "cell_type": "code",
      "metadata": {
        "id": "epS3ptvmreHN"
      },
      "source": [
        "class_setup = setup(data = dados,\n",
        "                    target = 'smoker',\n",
        "                    normalize = True, \n",
        "                    ignore_low_variance = True,\n",
        "                    remove_multicollinearity = True, \n",
        "                    multicollinearity_threshold = 0.95,\n",
        "                    n_jobs = -1)"
      ],
      "execution_count": null,
      "outputs": []
    },
    {
      "cell_type": "code",
      "metadata": {
        "id": "0xBVWUhA7VSt"
      },
      "source": [
        "models()"
      ],
      "execution_count": null,
      "outputs": []
    },
    {
      "cell_type": "code",
      "metadata": {
        "id": "kGoPCGZHrpC5"
      },
      "source": [
        "todos = compare_models(n_select = 18, turbo = True)"
      ],
      "execution_count": null,
      "outputs": []
    },
    {
      "cell_type": "code",
      "metadata": {
        "id": "EiFx7dWQLIwj"
      },
      "source": [
        "modelo = create_model('catboost')"
      ],
      "execution_count": null,
      "outputs": []
    },
    {
      "cell_type": "code",
      "metadata": {
        "id": "NH7SbjmoSf6q"
      },
      "source": [
        "modelo_tunado = tune_model(modelo, optimize = 'Accuracy')"
      ],
      "execution_count": null,
      "outputs": []
    },
    {
      "cell_type": "code",
      "metadata": {
        "id": "2xhJ5w_6tKX-"
      },
      "source": [
        "top7_tunados = [tune_model(i) for i in todos[:7]]\n"
      ],
      "execution_count": null,
      "outputs": []
    },
    {
      "cell_type": "code",
      "metadata": {
        "id": "uQvh3sqzy8A7"
      },
      "source": [
        "top7_tunados"
      ],
      "execution_count": null,
      "outputs": []
    },
    {
      "cell_type": "code",
      "metadata": {
        "id": "UyqDC2ATy8gz"
      },
      "source": [
        "import pandas as pd\n",
        "results = pd.DataFrame()"
      ],
      "execution_count": 39,
      "outputs": []
    },
    {
      "cell_type": "code",
      "metadata": {
        "id": "wsZyl2UOLIwm"
      },
      "source": [
        "for i in range(len(top7_tunados)):\n",
        "    ccc = predict_model(top7_tunados[i]) "
      ],
      "execution_count": null,
      "outputs": []
    },
    {
      "cell_type": "code",
      "metadata": {
        "id": "ccNjIQYQ0q1u"
      },
      "source": [
        "combinacao_soft = blend_models(top7_tunados, method = 'soft') # os sete melhores modelos soltam probabilidades, então posso fazer combinação 'soft'"
      ],
      "execution_count": null,
      "outputs": []
    },
    {
      "cell_type": "code",
      "metadata": {
        "id": "Yn-1Ca4cvTfd",
        "scrolled": true
      },
      "source": [
        "combinacao_hard = blend_models(top7_tunados, method = 'hard')"
      ],
      "execution_count": null,
      "outputs": []
    },
    {
      "cell_type": "markdown",
      "metadata": {
        "id": "Nlp76wuA3xVW"
      },
      "source": [
        "Tanto as combinações 'hard' quanto 'soft' tiveram performances superiores a qualquer modelo individual. Por tanto, para modelo de produção, escolheremos a combinação 'soft', pois a 'hard' não solta probabilidades da variável resposta. "
      ]
    },
    {
      "cell_type": "code",
      "metadata": {
        "id": "fgBCRJtxzw3Q"
      },
      "source": [
        "preds = predict_model(combinacao_soft, data = dados)"
      ],
      "execution_count": 43,
      "outputs": []
    },
    {
      "cell_type": "code",
      "metadata": {
        "id": "0I051CfFDtXQ"
      },
      "source": [
        "preds.sample(20).sort_values(by = 'Score')"
      ],
      "execution_count": null,
      "outputs": []
    },
    {
      "cell_type": "code",
      "metadata": {
        "id": "5II5ndct4-7O"
      },
      "source": [
        "plot_model(combinacao_soft)"
      ],
      "execution_count": null,
      "outputs": []
    },
    {
      "cell_type": "code",
      "metadata": {
        "id": "-StAwJaQuFVZ"
      },
      "source": [
        "plot_model(combinacao_soft, plot = 'confusion_matrix')"
      ],
      "execution_count": null,
      "outputs": []
    },
    {
      "cell_type": "markdown",
      "metadata": {
        "id": "aZOV5sQkU5Rp"
      },
      "source": [
        "---"
      ]
    },
    {
      "cell_type": "code",
      "metadata": {
        "id": "3LVLTyoVFynm",
        "colab": {
          "base_uri": "https://localhost:8080/",
          "height": 80
        },
        "outputId": "be92f6c7-6201-48fe-859f-5ca6886480a9"
      },
      "source": [
        "pred = predict_model(combinacao_soft)"
      ],
      "execution_count": 47,
      "outputs": [
        {
          "output_type": "display_data",
          "data": {
            "text/html": [
              "<div>\n",
              "<style scoped>\n",
              "    .dataframe tbody tr th:only-of-type {\n",
              "        vertical-align: middle;\n",
              "    }\n",
              "\n",
              "    .dataframe tbody tr th {\n",
              "        vertical-align: top;\n",
              "    }\n",
              "\n",
              "    .dataframe thead th {\n",
              "        text-align: right;\n",
              "    }\n",
              "</style>\n",
              "<table border=\"1\" class=\"dataframe\">\n",
              "  <thead>\n",
              "    <tr style=\"text-align: right;\">\n",
              "      <th></th>\n",
              "      <th>Model</th>\n",
              "      <th>Accuracy</th>\n",
              "      <th>AUC</th>\n",
              "      <th>Recall</th>\n",
              "      <th>Prec.</th>\n",
              "      <th>F1</th>\n",
              "      <th>Kappa</th>\n",
              "      <th>MCC</th>\n",
              "    </tr>\n",
              "  </thead>\n",
              "  <tbody>\n",
              "    <tr>\n",
              "      <th>0</th>\n",
              "      <td>Voting Classifier</td>\n",
              "      <td>0.9726</td>\n",
              "      <td>0.9945</td>\n",
              "      <td>0.9589</td>\n",
              "      <td>0.8974</td>\n",
              "      <td>0.9272</td>\n",
              "      <td>0.9103</td>\n",
              "      <td>0.9111</td>\n",
              "    </tr>\n",
              "  </tbody>\n",
              "</table>\n",
              "</div>"
            ],
            "text/plain": [
              "               Model  Accuracy     AUC  Recall   Prec.      F1   Kappa     MCC\n",
              "0  Voting Classifier    0.9726  0.9945  0.9589  0.8974  0.9272  0.9103  0.9111"
            ]
          },
          "metadata": {
            "tags": []
          }
        }
      ]
    },
    {
      "cell_type": "markdown",
      "metadata": {
        "id": "54YMD-LEKRdx"
      },
      "source": [
        "## Utilizando a função predict_proba podemos tomar os valores das probabilidades dada pelo modelo. E podemos ver que o que acontece na variável 'Score' é que a probabilidade apresentada é sempre a de pertencer a resposta classificada, por isso então a suposta incoerência nos valores observados. "
      ]
    },
    {
      "cell_type": "markdown",
      "metadata": {
        "id": "lqnIYbEvLCCD"
      },
      "source": [
        "---"
      ]
    },
    {
      "cell_type": "markdown",
      "metadata": {
        "id": "X7jEsbKQLCmA"
      },
      "source": [
        "## Utilizando o modelo selecionado na propria base para identificar possiveis fraudadores"
      ]
    },
    {
      "cell_type": "code",
      "metadata": {
        "id": "cZ-sXPtGAjwm"
      },
      "source": [
        "pred = predict_model(combinacao_soft, data = dados)\n",
        "pred"
      ],
      "execution_count": null,
      "outputs": []
    },
    {
      "cell_type": "markdown",
      "metadata": {
        "id": "_8t-RbFVLPBo"
      },
      "source": [
        "## Queremos selecionar aqueles em que a resposta observada é não fumante, mas que nosso modelo indica que é fumante. Vamos ordenar o resultado pelo Score, pois quanto mais alto, maior a probabilidade ser fumante e, portanto, maior o risco de ser um fraudador. "
      ]
    },
    {
      "cell_type": "code",
      "metadata": {
        "id": "WlOmDzc3LV1d"
      },
      "source": [
        "possiveis_fraudes = pred[(pred['Label'] == 'yes') & (pred['smoker'] == 'no')].sort_values(by = 'Score', ascending = False)\n",
        "possiveis_fraudes"
      ],
      "execution_count": null,
      "outputs": []
    },
    {
      "cell_type": "markdown",
      "metadata": {
        "id": "6XIBLVDoMA0J"
      },
      "source": [
        "## Portanto, o conjunto de dados acima é uma lista dos possíveis fraudadores, ordenada por aqueles mais prováveis de serem de fato fraudadores. Uma instituição poderia, por exemplo, tem um patamar em que caso a probabilidade seja maior que esse patamar, então uma investigação seria realizada. Por exemplo, se esse patamar fosse 70%, os individuos a serem investigados então seriam os seguintes:"
      ]
    },
    {
      "cell_type": "code",
      "metadata": {
        "id": "3WZZGRWJMc9M"
      },
      "source": [
        "investigar = possiveis_fraudes[possiveis_fraudes['Score'] > 0.7]\n",
        "investigar"
      ],
      "execution_count": null,
      "outputs": []
    },
    {
      "cell_type": "code",
      "metadata": {
        "id": "totg4QYl19gM"
      },
      "source": [
        "modelo_final = finalize_model(combinacao_soft)"
      ],
      "execution_count": 51,
      "outputs": []
    },
    {
      "cell_type": "code",
      "metadata": {
        "id": "Gl0pAn0o4Yzd"
      },
      "source": [
        "# Salvando o modelo\n",
        "save_model(modelo_final, 'meu-modelo-para-smoker')"
      ],
      "execution_count": null,
      "outputs": []
    },
    {
      "cell_type": "code",
      "metadata": {
        "id": "eKv0X9az4Yzj"
      },
      "source": [
        "# Deploy Básico\n",
        "\n",
        "def DetectorDeFumante(age, sex, bmi, children, region, charges):\n",
        "    dados0 = {'age': [age], 'sex': [sex], 'bmi': [bmi], 'children': [children], 'region': [region], 'charges': [charges]}\n",
        "    dados = pd.DataFrame(dados0)\n",
        "\n",
        "    modelo = load_model('meu-modelo-para-smoker')\n",
        " \n",
        "    pred = predict_model(modelo, data = dados)\n",
        "    resp = 'NÃO' if pred['Label'][0] == 'no' else 'SIM' \n",
        "    prob = pred['Score'][0] \n",
        "\n",
        "\n",
        "    print(' ')\n",
        "    print('Idade: {}'.format(age))\n",
        "    print('Sexo: {}'.format(sex))\n",
        "    print('IMC: {}'.format(bmi))\n",
        "    print('Crianças: {}'.format(children))\n",
        "    print('Região: {}'.format(region))\n",
        "    print('Custos: {}'.format(charges))\n",
        "    print(' ')\n",
        "    print('É fumante: {}, com probabilidade {:.2f}%'.format(resp, 100*prob)) "
      ],
      "execution_count": 53,
      "outputs": []
    },
    {
      "cell_type": "code",
      "metadata": {
        "id": "0z9uUxJz4Yzp",
        "colab": {
          "base_uri": "https://localhost:8080/"
        },
        "outputId": "04763d31-ce16-4ef7-dfbc-98b508bc5aaa"
      },
      "source": [
        "DetectorDeFumante(age = 30, sex = 'male', bmi = 25, children = 0, region = 'southwest', charges = 2000)"
      ],
      "execution_count": 57,
      "outputs": [
        {
          "output_type": "stream",
          "text": [
            "Transformation Pipeline and Model Successfully Loaded\n",
            " \n",
            "Idade: 30\n",
            "Sexo: male\n",
            "IMC: 25\n",
            "Crianças: 0\n",
            "Região: southwest\n",
            "Custos: 2000\n",
            " \n",
            "É fumante: NÃO, com probabilidade 88.75%\n"
          ],
          "name": "stdout"
        }
      ]
    },
    {
      "cell_type": "code",
      "metadata": {
        "id": "CgBgY9Az4SBn",
        "colab": {
          "base_uri": "https://localhost:8080/"
        },
        "outputId": "edf9365b-b5eb-4088-975f-2038ef6ffe29"
      },
      "source": [
        "DetectorDeFumante(age = 30, \n",
        "                  sex = 'male', \n",
        "                  bmi = 25, \n",
        "                  children = 0, \n",
        "                  region = 'southwest', \n",
        "                  charges = 10000)"
      ],
      "execution_count": 56,
      "outputs": [
        {
          "output_type": "stream",
          "text": [
            "Transformation Pipeline and Model Successfully Loaded\n",
            " \n",
            "Idade: 30\n",
            "Sexo: male\n",
            "IMC: 25\n",
            "Crianças: 0\n",
            "Região: southwest\n",
            "Custos: 10000\n",
            " \n",
            "É fumante: NÃO, com probabilidade 85.50%\n"
          ],
          "name": "stdout"
        }
      ]
    }
  ]
}