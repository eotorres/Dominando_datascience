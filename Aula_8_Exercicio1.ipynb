{
  "nbformat": 4,
  "nbformat_minor": 0,
  "metadata": {
    "colab": {
      "name": "Aula_8_Exercicio1.ipynb",
      "provenance": [],
      "collapsed_sections": []
    },
    "kernelspec": {
      "name": "python3",
      "display_name": "Python 3"
    },
    "language_info": {
      "name": "python"
    }
  },
  "cells": [
    {
      "cell_type": "markdown",
      "metadata": {
        "id": "view-in-github"
      },
      "source": [
        "<a href=\"https://colab.research.google.com/github/gitflai/DDS4/blob/main/Aula_8_DDS4_KNN_e_Arvores_de_Decisao.ipynb\" target=\"_parent\"><img src=\"https://colab.research.google.com/assets/colab-badge.svg\" alt=\"Open In Colab\"/></a>"
      ]
    },
    {
      "cell_type": "markdown",
      "metadata": {
        "id": "yC3Jau_woiNl"
      },
      "source": [
        "# **Aula 8 - DDS4 - KNN e Árvores de Decisão**"
      ]
    },
    {
      "cell_type": "markdown",
      "metadata": {
        "id": "Q9ZJR1jYpUY_"
      },
      "source": [
        "## **Importação de Dados e Preparação dos Dados**"
      ]
    },
    {
      "cell_type": "code",
      "metadata": {
        "id": "MQlG3lPfz_C7"
      },
      "source": [
        "# via github \n",
        "import pandas as pd\n",
        "url = 'https://raw.githubusercontent.com/gitflai/DDS4/main/insurance.csv'\n",
        "dados = pd.read_csv(url)\n",
        "dados.head()"
      ],
      "execution_count": null,
      "outputs": []
    },
    {
      "cell_type": "code",
      "metadata": {
        "id": "Muq_duUh5bPQ"
      },
      "source": [
        "dados['smoker'] = dados['smoker'].map({'yes': 1, 'no': 0})\n",
        "dados['charges'] = dados['charges']/1000 \n",
        "dados = dados[['bmi', 'smoker', 'charges']]\n",
        "dados.head()"
      ],
      "execution_count": null,
      "outputs": []
    },
    {
      "cell_type": "markdown",
      "metadata": {
        "id": "45Gj0QVLzUQG"
      },
      "source": [
        "## **Exercício Proposto**\n",
        "\n",
        "Encontre valores ótimos para o K do KNN e a profundidade da Árvores."
      ]
    },
    {
      "cell_type": "code",
      "metadata": {
        "id": "QZFvg-_BSqh6"
      },
      "source": [
        "from sklearn.linear_model import LinearRegression\n",
        "from sklearn.tree import DecisionTreeRegressor\n",
        "from sklearn.neighbors import KNeighborsRegressor"
      ],
      "execution_count": null,
      "outputs": []
    },
    {
      "cell_type": "code",
      "metadata": {
        "id": "y9smCUdiSj67"
      },
      "source": [
        "def HoldoutRep(modelo = LinearRegression(), replicas = 100, proporcao = 0.25):\n",
        "    from sklearn.metrics import mean_squared_error\n",
        "    from sklearn.model_selection import train_test_split \n",
        "\n",
        "    eqms_treino = []\n",
        "    eqms_teste = []\n",
        "\n",
        "    for i in range(replicas):\n",
        "        Xtreino , Xteste, ytreino, yteste  = train_test_split(X, y, test_size = proporcao)\n",
        "        \n",
        "        #Treinando o Modelo\n",
        "        reg = modelo\n",
        "        reg.fit(Xtreino, ytreino)\n",
        "\n",
        "        #Verificando o eqm no teste\n",
        "        preditos_treino = reg.predict(Xtreino)\n",
        "        eqm_treino = mean_squared_error(ytreino, preditos_treino)\n",
        "\n",
        "        preditos_teste = reg.predict(Xteste)\n",
        "        eqm_teste = mean_squared_error(yteste, preditos_teste)\n",
        "\n",
        "        #Guardando o resultado\n",
        "        eqms_treino.append(eqm_treino)\n",
        "        eqms_teste.append(eqm_teste)\n",
        "    \n",
        "    res_treino = np.array(eqms_treino).mean().round(2)\n",
        "    res_teste = np.array(eqms_teste).mean().round(2)\n",
        "\n",
        "    print('EQM médio de TREINO: {}'.format(res_treino))\n",
        "    print('EQM médio de TESTE: {}'.format(res_teste))\n",
        "\n",
        "    return res_treino, res_teste "
      ],
      "execution_count": null,
      "outputs": []
    },
    {
      "cell_type": "code",
      "metadata": {
        "id": "mU4L_lHrR7uU"
      },
      "source": [
        "r = 100\n",
        "reglin = HoldoutRep(modelo = LinearRegression(), replicas = r)\n",
        "arvore1 = HoldoutRep(modelo = DecisionTreeRegressor(max_depth = 1), replicas = r)\n",
        "arvore3 = HoldoutRep(modelo = DecisionTreeRegressor(max_depth = 3), replicas = r)\n",
        "arvore5 = HoldoutRep(modelo = DecisionTreeRegressor(max_depth = 5), replicas = r)\n",
        "arvore7 = HoldoutRep(modelo = DecisionTreeRegressor(max_depth = 7), replicas = r)\n",
        "arvore9 = HoldoutRep(modelo = DecisionTreeRegressor(max_depth = 9), replicas = r)\n",
        "knn1 = HoldoutRep(modelo = KNeighborsRegressor(n_neighbors = 1), replicas = r)\n",
        "knn10 = HoldoutRep(modelo = KNeighborsRegressor(n_neighbors = 10), replicas = r)\n",
        "knn30 = HoldoutRep(modelo = KNeighborsRegressor(n_neighbors = 30), replicas = r)\n",
        "knn60 = HoldoutRep(modelo = KNeighborsRegressor(n_neighbors = 60), replicas = r)\n",
        "knn90 = HoldoutRep(modelo = KNeighborsRegressor(n_neighbors = 90), replicas = r)"
      ],
      "execution_count": null,
      "outputs": []
    },
    {
      "cell_type": "code",
      "metadata": {
        "id": "NTIYNLz6S2Fj"
      },
      "source": [
        "modelos = [reglin, arvore1, arvore3, arvore5, arvore7, arvore9, knn1, knn10, knn30, knn60, knn90]\n",
        "\n",
        "nomes = ['Reg. Linear', 'Arvore (prof = 1)', 'Arvore (prof = 3)', 'Arvore (prof = 5)', 'Arvore (prof = 7)',\n",
        "         'Arvore (prof = 9)','KNN (k = 1)', 'KNN (k = 10)', 'KNN (k = 30)', 'KNN (k = 60)' , 'KNN (k = 90)' ]"
      ],
      "execution_count": null,
      "outputs": []
    },
    {
      "cell_type": "code",
      "metadata": {
        "id": "0ML9SCDeS3tb"
      },
      "source": [
        "resultados = pd.DataFrame(modelos, index = nomes, columns = ['EQM Treino', 'EQM Teste'])\n",
        "#resultados"
      ],
      "execution_count": null,
      "outputs": []
    },
    {
      "cell_type": "code",
      "metadata": {
        "colab": {
          "base_uri": "https://localhost:8080/",
          "height": 388
        },
        "id": "pm7y3sabS7Yz",
        "outputId": "0ba99179-203f-4692-ef0f-7914ca229acf"
      },
      "source": [
        "resultados.sort_values(by = 'EQM Teste')"
      ],
      "execution_count": null,
      "outputs": [
        {
          "output_type": "execute_result",
          "data": {
            "text/html": [
              "<div>\n",
              "<style scoped>\n",
              "    .dataframe tbody tr th:only-of-type {\n",
              "        vertical-align: middle;\n",
              "    }\n",
              "\n",
              "    .dataframe tbody tr th {\n",
              "        vertical-align: top;\n",
              "    }\n",
              "\n",
              "    .dataframe thead th {\n",
              "        text-align: right;\n",
              "    }\n",
              "</style>\n",
              "<table border=\"1\" class=\"dataframe\">\n",
              "  <thead>\n",
              "    <tr style=\"text-align: right;\">\n",
              "      <th></th>\n",
              "      <th>EQM Treino</th>\n",
              "      <th>EQM Teste</th>\n",
              "    </tr>\n",
              "  </thead>\n",
              "  <tbody>\n",
              "    <tr>\n",
              "      <th>Arvore (prof = 3)</th>\n",
              "      <td>33.03</td>\n",
              "      <td>35.14</td>\n",
              "    </tr>\n",
              "    <tr>\n",
              "      <th>Arvore (prof = 5)</th>\n",
              "      <td>30.82</td>\n",
              "      <td>37.45</td>\n",
              "    </tr>\n",
              "    <tr>\n",
              "      <th>Arvore (prof = 7)</th>\n",
              "      <td>27.98</td>\n",
              "      <td>40.66</td>\n",
              "    </tr>\n",
              "    <tr>\n",
              "      <th>Arvore (prof = 9)</th>\n",
              "      <td>24.69</td>\n",
              "      <td>44.63</td>\n",
              "    </tr>\n",
              "    <tr>\n",
              "      <th>KNN (k = 10)</th>\n",
              "      <td>38.54</td>\n",
              "      <td>48.58</td>\n",
              "    </tr>\n",
              "    <tr>\n",
              "      <th>Reg. Linear</th>\n",
              "      <td>50.02</td>\n",
              "      <td>50.62</td>\n",
              "    </tr>\n",
              "    <tr>\n",
              "      <th>Arvore (prof = 1)</th>\n",
              "      <td>55.43</td>\n",
              "      <td>56.78</td>\n",
              "    </tr>\n",
              "    <tr>\n",
              "      <th>KNN (k = 30)</th>\n",
              "      <td>60.94</td>\n",
              "      <td>65.83</td>\n",
              "    </tr>\n",
              "    <tr>\n",
              "      <th>KNN (k = 1)</th>\n",
              "      <td>30.68</td>\n",
              "      <td>74.18</td>\n",
              "    </tr>\n",
              "    <tr>\n",
              "      <th>KNN (k = 60)</th>\n",
              "      <td>93.34</td>\n",
              "      <td>98.55</td>\n",
              "    </tr>\n",
              "    <tr>\n",
              "      <th>KNN (k = 90)</th>\n",
              "      <td>110.15</td>\n",
              "      <td>114.18</td>\n",
              "    </tr>\n",
              "  </tbody>\n",
              "</table>\n",
              "</div>"
            ],
            "text/plain": [
              "                   EQM Treino  EQM Teste\n",
              "Arvore (prof = 3)       33.03      35.14\n",
              "Arvore (prof = 5)       30.82      37.45\n",
              "Arvore (prof = 7)       27.98      40.66\n",
              "Arvore (prof = 9)       24.69      44.63\n",
              "KNN (k = 10)            38.54      48.58\n",
              "Reg. Linear             50.02      50.62\n",
              "Arvore (prof = 1)       55.43      56.78\n",
              "KNN (k = 30)            60.94      65.83\n",
              "KNN (k = 1)             30.68      74.18\n",
              "KNN (k = 60)            93.34      98.55\n",
              "KNN (k = 90)           110.15     114.18"
            ]
          },
          "metadata": {
            "tags": []
          },
          "execution_count": 21
        }
      ]
    },
    {
      "cell_type": "markdown",
      "metadata": {
        "id": "LYiymWiNrB2p"
      },
      "source": [
        "---\n",
        "Resposta KNN com K = 30 foi o que apresentou melhor performance nos dados de teste.\n",
        "\n",
        "---\n",
        "Respostas Arvore com Arvore (prof = 3) foi o que apresentou melhor performance nos dados de teste."
      ]
    },
    {
      "cell_type": "markdown",
      "metadata": {
        "id": "KL5TPGiMrCuq"
      },
      "source": [
        "**_#itstimetoflai_** "
      ]
    }
  ]
}