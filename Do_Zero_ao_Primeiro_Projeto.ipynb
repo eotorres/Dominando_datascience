{
  "nbformat": 4,
  "nbformat_minor": 0,
  "metadata": {
    "colab": {
      "name": "Do Zero ao Primeiro Projeto.ipynb",
      "provenance": [],
      "collapsed_sections": [
        "8kMiWTL0pvFF",
        "PUH_pzLDJa4Q",
        "Lh6dGL01YdHZ",
        "SF6EtbmrZQO3",
        "3K7wNqEIembT",
        "H-eQY_VJ9voY",
        "9vmnCWv9mNwX",
        "d4qDl7aWXlnN",
        "Rgc2tLUFwYCs",
        "810gugS8vlH-",
        "iTybxsEjYEko",
        "8L_o_sWYFr9o",
        "yPqI87X_Frc3",
        "P5cBz-uZDI8a",
        "GLhYEJ6Ctddf",
        "jksGTpRxDGd8",
        "nSJC-C50lrdi",
        "UE-KpVQlpZYZ",
        "2Qt56rwNP2rW"
      ]
    },
    "kernelspec": {
      "name": "python3",
      "display_name": "Python 3"
    },
    "language_info": {
      "name": "python"
    }
  },
  "cells": [
    {
      "cell_type": "markdown",
      "metadata": {
        "id": "view-in-github"
      },
      "source": [
        "<a href=\"https://colab.research.google.com/github/ricardorocha86/Python-para-Machine-Learning/blob/master/Projeto_%C3%81lbum_de_Figurinhas.ipynb\" target=\"_parent\"><img src=\"https://colab.research.google.com/assets/colab-badge.svg\" alt=\"Open In Colab\"/></a>"
      ]
    },
    {
      "cell_type": "markdown",
      "metadata": {
        "id": "v0bCJjZ8YZVb"
      },
      "source": [
        "![texto alternativo](https://github.com/gitflai/imagens/blob/main/capa.jpg?raw=true)"
      ]
    },
    {
      "cell_type": "markdown",
      "metadata": {
        "id": "RgKi_rebQYm9"
      },
      "source": [
        "\n",
        "Essa é uma introdução bem rápida aos conceitos fundamentais de programação em Python. Se familiarizar com tais conceitos é um primeiro passo suficiente para fazer seus primeiros programas e também entender outros códigos feitos em Python. No entanto, não se engane, o universe de Python é gigante e existe muita coisa interessante para se conhecer ainda!\n",
        "\n",
        "Após terminar essa introdução, não deixe de se desafiar nos exercícios propostos! São importantíssimos para criar manejo e intimidade com a linguagem. "
      ]
    },
    {
      "cell_type": "markdown",
      "metadata": {
        "id": "HoQw4n_SMn9P"
      },
      "source": [
        "## **Conteúdo desse notebook:**\n",
        "\n",
        "1. [Atribuição de Variáveis](#atri)\n",
        "2. [Primeiras Funções](#prim)\n",
        "3. [Operadores Aritméticos](#oper)\n",
        "4. [Comparações e Booleanos](#comp)\n",
        "5. [Condicional IF-ELSE](#cond)\n",
        "6. [Definição de Funções](#defi) \n",
        "6. [Importação de Bibliotecas](#impo) \n",
        "6. [A Biblioteca Numpy](#nump)  \n",
        "6. [Listas](#lists) \n",
        "6. [Métodos de Listas Iteradores FOR e WHILE](#metl) \n",
        "6. [Funções Importantes](#func) \n",
        "6. [Iteradores FOR e WHILE](#iter) \n",
        "6. [Projeto: Álbum de Figurinhas](#proj) \n",
        "7. [Exercícios](#exer) \n",
        "9. [Links Úteis](#links)\n",
        "10. [Anexo: Zen of Python](#anex)"
      ]
    },
    {
      "cell_type": "markdown",
      "metadata": {
        "id": "8kMiWTL0pvFF"
      },
      "source": [
        "## **Atribuição de Variáveis** <a name=\"atri\"></a>"
      ]
    },
    {
      "cell_type": "code",
      "metadata": {
        "id": "dwHX8egGBuTc",
        "colab": {
          "base_uri": "https://localhost:8080/"
        },
        "outputId": "91ee7060-9812-402c-d6f9-414029775259"
      },
      "source": [
        "meu_nome = 'Emmanuel'\n",
        "meu_sobrenome = 'Torres'\n",
        "meu_produto = \"Picanha\"\n",
        "minha_frase = '\"Vamos que vamos!\"'\n",
        "\n",
        "print(meu_nome)\n",
        "print(meu_sobrenome)\n",
        "print(meu_produto)\n",
        "print(minha_frase)"
      ],
      "execution_count": 24,
      "outputs": [
        {
          "output_type": "stream",
          "text": [
            "Emmanuel\n",
            "Torres\n",
            "Picanha\n",
            "\"Vamos que vamos!\"\n"
          ],
          "name": "stdout"
        }
      ]
    },
    {
      "cell_type": "markdown",
      "metadata": {
        "id": "a_tw5S1Hq0Ep"
      },
      "source": [
        "Não é possível atribuir variáveis com nomes começando com números, nem com espaços no nome ou com aspas. "
      ]
    },
    {
      "cell_type": "markdown",
      "metadata": {
        "id": "nWqVaqeBrAb_"
      },
      "source": [
        "OBS.: O **hashtag #** na frente de uma linha torna ela um **comentário**, pois o interpretador ignora tudo que vem depois dela "
      ]
    },
    {
      "cell_type": "markdown",
      "metadata": {
        "id": "38emYI_xJqeO"
      },
      "source": [
        "## **Primeiras Funções** <a name=\"prim\"></a>"
      ]
    },
    {
      "cell_type": "markdown",
      "metadata": {
        "id": "7JyT6165pi6l"
      },
      "source": [
        "Conheça a função **len**, que retorna o tamanho de uma string (e de outros tipos de objetos também).\n",
        "\n",
        "A função **type**, que retorna o tipo do objeto na variável de entrada\n",
        "\n",
        "A função **round**, que arredonda um número de acordo com as casas decimas desejadas\n",
        "\n",
        "E a função **help**, que retorna a documentação da função inserida como entrada."
      ]
    },
    {
      "cell_type": "code",
      "metadata": {
        "id": "CNTROt8rb4Lg",
        "colab": {
          "base_uri": "https://localhost:8080/"
        },
        "outputId": "f7cfc207-67ae-48ef-ec9f-92478f254533"
      },
      "source": [
        "nome = 'Emmanuel'\n",
        "len(nome)"
      ],
      "execution_count": 25,
      "outputs": [
        {
          "output_type": "execute_result",
          "data": {
            "text/plain": [
              "8"
            ]
          },
          "metadata": {
            "tags": []
          },
          "execution_count": 25
        }
      ]
    },
    {
      "cell_type": "markdown",
      "metadata": {
        "id": "ZH4vZ7NtI5Jx"
      },
      "source": [
        "Não só no Python, mas em programação em geral, sempre precisamos controlar o tipo das variáveis que utilizamos. Veja o exemplo abaixo:"
      ]
    },
    {
      "cell_type": "code",
      "metadata": {
        "id": "DvKNUkrPIlDt",
        "colab": {
          "base_uri": "https://localhost:8080/"
        },
        "outputId": "6b614e23-381a-47e2-c5b5-04df81f87ecd"
      },
      "source": [
        "minha_idade = '29'\n",
        "type(minha_idade)\n"
      ],
      "execution_count": 26,
      "outputs": [
        {
          "output_type": "execute_result",
          "data": {
            "text/plain": [
              "str"
            ]
          },
          "metadata": {
            "tags": []
          },
          "execution_count": 26
        }
      ]
    },
    {
      "cell_type": "markdown",
      "metadata": {
        "id": "fyCVd6Tov_ao"
      },
      "source": [
        "Usando a função **int** para converter a variável em formato string para o formato inteiro"
      ]
    },
    {
      "cell_type": "code",
      "metadata": {
        "id": "svsiydRLv8vT",
        "colab": {
          "base_uri": "https://localhost:8080/"
        },
        "outputId": "6ad272d7-888d-4c99-a9ba-aecbd496d84e"
      },
      "source": [
        "\n",
        "minha_idade = int(minha_idade)\n",
        "type(minha_idade)"
      ],
      "execution_count": 27,
      "outputs": [
        {
          "output_type": "execute_result",
          "data": {
            "text/plain": [
              "int"
            ]
          },
          "metadata": {
            "tags": []
          },
          "execution_count": 27
        }
      ]
    },
    {
      "cell_type": "markdown",
      "metadata": {
        "id": "PUH_pzLDJa4Q"
      },
      "source": [
        "## **Operadores Aritméticos** <a name=\"oper\"></a>"
      ]
    },
    {
      "cell_type": "markdown",
      "metadata": {
        "id": "bS7hxv-Codpz"
      },
      "source": [
        "Confira na tabela abaixo como funcionam os operadores aritméticos em Python. \n",
        "\n",
        "Em especial, veja que a sintaxe da exponenciação não é feita através do sinal '^'."
      ]
    },
    {
      "cell_type": "markdown",
      "metadata": {
        "id": "mHsbgk0UGIaL"
      },
      "source": [
        "| Operator     | Name           | Description                                            |\n",
        "|--------------|----------------|--------------------------------------------------------|\n",
        "| ``a + b``    | Adiçao       | Soma entre ``a`` e ``b``                                 |\n",
        "| ``a - b``    | Subtração    | Diferença entre ``a`` e ``b``                          |\n",
        "| ``a * b``    | Multiplicação | Produto entre ``a`` e ``b``                             |\n",
        "| ``a / b``    | Divisão  | Divisão usual entre ``a`` e ``b``                            |\n",
        "| ``a // b``   | Divisão inteira | A divisão entre ``a`` e ``b``, removendo as partes decimais |\n",
        "| ``a % b``    | Resto da divisão        | O resto da divisão inteira de ``a`` por ``b``     |\n",
        "| ``a ** b``   | Exponenciação | ``a`` elevado a ``b``                     |\n",
        "| ``-a``       | Negação       | O negativo de ``a``                                  |"
      ]
    },
    {
      "cell_type": "code",
      "metadata": {
        "id": "T9gTYGKo31B4"
      },
      "source": [
        "print(a + b)\n",
        "print(a - b)\n",
        "print(a * b)\n",
        "print(a / b)\n",
        "print(a // b)\n",
        "print(a % b)\n",
        "print(a ** b)\n",
        "print(-a)"
      ],
      "execution_count": null,
      "outputs": []
    },
    {
      "cell_type": "code",
      "metadata": {
        "id": "FLOeFbsZGcx2",
        "colab": {
          "base_uri": "https://localhost:8080/",
          "height": 90
        },
        "outputId": "35dabf11-ce8f-4f7a-c352-aedbddcaa52b"
      },
      "source": [
        "print(max(a, b))\n",
        "print(min(a, b))\n",
        "print(abs(-a))"
      ],
      "execution_count": null,
      "outputs": [
        {
          "output_type": "stream",
          "text": [
            "1.0\n",
            "1\n",
            "-2\n",
            "1\n"
          ],
          "name": "stdout"
        }
      ]
    },
    {
      "cell_type": "markdown",
      "metadata": {
        "id": "Lh6dGL01YdHZ"
      },
      "source": [
        "## **Comparações e Booleanos** <a name=\"comp\"></a>"
      ]
    },
    {
      "cell_type": "markdown",
      "metadata": {
        "id": "zJGYOSKzn62F"
      },
      "source": [
        "Quando comparamos objetos em Python é como se estivéssemos fazendo uma pergunta a ele. Duas variáveis são iguais? Uma é maior que a outra? \n",
        "\n",
        "E a resposta é um objeto do tipo **booleano**, que é indicado por **True** ou **False**, indicando, respectivamente, se a resposta é verdadeira ou falsa."
      ]
    },
    {
      "cell_type": "code",
      "metadata": {
        "id": "h13Wb-T0YoL8",
        "colab": {
          "base_uri": "https://localhost:8080/",
          "height": 35
        },
        "outputId": "8d504728-9ffe-44bc-9943-63d7c18df4fa"
      },
      "source": [
        "var1 = 35\n",
        "var2 = 36\n",
        "\n",
        "var1 == var2"
      ],
      "execution_count": null,
      "outputs": [
        {
          "output_type": "execute_result",
          "data": {
            "text/plain": [
              "False"
            ]
          },
          "metadata": {
            "tags": []
          },
          "execution_count": 136
        }
      ]
    },
    {
      "cell_type": "code",
      "metadata": {
        "id": "W_tNf7CldSvp",
        "colab": {
          "base_uri": "https://localhost:8080/",
          "height": 73
        },
        "outputId": "07c6be9d-fc00-4a02-c9c4-12a68097b444"
      },
      "source": [
        "print(type(33.2) == str)\n",
        "print(type(33.2) == int)\n",
        "print(type(33.2) == float)"
      ],
      "execution_count": null,
      "outputs": [
        {
          "output_type": "stream",
          "text": [
            "False\n",
            "False\n",
            "True\n"
          ],
          "name": "stdout"
        }
      ]
    },
    {
      "cell_type": "code",
      "metadata": {
        "id": "8BwQWdHmQCuY",
        "colab": {
          "base_uri": "https://localhost:8080/",
          "height": 36
        },
        "outputId": "119bbfcf-fb20-4d06-802a-ec1dc6e6aba6"
      },
      "source": [
        "True and True\n",
        "True or False\n",
        "not False"
      ],
      "execution_count": null,
      "outputs": [
        {
          "output_type": "execute_result",
          "data": {
            "text/plain": [
              "True"
            ]
          },
          "metadata": {
            "tags": []
          },
          "execution_count": 17
        }
      ]
    },
    {
      "cell_type": "markdown",
      "metadata": {
        "id": "SF6EtbmrZQO3"
      },
      "source": [
        "## **Condicional IF-ELSE** <a name=\"cond\"></a>"
      ]
    },
    {
      "cell_type": "markdown",
      "metadata": {
        "id": "t9WtbCPDAWkW"
      },
      "source": [
        "Veja abaixo como funciona a estrutura geral de condicionais no Python. \n",
        "\n",
        "Temos a versão IF ELSE, e a versão IF ELIF ELSE.\n",
        "\n",
        "Note que é possível utilizar o ELIF várias vezes se necessário.\n",
        "\n",
        "No espaço de condição, o Python espera um objeto booleano. Se for True, ele executa, se for False, segue adiante. \n",
        "\n",
        "Note também a estrutura de identação do Python. Aqui não usamos (), [] ou {} para estipular o que deve ser executado nas condicionais. Simplesmente colocamos o código que deve ser executado na linha seguinte, mas identado. Em geral, se utiliza o espaço de **1 tab**."
      ]
    },
    {
      "cell_type": "code",
      "metadata": {
        "id": "kuqS_I9GdobX"
      },
      "source": [
        "# sintaxe IF-ELSE geral\n",
        "if condição:\n",
        "    executa aqui\n",
        "else:\n",
        "    executa aqui\n",
        "\n",
        "# sintaxe IF-ELIF-ELSE geral\n",
        "if condição:\n",
        "    executa aqui\n",
        "elif outra_condição:\n",
        "    executa aqui\n",
        "else:\n",
        "    executa aqui\n",
        "\n",
        "#não executar essa célula!"
      ],
      "execution_count": null,
      "outputs": []
    },
    {
      "cell_type": "code",
      "metadata": {
        "id": "X7Fw4opvdznZ",
        "colab": {
          "base_uri": "https://localhost:8080/",
          "height": 35
        },
        "outputId": "83a5d3fb-5898-4627-de2c-56f8f85f723d"
      },
      "source": [
        "a, b, c = 1, -2 , 0\n",
        "\n",
        "delta = b**2 - 4*a*c\n",
        "\n",
        "if delta > 0:\n",
        "    x1 = (-b + delta**0.5)/(2*a)\n",
        "    x2 = (-b - delta**0.5)/(2*a)\n",
        "    print('As raízes são {} e {}'.format(x1, x2))\n",
        "elif delta == 0:\n",
        "    x = -b/(2*a)\n",
        "    print('A única raíz é {}'.format(x))\n",
        "else:\n",
        "    print('Não há soluções reais para essa equação')"
      ],
      "execution_count": null,
      "outputs": [
        {
          "output_type": "stream",
          "text": [
            "As raízes são 3.0 e 1.0\n"
          ],
          "name": "stdout"
        }
      ]
    },
    {
      "cell_type": "markdown",
      "metadata": {
        "id": "3K7wNqEIembT"
      },
      "source": [
        "## **Definição de Funções** <a name=\"defi\"></a>"
      ]
    },
    {
      "cell_type": "markdown",
      "metadata": {
        "id": "jEMYVdTLlf5t"
      },
      "source": [
        "Uma função é um recurso para não precisarmos repetir o mesmo código desnecessariamente. Assim como as funções da matemática, sua tarefa é transformar um input, uma entrada, uma coleção de variáveis, em uma saída, um output. \n",
        "\n",
        "No exemplo abaixo, utilizamos como variáveis o tipo de símbolo e o tamanho da linha que queremos fazer. Você entenderá melhor vendo o exemplo:\n",
        "\n",
        "Da mesma maneira que na estrutura de condicionais, o conteúdo de uma função fica nas linhas seguintes sendo indicados pela **indentação** do código"
      ]
    },
    {
      "cell_type": "code",
      "metadata": {
        "id": "VQ-INeRi6tTG"
      },
      "source": [
        "def Mensagem(simbolo = '*', tamanho = 51):\n",
        "    print(simbolo*tamanho)\n",
        "    print('Estamos só começando, o melhor ainda estar por vir!')\n",
        "    print(simbolo*tamanho)"
      ],
      "execution_count": null,
      "outputs": []
    },
    {
      "cell_type": "code",
      "metadata": {
        "id": "YLiKW1mVu3B2",
        "colab": {
          "base_uri": "https://localhost:8080/",
          "height": 72
        },
        "outputId": "a5f2236f-48c0-4e88-d196-c2d8df28772d"
      },
      "source": [
        "Mensagem('-', 51)  "
      ],
      "execution_count": null,
      "outputs": [
        {
          "output_type": "stream",
          "text": [
            "---------------------------------------------------\n",
            "Estamos só começando, o melhor ainda estar por vir!\n",
            "---------------------------------------------------\n"
          ],
          "name": "stdout"
        }
      ]
    },
    {
      "cell_type": "markdown",
      "metadata": {
        "id": "s8XyjoLsmZB3"
      },
      "source": [
        "Voltando no exemplo da fórmula de Bhaskara, fica bem conveniente quando colocamos no formato de função, para analisar as saídas de maneira mais prática. "
      ]
    },
    {
      "cell_type": "code",
      "metadata": {
        "id": "9s_3C-ZrgKPb"
      },
      "source": [
        "def Bhaskara(a, b, c):\n",
        "    # dando uma resposta adequada para quando o valor de a for igual a zero\n",
        "    if a == 0:\n",
        "        print('Quando a = 0 não se aplica Bhaskara')\n",
        "    else:\n",
        "        delta = b**2 - 4*a*c\n",
        "\n",
        "        if delta > 0:\n",
        "            x1 = (-b + delta**0.5)/(2*a)\n",
        "            x2 = (-b - delta**0.5)/(2*a)\n",
        "            print('As raízes são {} e {}'.format(round(x1, 2), round(x2, 2)))\n",
        "        elif delta == 0:\n",
        "            x = -b/(2*a)\n",
        "            print('A única raíz é {}'.format(x))\n",
        "        else:\n",
        "            print('Não há soluções reais para essa equação')"
      ],
      "execution_count": null,
      "outputs": []
    },
    {
      "cell_type": "code",
      "metadata": {
        "id": "zs9zyfICgddJ",
        "colab": {
          "base_uri": "https://localhost:8080/",
          "height": 35
        },
        "outputId": "17e12e19-8632-4ca0-a6ea-e18897d1f8ef"
      },
      "source": [
        "Bhaskara(3, 2, 0.9)"
      ],
      "execution_count": null,
      "outputs": [
        {
          "output_type": "stream",
          "text": [
            "Não há soluções reais para essa equação\n"
          ],
          "name": "stdout"
        }
      ]
    },
    {
      "cell_type": "markdown",
      "metadata": {
        "id": "H-eQY_VJ9voY"
      },
      "source": [
        "## **Listas** <a name=\"lists\"></a>"
      ]
    },
    {
      "cell_type": "markdown",
      "metadata": {
        "id": "bgBgFBTo-8gx"
      },
      "source": [
        "Um objeto do tipo lista é um dos mais importantes do universo Python. Sua versatilidade permite a construção e organização simples de diversas funcionalidades. **Uma lista é definida por conchetes [ ]**. Vejamos alguns exemplos:"
      ]
    },
    {
      "cell_type": "code",
      "metadata": {
        "id": "oxQQgv2j_TGn"
      },
      "source": [
        "minha_lista = [1, 1, 2, 3, 5, 8, 13]"
      ],
      "execution_count": null,
      "outputs": []
    },
    {
      "cell_type": "code",
      "metadata": {
        "id": "sxt_3Q_h_JuO",
        "colab": {
          "base_uri": "https://localhost:8080/",
          "height": 35
        },
        "outputId": "c89f09ba-e51d-4f3a-9cfc-ed8bb460a313"
      },
      "source": [
        "print(minha_lista)"
      ],
      "execution_count": null,
      "outputs": [
        {
          "output_type": "stream",
          "text": [
            "[1, 1, 2, 3, 5, 8, 13]\n"
          ],
          "name": "stdout"
        }
      ]
    },
    {
      "cell_type": "code",
      "metadata": {
        "id": "twfQLsSOBFUi",
        "colab": {
          "base_uri": "https://localhost:8080/",
          "height": 35
        },
        "outputId": "e50d25e7-ea5e-47e8-e55c-8f5ba83e90ff"
      },
      "source": [
        "len(minha_lista)"
      ],
      "execution_count": null,
      "outputs": [
        {
          "output_type": "execute_result",
          "data": {
            "text/plain": [
              "7"
            ]
          },
          "metadata": {
            "tags": []
          },
          "execution_count": 57
        }
      ]
    },
    {
      "cell_type": "markdown",
      "metadata": {
        "id": "2s66TOcfAhh5"
      },
      "source": [
        "**Importante**: A indexação no Python, assim como em diversas linguagens de programação, começam com índice 0\n",
        "\n",
        "Isso quer dizer que o primeiro elemento está na entrada 0 da lista, o segundo elemento na entrada 1, e assim por diante.\n",
        "\n",
        "Nós acessamos os elementos de uma lista também utilizando **colchetes**"
      ]
    },
    {
      "cell_type": "code",
      "metadata": {
        "id": "IFrs9gJt_hoo",
        "colab": {
          "base_uri": "https://localhost:8080/",
          "height": 35
        },
        "outputId": "58bf7836-e73a-4246-cb5b-a943a10b1164"
      },
      "source": [
        "minha_lista[0]"
      ],
      "execution_count": null,
      "outputs": [
        {
          "output_type": "execute_result",
          "data": {
            "text/plain": [
              "1"
            ]
          },
          "metadata": {
            "tags": []
          },
          "execution_count": 52
        }
      ]
    },
    {
      "cell_type": "code",
      "metadata": {
        "id": "LLz1CsHF_rQx",
        "colab": {
          "base_uri": "https://localhost:8080/",
          "height": 35
        },
        "outputId": "c79c68fc-fd1b-40b9-beba-ff47b276b9f4"
      },
      "source": [
        "minha_lista[len(minha_lista) - 1]"
      ],
      "execution_count": null,
      "outputs": [
        {
          "output_type": "execute_result",
          "data": {
            "text/plain": [
              "13"
            ]
          },
          "metadata": {
            "tags": []
          },
          "execution_count": 55
        }
      ]
    },
    {
      "cell_type": "markdown",
      "metadata": {
        "id": "rCxiEy34_95J"
      },
      "source": [
        "Uma lista permite armazenar todos os tipos de objetos do Python, veja no exemplo abaixo:"
      ]
    },
    {
      "cell_type": "code",
      "metadata": {
        "id": "mPMB_H5-BSHQ",
        "colab": {
          "base_uri": "https://localhost:8080/"
        },
        "outputId": "fa2c73bb-08be-434b-c075-f266c5b2eb29"
      },
      "source": [
        "lista = ['Python', 1996, True, len, [1,2,'Emmanuel']]\n",
        "print(lista)"
      ],
      "execution_count": 28,
      "outputs": [
        {
          "output_type": "stream",
          "text": [
            "['Python', 1996, True, <built-in function len>, [1, 2, 'Emmanuel']]\n"
          ],
          "name": "stdout"
        }
      ]
    },
    {
      "cell_type": "code",
      "metadata": {
        "id": "ub4FXtitBZW4",
        "colab": {
          "base_uri": "https://localhost:8080/",
          "height": 35
        },
        "outputId": "a00e258e-0b16-46d7-9e90-c1c89a1a75c2"
      },
      "source": [
        "lista[0] + ' é muito massa' "
      ],
      "execution_count": 29,
      "outputs": [
        {
          "output_type": "execute_result",
          "data": {
            "application/vnd.google.colaboratory.intrinsic+json": {
              "type": "string"
            },
            "text/plain": [
              "'Python é muito massa'"
            ]
          },
          "metadata": {
            "tags": []
          },
          "execution_count": 29
        }
      ]
    },
    {
      "cell_type": "code",
      "metadata": {
        "id": "6vQfJXe_BckY",
        "colab": {
          "base_uri": "https://localhost:8080/"
        },
        "outputId": "6d24fbc9-99de-40f0-82da-db63b877840a"
      },
      "source": [
        "lista[1] + 1337"
      ],
      "execution_count": 30,
      "outputs": [
        {
          "output_type": "execute_result",
          "data": {
            "text/plain": [
              "3333"
            ]
          },
          "metadata": {
            "tags": []
          },
          "execution_count": 30
        }
      ]
    },
    {
      "cell_type": "code",
      "metadata": {
        "id": "_p8LnFNoBy_Z",
        "colab": {
          "base_uri": "https://localhost:8080/"
        },
        "outputId": "864282c4-ebc6-4075-ca60-38a9ee812e05"
      },
      "source": [
        "lista[2] and True"
      ],
      "execution_count": 31,
      "outputs": [
        {
          "output_type": "execute_result",
          "data": {
            "text/plain": [
              "True"
            ]
          },
          "metadata": {
            "tags": []
          },
          "execution_count": 31
        }
      ]
    },
    {
      "cell_type": "code",
      "metadata": {
        "id": "xYbglI3QB49K",
        "colab": {
          "base_uri": "https://localhost:8080/"
        },
        "outputId": "37c12131-736d-406f-f05f-73fdc1b80f02"
      },
      "source": [
        "lista[3](lista)"
      ],
      "execution_count": 32,
      "outputs": [
        {
          "output_type": "execute_result",
          "data": {
            "text/plain": [
              "5"
            ]
          },
          "metadata": {
            "tags": []
          },
          "execution_count": 32
        }
      ]
    },
    {
      "cell_type": "markdown",
      "metadata": {
        "id": "iYaycgzoB8RQ"
      },
      "source": [
        "Podemos acessar caracteres de listas através de colchetes também. No python, strings são como listas de caracteres:"
      ]
    },
    {
      "cell_type": "code",
      "metadata": {
        "id": "Tc7JYUWuCHbo",
        "colab": {
          "base_uri": "https://localhost:8080/",
          "height": 35
        },
        "outputId": "73b2b9a3-93cf-4ac2-9aa5-030f825195f3"
      },
      "source": [
        "'Python'[0]"
      ],
      "execution_count": 33,
      "outputs": [
        {
          "output_type": "execute_result",
          "data": {
            "application/vnd.google.colaboratory.intrinsic+json": {
              "type": "string"
            },
            "text/plain": [
              "'P'"
            ]
          },
          "metadata": {
            "tags": []
          },
          "execution_count": 33
        }
      ]
    },
    {
      "cell_type": "code",
      "metadata": {
        "id": "_P_pkjYZCHfG",
        "colab": {
          "base_uri": "https://localhost:8080/",
          "height": 35
        },
        "outputId": "c175b77f-0b11-4449-be96-bbd8d7857c5e"
      },
      "source": [
        "py = 'Python'\n",
        "py[0] + py[5]"
      ],
      "execution_count": 34,
      "outputs": [
        {
          "output_type": "execute_result",
          "data": {
            "application/vnd.google.colaboratory.intrinsic+json": {
              "type": "string"
            },
            "text/plain": [
              "'Pn'"
            ]
          },
          "metadata": {
            "tags": []
          },
          "execution_count": 34
        }
      ]
    },
    {
      "cell_type": "markdown",
      "metadata": {
        "id": "DK3LkMgqCOrR"
      },
      "source": [
        "E podemos acessar listas dentro de listas"
      ]
    },
    {
      "cell_type": "code",
      "metadata": {
        "id": "Ce3loc-iCwp_",
        "colab": {
          "base_uri": "https://localhost:8080/"
        },
        "outputId": "af2c87c1-33bd-4e45-9e24-177942e88395"
      },
      "source": [
        "lista[4]"
      ],
      "execution_count": 35,
      "outputs": [
        {
          "output_type": "execute_result",
          "data": {
            "text/plain": [
              "[1, 2, 'Emmanuel']"
            ]
          },
          "metadata": {
            "tags": []
          },
          "execution_count": 35
        }
      ]
    },
    {
      "cell_type": "code",
      "metadata": {
        "id": "01UJ8UcBC2bB",
        "colab": {
          "base_uri": "https://localhost:8080/",
          "height": 35
        },
        "outputId": "f2f241b1-7590-4154-dc12-edd97c0bae9f"
      },
      "source": [
        "lista[4][2]"
      ],
      "execution_count": 36,
      "outputs": [
        {
          "output_type": "execute_result",
          "data": {
            "application/vnd.google.colaboratory.intrinsic+json": {
              "type": "string"
            },
            "text/plain": [
              "'Emmanuel'"
            ]
          },
          "metadata": {
            "tags": []
          },
          "execution_count": 36
        }
      ]
    },
    {
      "cell_type": "code",
      "metadata": {
        "id": "aFacnDGgDApB",
        "colab": {
          "base_uri": "https://localhost:8080/",
          "height": 35
        },
        "outputId": "8c447c57-d383-473e-dccc-39f38c7d2515"
      },
      "source": [
        "lista[4][2][0]"
      ],
      "execution_count": 37,
      "outputs": [
        {
          "output_type": "execute_result",
          "data": {
            "application/vnd.google.colaboratory.intrinsic+json": {
              "type": "string"
            },
            "text/plain": [
              "'E'"
            ]
          },
          "metadata": {
            "tags": []
          },
          "execution_count": 37
        }
      ]
    },
    {
      "cell_type": "code",
      "metadata": {
        "id": "L8PlzPF1Cx-w",
        "colab": {
          "base_uri": "https://localhost:8080/",
          "height": 35
        },
        "outputId": "96036126-5eee-48aa-99fb-07cad14b0d69"
      },
      "source": [
        "lista[0]"
      ],
      "execution_count": null,
      "outputs": [
        {
          "output_type": "execute_result",
          "data": {
            "text/plain": [
              "'Python'"
            ]
          },
          "metadata": {
            "tags": []
          },
          "execution_count": 88
        }
      ]
    },
    {
      "cell_type": "code",
      "metadata": {
        "id": "7jAN0-DFC42g",
        "colab": {
          "base_uri": "https://localhost:8080/",
          "height": 35
        },
        "outputId": "c992f6df-4438-4cb2-b046-0ca0276ed930"
      },
      "source": [
        "lista[0][0]"
      ],
      "execution_count": null,
      "outputs": [
        {
          "output_type": "execute_result",
          "data": {
            "text/plain": [
              "'P'"
            ]
          },
          "metadata": {
            "tags": []
          },
          "execution_count": 89
        }
      ]
    },
    {
      "cell_type": "markdown",
      "metadata": {
        "id": "zMa7ivrxC7EL"
      },
      "source": [
        "Alguns comandos úteis para acessar elementos em listas:"
      ]
    },
    {
      "cell_type": "code",
      "metadata": {
        "id": "y7EWm9MaDd7R"
      },
      "source": [
        "frase = 'Python é excelente para análise de dados'"
      ],
      "execution_count": null,
      "outputs": []
    },
    {
      "cell_type": "code",
      "metadata": {
        "id": "0GFA9PY1Dloy",
        "colab": {
          "base_uri": "https://localhost:8080/",
          "height": 35
        },
        "outputId": "e4ec071c-d743-4b13-e47c-0587dfd8acf8"
      },
      "source": [
        "frase[:6]  #retorna todos os elementos até o indice 6 da lista (o indice 6 (sétimo elemento) não está incluido)"
      ],
      "execution_count": null,
      "outputs": [
        {
          "output_type": "execute_result",
          "data": {
            "text/plain": [
              "'Python'"
            ]
          },
          "metadata": {
            "tags": []
          },
          "execution_count": 100
        }
      ]
    },
    {
      "cell_type": "code",
      "metadata": {
        "id": "D5aR7aeGD1gT",
        "colab": {
          "base_uri": "https://localhost:8080/",
          "height": 35
        },
        "outputId": "cd62322d-8733-4cfd-aa28-78a6fb41ccf1"
      },
      "source": [
        "frase[6:]  #retorna todos os elementos após o indice 6 da lista"
      ],
      "execution_count": null,
      "outputs": [
        {
          "output_type": "execute_result",
          "data": {
            "text/plain": [
              "' é excelente para análise de dados'"
            ]
          },
          "metadata": {
            "tags": []
          },
          "execution_count": 101
        }
      ]
    },
    {
      "cell_type": "markdown",
      "metadata": {
        "id": "cpzQ0wxyESUY"
      },
      "source": [
        "No Python, o padrão é trabalhar com **intervalos semi-abertos [ , )**, como no exemplo abaixo. O índice 9 está incluso na seleção, mas não o 18. "
      ]
    },
    {
      "cell_type": "code",
      "metadata": {
        "id": "8g1SouLeD5hJ",
        "colab": {
          "base_uri": "https://localhost:8080/",
          "height": 35
        },
        "outputId": "b54e34ec-95da-4bb5-f53a-183614f26f45"
      },
      "source": [
        "frase[9:18] # retorna o elemento de indice 9 até o 18, mas não inclui o 18"
      ],
      "execution_count": null,
      "outputs": [
        {
          "output_type": "execute_result",
          "data": {
            "text/plain": [
              "'excelente'"
            ]
          },
          "metadata": {
            "tags": []
          },
          "execution_count": 105
        }
      ]
    },
    {
      "cell_type": "markdown",
      "metadata": {
        "id": "-PPDP_x3Elvp"
      },
      "source": [
        "Para inverter a ordem de uma lista, utilize"
      ]
    },
    {
      "cell_type": "code",
      "metadata": {
        "id": "R6Q_Pg2iEl1B",
        "colab": {
          "base_uri": "https://localhost:8080/",
          "height": 35
        },
        "outputId": "1b534e11-ab52-4d4d-f564-3febd93ba90e"
      },
      "source": [
        "frase[::-1]"
      ],
      "execution_count": null,
      "outputs": [
        {
          "output_type": "execute_result",
          "data": {
            "text/plain": [
              "'sodad ed esilána arap etnelecxe é nohtyP'"
            ]
          },
          "metadata": {
            "tags": []
          },
          "execution_count": 110
        }
      ]
    },
    {
      "cell_type": "markdown",
      "metadata": {
        "id": "BRWDbZLXFBy4"
      },
      "source": [
        "Para tomar elementos de 2 em 2, utilize"
      ]
    },
    {
      "cell_type": "code",
      "metadata": {
        "id": "a4VPNkkEFHSY",
        "colab": {
          "base_uri": "https://localhost:8080/",
          "height": 35
        },
        "outputId": "2658caa8-a85b-4940-d364-4cb6800e6e30"
      },
      "source": [
        "frase[::2]"
      ],
      "execution_count": null,
      "outputs": [
        {
          "output_type": "execute_result",
          "data": {
            "text/plain": [
              "'Pto  xeet aaaáied ao'"
            ]
          },
          "metadata": {
            "tags": []
          },
          "execution_count": 111
        }
      ]
    },
    {
      "cell_type": "markdown",
      "metadata": {
        "id": "zgfaeacMElyi"
      },
      "source": [
        "Combine os comandos da maneira que lhe for conveniente"
      ]
    },
    {
      "cell_type": "code",
      "metadata": {
        "id": "yXNjLt4AEiyo",
        "colab": {
          "base_uri": "https://localhost:8080/",
          "height": 35
        },
        "outputId": "be78d32b-f44f-4811-d27b-72a0872fe5e9"
      },
      "source": [
        "frase[::-1][::3]"
      ],
      "execution_count": null,
      "outputs": [
        {
          "output_type": "execute_result",
          "data": {
            "text/plain": [
              "'saeelar nee hP'"
            ]
          },
          "metadata": {
            "tags": []
          },
          "execution_count": 113
        }
      ]
    },
    {
      "cell_type": "markdown",
      "metadata": {
        "id": "gAMGBVITD6_M"
      },
      "source": [
        "---"
      ]
    },
    {
      "cell_type": "markdown",
      "metadata": {
        "id": "9vmnCWv9mNwX"
      },
      "source": [
        "## **Importação de Bibliotecas** <a name=\"impo\"></a>"
      ]
    },
    {
      "cell_type": "code",
      "metadata": {
        "id": "JuvRAAl0mTD8",
        "colab": {
          "base_uri": "https://localhost:8080/",
          "height": 35
        },
        "outputId": "c737cdf9-c6c8-4ece-c97b-37564642cd32"
      },
      "source": [
        "from math import pi\n",
        "print(pi)"
      ],
      "execution_count": null,
      "outputs": [
        {
          "output_type": "stream",
          "text": [
            "3.141592653589793\n"
          ],
          "name": "stdout"
        }
      ]
    },
    {
      "cell_type": "code",
      "metadata": {
        "id": "HoE-Zyp5ma7S",
        "colab": {
          "base_uri": "https://localhost:8080/",
          "height": 35
        },
        "outputId": "d274206f-9a38-4e95-96ed-7361ad8ba436"
      },
      "source": [
        "import math\n",
        "print(math.pi)"
      ],
      "execution_count": null,
      "outputs": [
        {
          "output_type": "stream",
          "text": [
            "3.141592653589793\n"
          ],
          "name": "stdout"
        }
      ]
    },
    {
      "cell_type": "code",
      "metadata": {
        "id": "tCtUvjfY6Nbw",
        "colab": {
          "base_uri": "https://localhost:8080/",
          "height": 35
        },
        "outputId": "0522ab9f-37f4-4902-85fd-b6a17bc4976f"
      },
      "source": [
        "import math as m\n",
        "print(m.pi)"
      ],
      "execution_count": null,
      "outputs": [
        {
          "output_type": "stream",
          "text": [
            "3.141592653589793\n"
          ],
          "name": "stdout"
        }
      ]
    },
    {
      "cell_type": "markdown",
      "metadata": {
        "id": "d4qDl7aWXlnN"
      },
      "source": [
        "## **A Biblioteca Numpy** <a name=\"nump\"></a>"
      ]
    },
    {
      "cell_type": "markdown",
      "metadata": {
        "id": "wBb8VajVYDEb"
      },
      "source": [
        "Numpy é a biblioteca mais popular do python para se trabalhar com arrays. \n",
        "\n",
        "Arrays são conjuntos de valores, que podem ser n-dimensionais. \n",
        "\n",
        "Geralmente, um número apenas, um ponto, é um array de dimensão 0\n",
        "\n",
        "Uma lista de valores é um array de dimensão 1. \n",
        "\n",
        "Uma matriz de valores é uma array de dimensão 2. \n",
        "\n",
        "Um tensor de valores é um array de dimensão 3. \n"
      ]
    },
    {
      "cell_type": "code",
      "metadata": {
        "id": "nvdq1LlPZXKH"
      },
      "source": [
        "import numpy as np"
      ],
      "execution_count": null,
      "outputs": []
    },
    {
      "cell_type": "code",
      "metadata": {
        "id": "64NE6_M6ZYxh"
      },
      "source": [
        "a0 = np.array(1)\n",
        "a1 = np.array([1, 2])\n",
        "a2 = np.array([[1, 2], [3, 4]])\n",
        "a3 = np.array([[[1, 2], [3, 4]], [[5, 6], [7, 8]]])"
      ],
      "execution_count": null,
      "outputs": []
    },
    {
      "cell_type": "code",
      "metadata": {
        "id": "0YWoD5e6aVwu",
        "colab": {
          "base_uri": "https://localhost:8080/",
          "height": 258
        },
        "outputId": "93511906-d017-4028-8d90-196e784b2fbd"
      },
      "source": [
        "print('Array a0:\\n', a0)\n",
        "print('Array a1:\\n', a1)\n",
        "print('Array a2:\\n', a2)\n",
        "print('Array a3:\\n', a3)"
      ],
      "execution_count": null,
      "outputs": [
        {
          "output_type": "stream",
          "text": [
            "Array a0:\n",
            " 1\n",
            "Array a1:\n",
            " [1 2]\n",
            "Array a2:\n",
            " [[1 2]\n",
            " [3 4]]\n",
            "Array a3:\n",
            " [[[1 2]\n",
            "  [3 4]]\n",
            "\n",
            " [[5 6]\n",
            "  [7 8]]]\n"
          ],
          "name": "stdout"
        }
      ]
    },
    {
      "cell_type": "markdown",
      "metadata": {
        "id": "zYn8Dx86Zcpw"
      },
      "source": [
        "Use o atributo ndim para verificar a dimensão dos arrays numpy"
      ]
    },
    {
      "cell_type": "code",
      "metadata": {
        "id": "gGQQ1uQBZaLe",
        "colab": {
          "base_uri": "https://localhost:8080/",
          "height": 91
        },
        "outputId": "0231212e-1bed-4d56-be04-bb8a8a89ff44"
      },
      "source": [
        "print('Dimensão de a0:', a0.ndim)\n",
        "print('Dimensão de a1:', a1.ndim)\n",
        "print('Dimensão de a2:', a2.ndim)\n",
        "print('Dimensão de a3:', a3.ndim)"
      ],
      "execution_count": null,
      "outputs": [
        {
          "output_type": "stream",
          "text": [
            "Dimensão de a0: 0\n",
            "Dimensão de a1: 1\n",
            "Dimensão de a2: 2\n",
            "Dimensão de a3: 3\n"
          ],
          "name": "stdout"
        }
      ]
    },
    {
      "cell_type": "markdown",
      "metadata": {
        "id": "kXGd2r3ra0X9"
      },
      "source": [
        "Transforme uma lista em um array"
      ]
    },
    {
      "cell_type": "code",
      "metadata": {
        "id": "497CDTd9awol"
      },
      "source": [
        "lista = [1, 2, 3, 4]\n",
        "array = np.array(lista)"
      ],
      "execution_count": null,
      "outputs": []
    },
    {
      "cell_type": "markdown",
      "metadata": {
        "id": "u6PBFagAa7VP"
      },
      "source": [
        "Arrays são feitos para se trabalhar com álgebra linear. Veja a diferença quando multiplicamos cada elemento por um escalar"
      ]
    },
    {
      "cell_type": "code",
      "metadata": {
        "id": "KbhXL49ibF50",
        "colab": {
          "base_uri": "https://localhost:8080/",
          "height": 54
        },
        "outputId": "d50caf94-d885-4d84-a47a-766c9a4d9d35"
      },
      "source": [
        "print(2*lista)\n",
        "print(2*array)"
      ],
      "execution_count": null,
      "outputs": [
        {
          "output_type": "stream",
          "text": [
            "[1, 2, 3, 4, 1, 2, 3, 4]\n",
            "[2 4 6 8]\n"
          ],
          "name": "stdout"
        }
      ]
    },
    {
      "cell_type": "markdown",
      "metadata": {
        "id": "g7VxSD9DbJYl"
      },
      "source": [
        "Similarmente, podemos realizar as demais operações com arrays"
      ]
    },
    {
      "cell_type": "code",
      "metadata": {
        "id": "DRPNPtIibP3s",
        "colab": {
          "base_uri": "https://localhost:8080/",
          "height": 128
        },
        "outputId": "2fc14ccd-e3f2-4438-d001-b5a86bc77fcd"
      },
      "source": [
        "print(array + array)\n",
        "print(array * 2)\n",
        "print(array / 3)\n",
        "print(array ** 2)\n",
        "print(array // 2)\n",
        "print(array % 2)"
      ],
      "execution_count": null,
      "outputs": [
        {
          "output_type": "stream",
          "text": [
            "[2 4 6 8]\n",
            "[2 4 6 8]\n",
            "[0.33333333 0.66666667 1.         1.33333333]\n",
            "[ 1  4  9 16]\n",
            "[0 1 1 2]\n",
            "[1 0 1 0]\n"
          ],
          "name": "stdout"
        }
      ]
    },
    {
      "cell_type": "code",
      "metadata": {
        "colab": {
          "base_uri": "https://localhost:8080/"
        },
        "id": "JJDDMrZuKQ_b",
        "outputId": "199bf1ec-c9d8-41ae-e0f8-ab26cef60102"
      },
      "source": [
        "np.random.choice([1,2,3,4,5], 5)"
      ],
      "execution_count": null,
      "outputs": [
        {
          "output_type": "execute_result",
          "data": {
            "text/plain": [
              "array([1, 4, 4, 1, 5])"
            ]
          },
          "metadata": {
            "tags": []
          },
          "execution_count": 167
        }
      ]
    },
    {
      "cell_type": "code",
      "metadata": {
        "colab": {
          "base_uri": "https://localhost:8080/"
        },
        "id": "r6C1YIImKRc7",
        "outputId": "a04f0ece-ac5a-436e-e08a-cdbdd2c21af4"
      },
      "source": [
        "np.arange(0, 1, 0.01)"
      ],
      "execution_count": null,
      "outputs": [
        {
          "output_type": "execute_result",
          "data": {
            "text/plain": [
              "array([0.  , 0.01, 0.02, 0.03, 0.04, 0.05, 0.06, 0.07, 0.08, 0.09, 0.1 ,\n",
              "       0.11, 0.12, 0.13, 0.14, 0.15, 0.16, 0.17, 0.18, 0.19, 0.2 , 0.21,\n",
              "       0.22, 0.23, 0.24, 0.25, 0.26, 0.27, 0.28, 0.29, 0.3 , 0.31, 0.32,\n",
              "       0.33, 0.34, 0.35, 0.36, 0.37, 0.38, 0.39, 0.4 , 0.41, 0.42, 0.43,\n",
              "       0.44, 0.45, 0.46, 0.47, 0.48, 0.49, 0.5 , 0.51, 0.52, 0.53, 0.54,\n",
              "       0.55, 0.56, 0.57, 0.58, 0.59, 0.6 , 0.61, 0.62, 0.63, 0.64, 0.65,\n",
              "       0.66, 0.67, 0.68, 0.69, 0.7 , 0.71, 0.72, 0.73, 0.74, 0.75, 0.76,\n",
              "       0.77, 0.78, 0.79, 0.8 , 0.81, 0.82, 0.83, 0.84, 0.85, 0.86, 0.87,\n",
              "       0.88, 0.89, 0.9 , 0.91, 0.92, 0.93, 0.94, 0.95, 0.96, 0.97, 0.98,\n",
              "       0.99])"
            ]
          },
          "metadata": {
            "tags": []
          },
          "execution_count": 168
        }
      ]
    },
    {
      "cell_type": "code",
      "metadata": {
        "id": "0T7G_f_0Kl52"
      },
      "source": [
        "np.all()"
      ],
      "execution_count": null,
      "outputs": []
    },
    {
      "cell_type": "code",
      "metadata": {
        "id": "P-XtTYNtKnGh"
      },
      "source": [
        "np.any()"
      ],
      "execution_count": null,
      "outputs": []
    },
    {
      "cell_type": "markdown",
      "metadata": {
        "id": "Rgc2tLUFwYCs"
      },
      "source": [
        "## **Funções Importantes** <a name=\"func\"></a>"
      ]
    },
    {
      "cell_type": "markdown",
      "metadata": {
        "id": "Usm30s_ZUPHX"
      },
      "source": [
        "O comando **input** serve para se comunicar com o usuário enquanto se executa um programa. Veja o exemplo abaixo"
      ]
    },
    {
      "cell_type": "code",
      "metadata": {
        "id": "xiBIg2DvUWCN",
        "colab": {
          "base_uri": "https://localhost:8080/"
        },
        "outputId": "c022f930-9ce5-4873-f752-f54537063dbf"
      },
      "source": [
        "x = input('Digite o seu nome: ')"
      ],
      "execution_count": 38,
      "outputs": [
        {
          "output_type": "stream",
          "text": [
            "Digite o seu nome: Emmanuel\n"
          ],
          "name": "stdout"
        }
      ]
    },
    {
      "cell_type": "code",
      "metadata": {
        "id": "Y8Hlz87UUb1n",
        "colab": {
          "base_uri": "https://localhost:8080/"
        },
        "outputId": "c98c37fe-d561-448c-867a-f65042f1e8fd"
      },
      "source": [
        "print(x)"
      ],
      "execution_count": 39,
      "outputs": [
        {
          "output_type": "stream",
          "text": [
            "Emmanuel\n"
          ],
          "name": "stdout"
        }
      ]
    },
    {
      "cell_type": "code",
      "metadata": {
        "id": "vW4v9HdiUe6B",
        "colab": {
          "base_uri": "https://localhost:8080/"
        },
        "outputId": "ff910387-02cf-47e0-ba3c-7ce11f826e4b"
      },
      "source": [
        "y = input('Digite a sua idade: ')\n",
        "print('\\nA idade declarada foi {}'.format(y))"
      ],
      "execution_count": 40,
      "outputs": [
        {
          "output_type": "stream",
          "text": [
            "Digite a sua idade: 29\n",
            "\n",
            "A idade declarada foi 29\n"
          ],
          "name": "stdout"
        }
      ]
    },
    {
      "cell_type": "markdown",
      "metadata": {
        "id": "hIAv3lqpU1CE"
      },
      "source": [
        "Mas note que os inputs são sempre no format string. Se quisermos usá-lo numericamente, temos que converter as entradas adequadamanente. Em geral usamos a função **int** para inteiros ou **float** para números reais. Você pode usar a função float para números que são inteiros também."
      ]
    },
    {
      "cell_type": "code",
      "metadata": {
        "id": "0ZU8B0hwVQoK",
        "colab": {
          "base_uri": "https://localhost:8080/"
        },
        "outputId": "283779a3-1833-47bf-e31a-558f457b18ab"
      },
      "source": [
        "y = int(input('Digite a sua idade '))\n",
        "\n",
        "print('\\nSe você já fez aniversário esse ano, seu ano de nascimento foi {}.'.format(2021 - y))"
      ],
      "execution_count": 41,
      "outputs": [
        {
          "output_type": "stream",
          "text": [
            "Digite a sua idade 29\n",
            "\n",
            "Se você já fez aniversário esse ano, seu ano de nascimento foi 1992.\n"
          ],
          "name": "stdout"
        }
      ]
    },
    {
      "cell_type": "markdown",
      "metadata": {
        "id": "KJ82dttbW44T"
      },
      "source": [
        "\n",
        "\n",
        "---\n",
        "\n"
      ]
    },
    {
      "cell_type": "markdown",
      "metadata": {
        "id": "5ZBxaKUswYSg"
      },
      "source": [
        "A função **range** cria um objeto capaz de gerar listas de valores entre dois números. \n",
        "\n",
        "Ela não gera a lista em si, mas um gerador de lista pra quando ela for utilizada. \n",
        "\n",
        "**Essa função trabalha com intervalos semi-abertos do tipo [ , )**. Veja os exemplos."
      ]
    },
    {
      "cell_type": "code",
      "metadata": {
        "id": "f4N5FABWW-6P",
        "colab": {
          "base_uri": "https://localhost:8080/",
          "height": 35
        },
        "outputId": "5432e8ed-36f1-48bb-fbc4-23bacd63b59f"
      },
      "source": [
        "range(4)"
      ],
      "execution_count": null,
      "outputs": [
        {
          "output_type": "execute_result",
          "data": {
            "text/plain": [
              "range(0, 4)"
            ]
          },
          "metadata": {
            "tags": []
          },
          "execution_count": 17
        }
      ]
    },
    {
      "cell_type": "markdown",
      "metadata": {
        "id": "umj3TALlXBJG"
      },
      "source": [
        "Para listar os valores da função range, utilize o comando **list**"
      ]
    },
    {
      "cell_type": "code",
      "metadata": {
        "id": "FzLHaZmOXLIm",
        "colab": {
          "base_uri": "https://localhost:8080/",
          "height": 35
        },
        "outputId": "4933f225-dfab-48ed-e2ff-2c7dbb8ba6dd"
      },
      "source": [
        "list(range(4))"
      ],
      "execution_count": null,
      "outputs": [
        {
          "output_type": "execute_result",
          "data": {
            "text/plain": [
              "[0, 1, 2, 3]"
            ]
          },
          "metadata": {
            "tags": []
          },
          "execution_count": 18
        }
      ]
    },
    {
      "cell_type": "markdown",
      "metadata": {
        "id": "SK-6cuaIXJbU"
      },
      "source": [
        "Use-a com dois parâmetros para definir o começo e o fim da lista. Note que o primeiro valor é incluido, mas o último não, pois o intervalo dela é semi-aberto"
      ]
    },
    {
      "cell_type": "code",
      "metadata": {
        "id": "fbgK2M_CXZSp",
        "colab": {
          "base_uri": "https://localhost:8080/",
          "height": 35
        },
        "outputId": "d08b8e19-0de4-4de4-e580-fbf441da1ff6"
      },
      "source": [
        "list(range(3, 10))"
      ],
      "execution_count": null,
      "outputs": [
        {
          "output_type": "execute_result",
          "data": {
            "text/plain": [
              "[3, 4, 5, 6, 7, 8, 9]"
            ]
          },
          "metadata": {
            "tags": []
          },
          "execution_count": 20
        }
      ]
    },
    {
      "cell_type": "markdown",
      "metadata": {
        "id": "R5VMnOFlXfBB"
      },
      "source": [
        "Você ainda pode usar um terceiro parâmetro, que é o passo da lista. Ele deve ser inteiro e representa o salto de um número para o outro."
      ]
    },
    {
      "cell_type": "code",
      "metadata": {
        "id": "YXI4nmWTXnYP",
        "colab": {
          "base_uri": "https://localhost:8080/",
          "height": 35
        },
        "outputId": "68a0934a-6bd0-44c4-ed23-e8964ff64cc5"
      },
      "source": [
        "list(range(2, 21, 2))"
      ],
      "execution_count": null,
      "outputs": [
        {
          "output_type": "execute_result",
          "data": {
            "text/plain": [
              "[2, 4, 6, 8, 10, 12, 14, 16, 18, 20]"
            ]
          },
          "metadata": {
            "tags": []
          },
          "execution_count": 23
        }
      ]
    },
    {
      "cell_type": "code",
      "metadata": {
        "id": "vmqGMlkRX5fA",
        "colab": {
          "base_uri": "https://localhost:8080/",
          "height": 35
        },
        "outputId": "0e3ac1c1-198e-4169-829b-bd6ea4d03d68"
      },
      "source": [
        "list(range(10, 101, 10))"
      ],
      "execution_count": null,
      "outputs": [
        {
          "output_type": "execute_result",
          "data": {
            "text/plain": [
              "[10, 20, 30, 40, 50, 60, 70, 80, 90, 100]"
            ]
          },
          "metadata": {
            "tags": []
          },
          "execution_count": 24
        }
      ]
    },
    {
      "cell_type": "markdown",
      "metadata": {
        "id": "kgAeaNFnaz6Z"
      },
      "source": [
        "A função **list** também pode ser utilizada para quebrar uma string em caracteres dentro de uma lista, veja:"
      ]
    },
    {
      "cell_type": "code",
      "metadata": {
        "id": "EsH_I9yya7vQ",
        "colab": {
          "base_uri": "https://localhost:8080/",
          "height": 35
        },
        "outputId": "5921f70b-b120-419f-9d5e-30c97edd56a9"
      },
      "source": [
        "list('Python')"
      ],
      "execution_count": null,
      "outputs": [
        {
          "output_type": "execute_result",
          "data": {
            "text/plain": [
              "['P', 'y', 't', 'h', 'o', 'n']"
            ]
          },
          "metadata": {
            "tags": []
          },
          "execution_count": 37
        }
      ]
    },
    {
      "cell_type": "markdown",
      "metadata": {
        "id": "810gugS8vlH-"
      },
      "source": [
        "## **Iteradores FOR e WHILE** <a name=\"iter\"></a>"
      ]
    },
    {
      "cell_type": "markdown",
      "metadata": {
        "id": "nuwTyZqyvrFX"
      },
      "source": [
        "Utilizamos a estrutura de repetição FOR sempre que desejamos repetir um certo pedaço de código, com alterações ou não, por um número pre-determinado de vezes.\n",
        "\n",
        "Veja os exemplos"
      ]
    },
    {
      "cell_type": "code",
      "metadata": {
        "id": "N9ZLbdPTeYa4"
      },
      "source": [
        "for variante in lista_de_variações:\n",
        "    codigo a ser repetido\n",
        "\n",
        "#esquema geral do FOR, não executar esse bloco"
      ],
      "execution_count": null,
      "outputs": []
    },
    {
      "cell_type": "code",
      "metadata": {
        "id": "oMlptGxbel3R",
        "colab": {
          "base_uri": "https://localhost:8080/",
          "height": 72
        },
        "outputId": "fa8bb0df-d383-43a0-ceb6-4cd73068755b"
      },
      "source": [
        "for i in ['banana', 'mamão', 'abacate']:\n",
        "    print('Eu gosto de {}'.format(i))"
      ],
      "execution_count": null,
      "outputs": [
        {
          "output_type": "stream",
          "text": [
            "Eu gosto de banana\n",
            "Eu gosto de mamão\n",
            "Eu gosto de abacate\n"
          ],
          "name": "stdout"
        }
      ]
    },
    {
      "cell_type": "code",
      "metadata": {
        "id": "S9ZcdJy1vrRH",
        "colab": {
          "base_uri": "https://localhost:8080/",
          "height": 199
        },
        "outputId": "faa31159-c022-4e97-d914-e2784c1fb836"
      },
      "source": [
        "for i in range(10):\n",
        "    print(i*'*')"
      ],
      "execution_count": null,
      "outputs": [
        {
          "output_type": "stream",
          "text": [
            "\n",
            "*\n",
            "**\n",
            "***\n",
            "****\n",
            "*****\n",
            "******\n",
            "*******\n",
            "********\n",
            "*********\n"
          ],
          "name": "stdout"
        }
      ]
    },
    {
      "cell_type": "markdown",
      "metadata": {
        "id": "-mhqfzfGfnbS"
      },
      "source": [
        "Problema: Se eu tomar dois números inteiros no intervalo [1, 10], qual a probabilidade aproximada da soma dos números ser maior que 10?"
      ]
    },
    {
      "cell_type": "code",
      "metadata": {
        "id": "H98ra85ke7bY",
        "colab": {
          "base_uri": "https://localhost:8080/",
          "height": 35
        },
        "outputId": "e70df48b-34c7-4ef9-f6ca-53082c9b7bd0"
      },
      "source": [
        "from random import randint\n",
        "lista = []\n",
        "replicas = 10000\n",
        "\n",
        "for i in range(replicas):\n",
        "    if randint(1,10) + randint (1,10) > 10:\n",
        "        lista.append(True)\n",
        "    else:\n",
        "        lista.append(False)\n",
        "\n",
        "prob = sum(lista)/replicas\n",
        "\n",
        "print('A probabilidade aproximada é {}%'.format(100*prob))"
      ],
      "execution_count": null,
      "outputs": [
        {
          "output_type": "stream",
          "text": [
            "A probabilidade aproximada é 54.52%\n"
          ],
          "name": "stdout"
        }
      ]
    },
    {
      "cell_type": "markdown",
      "metadata": {
        "id": "e63f82migunw"
      },
      "source": [
        "\n",
        "\n",
        "---\n",
        "\n"
      ]
    },
    {
      "cell_type": "markdown",
      "metadata": {
        "id": "aCsKAKnogvoL"
      },
      "source": [
        "O iterador WHILE usamos quando queremos repetir código sem saber de antemão quando este deve ser interrompido. Ele será finalizado quando alguma condição for satisfeita. \n",
        "\n",
        "Por isso, tome cuidado em não escrever um WHILE infinito. Você terá que cancelar a execução do código para pará-lo.\n",
        "\n",
        "Veja a estrutura geral"
      ]
    },
    {
      "cell_type": "code",
      "metadata": {
        "id": "XZq7UqmPhBQ_"
      },
      "source": [
        "while condicao_verdadeira:\n",
        "    codigo repetido\n",
        "    if condicao:\n",
        "        break\n",
        "        \n",
        "#esquema geral do FOR, não executar esse bloco"
      ],
      "execution_count": null,
      "outputs": []
    },
    {
      "cell_type": "code",
      "metadata": {
        "id": "PlNNJ5xAhgBG",
        "colab": {
          "base_uri": "https://localhost:8080/",
          "height": 217
        },
        "outputId": "ccb58d55-288a-4533-d169-977770dd1a28"
      },
      "source": [
        "i = 1\n",
        "while i <= 10:\n",
        "    print(i * '*') \n",
        "    i += 1"
      ],
      "execution_count": null,
      "outputs": [
        {
          "output_type": "stream",
          "text": [
            "*\n",
            "**\n",
            "***\n",
            "****\n",
            "*****\n",
            "******\n",
            "*******\n",
            "********\n",
            "*********\n",
            "**********\n",
            "*\n"
          ],
          "name": "stdout"
        }
      ]
    },
    {
      "cell_type": "markdown",
      "metadata": {
        "id": "FZwNhK1bidv-"
      },
      "source": [
        "Código equivalente utilizando o comando break para interromper o loop"
      ]
    },
    {
      "cell_type": "code",
      "metadata": {
        "id": "n5sqpDODiNIB",
        "colab": {
          "base_uri": "https://localhost:8080/",
          "height": 181
        },
        "outputId": "c63468b9-6742-40cc-a844-ea7071949fc2"
      },
      "source": [
        "i = 1\n",
        "while True:\n",
        "    print(i * '*') \n",
        "    i += 1\n",
        "    if i == 10:\n",
        "        break\n"
      ],
      "execution_count": null,
      "outputs": [
        {
          "output_type": "stream",
          "text": [
            "*\n",
            "**\n",
            "***\n",
            "****\n",
            "*****\n",
            "******\n",
            "*******\n",
            "********\n",
            "*********\n"
          ],
          "name": "stdout"
        }
      ]
    },
    {
      "cell_type": "markdown",
      "metadata": {
        "id": "y_vENC2cim9V"
      },
      "source": [
        "Exemplo de um **while** infinito"
      ]
    },
    {
      "cell_type": "code",
      "metadata": {
        "id": "8OSTl1SQiqso",
        "colab": {
          "base_uri": "https://localhost:8080/",
          "height": 1000
        },
        "outputId": "753e3e74-5e76-4c95-ef00-235680fbb1d3"
      },
      "source": [
        "while True:\n",
        "    print('Python é legal demais!')"
      ],
      "execution_count": 56,
      "outputs": [
        {
          "output_type": "stream",
          "text": [
            "\u001b[1;30;43mA saída de streaming foi truncada nas últimas 5000 linhas.\u001b[0m\n",
            "Python é legal demais!\n",
            "Python é legal demais!\n",
            "Python é legal demais!\n",
            "Python é legal demais!\n",
            "Python é legal demais!\n",
            "Python é legal demais!\n",
            "Python é legal demais!\n",
            "Python é legal demais!\n",
            "Python é legal demais!\n",
            "Python é legal demais!\n",
            "Python é legal demais!\n",
            "Python é legal demais!\n",
            "Python é legal demais!\n",
            "Python é legal demais!\n",
            "Python é legal demais!\n",
            "Python é legal demais!\n",
            "Python é legal demais!\n",
            "Python é legal demais!\n",
            "Python é legal demais!\n",
            "Python é legal demais!\n",
            "Python é legal demais!\n",
            "Python é legal demais!\n",
            "Python é legal demais!\n",
            "Python é legal demais!\n",
            "Python é legal demais!\n",
            "Python é legal demais!\n",
            "Python é legal demais!\n",
            "Python é legal demais!\n",
            "Python é legal demais!\n",
            "Python é legal demais!\n",
            "Python é legal demais!\n",
            "Python é legal demais!\n",
            "Python é legal demais!\n",
            "Python é legal demais!\n",
            "Python é legal demais!\n",
            "Python é legal demais!\n",
            "Python é legal demais!\n",
            "Python é legal demais!\n",
            "Python é legal demais!\n",
            "Python é legal demais!\n",
            "Python é legal demais!\n",
            "Python é legal demais!\n",
            "Python é legal demais!\n",
            "Python é legal demais!\n",
            "Python é legal demais!\n",
            "Python é legal demais!\n",
            "Python é legal demais!\n",
            "Python é legal demais!\n",
            "Python é legal demais!\n",
            "Python é legal demais!\n",
            "Python é legal demais!\n",
            "Python é legal demais!\n",
            "Python é legal demais!\n",
            "Python é legal demais!\n",
            "Python é legal demais!\n",
            "Python é legal demais!\n",
            "Python é legal demais!\n",
            "Python é legal demais!\n",
            "Python é legal demais!\n",
            "Python é legal demais!\n",
            "Python é legal demais!\n",
            "Python é legal demais!\n",
            "Python é legal demais!\n",
            "Python é legal demais!\n",
            "Python é legal demais!\n",
            "Python é legal demais!\n",
            "Python é legal demais!\n",
            "Python é legal demais!\n",
            "Python é legal demais!\n",
            "Python é legal demais!\n",
            "Python é legal demais!\n",
            "Python é legal demais!\n",
            "Python é legal demais!\n",
            "Python é legal demais!\n",
            "Python é legal demais!\n",
            "Python é legal demais!\n",
            "Python é legal demais!\n",
            "Python é legal demais!\n",
            "Python é legal demais!\n",
            "Python é legal demais!\n",
            "Python é legal demais!\n",
            "Python é legal demais!\n",
            "Python é legal demais!\n",
            "Python é legal demais!\n",
            "Python é legal demais!\n",
            "Python é legal demais!\n",
            "Python é legal demais!\n",
            "Python é legal demais!\n",
            "Python é legal demais!\n",
            "Python é legal demais!\n",
            "Python é legal demais!\n",
            "Python é legal demais!\n",
            "Python é legal demais!\n",
            "Python é legal demais!\n",
            "Python é legal demais!\n",
            "Python é legal demais!\n",
            "Python é legal demais!\n",
            "Python é legal demais!\n",
            "Python é legal demais!\n",
            "Python é legal demais!\n",
            "Python é legal demais!\n",
            "Python é legal demais!\n",
            "Python é legal demais!\n",
            "Python é legal demais!\n",
            "Python é legal demais!\n",
            "Python é legal demais!\n",
            "Python é legal demais!\n",
            "Python é legal demais!\n",
            "Python é legal demais!\n",
            "Python é legal demais!\n",
            "Python é legal demais!\n",
            "Python é legal demais!\n",
            "Python é legal demais!\n",
            "Python é legal demais!\n",
            "Python é legal demais!\n",
            "Python é legal demais!\n",
            "Python é legal demais!\n",
            "Python é legal demais!\n",
            "Python é legal demais!\n",
            "Python é legal demais!\n",
            "Python é legal demais!\n",
            "Python é legal demais!\n",
            "Python é legal demais!\n",
            "Python é legal demais!\n",
            "Python é legal demais!\n",
            "Python é legal demais!\n",
            "Python é legal demais!\n",
            "Python é legal demais!\n",
            "Python é legal demais!\n",
            "Python é legal demais!\n",
            "Python é legal demais!\n",
            "Python é legal demais!\n",
            "Python é legal demais!\n",
            "Python é legal demais!\n",
            "Python é legal demais!\n",
            "Python é legal demais!\n",
            "Python é legal demais!\n",
            "Python é legal demais!\n",
            "Python é legal demais!\n",
            "Python é legal demais!\n",
            "Python é legal demais!\n",
            "Python é legal demais!\n",
            "Python é legal demais!\n",
            "Python é legal demais!\n",
            "Python é legal demais!\n",
            "Python é legal demais!\n",
            "Python é legal demais!\n",
            "Python é legal demais!\n",
            "Python é legal demais!\n",
            "Python é legal demais!\n",
            "Python é legal demais!\n",
            "Python é legal demais!\n",
            "Python é legal demais!\n",
            "Python é legal demais!\n",
            "Python é legal demais!\n",
            "Python é legal demais!\n",
            "Python é legal demais!\n",
            "Python é legal demais!\n",
            "Python é legal demais!\n",
            "Python é legal demais!\n",
            "Python é legal demais!\n",
            "Python é legal demais!\n",
            "Python é legal demais!\n",
            "Python é legal demais!\n",
            "Python é legal demais!\n",
            "Python é legal demais!\n",
            "Python é legal demais!\n",
            "Python é legal demais!\n",
            "Python é legal demais!\n",
            "Python é legal demais!\n",
            "Python é legal demais!\n",
            "Python é legal demais!\n",
            "Python é legal demais!\n",
            "Python é legal demais!\n",
            "Python é legal demais!\n",
            "Python é legal demais!\n",
            "Python é legal demais!\n",
            "Python é legal demais!\n",
            "Python é legal demais!\n",
            "Python é legal demais!\n",
            "Python é legal demais!\n",
            "Python é legal demais!\n",
            "Python é legal demais!\n",
            "Python é legal demais!\n",
            "Python é legal demais!\n",
            "Python é legal demais!\n",
            "Python é legal demais!\n",
            "Python é legal demais!\n",
            "Python é legal demais!\n",
            "Python é legal demais!\n",
            "Python é legal demais!\n",
            "Python é legal demais!\n",
            "Python é legal demais!\n",
            "Python é legal demais!\n",
            "Python é legal demais!\n",
            "Python é legal demais!\n",
            "Python é legal demais!\n",
            "Python é legal demais!\n",
            "Python é legal demais!\n",
            "Python é legal demais!\n",
            "Python é legal demais!\n",
            "Python é legal demais!\n",
            "Python é legal demais!\n",
            "Python é legal demais!\n",
            "Python é legal demais!\n",
            "Python é legal demais!\n",
            "Python é legal demais!\n",
            "Python é legal demais!\n",
            "Python é legal demais!\n",
            "Python é legal demais!\n",
            "Python é legal demais!\n",
            "Python é legal demais!\n",
            "Python é legal demais!\n",
            "Python é legal demais!\n",
            "Python é legal demais!\n",
            "Python é legal demais!\n",
            "Python é legal demais!\n",
            "Python é legal demais!\n",
            "Python é legal demais!\n",
            "Python é legal demais!\n",
            "Python é legal demais!\n",
            "Python é legal demais!\n",
            "Python é legal demais!\n",
            "Python é legal demais!\n",
            "Python é legal demais!\n",
            "Python é legal demais!\n",
            "Python é legal demais!\n",
            "Python é legal demais!\n",
            "Python é legal demais!\n",
            "Python é legal demais!\n",
            "Python é legal demais!\n",
            "Python é legal demais!\n",
            "Python é legal demais!\n",
            "Python é legal demais!\n",
            "Python é legal demais!\n",
            "Python é legal demais!\n",
            "Python é legal demais!\n",
            "Python é legal demais!\n",
            "Python é legal demais!\n",
            "Python é legal demais!\n",
            "Python é legal demais!\n",
            "Python é legal demais!\n",
            "Python é legal demais!\n",
            "Python é legal demais!\n",
            "Python é legal demais!\n",
            "Python é legal demais!\n",
            "Python é legal demais!\n",
            "Python é legal demais!\n",
            "Python é legal demais!\n",
            "Python é legal demais!\n",
            "Python é legal demais!\n",
            "Python é legal demais!\n",
            "Python é legal demais!\n",
            "Python é legal demais!\n",
            "Python é legal demais!\n",
            "Python é legal demais!\n",
            "Python é legal demais!\n",
            "Python é legal demais!\n",
            "Python é legal demais!\n",
            "Python é legal demais!\n",
            "Python é legal demais!\n",
            "Python é legal demais!\n",
            "Python é legal demais!\n",
            "Python é legal demais!\n",
            "Python é legal demais!\n",
            "Python é legal demais!\n",
            "Python é legal demais!\n",
            "Python é legal demais!\n",
            "Python é legal demais!\n",
            "Python é legal demais!\n",
            "Python é legal demais!\n",
            "Python é legal demais!\n",
            "Python é legal demais!\n",
            "Python é legal demais!\n",
            "Python é legal demais!\n",
            "Python é legal demais!\n",
            "Python é legal demais!\n",
            "Python é legal demais!\n",
            "Python é legal demais!\n",
            "Python é legal demais!\n",
            "Python é legal demais!\n",
            "Python é legal demais!\n",
            "Python é legal demais!\n",
            "Python é legal demais!\n",
            "Python é legal demais!\n",
            "Python é legal demais!\n",
            "Python é legal demais!\n",
            "Python é legal demais!\n",
            "Python é legal demais!\n",
            "Python é legal demais!\n",
            "Python é legal demais!\n",
            "Python é legal demais!\n",
            "Python é legal demais!\n",
            "Python é legal demais!\n",
            "Python é legal demais!\n",
            "Python é legal demais!\n",
            "Python é legal demais!\n",
            "Python é legal demais!\n",
            "Python é legal demais!\n",
            "Python é legal demais!\n",
            "Python é legal demais!\n",
            "Python é legal demais!\n",
            "Python é legal demais!\n",
            "Python é legal demais!\n",
            "Python é legal demais!\n",
            "Python é legal demais!\n",
            "Python é legal demais!\n",
            "Python é legal demais!\n",
            "Python é legal demais!\n",
            "Python é legal demais!\n",
            "Python é legal demais!\n",
            "Python é legal demais!\n",
            "Python é legal demais!\n",
            "Python é legal demais!\n",
            "Python é legal demais!\n",
            "Python é legal demais!\n",
            "Python é legal demais!\n",
            "Python é legal demais!\n",
            "Python é legal demais!\n",
            "Python é legal demais!\n",
            "Python é legal demais!\n",
            "Python é legal demais!\n",
            "Python é legal demais!\n",
            "Python é legal demais!\n",
            "Python é legal demais!\n",
            "Python é legal demais!\n",
            "Python é legal demais!\n",
            "Python é legal demais!\n",
            "Python é legal demais!\n",
            "Python é legal demais!\n",
            "Python é legal demais!\n",
            "Python é legal demais!\n",
            "Python é legal demais!\n",
            "Python é legal demais!\n",
            "Python é legal demais!\n",
            "Python é legal demais!\n",
            "Python é legal demais!\n",
            "Python é legal demais!\n",
            "Python é legal demais!\n",
            "Python é legal demais!\n",
            "Python é legal demais!\n",
            "Python é legal demais!\n",
            "Python é legal demais!\n",
            "Python é legal demais!\n",
            "Python é legal demais!\n",
            "Python é legal demais!\n",
            "Python é legal demais!\n",
            "Python é legal demais!\n",
            "Python é legal demais!\n",
            "Python é legal demais!\n",
            "Python é legal demais!\n",
            "Python é legal demais!\n",
            "Python é legal demais!\n",
            "Python é legal demais!\n",
            "Python é legal demais!\n",
            "Python é legal demais!\n",
            "Python é legal demais!\n",
            "Python é legal demais!\n",
            "Python é legal demais!\n",
            "Python é legal demais!\n",
            "Python é legal demais!\n",
            "Python é legal demais!\n",
            "Python é legal demais!\n",
            "Python é legal demais!\n",
            "Python é legal demais!\n",
            "Python é legal demais!\n",
            "Python é legal demais!\n",
            "Python é legal demais!\n",
            "Python é legal demais!\n",
            "Python é legal demais!\n",
            "Python é legal demais!\n",
            "Python é legal demais!\n",
            "Python é legal demais!\n",
            "Python é legal demais!\n",
            "Python é legal demais!\n",
            "Python é legal demais!\n",
            "Python é legal demais!\n",
            "Python é legal demais!\n",
            "Python é legal demais!\n",
            "Python é legal demais!\n",
            "Python é legal demais!\n",
            "Python é legal demais!\n",
            "Python é legal demais!\n",
            "Python é legal demais!\n",
            "Python é legal demais!\n",
            "Python é legal demais!\n",
            "Python é legal demais!\n",
            "Python é legal demais!\n",
            "Python é legal demais!\n",
            "Python é legal demais!\n",
            "Python é legal demais!\n",
            "Python é legal demais!\n",
            "Python é legal demais!\n",
            "Python é legal demais!\n",
            "Python é legal demais!\n",
            "Python é legal demais!\n",
            "Python é legal demais!\n",
            "Python é legal demais!\n",
            "Python é legal demais!\n",
            "Python é legal demais!\n",
            "Python é legal demais!\n",
            "Python é legal demais!\n",
            "Python é legal demais!\n",
            "Python é legal demais!\n",
            "Python é legal demais!\n",
            "Python é legal demais!\n",
            "Python é legal demais!\n",
            "Python é legal demais!\n",
            "Python é legal demais!\n",
            "Python é legal demais!\n",
            "Python é legal demais!\n",
            "Python é legal demais!\n",
            "Python é legal demais!\n",
            "Python é legal demais!\n",
            "Python é legal demais!\n",
            "Python é legal demais!\n",
            "Python é legal demais!\n",
            "Python é legal demais!\n",
            "Python é legal demais!\n",
            "Python é legal demais!\n",
            "Python é legal demais!\n",
            "Python é legal demais!\n",
            "Python é legal demais!\n",
            "Python é legal demais!\n",
            "Python é legal demais!\n",
            "Python é legal demais!\n",
            "Python é legal demais!\n",
            "Python é legal demais!\n",
            "Python é legal demais!\n",
            "Python é legal demais!\n",
            "Python é legal demais!\n",
            "Python é legal demais!\n",
            "Python é legal demais!\n",
            "Python é legal demais!\n",
            "Python é legal demais!\n",
            "Python é legal demais!\n",
            "Python é legal demais!\n",
            "Python é legal demais!\n",
            "Python é legal demais!\n",
            "Python é legal demais!\n",
            "Python é legal demais!\n",
            "Python é legal demais!\n",
            "Python é legal demais!\n",
            "Python é legal demais!\n",
            "Python é legal demais!\n",
            "Python é legal demais!\n",
            "Python é legal demais!\n",
            "Python é legal demais!\n",
            "Python é legal demais!\n",
            "Python é legal demais!\n",
            "Python é legal demais!\n",
            "Python é legal demais!\n",
            "Python é legal demais!\n",
            "Python é legal demais!\n",
            "Python é legal demais!\n",
            "Python é legal demais!\n",
            "Python é legal demais!\n",
            "Python é legal demais!\n",
            "Python é legal demais!\n",
            "Python é legal demais!\n",
            "Python é legal demais!\n",
            "Python é legal demais!\n",
            "Python é legal demais!\n",
            "Python é legal demais!\n",
            "Python é legal demais!\n",
            "Python é legal demais!\n",
            "Python é legal demais!\n",
            "Python é legal demais!\n",
            "Python é legal demais!\n",
            "Python é legal demais!\n",
            "Python é legal demais!\n",
            "Python é legal demais!\n",
            "Python é legal demais!\n",
            "Python é legal demais!\n",
            "Python é legal demais!\n",
            "Python é legal demais!\n",
            "Python é legal demais!\n",
            "Python é legal demais!\n",
            "Python é legal demais!\n",
            "Python é legal demais!\n",
            "Python é legal demais!\n",
            "Python é legal demais!\n",
            "Python é legal demais!\n",
            "Python é legal demais!\n",
            "Python é legal demais!\n",
            "Python é legal demais!\n",
            "Python é legal demais!\n",
            "Python é legal demais!\n",
            "Python é legal demais!\n",
            "Python é legal demais!\n",
            "Python é legal demais!\n",
            "Python é legal demais!\n",
            "Python é legal demais!\n",
            "Python é legal demais!\n",
            "Python é legal demais!\n",
            "Python é legal demais!\n",
            "Python é legal demais!\n",
            "Python é legal demais!\n",
            "Python é legal demais!\n",
            "Python é legal demais!\n",
            "Python é legal demais!\n",
            "Python é legal demais!\n",
            "Python é legal demais!\n",
            "Python é legal demais!\n",
            "Python é legal demais!\n",
            "Python é legal demais!\n",
            "Python é legal demais!\n",
            "Python é legal demais!\n",
            "Python é legal demais!\n",
            "Python é legal demais!\n",
            "Python é legal demais!\n",
            "Python é legal demais!\n",
            "Python é legal demais!\n",
            "Python é legal demais!\n",
            "Python é legal demais!\n",
            "Python é legal demais!\n",
            "Python é legal demais!\n",
            "Python é legal demais!\n",
            "Python é legal demais!\n",
            "Python é legal demais!\n",
            "Python é legal demais!\n",
            "Python é legal demais!\n",
            "Python é legal demais!\n",
            "Python é legal demais!\n",
            "Python é legal demais!\n",
            "Python é legal demais!\n",
            "Python é legal demais!\n",
            "Python é legal demais!\n",
            "Python é legal demais!\n",
            "Python é legal demais!\n",
            "Python é legal demais!\n",
            "Python é legal demais!\n",
            "Python é legal demais!\n",
            "Python é legal demais!\n",
            "Python é legal demais!\n",
            "Python é legal demais!\n",
            "Python é legal demais!\n",
            "Python é legal demais!\n",
            "Python é legal demais!\n",
            "Python é legal demais!\n",
            "Python é legal demais!\n",
            "Python é legal demais!\n",
            "Python é legal demais!\n",
            "Python é legal demais!\n",
            "Python é legal demais!\n",
            "Python é legal demais!\n",
            "Python é legal demais!\n",
            "Python é legal demais!\n",
            "Python é legal demais!\n",
            "Python é legal demais!\n",
            "Python é legal demais!\n",
            "Python é legal demais!\n",
            "Python é legal demais!\n",
            "Python é legal demais!\n",
            "Python é legal demais!\n",
            "Python é legal demais!\n",
            "Python é legal demais!\n",
            "Python é legal demais!\n",
            "Python é legal demais!\n",
            "Python é legal demais!\n",
            "Python é legal demais!\n",
            "Python é legal demais!\n",
            "Python é legal demais!\n",
            "Python é legal demais!\n",
            "Python é legal demais!\n",
            "Python é legal demais!\n",
            "Python é legal demais!\n",
            "Python é legal demais!\n",
            "Python é legal demais!\n",
            "Python é legal demais!\n",
            "Python é legal demais!\n",
            "Python é legal demais!\n",
            "Python é legal demais!\n",
            "Python é legal demais!\n",
            "Python é legal demais!\n",
            "Python é legal demais!\n",
            "Python é legal demais!\n",
            "Python é legal demais!\n",
            "Python é legal demais!\n",
            "Python é legal demais!\n",
            "Python é legal demais!\n",
            "Python é legal demais!\n",
            "Python é legal demais!\n",
            "Python é legal demais!\n",
            "Python é legal demais!\n",
            "Python é legal demais!\n",
            "Python é legal demais!\n",
            "Python é legal demais!\n",
            "Python é legal demais!\n",
            "Python é legal demais!\n",
            "Python é legal demais!\n",
            "Python é legal demais!\n",
            "Python é legal demais!\n",
            "Python é legal demais!\n",
            "Python é legal demais!\n",
            "Python é legal demais!\n",
            "Python é legal demais!\n",
            "Python é legal demais!\n",
            "Python é legal demais!\n",
            "Python é legal demais!\n",
            "Python é legal demais!\n",
            "Python é legal demais!\n",
            "Python é legal demais!\n",
            "Python é legal demais!\n",
            "Python é legal demais!\n",
            "Python é legal demais!\n",
            "Python é legal demais!\n",
            "Python é legal demais!\n",
            "Python é legal demais!\n",
            "Python é legal demais!\n",
            "Python é legal demais!\n",
            "Python é legal demais!\n",
            "Python é legal demais!\n",
            "Python é legal demais!\n",
            "Python é legal demais!\n",
            "Python é legal demais!\n",
            "Python é legal demais!\n",
            "Python é legal demais!\n",
            "Python é legal demais!\n",
            "Python é legal demais!\n",
            "Python é legal demais!\n",
            "Python é legal demais!\n",
            "Python é legal demais!\n",
            "Python é legal demais!\n",
            "Python é legal demais!\n",
            "Python é legal demais!\n",
            "Python é legal demais!\n",
            "Python é legal demais!\n",
            "Python é legal demais!\n",
            "Python é legal demais!\n",
            "Python é legal demais!\n",
            "Python é legal demais!\n",
            "Python é legal demais!\n",
            "Python é legal demais!\n",
            "Python é legal demais!\n",
            "Python é legal demais!\n",
            "Python é legal demais!\n",
            "Python é legal demais!\n",
            "Python é legal demais!\n",
            "Python é legal demais!\n",
            "Python é legal demais!\n",
            "Python é legal demais!\n",
            "Python é legal demais!\n",
            "Python é legal demais!\n",
            "Python é legal demais!\n",
            "Python é legal demais!\n",
            "Python é legal demais!\n",
            "Python é legal demais!\n",
            "Python é legal demais!\n",
            "Python é legal demais!\n",
            "Python é legal demais!\n",
            "Python é legal demais!\n",
            "Python é legal demais!\n",
            "Python é legal demais!\n",
            "Python é legal demais!\n",
            "Python é legal demais!\n",
            "Python é legal demais!\n",
            "Python é legal demais!\n",
            "Python é legal demais!\n",
            "Python é legal demais!\n",
            "Python é legal demais!\n",
            "Python é legal demais!\n",
            "Python é legal demais!\n",
            "Python é legal demais!\n",
            "Python é legal demais!\n",
            "Python é legal demais!\n",
            "Python é legal demais!\n",
            "Python é legal demais!\n",
            "Python é legal demais!\n",
            "Python é legal demais!\n",
            "Python é legal demais!\n",
            "Python é legal demais!\n",
            "Python é legal demais!\n",
            "Python é legal demais!\n",
            "Python é legal demais!\n",
            "Python é legal demais!\n",
            "Python é legal demais!\n",
            "Python é legal demais!\n",
            "Python é legal demais!\n",
            "Python é legal demais!\n",
            "Python é legal demais!\n",
            "Python é legal demais!\n",
            "Python é legal demais!\n",
            "Python é legal demais!\n",
            "Python é legal demais!\n",
            "Python é legal demais!\n",
            "Python é legal demais!\n",
            "Python é legal demais!\n",
            "Python é legal demais!\n",
            "Python é legal demais!\n",
            "Python é legal demais!\n",
            "Python é legal demais!\n",
            "Python é legal demais!\n",
            "Python é legal demais!\n",
            "Python é legal demais!\n",
            "Python é legal demais!\n",
            "Python é legal demais!\n",
            "Python é legal demais!\n",
            "Python é legal demais!\n",
            "Python é legal demais!\n",
            "Python é legal demais!\n",
            "Python é legal demais!\n",
            "Python é legal demais!\n",
            "Python é legal demais!\n",
            "Python é legal demais!\n",
            "Python é legal demais!\n",
            "Python é legal demais!\n",
            "Python é legal demais!\n",
            "Python é legal demais!\n",
            "Python é legal demais!\n",
            "Python é legal demais!\n",
            "Python é legal demais!\n",
            "Python é legal demais!\n",
            "Python é legal demais!\n",
            "Python é legal demais!\n",
            "Python é legal demais!\n",
            "Python é legal demais!\n",
            "Python é legal demais!\n",
            "Python é legal demais!\n",
            "Python é legal demais!\n",
            "Python é legal demais!\n",
            "Python é legal demais!\n",
            "Python é legal demais!\n",
            "Python é legal demais!\n",
            "Python é legal demais!\n",
            "Python é legal demais!\n",
            "Python é legal demais!\n",
            "Python é legal demais!\n",
            "Python é legal demais!\n",
            "Python é legal demais!\n",
            "Python é legal demais!\n",
            "Python é legal demais!\n",
            "Python é legal demais!\n",
            "Python é legal demais!\n",
            "Python é legal demais!\n",
            "Python é legal demais!\n",
            "Python é legal demais!\n",
            "Python é legal demais!\n",
            "Python é legal demais!\n",
            "Python é legal demais!\n",
            "Python é legal demais!\n",
            "Python é legal demais!\n",
            "Python é legal demais!\n",
            "Python é legal demais!\n",
            "Python é legal demais!\n",
            "Python é legal demais!\n",
            "Python é legal demais!\n",
            "Python é legal demais!\n",
            "Python é legal demais!\n",
            "Python é legal demais!\n",
            "Python é legal demais!\n",
            "Python é legal demais!\n",
            "Python é legal demais!\n",
            "Python é legal demais!\n",
            "Python é legal demais!\n",
            "Python é legal demais!\n",
            "Python é legal demais!\n",
            "Python é legal demais!\n",
            "Python é legal demais!\n",
            "Python é legal demais!\n",
            "Python é legal demais!\n",
            "Python é legal demais!\n",
            "Python é legal demais!\n",
            "Python é legal demais!\n",
            "Python é legal demais!\n",
            "Python é legal demais!\n",
            "Python é legal demais!\n",
            "Python é legal demais!\n",
            "Python é legal demais!\n",
            "Python é legal demais!\n",
            "Python é legal demais!\n",
            "Python é legal demais!\n",
            "Python é legal demais!\n",
            "Python é legal demais!\n",
            "Python é legal demais!\n",
            "Python é legal demais!\n",
            "Python é legal demais!\n",
            "Python é legal demais!\n",
            "Python é legal demais!\n",
            "Python é legal demais!\n",
            "Python é legal demais!\n",
            "Python é legal demais!\n",
            "Python é legal demais!\n",
            "Python é legal demais!\n",
            "Python é legal demais!\n",
            "Python é legal demais!\n",
            "Python é legal demais!\n",
            "Python é legal demais!\n",
            "Python é legal demais!\n",
            "Python é legal demais!\n",
            "Python é legal demais!\n",
            "Python é legal demais!\n",
            "Python é legal demais!\n",
            "Python é legal demais!\n",
            "Python é legal demais!\n",
            "Python é legal demais!\n",
            "Python é legal demais!\n",
            "Python é legal demais!\n",
            "Python é legal demais!\n",
            "Python é legal demais!\n",
            "Python é legal demais!\n",
            "Python é legal demais!\n",
            "Python é legal demais!\n",
            "Python é legal demais!\n",
            "Python é legal demais!\n",
            "Python é legal demais!\n",
            "Python é legal demais!\n",
            "Python é legal demais!\n",
            "Python é legal demais!\n",
            "Python é legal demais!\n",
            "Python é legal demais!\n",
            "Python é legal demais!\n",
            "Python é legal demais!\n",
            "Python é legal demais!\n",
            "Python é legal demais!\n",
            "Python é legal demais!\n",
            "Python é legal demais!\n",
            "Python é legal demais!\n",
            "Python é legal demais!\n",
            "Python é legal demais!\n",
            "Python é legal demais!\n",
            "Python é legal demais!\n",
            "Python é legal demais!\n",
            "Python é legal demais!\n",
            "Python é legal demais!\n",
            "Python é legal demais!\n",
            "Python é legal demais!\n",
            "Python é legal demais!\n",
            "Python é legal demais!\n",
            "Python é legal demais!\n",
            "Python é legal demais!\n",
            "Python é legal demais!\n",
            "Python é legal demais!\n",
            "Python é legal demais!\n",
            "Python é legal demais!\n",
            "Python é legal demais!\n",
            "Python é legal demais!\n",
            "Python é legal demais!\n",
            "Python é legal demais!\n",
            "Python é legal demais!\n",
            "Python é legal demais!\n",
            "Python é legal demais!\n",
            "Python é legal demais!\n",
            "Python é legal demais!\n",
            "Python é legal demais!\n",
            "Python é legal demais!\n",
            "Python é legal demais!\n",
            "Python é legal demais!\n",
            "Python é legal demais!\n",
            "Python é legal demais!\n",
            "Python é legal demais!\n",
            "Python é legal demais!\n",
            "Python é legal demais!\n",
            "Python é legal demais!\n",
            "Python é legal demais!\n",
            "Python é legal demais!\n",
            "Python é legal demais!\n",
            "Python é legal demais!\n",
            "Python é legal demais!\n",
            "Python é legal demais!\n",
            "Python é legal demais!\n",
            "Python é legal demais!\n",
            "Python é legal demais!\n",
            "Python é legal demais!\n",
            "Python é legal demais!\n",
            "Python é legal demais!\n",
            "Python é legal demais!\n",
            "Python é legal demais!\n",
            "Python é legal demais!\n",
            "Python é legal demais!\n",
            "Python é legal demais!\n",
            "Python é legal demais!\n",
            "Python é legal demais!\n",
            "Python é legal demais!\n",
            "Python é legal demais!\n",
            "Python é legal demais!\n",
            "Python é legal demais!\n",
            "Python é legal demais!\n",
            "Python é legal demais!\n",
            "Python é legal demais!\n",
            "Python é legal demais!\n",
            "Python é legal demais!\n",
            "Python é legal demais!\n",
            "Python é legal demais!\n",
            "Python é legal demais!\n",
            "Python é legal demais!\n",
            "Python é legal demais!\n",
            "Python é legal demais!\n",
            "Python é legal demais!\n",
            "Python é legal demais!\n",
            "Python é legal demais!\n",
            "Python é legal demais!\n",
            "Python é legal demais!\n",
            "Python é legal demais!\n",
            "Python é legal demais!\n",
            "Python é legal demais!\n",
            "Python é legal demais!\n",
            "Python é legal demais!\n",
            "Python é legal demais!\n",
            "Python é legal demais!\n",
            "Python é legal demais!\n",
            "Python é legal demais!\n",
            "Python é legal demais!\n",
            "Python é legal demais!\n",
            "Python é legal demais!\n",
            "Python é legal demais!\n",
            "Python é legal demais!\n",
            "Python é legal demais!\n",
            "Python é legal demais!\n",
            "Python é legal demais!\n",
            "Python é legal demais!\n",
            "Python é legal demais!\n",
            "Python é legal demais!\n",
            "Python é legal demais!\n",
            "Python é legal demais!\n",
            "Python é legal demais!\n",
            "Python é legal demais!\n",
            "Python é legal demais!\n",
            "Python é legal demais!\n",
            "Python é legal demais!\n",
            "Python é legal demais!\n",
            "Python é legal demais!\n",
            "Python é legal demais!\n",
            "Python é legal demais!\n",
            "Python é legal demais!\n",
            "Python é legal demais!\n",
            "Python é legal demais!\n",
            "Python é legal demais!\n",
            "Python é legal demais!\n",
            "Python é legal demais!\n",
            "Python é legal demais!\n",
            "Python é legal demais!\n",
            "Python é legal demais!\n",
            "Python é legal demais!\n",
            "Python é legal demais!\n",
            "Python é legal demais!\n",
            "Python é legal demais!\n",
            "Python é legal demais!\n",
            "Python é legal demais!\n",
            "Python é legal demais!\n",
            "Python é legal demais!\n",
            "Python é legal demais!\n",
            "Python é legal demais!\n",
            "Python é legal demais!\n",
            "Python é legal demais!\n",
            "Python é legal demais!\n",
            "Python é legal demais!\n",
            "Python é legal demais!\n",
            "Python é legal demais!\n",
            "Python é legal demais!\n",
            "Python é legal demais!\n",
            "Python é legal demais!\n",
            "Python é legal demais!\n",
            "Python é legal demais!\n",
            "Python é legal demais!\n",
            "Python é legal demais!\n",
            "Python é legal demais!\n",
            "Python é legal demais!\n",
            "Python é legal demais!\n",
            "Python é legal demais!\n",
            "Python é legal demais!\n",
            "Python é legal demais!\n",
            "Python é legal demais!\n",
            "Python é legal demais!\n",
            "Python é legal demais!\n",
            "Python é legal demais!\n",
            "Python é legal demais!\n",
            "Python é legal demais!\n",
            "Python é legal demais!\n",
            "Python é legal demais!\n",
            "Python é legal demais!\n",
            "Python é legal demais!\n",
            "Python é legal demais!\n",
            "Python é legal demais!\n",
            "Python é legal demais!\n",
            "Python é legal demais!\n",
            "Python é legal demais!\n",
            "Python é legal demais!\n",
            "Python é legal demais!\n",
            "Python é legal demais!\n",
            "Python é legal demais!\n",
            "Python é legal demais!\n",
            "Python é legal demais!\n",
            "Python é legal demais!\n",
            "Python é legal demais!\n",
            "Python é legal demais!\n",
            "Python é legal demais!\n",
            "Python é legal demais!\n",
            "Python é legal demais!\n",
            "Python é legal demais!\n",
            "Python é legal demais!\n",
            "Python é legal demais!\n",
            "Python é legal demais!\n",
            "Python é legal demais!\n",
            "Python é legal demais!\n",
            "Python é legal demais!\n",
            "Python é legal demais!\n",
            "Python é legal demais!\n",
            "Python é legal demais!\n",
            "Python é legal demais!\n",
            "Python é legal demais!\n",
            "Python é legal demais!\n",
            "Python é legal demais!\n",
            "Python é legal demais!\n",
            "Python é legal demais!\n",
            "Python é legal demais!\n",
            "Python é legal demais!\n",
            "Python é legal demais!\n",
            "Python é legal demais!\n",
            "Python é legal demais!\n",
            "Python é legal demais!\n",
            "Python é legal demais!\n",
            "Python é legal demais!\n",
            "Python é legal demais!\n",
            "Python é legal demais!\n",
            "Python é legal demais!\n",
            "Python é legal demais!\n",
            "Python é legal demais!\n",
            "Python é legal demais!\n",
            "Python é legal demais!\n",
            "Python é legal demais!\n",
            "Python é legal demais!\n",
            "Python é legal demais!\n",
            "Python é legal demais!\n",
            "Python é legal demais!\n",
            "Python é legal demais!\n",
            "Python é legal demais!\n",
            "Python é legal demais!\n",
            "Python é legal demais!\n",
            "Python é legal demais!\n",
            "Python é legal demais!\n",
            "Python é legal demais!\n",
            "Python é legal demais!\n",
            "Python é legal demais!\n",
            "Python é legal demais!\n",
            "Python é legal demais!\n",
            "Python é legal demais!\n",
            "Python é legal demais!\n",
            "Python é legal demais!\n",
            "Python é legal demais!\n",
            "Python é legal demais!\n",
            "Python é legal demais!\n",
            "Python é legal demais!\n",
            "Python é legal demais!\n",
            "Python é legal demais!\n",
            "Python é legal demais!\n",
            "Python é legal demais!\n",
            "Python é legal demais!\n",
            "Python é legal demais!\n",
            "Python é legal demais!\n",
            "Python é legal demais!\n",
            "Python é legal demais!\n",
            "Python é legal demais!\n",
            "Python é legal demais!\n",
            "Python é legal demais!\n",
            "Python é legal demais!\n",
            "Python é legal demais!\n",
            "Python é legal demais!\n",
            "Python é legal demais!\n",
            "Python é legal demais!\n",
            "Python é legal demais!\n",
            "Python é legal demais!\n",
            "Python é legal demais!\n",
            "Python é legal demais!\n",
            "Python é legal demais!\n",
            "Python é legal demais!\n",
            "Python é legal demais!\n",
            "Python é legal demais!\n",
            "Python é legal demais!\n",
            "Python é legal demais!\n",
            "Python é legal demais!\n",
            "Python é legal demais!\n",
            "Python é legal demais!\n",
            "Python é legal demais!\n",
            "Python é legal demais!\n",
            "Python é legal demais!\n",
            "Python é legal demais!\n",
            "Python é legal demais!\n",
            "Python é legal demais!\n",
            "Python é legal demais!\n",
            "Python é legal demais!\n",
            "Python é legal demais!\n",
            "Python é legal demais!\n",
            "Python é legal demais!\n",
            "Python é legal demais!\n",
            "Python é legal demais!\n",
            "Python é legal demais!\n",
            "Python é legal demais!\n",
            "Python é legal demais!\n",
            "Python é legal demais!\n",
            "Python é legal demais!\n",
            "Python é legal demais!\n",
            "Python é legal demais!\n",
            "Python é legal demais!\n",
            "Python é legal demais!\n",
            "Python é legal demais!\n",
            "Python é legal demais!\n",
            "Python é legal demais!\n",
            "Python é legal demais!\n",
            "Python é legal demais!\n",
            "Python é legal demais!\n",
            "Python é legal demais!\n",
            "Python é legal demais!\n",
            "Python é legal demais!\n",
            "Python é legal demais!\n",
            "Python é legal demais!\n",
            "Python é legal demais!\n",
            "Python é legal demais!\n",
            "Python é legal demais!\n",
            "Python é legal demais!\n",
            "Python é legal demais!\n",
            "Python é legal demais!\n",
            "Python é legal demais!\n",
            "Python é legal demais!\n",
            "Python é legal demais!\n",
            "Python é legal demais!\n",
            "Python é legal demais!\n",
            "Python é legal demais!\n",
            "Python é legal demais!\n",
            "Python é legal demais!\n",
            "Python é legal demais!\n",
            "Python é legal demais!\n",
            "Python é legal demais!\n",
            "Python é legal demais!\n",
            "Python é legal demais!\n",
            "Python é legal demais!\n",
            "Python é legal demais!\n",
            "Python é legal demais!\n",
            "Python é legal demais!\n",
            "Python é legal demais!\n",
            "Python é legal demais!\n",
            "Python é legal demais!\n",
            "Python é legal demais!\n",
            "Python é legal demais!\n",
            "Python é legal demais!\n",
            "Python é legal demais!\n",
            "Python é legal demais!\n",
            "Python é legal demais!\n",
            "Python é legal demais!\n",
            "Python é legal demais!\n",
            "Python é legal demais!\n",
            "Python é legal demais!\n",
            "Python é legal demais!\n",
            "Python é legal demais!\n",
            "Python é legal demais!\n",
            "Python é legal demais!\n",
            "Python é legal demais!\n",
            "Python é legal demais!\n",
            "Python é legal demais!\n",
            "Python é legal demais!\n",
            "Python é legal demais!\n",
            "Python é legal demais!\n",
            "Python é legal demais!\n",
            "Python é legal demais!\n",
            "Python é legal demais!\n",
            "Python é legal demais!\n",
            "Python é legal demais!\n",
            "Python é legal demais!\n",
            "Python é legal demais!\n",
            "Python é legal demais!\n",
            "Python é legal demais!\n",
            "Python é legal demais!\n",
            "Python é legal demais!\n",
            "Python é legal demais!\n",
            "Python é legal demais!\n",
            "Python é legal demais!\n",
            "Python é legal demais!\n",
            "Python é legal demais!\n",
            "Python é legal demais!\n",
            "Python é legal demais!\n",
            "Python é legal demais!\n",
            "Python é legal demais!\n",
            "Python é legal demais!\n",
            "Python é legal demais!\n",
            "Python é legal demais!\n",
            "Python é legal demais!\n",
            "Python é legal demais!\n",
            "Python é legal demais!\n",
            "Python é legal demais!\n",
            "Python é legal demais!\n",
            "Python é legal demais!\n",
            "Python é legal demais!\n",
            "Python é legal demais!\n",
            "Python é legal demais!\n",
            "Python é legal demais!\n",
            "Python é legal demais!\n",
            "Python é legal demais!\n",
            "Python é legal demais!\n",
            "Python é legal demais!\n",
            "Python é legal demais!\n",
            "Python é legal demais!\n",
            "Python é legal demais!\n",
            "Python é legal demais!\n",
            "Python é legal demais!\n",
            "Python é legal demais!\n",
            "Python é legal demais!\n",
            "Python é legal demais!\n",
            "Python é legal demais!\n",
            "Python é legal demais!\n",
            "Python é legal demais!\n",
            "Python é legal demais!\n",
            "Python é legal demais!\n",
            "Python é legal demais!\n",
            "Python é legal demais!\n",
            "Python é legal demais!\n",
            "Python é legal demais!\n",
            "Python é legal demais!\n",
            "Python é legal demais!\n",
            "Python é legal demais!\n",
            "Python é legal demais!\n",
            "Python é legal demais!\n",
            "Python é legal demais!\n",
            "Python é legal demais!\n",
            "Python é legal demais!\n",
            "Python é legal demais!\n",
            "Python é legal demais!\n",
            "Python é legal demais!\n",
            "Python é legal demais!\n",
            "Python é legal demais!\n",
            "Python é legal demais!\n",
            "Python é legal demais!\n",
            "Python é legal demais!\n",
            "Python é legal demais!\n",
            "Python é legal demais!\n",
            "Python é legal demais!\n",
            "Python é legal demais!\n",
            "Python é legal demais!\n",
            "Python é legal demais!\n",
            "Python é legal demais!\n",
            "Python é legal demais!\n",
            "Python é legal demais!\n",
            "Python é legal demais!\n",
            "Python é legal demais!\n",
            "Python é legal demais!\n",
            "Python é legal demais!\n",
            "Python é legal demais!\n",
            "Python é legal demais!\n",
            "Python é legal demais!\n",
            "Python é legal demais!\n",
            "Python é legal demais!\n",
            "Python é legal demais!\n",
            "Python é legal demais!\n",
            "Python é legal demais!\n",
            "Python é legal demais!\n",
            "Python é legal demais!\n",
            "Python é legal demais!\n",
            "Python é legal demais!\n",
            "Python é legal demais!\n",
            "Python é legal demais!\n",
            "Python é legal demais!\n",
            "Python é legal demais!\n",
            "Python é legal demais!\n",
            "Python é legal demais!\n",
            "Python é legal demais!\n",
            "Python é legal demais!\n",
            "Python é legal demais!\n",
            "Python é legal demais!\n",
            "Python é legal demais!\n",
            "Python é legal demais!\n",
            "Python é legal demais!\n",
            "Python é legal demais!\n",
            "Python é legal demais!\n",
            "Python é legal demais!\n",
            "Python é legal demais!\n",
            "Python é legal demais!\n",
            "Python é legal demais!\n",
            "Python é legal demais!\n",
            "Python é legal demais!\n",
            "Python é legal demais!\n",
            "Python é legal demais!\n",
            "Python é legal demais!\n",
            "Python é legal demais!\n",
            "Python é legal demais!\n",
            "Python é legal demais!\n",
            "Python é legal demais!\n",
            "Python é legal demais!\n",
            "Python é legal demais!\n",
            "Python é legal demais!\n",
            "Python é legal demais!\n",
            "Python é legal demais!\n",
            "Python é legal demais!\n",
            "Python é legal demais!\n",
            "Python é legal demais!\n",
            "Python é legal demais!\n",
            "Python é legal demais!\n",
            "Python é legal demais!\n",
            "Python é legal demais!\n",
            "Python é legal demais!\n",
            "Python é legal demais!\n",
            "Python é legal demais!\n",
            "Python é legal demais!\n",
            "Python é legal demais!\n",
            "Python é legal demais!\n",
            "Python é legal demais!\n",
            "Python é legal demais!\n",
            "Python é legal demais!\n",
            "Python é legal demais!\n",
            "Python é legal demais!\n",
            "Python é legal demais!\n",
            "Python é legal demais!\n",
            "Python é legal demais!\n",
            "Python é legal demais!\n",
            "Python é legal demais!\n",
            "Python é legal demais!\n",
            "Python é legal demais!\n",
            "Python é legal demais!\n",
            "Python é legal demais!\n",
            "Python é legal demais!\n",
            "Python é legal demais!\n",
            "Python é legal demais!\n",
            "Python é legal demais!\n",
            "Python é legal demais!\n",
            "Python é legal demais!\n",
            "Python é legal demais!\n",
            "Python é legal demais!\n",
            "Python é legal demais!\n",
            "Python é legal demais!\n",
            "Python é legal demais!\n",
            "Python é legal demais!\n",
            "Python é legal demais!\n",
            "Python é legal demais!\n",
            "Python é legal demais!\n",
            "Python é legal demais!\n",
            "Python é legal demais!\n",
            "Python é legal demais!\n",
            "Python é legal demais!\n",
            "Python é legal demais!\n",
            "Python é legal demais!\n",
            "Python é legal demais!\n",
            "Python é legal demais!\n",
            "Python é legal demais!\n",
            "Python é legal demais!\n",
            "Python é legal demais!\n",
            "Python é legal demais!\n",
            "Python é legal demais!\n",
            "Python é legal demais!\n",
            "Python é legal demais!\n",
            "Python é legal demais!\n",
            "Python é legal demais!\n",
            "Python é legal demais!\n",
            "Python é legal demais!\n",
            "Python é legal demais!\n",
            "Python é legal demais!\n",
            "Python é legal demais!\n",
            "Python é legal demais!\n",
            "Python é legal demais!\n",
            "Python é legal demais!\n",
            "Python é legal demais!\n",
            "Python é legal demais!\n",
            "Python é legal demais!\n",
            "Python é legal demais!\n",
            "Python é legal demais!\n",
            "Python é legal demais!\n",
            "Python é legal demais!\n",
            "Python é legal demais!\n",
            "Python é legal demais!\n",
            "Python é legal demais!\n",
            "Python é legal demais!\n",
            "Python é legal demais!\n",
            "Python é legal demais!\n",
            "Python é legal demais!\n",
            "Python é legal demais!\n",
            "Python é legal demais!\n",
            "Python é legal demais!\n",
            "Python é legal demais!\n",
            "Python é legal demais!\n",
            "Python é legal demais!\n",
            "Python é legal demais!\n",
            "Python é legal demais!\n",
            "Python é legal demais!\n",
            "Python é legal demais!\n",
            "Python é legal demais!\n",
            "Python é legal demais!\n",
            "Python é legal demais!\n",
            "Python é legal demais!\n",
            "Python é legal demais!\n",
            "Python é legal demais!\n",
            "Python é legal demais!\n",
            "Python é legal demais!\n",
            "Python é legal demais!\n",
            "Python é legal demais!\n",
            "Python é legal demais!\n",
            "Python é legal demais!\n",
            "Python é legal demais!\n",
            "Python é legal demais!\n",
            "Python é legal demais!\n",
            "Python é legal demais!\n",
            "Python é legal demais!\n",
            "Python é legal demais!\n",
            "Python é legal demais!\n",
            "Python é legal demais!\n",
            "Python é legal demais!\n",
            "Python é legal demais!\n",
            "Python é legal demais!\n",
            "Python é legal demais!\n",
            "Python é legal demais!\n",
            "Python é legal demais!\n",
            "Python é legal demais!\n",
            "Python é legal demais!\n",
            "Python é legal demais!\n",
            "Python é legal demais!\n",
            "Python é legal demais!\n",
            "Python é legal demais!\n",
            "Python é legal demais!\n",
            "Python é legal demais!\n",
            "Python é legal demais!\n",
            "Python é legal demais!\n",
            "Python é legal demais!\n",
            "Python é legal demais!\n",
            "Python é legal demais!\n",
            "Python é legal demais!\n",
            "Python é legal demais!\n",
            "Python é legal demais!\n",
            "Python é legal demais!\n",
            "Python é legal demais!\n",
            "Python é legal demais!\n",
            "Python é legal demais!\n",
            "Python é legal demais!\n",
            "Python é legal demais!\n",
            "Python é legal demais!\n",
            "Python é legal demais!\n",
            "Python é legal demais!\n",
            "Python é legal demais!\n",
            "Python é legal demais!\n",
            "Python é legal demais!\n",
            "Python é legal demais!\n",
            "Python é legal demais!\n",
            "Python é legal demais!\n",
            "Python é legal demais!\n",
            "Python é legal demais!\n",
            "Python é legal demais!\n",
            "Python é legal demais!\n",
            "Python é legal demais!\n",
            "Python é legal demais!\n",
            "Python é legal demais!\n",
            "Python é legal demais!\n",
            "Python é legal demais!\n",
            "Python é legal demais!\n",
            "Python é legal demais!\n",
            "Python é legal demais!\n",
            "Python é legal demais!\n",
            "Python é legal demais!\n",
            "Python é legal demais!\n",
            "Python é legal demais!\n",
            "Python é legal demais!\n",
            "Python é legal demais!\n",
            "Python é legal demais!\n",
            "Python é legal demais!\n",
            "Python é legal demais!\n",
            "Python é legal demais!\n",
            "Python é legal demais!\n",
            "Python é legal demais!\n",
            "Python é legal demais!\n",
            "Python é legal demais!\n",
            "Python é legal demais!\n",
            "Python é legal demais!\n",
            "Python é legal demais!\n",
            "Python é legal demais!\n",
            "Python é legal demais!\n",
            "Python é legal demais!\n",
            "Python é legal demais!\n",
            "Python é legal demais!\n",
            "Python é legal demais!\n",
            "Python é legal demais!\n",
            "Python é legal demais!\n",
            "Python é legal demais!\n",
            "Python é legal demais!\n",
            "Python é legal demais!\n",
            "Python é legal demais!\n",
            "Python é legal demais!\n",
            "Python é legal demais!\n",
            "Python é legal demais!\n",
            "Python é legal demais!\n",
            "Python é legal demais!\n",
            "Python é legal demais!\n",
            "Python é legal demais!\n",
            "Python é legal demais!\n",
            "Python é legal demais!\n",
            "Python é legal demais!\n",
            "Python é legal demais!\n",
            "Python é legal demais!\n",
            "Python é legal demais!\n",
            "Python é legal demais!\n",
            "Python é legal demais!\n",
            "Python é legal demais!\n",
            "Python é legal demais!\n",
            "Python é legal demais!\n",
            "Python é legal demais!\n",
            "Python é legal demais!\n",
            "Python é legal demais!\n",
            "Python é legal demais!\n",
            "Python é legal demais!\n",
            "Python é legal demais!\n",
            "Python é legal demais!\n",
            "Python é legal demais!\n",
            "Python é legal demais!\n",
            "Python é legal demais!\n",
            "Python é legal demais!\n",
            "Python é legal demais!\n",
            "Python é legal demais!\n",
            "Python é legal demais!\n",
            "Python é legal demais!\n",
            "Python é legal demais!\n",
            "Python é legal demais!\n",
            "Python é legal demais!\n",
            "Python é legal demais!\n",
            "Python é legal demais!\n",
            "Python é legal demais!\n",
            "Python é legal demais!\n",
            "Python é legal demais!\n",
            "Python é legal demais!\n",
            "Python é legal demais!\n",
            "Python é legal demais!\n",
            "Python é legal demais!\n",
            "Python é legal demais!\n",
            "Python é legal demais!\n",
            "Python é legal demais!\n",
            "Python é legal demais!\n",
            "Python é legal demais!\n",
            "Python é legal demais!\n",
            "Python é legal demais!\n",
            "Python é legal demais!\n",
            "Python é legal demais!\n",
            "Python é legal demais!\n",
            "Python é legal demais!\n",
            "Python é legal demais!\n",
            "Python é legal demais!\n",
            "Python é legal demais!\n",
            "Python é legal demais!\n",
            "Python é legal demais!\n",
            "Python é legal demais!\n",
            "Python é legal demais!\n",
            "Python é legal demais!\n",
            "Python é legal demais!\n",
            "Python é legal demais!\n",
            "Python é legal demais!\n",
            "Python é legal demais!\n",
            "Python é legal demais!\n",
            "Python é legal demais!\n",
            "Python é legal demais!\n",
            "Python é legal demais!\n",
            "Python é legal demais!\n",
            "Python é legal demais!\n",
            "Python é legal demais!\n",
            "Python é legal demais!\n",
            "Python é legal demais!\n",
            "Python é legal demais!\n",
            "Python é legal demais!\n",
            "Python é legal demais!\n",
            "Python é legal demais!\n",
            "Python é legal demais!\n",
            "Python é legal demais!\n",
            "Python é legal demais!\n",
            "Python é legal demais!\n",
            "Python é legal demais!\n",
            "Python é legal demais!\n",
            "Python é legal demais!\n",
            "Python é legal demais!\n",
            "Python é legal demais!\n",
            "Python é legal demais!\n",
            "Python é legal demais!\n",
            "Python é legal demais!\n",
            "Python é legal demais!\n",
            "Python é legal demais!\n",
            "Python é legal demais!\n",
            "Python é legal demais!\n",
            "Python é legal demais!\n",
            "Python é legal demais!\n",
            "Python é legal demais!\n",
            "Python é legal demais!\n",
            "Python é legal demais!\n",
            "Python é legal demais!\n",
            "Python é legal demais!\n",
            "Python é legal demais!\n",
            "Python é legal demais!\n",
            "Python é legal demais!\n",
            "Python é legal demais!\n",
            "Python é legal demais!\n",
            "Python é legal demais!\n",
            "Python é legal demais!\n",
            "Python é legal demais!\n",
            "Python é legal demais!\n",
            "Python é legal demais!\n",
            "Python é legal demais!\n",
            "Python é legal demais!\n",
            "Python é legal demais!\n",
            "Python é legal demais!\n",
            "Python é legal demais!\n",
            "Python é legal demais!\n",
            "Python é legal demais!\n",
            "Python é legal demais!\n",
            "Python é legal demais!\n",
            "Python é legal demais!\n",
            "Python é legal demais!\n",
            "Python é legal demais!\n",
            "Python é legal demais!\n",
            "Python é legal demais!\n",
            "Python é legal demais!\n",
            "Python é legal demais!\n",
            "Python é legal demais!\n",
            "Python é legal demais!\n",
            "Python é legal demais!\n",
            "Python é legal demais!\n",
            "Python é legal demais!\n",
            "Python é legal demais!\n",
            "Python é legal demais!\n",
            "Python é legal demais!\n",
            "Python é legal demais!\n",
            "Python é legal demais!\n",
            "Python é legal demais!\n",
            "Python é legal demais!\n",
            "Python é legal demais!\n",
            "Python é legal demais!\n",
            "Python é legal demais!\n",
            "Python é legal demais!\n",
            "Python é legal demais!\n",
            "Python é legal demais!\n",
            "Python é legal demais!\n",
            "Python é legal demais!\n",
            "Python é legal demais!\n",
            "Python é legal demais!\n",
            "Python é legal demais!\n",
            "Python é legal demais!\n",
            "Python é legal demais!\n",
            "Python é legal demais!\n",
            "Python é legal demais!\n",
            "Python é legal demais!\n",
            "Python é legal demais!\n",
            "Python é legal demais!\n",
            "Python é legal demais!\n",
            "Python é legal demais!\n",
            "Python é legal demais!\n",
            "Python é legal demais!\n",
            "Python é legal demais!\n",
            "Python é legal demais!\n",
            "Python é legal demais!\n",
            "Python é legal demais!\n",
            "Python é legal demais!\n",
            "Python é legal demais!\n",
            "Python é legal demais!\n",
            "Python é legal demais!\n",
            "Python é legal demais!\n",
            "Python é legal demais!\n",
            "Python é legal demais!\n",
            "Python é legal demais!\n",
            "Python é legal demais!\n",
            "Python é legal demais!\n",
            "Python é legal demais!\n",
            "Python é legal demais!\n",
            "Python é legal demais!\n",
            "Python é legal demais!\n",
            "Python é legal demais!\n",
            "Python é legal demais!\n",
            "Python é legal demais!\n",
            "Python é legal demais!\n",
            "Python é legal demais!\n",
            "Python é legal demais!\n",
            "Python é legal demais!\n",
            "Python é legal demais!\n",
            "Python é legal demais!\n",
            "Python é legal demais!\n",
            "Python é legal demais!\n",
            "Python é legal demais!\n",
            "Python é legal demais!\n",
            "Python é legal demais!\n",
            "Python é legal demais!\n",
            "Python é legal demais!\n",
            "Python é legal demais!\n",
            "Python é legal demais!\n",
            "Python é legal demais!\n",
            "Python é legal demais!\n",
            "Python é legal demais!\n",
            "Python é legal demais!\n",
            "Python é legal demais!\n",
            "Python é legal demais!\n",
            "Python é legal demais!\n",
            "Python é legal demais!\n",
            "Python é legal demais!\n",
            "Python é legal demais!\n",
            "Python é legal demais!\n",
            "Python é legal demais!\n",
            "Python é legal demais!\n",
            "Python é legal demais!\n",
            "Python é legal demais!\n",
            "Python é legal demais!\n",
            "Python é legal demais!\n",
            "Python é legal demais!\n",
            "Python é legal demais!\n",
            "Python é legal demais!\n",
            "Python é legal demais!\n",
            "Python é legal demais!\n",
            "Python é legal demais!\n",
            "Python é legal demais!\n",
            "Python é legal demais!\n",
            "Python é legal demais!\n",
            "Python é legal demais!\n",
            "Python é legal demais!\n",
            "Python é legal demais!\n",
            "Python é legal demais!\n",
            "Python é legal demais!\n",
            "Python é legal demais!\n",
            "Python é legal demais!\n",
            "Python é legal demais!\n",
            "Python é legal demais!\n",
            "Python é legal demais!\n",
            "Python é legal demais!\n",
            "Python é legal demais!\n",
            "Python é legal demais!\n",
            "Python é legal demais!\n",
            "Python é legal demais!\n",
            "Python é legal demais!\n",
            "Python é legal demais!\n",
            "Python é legal demais!\n",
            "Python é legal demais!\n",
            "Python é legal demais!\n",
            "Python é legal demais!\n",
            "Python é legal demais!\n",
            "Python é legal demais!\n",
            "Python é legal demais!\n",
            "Python é legal demais!\n",
            "Python é legal demais!\n",
            "Python é legal demais!\n",
            "Python é legal demais!\n",
            "Python é legal demais!\n",
            "Python é legal demais!\n",
            "Python é legal demais!\n",
            "Python é legal demais!\n",
            "Python é legal demais!\n",
            "Python é legal demais!\n",
            "Python é legal demais!\n",
            "Python é legal demais!\n",
            "Python é legal demais!\n",
            "Python é legal demais!\n",
            "Python é legal demais!\n",
            "Python é legal demais!\n",
            "Python é legal demais!\n",
            "Python é legal demais!\n",
            "Python é legal demais!\n",
            "Python é legal demais!\n",
            "Python é legal demais!\n",
            "Python é legal demais!\n",
            "Python é legal demais!\n",
            "Python é legal demais!\n",
            "Python é legal demais!\n",
            "Python é legal demais!\n",
            "Python é legal demais!\n",
            "Python é legal demais!\n",
            "Python é legal demais!\n",
            "Python é legal demais!\n",
            "Python é legal demais!\n",
            "Python é legal demais!\n",
            "Python é legal demais!\n",
            "Python é legal demais!\n",
            "Python é legal demais!\n",
            "Python é legal demais!\n",
            "Python é legal demais!\n",
            "Python é legal demais!\n",
            "Python é legal demais!\n",
            "Python é legal demais!\n",
            "Python é legal demais!\n",
            "Python é legal demais!\n",
            "Python é legal demais!\n",
            "Python é legal demais!\n",
            "Python é legal demais!\n",
            "Python é legal demais!\n",
            "Python é legal demais!\n",
            "Python é legal demais!\n",
            "Python é legal demais!\n",
            "Python é legal demais!\n",
            "Python é legal demais!\n",
            "Python é legal demais!\n",
            "Python é legal demais!\n",
            "Python é legal demais!\n",
            "Python é legal demais!\n",
            "Python é legal demais!\n",
            "Python é legal demais!\n",
            "Python é legal demais!\n",
            "Python é legal demais!\n",
            "Python é legal demais!\n",
            "Python é legal demais!\n",
            "Python é legal demais!\n",
            "Python é legal demais!\n",
            "Python é legal demais!\n",
            "Python é legal demais!\n",
            "Python é legal demais!\n",
            "Python é legal demais!\n",
            "Python é legal demais!\n",
            "Python é legal demais!\n",
            "Python é legal demais!\n",
            "Python é legal demais!\n",
            "Python é legal demais!\n",
            "Python é legal demais!\n",
            "Python é legal demais!\n",
            "Python é legal demais!\n",
            "Python é legal demais!\n",
            "Python é legal demais!\n",
            "Python é legal demais!\n",
            "Python é legal demais!\n",
            "Python é legal demais!\n",
            "Python é legal demais!\n",
            "Python é legal demais!\n",
            "Python é legal demais!\n",
            "Python é legal demais!\n",
            "Python é legal demais!\n",
            "Python é legal demais!\n",
            "Python é legal demais!\n",
            "Python é legal demais!\n",
            "Python é legal demais!\n",
            "Python é legal demais!\n",
            "Python é legal demais!\n",
            "Python é legal demais!\n",
            "Python é legal demais!\n",
            "Python é legal demais!\n",
            "Python é legal demais!\n",
            "Python é legal demais!\n",
            "Python é legal demais!\n",
            "Python é legal demais!\n",
            "Python é legal demais!\n",
            "Python é legal demais!\n",
            "Python é legal demais!\n",
            "Python é legal demais!\n",
            "Python é legal demais!\n",
            "Python é legal demais!\n",
            "Python é legal demais!\n",
            "Python é legal demais!\n",
            "Python é legal demais!\n",
            "Python é legal demais!\n",
            "Python é legal demais!\n",
            "Python é legal demais!\n",
            "Python é legal demais!\n",
            "Python é legal demais!\n",
            "Python é legal demais!\n",
            "Python é legal demais!\n",
            "Python é legal demais!\n",
            "Python é legal demais!\n",
            "Python é legal demais!\n",
            "Python é legal demais!\n",
            "Python é legal demais!\n",
            "Python é legal demais!\n",
            "Python é legal demais!\n",
            "Python é legal demais!\n",
            "Python é legal demais!\n",
            "Python é legal demais!\n",
            "Python é legal demais!\n",
            "Python é legal demais!\n",
            "Python é legal demais!\n",
            "Python é legal demais!\n",
            "Python é legal demais!\n",
            "Python é legal demais!\n",
            "Python é legal demais!\n",
            "Python é legal demais!\n",
            "Python é legal demais!\n",
            "Python é legal demais!\n",
            "Python é legal demais!\n",
            "Python é legal demais!\n",
            "Python é legal demais!\n",
            "Python é legal demais!\n",
            "Python é legal demais!\n",
            "Python é legal demais!\n",
            "Python é legal demais!\n",
            "Python é legal demais!\n",
            "Python é legal demais!\n",
            "Python é legal demais!\n",
            "Python é legal demais!\n",
            "Python é legal demais!\n",
            "Python é legal demais!\n",
            "Python é legal demais!\n",
            "Python é legal demais!\n",
            "Python é legal demais!\n",
            "Python é legal demais!\n",
            "Python é legal demais!\n",
            "Python é legal demais!\n",
            "Python é legal demais!\n",
            "Python é legal demais!\n",
            "Python é legal demais!\n",
            "Python é legal demais!\n",
            "Python é legal demais!\n",
            "Python é legal demais!\n",
            "Python é legal demais!\n",
            "Python é legal demais!\n",
            "Python é legal demais!\n",
            "Python é legal demais!\n",
            "Python é legal demais!\n",
            "Python é legal demais!\n",
            "Python é legal demais!\n",
            "Python é legal demais!\n",
            "Python é legal demais!\n",
            "Python é legal demais!\n",
            "Python é legal demais!\n",
            "Python é legal demais!\n",
            "Python é legal demais!\n",
            "Python é legal demais!\n",
            "Python é legal demais!\n",
            "Python é legal demais!\n",
            "Python é legal demais!\n",
            "Python é legal demais!\n",
            "Python é legal demais!\n",
            "Python é legal demais!\n",
            "Python é legal demais!\n",
            "Python é legal demais!\n",
            "Python é legal demais!\n",
            "Python é legal demais!\n",
            "Python é legal demais!\n",
            "Python é legal demais!\n",
            "Python é legal demais!\n",
            "Python é legal demais!\n",
            "Python é legal demais!\n",
            "Python é legal demais!\n",
            "Python é legal demais!\n",
            "Python é legal demais!\n",
            "Python é legal demais!\n",
            "Python é legal demais!\n",
            "Python é legal demais!\n",
            "Python é legal demais!\n",
            "Python é legal demais!\n",
            "Python é legal demais!\n",
            "Python é legal demais!\n",
            "Python é legal demais!\n",
            "Python é legal demais!\n",
            "Python é legal demais!\n",
            "Python é legal demais!\n",
            "Python é legal demais!\n",
            "Python é legal demais!\n",
            "Python é legal demais!\n",
            "Python é legal demais!\n",
            "Python é legal demais!\n",
            "Python é legal demais!\n",
            "Python é legal demais!\n",
            "Python é legal demais!\n",
            "Python é legal demais!\n",
            "Python é legal demais!\n",
            "Python é legal demais!\n",
            "Python é legal demais!\n",
            "Python é legal demais!\n",
            "Python é legal demais!\n",
            "Python é legal demais!\n",
            "Python é legal demais!\n",
            "Python é legal demais!\n",
            "Python é legal demais!\n",
            "Python é legal demais!\n",
            "Python é legal demais!\n",
            "Python é legal demais!\n",
            "Python é legal demais!\n",
            "Python é legal demais!\n",
            "Python é legal demais!\n",
            "Python é legal demais!\n",
            "Python é legal demais!\n",
            "Python é legal demais!\n",
            "Python é legal demais!\n",
            "Python é legal demais!\n",
            "Python é legal demais!\n",
            "Python é legal demais!\n",
            "Python é legal demais!\n",
            "Python é legal demais!\n",
            "Python é legal demais!\n",
            "Python é legal demais!\n",
            "Python é legal demais!\n",
            "Python é legal demais!\n",
            "Python é legal demais!\n",
            "Python é legal demais!\n",
            "Python é legal demais!\n",
            "Python é legal demais!\n",
            "Python é legal demais!\n",
            "Python é legal demais!\n",
            "Python é legal demais!\n",
            "Python é legal demais!\n",
            "Python é legal demais!\n",
            "Python é legal demais!\n",
            "Python é legal demais!\n",
            "Python é legal demais!\n",
            "Python é legal demais!\n",
            "Python é legal demais!\n",
            "Python é legal demais!\n",
            "Python é legal demais!\n",
            "Python é legal demais!\n",
            "Python é legal demais!\n",
            "Python é legal demais!\n",
            "Python é legal demais!\n",
            "Python é legal demais!\n",
            "Python é legal demais!\n",
            "Python é legal demais!\n",
            "Python é legal demais!\n",
            "Python é legal demais!\n",
            "Python é legal demais!\n",
            "Python é legal demais!\n",
            "Python é legal demais!\n",
            "Python é legal demais!\n",
            "Python é legal demais!\n",
            "Python é legal demais!\n",
            "Python é legal demais!\n",
            "Python é legal demais!\n",
            "Python é legal demais!\n",
            "Python é legal demais!\n",
            "Python é legal demais!\n",
            "Python é legal demais!\n",
            "Python é legal demais!\n",
            "Python é legal demais!\n",
            "Python é legal demais!\n",
            "Python é legal demais!\n",
            "Python é legal demais!\n",
            "Python é legal demais!\n",
            "Python é legal demais!\n",
            "Python é legal demais!\n",
            "Python é legal demais!\n",
            "Python é legal demais!\n",
            "Python é legal demais!\n",
            "Python é legal demais!\n",
            "Python é legal demais!\n",
            "Python é legal demais!\n",
            "Python é legal demais!\n",
            "Python é legal demais!\n",
            "Python é legal demais!\n",
            "Python é legal demais!\n",
            "Python é legal demais!\n",
            "Python é legal demais!\n",
            "Python é legal demais!\n",
            "Python é legal demais!\n",
            "Python é legal demais!\n",
            "Python é legal demais!\n",
            "Python é legal demais!\n",
            "Python é legal demais!\n",
            "Python é legal demais!\n",
            "Python é legal demais!\n",
            "Python é legal demais!\n",
            "Python é legal demais!\n",
            "Python é legal demais!\n",
            "Python é legal demais!\n",
            "Python é legal demais!\n",
            "Python é legal demais!\n",
            "Python é legal demais!\n",
            "Python é legal demais!\n",
            "Python é legal demais!\n",
            "Python é legal demais!\n",
            "Python é legal demais!\n",
            "Python é legal demais!\n",
            "Python é legal demais!\n",
            "Python é legal demais!\n",
            "Python é legal demais!\n",
            "Python é legal demais!\n",
            "Python é legal demais!\n",
            "Python é legal demais!\n",
            "Python é legal demais!\n",
            "Python é legal demais!\n",
            "Python é legal demais!\n",
            "Python é legal demais!\n",
            "Python é legal demais!\n",
            "Python é legal demais!\n",
            "Python é legal demais!\n",
            "Python é legal demais!\n",
            "Python é legal demais!\n",
            "Python é legal demais!\n",
            "Python é legal demais!\n",
            "Python é legal demais!\n",
            "Python é legal demais!\n",
            "Python é legal demais!\n",
            "Python é legal demais!\n",
            "Python é legal demais!\n",
            "Python é legal demais!\n",
            "Python é legal demais!\n",
            "Python é legal demais!\n",
            "Python é legal demais!\n",
            "Python é legal demais!\n",
            "Python é legal demais!\n",
            "Python é legal demais!\n",
            "Python é legal demais!\n",
            "Python é legal demais!\n",
            "Python é legal demais!\n",
            "Python é legal demais!\n",
            "Python é legal demais!\n",
            "Python é legal demais!\n",
            "Python é legal demais!\n",
            "Python é legal demais!\n",
            "Python é legal demais!\n",
            "Python é legal demais!\n",
            "Python é legal demais!\n",
            "Python é legal demais!\n",
            "Python é legal demais!\n",
            "Python é legal demais!\n",
            "Python é legal demais!\n",
            "Python é legal demais!\n",
            "Python é legal demais!\n",
            "Python é legal demais!\n",
            "Python é legal demais!\n",
            "Python é legal demais!\n",
            "Python é legal demais!\n",
            "Python é legal demais!\n",
            "Python é legal demais!\n",
            "Python é legal demais!\n",
            "Python é legal demais!\n",
            "Python é legal demais!\n",
            "Python é legal demais!\n",
            "Python é legal demais!\n",
            "Python é legal demais!\n",
            "Python é legal demais!\n",
            "Python é legal demais!\n",
            "Python é legal demais!\n",
            "Python é legal demais!\n",
            "Python é legal demais!\n",
            "Python é legal demais!\n",
            "Python é legal demais!\n",
            "Python é legal demais!\n",
            "Python é legal demais!\n",
            "Python é legal demais!\n",
            "Python é legal demais!\n",
            "Python é legal demais!\n",
            "Python é legal demais!\n",
            "Python é legal demais!\n",
            "Python é legal demais!\n",
            "Python é legal demais!\n",
            "Python é legal demais!\n",
            "Python é legal demais!\n",
            "Python é legal demais!\n",
            "Python é legal demais!\n",
            "Python é legal demais!\n",
            "Python é legal demais!\n",
            "Python é legal demais!\n",
            "Python é legal demais!\n",
            "Python é legal demais!\n",
            "Python é legal demais!\n",
            "Python é legal demais!\n",
            "Python é legal demais!\n",
            "Python é legal demais!\n",
            "Python é legal demais!\n",
            "Python é legal demais!\n",
            "Python é legal demais!\n",
            "Python é legal demais!\n",
            "Python é legal demais!\n",
            "Python é legal demais!\n",
            "Python é legal demais!\n",
            "Python é legal demais!\n",
            "Python é legal demais!\n",
            "Python é legal demais!\n",
            "Python é legal demais!\n",
            "Python é legal demais!\n",
            "Python é legal demais!\n",
            "Python é legal demais!\n",
            "Python é legal demais!\n",
            "Python é legal demais!\n",
            "Python é legal demais!\n",
            "Python é legal demais!\n",
            "Python é legal demais!\n",
            "Python é legal demais!\n",
            "Python é legal demais!\n",
            "Python é legal demais!\n",
            "Python é legal demais!\n",
            "Python é legal demais!\n",
            "Python é legal demais!\n",
            "Python é legal demais!\n",
            "Python é legal demais!\n",
            "Python é legal demais!\n",
            "Python é legal demais!\n",
            "Python é legal demais!\n",
            "Python é legal demais!\n",
            "Python é legal demais!\n",
            "Python é legal demais!\n",
            "Python é legal demais!\n",
            "Python é legal demais!\n",
            "Python é legal demais!\n",
            "Python é legal demais!\n",
            "Python é legal demais!\n",
            "Python é legal demais!\n",
            "Python é legal demais!\n",
            "Python é legal demais!\n",
            "Python é legal demais!\n",
            "Python é legal demais!\n",
            "Python é legal demais!\n",
            "Python é legal demais!\n",
            "Python é legal demais!\n",
            "Python é legal demais!\n",
            "Python é legal demais!\n",
            "Python é legal demais!\n",
            "Python é legal demais!\n",
            "Python é legal demais!\n",
            "Python é legal demais!\n",
            "Python é legal demais!\n",
            "Python é legal demais!\n",
            "Python é legal demais!\n",
            "Python é legal demais!\n",
            "Python é legal demais!\n",
            "Python é legal demais!\n",
            "Python é legal demais!\n",
            "Python é legal demais!\n",
            "Python é legal demais!\n",
            "Python é legal demais!\n",
            "Python é legal demais!\n",
            "Python é legal demais!\n",
            "Python é legal demais!\n",
            "Python é legal demais!\n",
            "Python é legal demais!\n",
            "Python é legal demais!\n",
            "Python é legal demais!\n",
            "Python é legal demais!\n",
            "Python é legal demais!\n",
            "Python é legal demais!\n",
            "Python é legal demais!\n",
            "Python é legal demais!\n",
            "Python é legal demais!\n",
            "Python é legal demais!\n",
            "Python é legal demais!\n",
            "Python é legal demais!\n",
            "Python é legal demais!\n",
            "Python é legal demais!\n",
            "Python é legal demais!\n",
            "Python é legal demais!\n",
            "Python é legal demais!\n",
            "Python é legal demais!\n",
            "Python é legal demais!\n",
            "Python é legal demais!\n",
            "Python é legal demais!\n",
            "Python é legal demais!\n",
            "Python é legal demais!\n",
            "Python é legal demais!\n",
            "Python é legal demais!\n",
            "Python é legal demais!\n",
            "Python é legal demais!\n",
            "Python é legal demais!\n",
            "Python é legal demais!\n",
            "Python é legal demais!\n",
            "Python é legal demais!\n",
            "Python é legal demais!\n",
            "Python é legal demais!\n",
            "Python é legal demais!\n",
            "Python é legal demais!\n",
            "Python é legal demais!\n",
            "Python é legal demais!\n",
            "Python é legal demais!\n",
            "Python é legal demais!\n",
            "Python é legal demais!\n",
            "Python é legal demais!\n",
            "Python é legal demais!\n",
            "Python é legal demais!\n",
            "Python é legal demais!\n",
            "Python é legal demais!\n",
            "Python é legal demais!\n",
            "Python é legal demais!\n",
            "Python é legal demais!\n",
            "Python é legal demais!\n",
            "Python é legal demais!\n",
            "Python é legal demais!\n",
            "Python é legal demais!\n",
            "Python é legal demais!\n",
            "Python é legal demais!\n",
            "Python é legal demais!\n",
            "Python é legal demais!\n",
            "Python é legal demais!\n",
            "Python é legal demais!\n",
            "Python é legal demais!\n",
            "Python é legal demais!\n",
            "Python é legal demais!\n",
            "Python é legal demais!\n",
            "Python é legal demais!\n",
            "Python é legal demais!\n",
            "Python é legal demais!\n",
            "Python é legal demais!\n",
            "Python é legal demais!\n",
            "Python é legal demais!\n",
            "Python é legal demais!\n",
            "Python é legal demais!\n",
            "Python é legal demais!\n",
            "Python é legal demais!\n",
            "Python é legal demais!\n",
            "Python é legal demais!\n",
            "Python é legal demais!\n",
            "Python é legal demais!\n",
            "Python é legal demais!\n",
            "Python é legal demais!\n",
            "Python é legal demais!\n",
            "Python é legal demais!\n",
            "Python é legal demais!\n",
            "Python é legal demais!\n",
            "Python é legal demais!\n",
            "Python é legal demais!\n",
            "Python é legal demais!\n",
            "Python é legal demais!\n",
            "Python é legal demais!\n",
            "Python é legal demais!\n",
            "Python é legal demais!\n",
            "Python é legal demais!\n",
            "Python é legal demais!\n",
            "Python é legal demais!\n",
            "Python é legal demais!\n",
            "Python é legal demais!\n",
            "Python é legal demais!\n",
            "Python é legal demais!\n",
            "Python é legal demais!\n",
            "Python é legal demais!\n",
            "Python é legal demais!\n",
            "Python é legal demais!\n",
            "Python é legal demais!\n",
            "Python é legal demais!\n",
            "Python é legal demais!\n",
            "Python é legal demais!\n",
            "Python é legal demais!\n",
            "Python é legal demais!\n",
            "Python é legal demais!\n",
            "Python é legal demais!\n",
            "Python é legal demais!\n",
            "Python é legal demais!\n",
            "Python é legal demais!\n",
            "Python é legal demais!\n",
            "Python é legal demais!\n",
            "Python é legal demais!\n",
            "Python é legal demais!\n",
            "Python é legal demais!\n",
            "Python é legal demais!\n",
            "Python é legal demais!\n",
            "Python é legal demais!\n",
            "Python é legal demais!\n",
            "Python é legal demais!\n",
            "Python é legal demais!\n",
            "Python é legal demais!\n",
            "Python é legal demais!\n",
            "Python é legal demais!\n",
            "Python é legal demais!\n",
            "Python é legal demais!\n",
            "Python é legal demais!\n",
            "Python é legal demais!\n",
            "Python é legal demais!\n",
            "Python é legal demais!\n",
            "Python é legal demais!\n",
            "Python é legal demais!\n",
            "Python é legal demais!\n",
            "Python é legal demais!\n",
            "Python é legal demais!\n",
            "Python é legal demais!\n",
            "Python é legal demais!\n",
            "Python é legal demais!\n",
            "Python é legal demais!\n",
            "Python é legal demais!\n",
            "Python é legal demais!\n",
            "Python é legal demais!\n",
            "Python é legal demais!\n",
            "Python é legal demais!\n",
            "Python é legal demais!\n",
            "Python é legal demais!\n",
            "Python é legal demais!\n",
            "Python é legal demais!\n",
            "Python é legal demais!\n",
            "Python é legal demais!\n",
            "Python é legal demais!\n",
            "Python é legal demais!\n",
            "Python é legal demais!\n",
            "Python é legal demais!\n",
            "Python é legal demais!\n",
            "Python é legal demais!\n",
            "Python é legal demais!\n",
            "Python é legal demais!\n",
            "Python é legal demais!\n",
            "Python é legal demais!\n",
            "Python é legal demais!\n",
            "Python é legal demais!\n",
            "Python é legal demais!\n",
            "Python é legal demais!\n",
            "Python é legal demais!\n",
            "Python é legal demais!\n",
            "Python é legal demais!\n",
            "Python é legal demais!\n",
            "Python é legal demais!\n",
            "Python é legal demais!\n",
            "Python é legal demais!\n",
            "Python é legal demais!\n",
            "Python é legal demais!\n",
            "Python é legal demais!\n",
            "Python é legal demais!\n",
            "Python é legal demais!\n",
            "Python é legal demais!\n",
            "Python é legal demais!\n",
            "Python é legal demais!\n",
            "Python é legal demais!\n",
            "Python é legal demais!\n",
            "Python é legal demais!\n",
            "Python é legal demais!\n",
            "Python é legal demais!\n",
            "Python é legal demais!\n",
            "Python é legal demais!\n",
            "Python é legal demais!\n",
            "Python é legal demais!\n",
            "Python é legal demais!\n",
            "Python é legal demais!\n",
            "Python é legal demais!\n",
            "Python é legal demais!\n",
            "Python é legal demais!\n",
            "Python é legal demais!\n",
            "Python é legal demais!\n",
            "Python é legal demais!\n",
            "Python é legal demais!\n",
            "Python é legal demais!\n",
            "Python é legal demais!\n",
            "Python é legal demais!\n",
            "Python é legal demais!\n",
            "Python é legal demais!\n",
            "Python é legal demais!\n",
            "Python é legal demais!\n",
            "Python é legal demais!\n",
            "Python é legal demais!\n",
            "Python é legal demais!\n",
            "Python é legal demais!\n",
            "Python é legal demais!\n",
            "Python é legal demais!\n",
            "Python é legal demais!\n",
            "Python é legal demais!\n",
            "Python é legal demais!\n",
            "Python é legal demais!\n",
            "Python é legal demais!\n",
            "Python é legal demais!\n",
            "Python é legal demais!\n",
            "Python é legal demais!\n",
            "Python é legal demais!\n",
            "Python é legal demais!\n",
            "Python é legal demais!\n",
            "Python é legal demais!\n",
            "Python é legal demais!\n",
            "Python é legal demais!\n",
            "Python é legal demais!\n",
            "Python é legal demais!\n",
            "Python é legal demais!\n",
            "Python é legal demais!\n",
            "Python é legal demais!\n",
            "Python é legal demais!\n",
            "Python é legal demais!\n",
            "Python é legal demais!\n",
            "Python é legal demais!\n",
            "Python é legal demais!\n",
            "Python é legal demais!\n",
            "Python é legal demais!\n",
            "Python é legal demais!\n",
            "Python é legal demais!\n",
            "Python é legal demais!\n",
            "Python é legal demais!\n",
            "Python é legal demais!\n",
            "Python é legal demais!\n",
            "Python é legal demais!\n",
            "Python é legal demais!\n",
            "Python é legal demais!\n",
            "Python é legal demais!\n",
            "Python é legal demais!\n",
            "Python é legal demais!\n",
            "Python é legal demais!\n",
            "Python é legal demais!\n",
            "Python é legal demais!\n",
            "Python é legal demais!\n",
            "Python é legal demais!\n",
            "Python é legal demais!\n",
            "Python é legal demais!\n",
            "Python é legal demais!\n",
            "Python é legal demais!\n",
            "Python é legal demais!\n",
            "Python é legal demais!\n",
            "Python é legal demais!\n",
            "Python é legal demais!\n",
            "Python é legal demais!\n",
            "Python é legal demais!\n",
            "Python é legal demais!\n",
            "Python é legal demais!\n",
            "Python é legal demais!\n",
            "Python é legal demais!\n",
            "Python é legal demais!\n",
            "Python é legal demais!\n",
            "Python é legal demais!\n",
            "Python é legal demais!\n",
            "Python é legal demais!\n",
            "Python é legal demais!\n",
            "Python é legal demais!\n",
            "Python é legal demais!\n",
            "Python é legal demais!\n",
            "Python é legal demais!\n",
            "Python é legal demais!\n",
            "Python é legal demais!\n",
            "Python é legal demais!\n",
            "Python é legal demais!\n",
            "Python é legal demais!\n",
            "Python é legal demais!\n",
            "Python é legal demais!\n",
            "Python é legal demais!\n",
            "Python é legal demais!\n",
            "Python é legal demais!\n",
            "Python é legal demais!\n",
            "Python é legal demais!\n",
            "Python é legal demais!\n",
            "Python é legal demais!\n",
            "Python é legal demais!\n",
            "Python é legal demais!\n",
            "Python é legal demais!\n",
            "Python é legal demais!\n",
            "Python é legal demais!\n",
            "Python é legal demais!\n",
            "Python é legal demais!\n",
            "Python é legal demais!\n",
            "Python é legal demais!\n",
            "Python é legal demais!\n",
            "Python é legal demais!\n",
            "Python é legal demais!\n",
            "Python é legal demais!\n",
            "Python é legal demais!\n",
            "Python é legal demais!\n",
            "Python é legal demais!\n",
            "Python é legal demais!\n",
            "Python é legal demais!\n",
            "Python é legal demais!\n",
            "Python é legal demais!\n",
            "Python é legal demais!\n",
            "Python é legal demais!\n",
            "Python é legal demais!\n",
            "Python é legal demais!\n",
            "Python é legal demais!\n",
            "Python é legal demais!\n",
            "Python é legal demais!\n",
            "Python é legal demais!\n",
            "Python é legal demais!\n",
            "Python é legal demais!\n",
            "Python é legal demais!\n",
            "Python é legal demais!\n",
            "Python é legal demais!\n",
            "Python é legal demais!\n",
            "Python é legal demais!\n",
            "Python é legal demais!\n",
            "Python é legal demais!\n",
            "Python é legal demais!\n",
            "Python é legal demais!\n",
            "Python é legal demais!\n",
            "Python é legal demais!\n",
            "Python é legal demais!\n",
            "Python é legal demais!\n",
            "Python é legal demais!\n",
            "Python é legal demais!\n",
            "Python é legal demais!\n",
            "Python é legal demais!\n",
            "Python é legal demais!\n",
            "Python é legal demais!\n",
            "Python é legal demais!\n",
            "Python é legal demais!\n",
            "Python é legal demais!\n",
            "Python é legal demais!\n",
            "Python é legal demais!\n",
            "Python é legal demais!\n",
            "Python é legal demais!\n",
            "Python é legal demais!\n",
            "Python é legal demais!\n",
            "Python é legal demais!\n",
            "Python é legal demais!\n",
            "Python é legal demais!\n",
            "Python é legal demais!\n",
            "Python é legal demais!\n",
            "Python é legal demais!\n",
            "Python é legal demais!\n",
            "Python é legal demais!\n",
            "Python é legal demais!\n",
            "Python é legal demais!\n",
            "Python é legal demais!\n",
            "Python é legal demais!\n",
            "Python é legal demais!\n",
            "Python é legal demais!\n",
            "Python é legal demais!\n",
            "Python é legal demais!\n",
            "Python é legal demais!\n",
            "Python é legal demais!\n",
            "Python é legal demais!\n",
            "Python é legal demais!\n",
            "Python é legal demais!\n",
            "Python é legal demais!\n",
            "Python é legal demais!\n",
            "Python é legal demais!\n",
            "Python é legal demais!\n",
            "Python é legal demais!\n",
            "Python é legal demais!\n",
            "Python é legal demais!\n",
            "Python é legal demais!\n",
            "Python é legal demais!\n",
            "Python é legal demais!\n",
            "Python é legal demais!\n",
            "Python é legal demais!\n",
            "Python é legal demais!\n",
            "Python é legal demais!\n",
            "Python é legal demais!\n",
            "Python é legal demais!\n",
            "Python é legal demais!\n",
            "Python é legal demais!\n",
            "Python é legal demais!\n",
            "Python é legal demais!\n",
            "Python é legal demais!\n",
            "Python é legal demais!\n",
            "Python é legal demais!\n",
            "Python é legal demais!\n",
            "Python é legal demais!\n",
            "Python é legal demais!\n",
            "Python é legal demais!\n",
            "Python é legal demais!\n",
            "Python é legal demais!\n",
            "Python é legal demais!\n",
            "Python é legal demais!\n",
            "Python é legal demais!\n",
            "Python é legal demais!\n",
            "Python é legal demais!\n",
            "Python é legal demais!\n",
            "Python é legal demais!\n",
            "Python é legal demais!\n",
            "Python é legal demais!\n",
            "Python é legal demais!\n",
            "Python é legal demais!\n",
            "Python é legal demais!\n",
            "Python é legal demais!\n",
            "Python é legal demais!\n",
            "Python é legal demais!\n",
            "Python é legal demais!\n",
            "Python é legal demais!\n",
            "Python é legal demais!\n",
            "Python é legal demais!\n",
            "Python é legal demais!\n",
            "Python é legal demais!\n",
            "Python é legal demais!\n",
            "Python é legal demais!\n",
            "Python é legal demais!\n",
            "Python é legal demais!\n",
            "Python é legal demais!\n",
            "Python é legal demais!\n",
            "Python é legal demais!\n",
            "Python é legal demais!\n",
            "Python é legal demais!\n",
            "Python é legal demais!\n",
            "Python é legal demais!\n",
            "Python é legal demais!\n",
            "Python é legal demais!\n",
            "Python é legal demais!\n",
            "Python é legal demais!\n",
            "Python é legal demais!\n",
            "Python é legal demais!\n",
            "Python é legal demais!\n",
            "Python é legal demais!\n",
            "Python é legal demais!\n",
            "Python é legal demais!\n",
            "Python é legal demais!\n",
            "Python é legal demais!\n",
            "Python é legal demais!\n",
            "Python é legal demais!\n",
            "Python é legal demais!\n",
            "Python é legal demais!\n",
            "Python é legal demais!\n",
            "Python é legal demais!\n",
            "Python é legal demais!\n",
            "Python é legal demais!\n",
            "Python é legal demais!\n",
            "Python é legal demais!\n",
            "Python é legal demais!\n",
            "Python é legal demais!\n",
            "Python é legal demais!\n",
            "Python é legal demais!\n",
            "Python é legal demais!\n",
            "Python é legal demais!\n",
            "Python é legal demais!\n",
            "Python é legal demais!\n",
            "Python é legal demais!\n",
            "Python é legal demais!\n",
            "Python é legal demais!\n",
            "Python é legal demais!\n",
            "Python é legal demais!\n",
            "Python é legal demais!\n",
            "Python é legal demais!\n",
            "Python é legal demais!\n",
            "Python é legal demais!\n",
            "Python é legal demais!\n",
            "Python é legal demais!\n",
            "Python é legal demais!\n",
            "Python é legal demais!\n",
            "Python é legal demais!\n",
            "Python é legal demais!\n",
            "Python é legal demais!\n",
            "Python é legal demais!\n",
            "Python é legal demais!\n",
            "Python é legal demais!\n",
            "Python é legal demais!\n",
            "Python é legal demais!\n",
            "Python é legal demais!\n",
            "Python é legal demais!\n",
            "Python é legal demais!\n",
            "Python é legal demais!\n",
            "Python é legal demais!\n",
            "Python é legal demais!\n",
            "Python é legal demais!\n",
            "Python é legal demais!\n",
            "Python é legal demais!\n",
            "Python é legal demais!\n",
            "Python é legal demais!\n",
            "Python é legal demais!\n",
            "Python é legal demais!\n",
            "Python é legal demais!\n",
            "Python é legal demais!\n",
            "Python é legal demais!\n",
            "Python é legal demais!\n",
            "Python é legal demais!\n",
            "Python é legal demais!\n",
            "Python é legal demais!\n",
            "Python é legal demais!\n",
            "Python é legal demais!\n",
            "Python é legal demais!\n",
            "Python é legal demais!\n",
            "Python é legal demais!\n",
            "Python é legal demais!\n",
            "Python é legal demais!\n",
            "Python é legal demais!\n",
            "Python é legal demais!\n",
            "Python é legal demais!\n",
            "Python é legal demais!\n",
            "Python é legal demais!\n",
            "Python é legal demais!\n",
            "Python é legal demais!\n",
            "Python é legal demais!\n",
            "Python é legal demais!\n",
            "Python é legal demais!\n",
            "Python é legal demais!\n",
            "Python é legal demais!\n",
            "Python é legal demais!\n",
            "Python é legal demais!\n",
            "Python é legal demais!\n",
            "Python é legal demais!\n",
            "Python é legal demais!\n",
            "Python é legal demais!\n",
            "Python é legal demais!\n",
            "Python é legal demais!\n",
            "Python é legal demais!\n",
            "Python é legal demais!\n",
            "Python é legal demais!\n",
            "Python é legal demais!\n",
            "Python é legal demais!\n",
            "Python é legal demais!\n",
            "Python é legal demais!\n",
            "Python é legal demais!\n",
            "Python é legal demais!\n",
            "Python é legal demais!\n",
            "Python é legal demais!\n",
            "Python é legal demais!\n",
            "Python é legal demais!\n",
            "Python é legal demais!\n",
            "Python é legal demais!\n",
            "Python é legal demais!\n",
            "Python é legal demais!\n",
            "Python é legal demais!\n",
            "Python é legal demais!\n",
            "Python é legal demais!\n",
            "Python é legal demais!\n",
            "Python é legal demais!\n",
            "Python é legal demais!\n",
            "Python é legal demais!\n",
            "Python é legal demais!\n",
            "Python é legal demais!\n",
            "Python é legal demais!\n",
            "Python é legal demais!\n",
            "Python é legal demais!\n",
            "Python é legal demais!\n",
            "Python é legal demais!\n",
            "Python é legal demais!\n",
            "Python é legal demais!\n",
            "Python é legal demais!\n",
            "Python é legal demais!\n",
            "Python é legal demais!\n",
            "Python é legal demais!\n",
            "Python é legal demais!\n",
            "Python é legal demais!\n",
            "Python é legal demais!\n",
            "Python é legal demais!\n",
            "Python é legal demais!\n",
            "Python é legal demais!\n",
            "Python é legal demais!\n",
            "Python é legal demais!\n",
            "Python é legal demais!\n",
            "Python é legal demais!\n",
            "Python é legal demais!\n",
            "Python é legal demais!\n",
            "Python é legal demais!\n",
            "Python é legal demais!\n",
            "Python é legal demais!\n",
            "Python é legal demais!\n",
            "Python é legal demais!\n",
            "Python é legal demais!\n",
            "Python é legal demais!\n",
            "Python é legal demais!\n",
            "Python é legal demais!\n",
            "Python é legal demais!\n",
            "Python é legal demais!\n",
            "Python é legal demais!\n",
            "Python é legal demais!\n",
            "Python é legal demais!\n",
            "Python é legal demais!\n",
            "Python é legal demais!\n",
            "Python é legal demais!\n",
            "Python é legal demais!\n",
            "Python é legal demais!\n",
            "Python é legal demais!\n",
            "Python é legal demais!\n",
            "Python é legal demais!\n",
            "Python é legal demais!\n",
            "Python é legal demais!\n",
            "Python é legal demais!\n",
            "Python é legal demais!\n",
            "Python é legal demais!\n",
            "Python é legal demais!\n",
            "Python é legal demais!\n",
            "Python é legal demais!\n",
            "Python é legal demais!\n",
            "Python é legal demais!\n",
            "Python é legal demais!\n",
            "Python é legal demais!\n",
            "Python é legal demais!\n",
            "Python é legal demais!\n",
            "Python é legal demais!\n",
            "Python é legal demais!\n",
            "Python é legal demais!\n",
            "Python é legal demais!\n",
            "Python é legal demais!\n",
            "Python é legal demais!\n",
            "Python é legal demais!\n",
            "Python é legal demais!\n",
            "Python é legal demais!\n",
            "Python é legal demais!\n",
            "Python é legal demais!\n",
            "Python é legal demais!\n",
            "Python é legal demais!\n",
            "Python é legal demais!\n",
            "Python é legal demais!\n",
            "Python é legal demais!\n",
            "Python é legal demais!\n",
            "Python é legal demais!\n",
            "Python é legal demais!\n",
            "Python é legal demais!\n",
            "Python é legal demais!\n",
            "Python é legal demais!\n",
            "Python é legal demais!\n",
            "Python é legal demais!\n",
            "Python é legal demais!\n",
            "Python é legal demais!\n",
            "Python é legal demais!\n",
            "Python é legal demais!\n",
            "Python é legal demais!\n",
            "Python é legal demais!\n",
            "Python é legal demais!\n",
            "Python é legal demais!\n",
            "Python é legal demais!\n",
            "Python é legal demais!\n",
            "Python é legal demais!\n",
            "Python é legal demais!\n",
            "Python é legal demais!\n",
            "Python é legal demais!\n",
            "Python é legal demais!\n",
            "Python é legal demais!\n",
            "Python é legal demais!\n",
            "Python é legal demais!\n",
            "Python é legal demais!\n",
            "Python é legal demais!\n",
            "Python é legal demais!\n",
            "Python é legal demais!\n",
            "Python é legal demais!\n",
            "Python é legal demais!\n",
            "Python é legal demais!\n",
            "Python é legal demais!\n",
            "Python é legal demais!\n",
            "Python é legal demais!\n",
            "Python é legal demais!\n",
            "Python é legal demais!\n",
            "Python é legal demais!\n",
            "Python é legal demais!\n",
            "Python é legal demais!\n",
            "Python é legal demais!\n",
            "Python é legal demais!\n",
            "Python é legal demais!\n",
            "Python é legal demais!\n",
            "Python é legal demais!\n",
            "Python é legal demais!\n",
            "Python é legal demais!\n",
            "Python é legal demais!\n",
            "Python é legal demais!\n",
            "Python é legal demais!\n",
            "Python é legal demais!\n",
            "Python é legal demais!\n",
            "Python é legal demais!\n",
            "Python é legal demais!\n",
            "Python é legal demais!\n",
            "Python é legal demais!\n",
            "Python é legal demais!\n",
            "Python é legal demais!\n",
            "Python é legal demais!\n",
            "Python é legal demais!\n",
            "Python é legal demais!\n",
            "Python é legal demais!\n",
            "Python é legal demais!\n",
            "Python é legal demais!\n",
            "Python é legal demais!\n",
            "Python é legal demais!\n",
            "Python é legal demais!\n",
            "Python é legal demais!\n",
            "Python é legal demais!\n",
            "Python é legal demais!\n",
            "Python é legal demais!\n",
            "Python é legal demais!\n",
            "Python é legal demais!\n",
            "Python é legal demais!\n",
            "Python é legal demais!\n",
            "Python é legal demais!\n",
            "Python é legal demais!\n",
            "Python é legal demais!\n",
            "Python é legal demais!\n",
            "Python é legal demais!\n",
            "Python é legal demais!\n",
            "Python é legal demais!\n",
            "Python é legal demais!\n",
            "Python é legal demais!\n",
            "Python é legal demais!\n",
            "Python é legal demais!\n",
            "Python é legal demais!\n",
            "Python é legal demais!\n",
            "Python é legal demais!\n",
            "Python é legal demais!\n",
            "Python é legal demais!\n",
            "Python é legal demais!\n",
            "Python é legal demais!\n",
            "Python é legal demais!\n",
            "Python é legal demais!\n",
            "Python é legal demais!\n",
            "Python é legal demais!\n",
            "Python é legal demais!\n",
            "Python é legal demais!\n",
            "Python é legal demais!\n",
            "Python é legal demais!\n",
            "Python é legal demais!\n",
            "Python é legal demais!\n",
            "Python é legal demais!\n",
            "Python é legal demais!\n",
            "Python é legal demais!\n",
            "Python é legal demais!\n",
            "Python é legal demais!\n",
            "Python é legal demais!\n",
            "Python é legal demais!\n",
            "Python é legal demais!\n",
            "Python é legal demais!\n",
            "Python é legal demais!\n",
            "Python é legal demais!\n",
            "Python é legal demais!\n",
            "Python é legal demais!\n",
            "Python é legal demais!\n",
            "Python é legal demais!\n",
            "Python é legal demais!\n",
            "Python é legal demais!\n",
            "Python é legal demais!\n",
            "Python é legal demais!\n",
            "Python é legal demais!\n",
            "Python é legal demais!\n",
            "Python é legal demais!\n",
            "Python é legal demais!\n",
            "Python é legal demais!\n",
            "Python é legal demais!\n",
            "Python é legal demais!\n",
            "Python é legal demais!\n",
            "Python é legal demais!\n",
            "Python é legal demais!\n",
            "Python é legal demais!\n",
            "Python é legal demais!\n",
            "Python é legal demais!\n",
            "Python é legal demais!\n",
            "Python é legal demais!\n",
            "Python é legal demais!\n",
            "Python é legal demais!\n",
            "Python é legal demais!\n",
            "Python é legal demais!\n",
            "Python é legal demais!\n",
            "Python é legal demais!\n",
            "Python é legal demais!\n",
            "Python é legal demais!\n",
            "Python é legal demais!\n",
            "Python é legal demais!\n",
            "Python é legal demais!\n",
            "Python é legal demais!\n",
            "Python é legal demais!\n",
            "Python é legal demais!\n",
            "Python é legal demais!\n",
            "Python é legal demais!\n",
            "Python é legal demais!\n",
            "Python é legal demais!\n",
            "Python é legal demais!\n",
            "Python é legal demais!\n",
            "Python é legal demais!\n",
            "Python é legal demais!\n",
            "Python é legal demais!\n",
            "Python é legal demais!\n",
            "Python é legal demais!\n",
            "Python é legal demais!\n",
            "Python é legal demais!\n",
            "Python é legal demais!\n",
            "Python é legal demais!\n",
            "Python é legal demais!\n",
            "Python é legal demais!\n",
            "Python é legal demais!\n",
            "Python é legal demais!\n",
            "Python é legal demais!\n",
            "Python é legal demais!\n",
            "Python é legal demais!\n",
            "Python é legal demais!\n",
            "Python é legal demais!\n",
            "Python é legal demais!\n",
            "Python é legal demais!\n",
            "Python é legal demais!\n",
            "Python é legal demais!\n",
            "Python é legal demais!\n",
            "Python é legal demais!\n",
            "Python é legal demais!\n",
            "Python é legal demais!\n",
            "Python é legal demais!\n",
            "Python é legal demais!\n",
            "Python é legal demais!\n",
            "Python é legal demais!\n",
            "Python é legal demais!\n",
            "Python é legal demais!\n",
            "Python é legal demais!\n",
            "Python é legal demais!\n",
            "Python é legal demais!\n",
            "Python é legal demais!\n",
            "Python é legal demais!\n",
            "Python é legal demais!\n",
            "Python é legal demais!\n",
            "Python é legal demais!\n",
            "Python é legal demais!\n",
            "Python é legal demais!\n",
            "Python é legal demais!\n",
            "Python é legal demais!\n",
            "Python é legal demais!\n",
            "Python é legal demais!\n",
            "Python é legal demais!\n",
            "Python é legal demais!\n",
            "Python é legal demais!\n",
            "Python é legal demais!\n",
            "Python é legal demais!\n",
            "Python é legal demais!\n",
            "Python é legal demais!\n",
            "Python é legal demais!\n",
            "Python é legal demais!\n",
            "Python é legal demais!\n",
            "Python é legal demais!\n",
            "Python é legal demais!\n",
            "Python é legal demais!\n",
            "Python é legal demais!\n",
            "Python é legal demais!\n",
            "Python é legal demais!\n",
            "Python é legal demais!\n",
            "Python é legal demais!\n",
            "Python é legal demais!\n",
            "Python é legal demais!\n",
            "Python é legal demais!\n",
            "Python é legal demais!\n",
            "Python é legal demais!\n",
            "Python é legal demais!\n",
            "Python é legal demais!\n",
            "Python é legal demais!\n",
            "Python é legal demais!\n",
            "Python é legal demais!\n",
            "Python é legal demais!\n",
            "Python é legal demais!\n",
            "Python é legal demais!\n",
            "Python é legal demais!\n",
            "Python é legal demais!\n",
            "Python é legal demais!\n",
            "Python é legal demais!\n",
            "Python é legal demais!\n",
            "Python é legal demais!\n",
            "Python é legal demais!\n",
            "Python é legal demais!\n",
            "Python é legal demais!\n",
            "Python é legal demais!\n",
            "Python é legal demais!\n",
            "Python é legal demais!\n",
            "Python é legal demais!\n",
            "Python é legal demais!\n",
            "Python é legal demais!\n",
            "Python é legal demais!\n",
            "Python é legal demais!\n",
            "Python é legal demais!\n",
            "Python é legal demais!\n",
            "Python é legal demais!\n",
            "Python é legal demais!\n",
            "Python é legal demais!\n",
            "Python é legal demais!\n",
            "Python é legal demais!\n",
            "Python é legal demais!\n",
            "Python é legal demais!\n",
            "Python é legal demais!\n",
            "Python é legal demais!\n",
            "Python é legal demais!\n",
            "Python é legal demais!\n",
            "Python é legal demais!\n",
            "Python é legal demais!\n",
            "Python é legal demais!\n",
            "Python é legal demais!\n",
            "Python é legal demais!\n",
            "Python é legal demais!\n",
            "Python é legal demais!\n",
            "Python é legal demais!\n",
            "Python é legal demais!\n",
            "Python é legal demais!\n",
            "Python é legal demais!\n",
            "Python é legal demais!\n",
            "Python é legal demais!\n",
            "Python é legal demais!\n",
            "Python é legal demais!\n",
            "Python é legal demais!\n",
            "Python é legal demais!\n",
            "Python é legal demais!\n",
            "Python é legal demais!\n",
            "Python é legal demais!\n",
            "Python é legal demais!\n",
            "Python é legal demais!\n",
            "Python é legal demais!\n",
            "Python é legal demais!\n",
            "Python é legal demais!\n",
            "Python é legal demais!\n",
            "Python é legal demais!\n",
            "Python é legal demais!\n",
            "Python é legal demais!\n",
            "Python é legal demais!\n",
            "Python é legal demais!\n",
            "Python é legal demais!\n",
            "Python é legal demais!\n",
            "Python é legal demais!\n",
            "Python é legal demais!\n",
            "Python é legal demais!\n",
            "Python é legal demais!\n",
            "Python é legal demais!\n",
            "Python é legal demais!\n",
            "Python é legal demais!\n",
            "Python é legal demais!\n",
            "Python é legal demais!\n",
            "Python é legal demais!\n",
            "Python é legal demais!\n",
            "Python é legal demais!\n",
            "Python é legal demais!\n",
            "Python é legal demais!\n",
            "Python é legal demais!\n",
            "Python é legal demais!\n",
            "Python é legal demais!\n",
            "Python é legal demais!\n",
            "Python é legal demais!\n",
            "Python é legal demais!\n",
            "Python é legal demais!\n",
            "Python é legal demais!\n",
            "Python é legal demais!\n",
            "Python é legal demais!\n",
            "Python é legal demais!\n",
            "Python é legal demais!\n",
            "Python é legal demais!\n",
            "Python é legal demais!\n",
            "Python é legal demais!\n",
            "Python é legal demais!\n",
            "Python é legal demais!\n",
            "Python é legal demais!\n",
            "Python é legal demais!\n",
            "Python é legal demais!\n",
            "Python é legal demais!\n",
            "Python é legal demais!\n",
            "Python é legal demais!\n",
            "Python é legal demais!\n",
            "Python é legal demais!\n",
            "Python é legal demais!\n",
            "Python é legal demais!\n",
            "Python é legal demais!\n",
            "Python é legal demais!\n",
            "Python é legal demais!\n",
            "Python é legal demais!\n",
            "Python é legal demais!\n",
            "Python é legal demais!\n",
            "Python é legal demais!\n",
            "Python é legal demais!\n",
            "Python é legal demais!\n",
            "Python é legal demais!\n",
            "Python é legal demais!\n",
            "Python é legal demais!\n",
            "Python é legal demais!\n",
            "Python é legal demais!\n",
            "Python é legal demais!\n",
            "Python é legal demais!\n",
            "Python é legal demais!\n",
            "Python é legal demais!\n",
            "Python é legal demais!\n",
            "Python é legal demais!\n",
            "Python é legal demais!\n",
            "Python é legal demais!\n",
            "Python é legal demais!\n",
            "Python é legal demais!\n",
            "Python é legal demais!\n",
            "Python é legal demais!\n",
            "Python é legal demais!\n",
            "Python é legal demais!\n",
            "Python é legal demais!\n",
            "Python é legal demais!\n",
            "Python é legal demais!\n",
            "Python é legal demais!\n",
            "Python é legal demais!\n",
            "Python é legal demais!\n",
            "Python é legal demais!\n",
            "Python é legal demais!\n",
            "Python é legal demais!\n",
            "Python é legal demais!\n",
            "Python é legal demais!\n",
            "Python é legal demais!\n",
            "Python é legal demais!\n",
            "Python é legal demais!\n",
            "Python é legal demais!\n",
            "Python é legal demais!\n",
            "Python é legal demais!\n",
            "Python é legal demais!\n",
            "Python é legal demais!\n",
            "Python é legal demais!\n",
            "Python é legal demais!\n",
            "Python é legal demais!\n",
            "Python é legal demais!\n",
            "Python é legal demais!\n",
            "Python é legal demais!\n",
            "Python é legal demais!\n",
            "Python é legal demais!\n",
            "Python é legal demais!\n",
            "Python é legal demais!\n",
            "Python é legal demais!\n",
            "Python é legal demais!\n",
            "Python é legal demais!\n",
            "Python é legal demais!\n",
            "Python é legal demais!\n",
            "Python é legal demais!\n",
            "Python é legal demais!\n",
            "Python é legal demais!\n",
            "Python é legal demais!\n",
            "Python é legal demais!\n",
            "Python é legal demais!\n",
            "Python é legal demais!\n",
            "Python é legal demais!\n",
            "Python é legal demais!\n",
            "Python é legal demais!\n",
            "Python é legal demais!\n",
            "Python é legal demais!\n",
            "Python é legal demais!\n",
            "Python é legal demais!\n",
            "Python é legal demais!\n",
            "Python é legal demais!\n",
            "Python é legal demais!\n",
            "Python é legal demais!\n",
            "Python é legal demais!\n",
            "Python é legal demais!\n",
            "Python é legal demais!\n",
            "Python é legal demais!\n",
            "Python é legal demais!\n",
            "Python é legal demais!\n",
            "Python é legal demais!\n",
            "Python é legal demais!\n",
            "Python é legal demais!\n",
            "Python é legal demais!\n",
            "Python é legal demais!\n",
            "Python é legal demais!\n",
            "Python é legal demais!\n",
            "Python é legal demais!\n",
            "Python é legal demais!\n",
            "Python é legal demais!\n",
            "Python é legal demais!\n",
            "Python é legal demais!\n",
            "Python é legal demais!\n",
            "Python é legal demais!\n",
            "Python é legal demais!\n",
            "Python é legal demais!\n",
            "Python é legal demais!\n",
            "Python é legal demais!\n",
            "Python é legal demais!\n",
            "Python é legal demais!\n",
            "Python é legal demais!\n",
            "Python é legal demais!\n",
            "Python é legal demais!\n",
            "Python é legal demais!\n",
            "Python é legal demais!\n",
            "Python é legal demais!\n",
            "Python é legal demais!\n",
            "Python é legal demais!\n",
            "Python é legal demais!\n",
            "Python é legal demais!\n",
            "Python é legal demais!\n",
            "Python é legal demais!\n",
            "Python é legal demais!\n",
            "Python é legal demais!\n",
            "Python é legal demais!\n",
            "Python é legal demais!\n",
            "Python é legal demais!\n",
            "Python é legal demais!\n",
            "Python é legal demais!\n",
            "Python é legal demais!\n",
            "Python é legal demais!\n",
            "Python é legal demais!\n",
            "Python é legal demais!\n",
            "Python é legal demais!\n",
            "Python é legal demais!\n",
            "Python é legal demais!\n",
            "Python é legal demais!\n",
            "Python é legal demais!\n",
            "Python é legal demais!\n",
            "Python é legal demais!\n",
            "Python é legal demais!\n",
            "Python é legal demais!\n",
            "Python é legal demais!\n",
            "Python é legal demais!\n",
            "Python é legal demais!\n",
            "Python é legal demais!\n",
            "Python é legal demais!\n",
            "Python é legal demais!\n",
            "Python é legal demais!\n",
            "Python é legal demais!\n",
            "Python é legal demais!\n",
            "Python é legal demais!\n",
            "Python é legal demais!\n",
            "Python é legal demais!\n",
            "Python é legal demais!\n",
            "Python é legal demais!\n",
            "Python é legal demais!\n",
            "Python é legal demais!\n",
            "Python é legal demais!\n",
            "Python é legal demais!\n",
            "Python é legal demais!\n",
            "Python é legal demais!\n",
            "Python é legal demais!\n",
            "Python é legal demais!\n",
            "Python é legal demais!\n",
            "Python é legal demais!\n",
            "Python é legal demais!\n",
            "Python é legal demais!\n",
            "Python é legal demais!\n",
            "Python é legal demais!\n",
            "Python é legal demais!\n",
            "Python é legal demais!\n",
            "Python é legal demais!\n",
            "Python é legal demais!\n",
            "Python é legal demais!\n",
            "Python é legal demais!\n",
            "Python é legal demais!\n",
            "Python é legal demais!\n",
            "Python é legal demais!\n",
            "Python é legal demais!\n",
            "Python é legal demais!\n",
            "Python é legal demais!\n",
            "Python é legal demais!\n",
            "Python é legal demais!\n",
            "Python é legal demais!\n",
            "Python é legal demais!\n",
            "Python é legal demais!\n",
            "Python é legal demais!\n",
            "Python é legal demais!\n",
            "Python é legal demais!\n",
            "Python é legal demais!\n",
            "Python é legal demais!\n",
            "Python é legal demais!\n",
            "Python é legal demais!\n",
            "Python é legal demais!\n",
            "Python é legal demais!\n",
            "Python é legal demais!\n",
            "Python é legal demais!\n",
            "Python é legal demais!\n",
            "Python é legal demais!\n",
            "Python é legal demais!\n",
            "Python é legal demais!\n",
            "Python é legal demais!\n",
            "Python é legal demais!\n",
            "Python é legal demais!\n",
            "Python é legal demais!\n",
            "Python é legal demais!\n",
            "Python é legal demais!\n",
            "Python é legal demais!\n",
            "Python é legal demais!\n",
            "Python é legal demais!\n",
            "Python é legal demais!\n",
            "Python é legal demais!\n",
            "Python é legal demais!\n",
            "Python é legal demais!\n",
            "Python é legal demais!\n",
            "Python é legal demais!\n",
            "Python é legal demais!\n",
            "Python é legal demais!\n",
            "Python é legal demais!\n",
            "Python é legal demais!\n",
            "Python é legal demais!\n",
            "Python é legal demais!\n",
            "Python é legal demais!\n",
            "Python é legal demais!\n",
            "Python é legal demais!\n",
            "Python é legal demais!\n",
            "Python é legal demais!\n",
            "Python é legal demais!\n",
            "Python é legal demais!\n",
            "Python é legal demais!\n",
            "Python é legal demais!\n",
            "Python é legal demais!\n",
            "Python é legal demais!\n",
            "Python é legal demais!\n",
            "Python é legal demais!\n",
            "Python é legal demais!\n",
            "Python é legal demais!\n",
            "Python é legal demais!\n",
            "Python é legal demais!\n",
            "Python é legal demais!\n",
            "Python é legal demais!\n",
            "Python é legal demais!\n",
            "Python é legal demais!\n",
            "Python é legal demais!\n",
            "Python é legal demais!\n",
            "Python é legal demais!\n",
            "Python é legal demais!\n",
            "Python é legal demais!\n",
            "Python é legal demais!\n",
            "Python é legal demais!\n",
            "Python é legal demais!\n",
            "Python é legal demais!\n",
            "Python é legal demais!\n",
            "Python é legal demais!\n",
            "Python é legal demais!\n",
            "Python é legal demais!\n",
            "Python é legal demais!\n",
            "Python é legal demais!\n",
            "Python é legal demais!\n",
            "Python é legal demais!\n",
            "Python é legal demais!\n",
            "Python é legal demais!\n",
            "Python é legal demais!\n",
            "Python é legal demais!\n",
            "Python é legal demais!\n",
            "Python é legal demais!\n",
            "Python é legal demais!\n",
            "Python é legal demais!\n",
            "Python é legal demais!\n",
            "Python é legal demais!\n",
            "Python é legal demais!\n",
            "Python é legal demais!\n",
            "Python é legal demais!\n",
            "Python é legal demais!\n",
            "Python é legal demais!\n",
            "Python é legal demais!\n",
            "Python é legal demais!\n",
            "Python é legal demais!\n",
            "Python é legal demais!\n",
            "Python é legal demais!\n",
            "Python é legal demais!\n",
            "Python é legal demais!\n",
            "Python é legal demais!\n",
            "Python é legal demais!\n",
            "Python é legal demais!\n",
            "Python é legal demais!\n",
            "Python é legal demais!\n",
            "Python é legal demais!\n",
            "Python é legal demais!\n",
            "Python é legal demais!\n",
            "Python é legal demais!\n",
            "Python é legal demais!\n",
            "Python é legal demais!\n",
            "Python é legal demais!\n",
            "Python é legal demais!\n",
            "Python é legal demais!\n",
            "Python é legal demais!\n",
            "Python é legal demais!\n",
            "Python é legal demais!\n",
            "Python é legal demais!\n",
            "Python é legal demais!\n",
            "Python é legal demais!\n",
            "Python é legal demais!\n",
            "Python é legal demais!\n",
            "Python é legal demais!\n",
            "Python é legal demais!\n",
            "Python é legal demais!\n",
            "Python é legal demais!\n",
            "Python é legal demais!\n",
            "Python é legal demais!\n",
            "Python é legal demais!\n",
            "Python é legal demais!\n",
            "Python é legal demais!\n",
            "Python é legal demais!\n",
            "Python é legal demais!\n",
            "Python é legal demais!\n",
            "Python é legal demais!\n",
            "Python é legal demais!\n",
            "Python é legal demais!\n",
            "Python é legal demais!\n",
            "Python é legal demais!\n",
            "Python é legal demais!\n",
            "Python é legal demais!\n",
            "Python é legal demais!\n",
            "Python é legal demais!\n",
            "Python é legal demais!\n",
            "Python é legal demais!\n",
            "Python é legal demais!\n",
            "Python é legal demais!\n",
            "Python é legal demais!\n",
            "Python é legal demais!\n",
            "Python é legal demais!\n",
            "Python é legal demais!\n",
            "Python é legal demais!\n",
            "Python é legal demais!\n",
            "Python é legal demais!\n",
            "Python é legal demais!\n",
            "Python é legal demais!\n",
            "Python é legal demais!\n",
            "Python é legal demais!\n",
            "Python é legal demais!\n",
            "Python é legal demais!\n",
            "Python é legal demais!\n",
            "Python é legal demais!\n",
            "Python é legal demais!\n",
            "Python é legal demais!\n",
            "Python é legal demais!\n",
            "Python é legal demais!\n",
            "Python é legal demais!\n",
            "Python é legal demais!\n",
            "Python é legal demais!\n",
            "Python é legal demais!\n",
            "Python é legal demais!\n",
            "Python é legal demais!\n",
            "Python é legal demais!\n",
            "Python é legal demais!\n",
            "Python é legal demais!\n",
            "Python é legal demais!\n",
            "Python é legal demais!\n",
            "Python é legal demais!\n",
            "Python é legal demais!\n",
            "Python é legal demais!\n",
            "Python é legal demais!\n",
            "Python é legal demais!\n",
            "Python é legal demais!\n",
            "Python é legal demais!\n",
            "Python é legal demais!\n",
            "Python é legal demais!\n",
            "Python é legal demais!\n",
            "Python é legal demais!\n",
            "Python é legal demais!\n",
            "Python é legal demais!\n",
            "Python é legal demais!\n",
            "Python é legal demais!\n",
            "Python é legal demais!\n",
            "Python é legal demais!\n",
            "Python é legal demais!\n",
            "Python é legal demais!\n",
            "Python é legal demais!\n",
            "Python é legal demais!\n",
            "Python é legal demais!\n",
            "Python é legal demais!\n",
            "Python é legal demais!\n",
            "Python é legal demais!\n",
            "Python é legal demais!\n",
            "Python é legal demais!\n",
            "Python é legal demais!\n",
            "Python é legal demais!\n",
            "Python é legal demais!\n",
            "Python é legal demais!\n",
            "Python é legal demais!\n",
            "Python é legal demais!\n",
            "Python é legal demais!\n",
            "Python é legal demais!\n",
            "Python é legal demais!\n",
            "Python é legal demais!\n",
            "Python é legal demais!\n",
            "Python é legal demais!\n",
            "Python é legal demais!\n",
            "Python é legal demais!\n",
            "Python é legal demais!\n",
            "Python é legal demais!\n",
            "Python é legal demais!\n",
            "Python é legal demais!\n",
            "Python é legal demais!\n",
            "Python é legal demais!\n",
            "Python é legal demais!\n",
            "Python é legal demais!\n",
            "Python é legal demais!\n",
            "Python é legal demais!\n",
            "Python é legal demais!\n",
            "Python é legal demais!\n",
            "Python é legal demais!\n",
            "Python é legal demais!\n",
            "Python é legal demais!\n",
            "Python é legal demais!\n",
            "Python é legal demais!\n",
            "Python é legal demais!\n",
            "Python é legal demais!\n",
            "Python é legal demais!\n",
            "Python é legal demais!\n",
            "Python é legal demais!\n",
            "Python é legal demais!\n",
            "Python é legal demais!\n",
            "Python é legal demais!\n",
            "Python é legal demais!\n",
            "Python é legal demais!\n",
            "Python é legal demais!\n",
            "Python é legal demais!\n",
            "Python é legal demais!\n",
            "Python é legal demais!\n",
            "Python é legal demais!\n",
            "Python é legal demais!\n",
            "Python é legal demais!\n",
            "Python é legal demais!\n",
            "Python é legal demais!\n",
            "Python é legal demais!\n",
            "Python é legal demais!\n",
            "Python é legal demais!\n",
            "Python é legal demais!\n",
            "Python é legal demais!\n",
            "Python é legal demais!\n",
            "Python é legal demais!\n",
            "Python é legal demais!\n",
            "Python é legal demais!\n",
            "Python é legal demais!\n",
            "Python é legal demais!\n",
            "Python é legal demais!\n",
            "Python é legal demais!\n",
            "Python é legal demais!\n",
            "Python é legal demais!\n",
            "Python é legal demais!\n",
            "Python é legal demais!\n",
            "Python é legal demais!\n",
            "Python é legal demais!\n",
            "Python é legal demais!\n",
            "Python é legal demais!\n",
            "Python é legal demais!\n",
            "Python é legal demais!\n",
            "Python é legal demais!\n",
            "Python é legal demais!\n",
            "Python é legal demais!\n",
            "Python é legal demais!\n",
            "Python é legal demais!\n",
            "Python é legal demais!\n",
            "Python é legal demais!\n",
            "Python é legal demais!\n",
            "Python é legal demais!\n",
            "Python é legal demais!\n",
            "Python é legal demais!\n",
            "Python é legal demais!\n",
            "Python é legal demais!\n",
            "Python é legal demais!\n",
            "Python é legal demais!\n",
            "Python é legal demais!\n",
            "Python é legal demais!\n",
            "Python é legal demais!\n",
            "Python é legal demais!\n",
            "Python é legal demais!\n",
            "Python é legal demais!\n",
            "Python é legal demais!\n",
            "Python é legal demais!\n",
            "Python é legal demais!\n",
            "Python é legal demais!\n",
            "Python é legal demais!\n",
            "Python é legal demais!\n",
            "Python é legal demais!\n",
            "Python é legal demais!\n",
            "Python é legal demais!\n",
            "Python é legal demais!\n",
            "Python é legal demais!\n",
            "Python é legal demais!\n",
            "Python é legal demais!\n",
            "Python é legal demais!\n",
            "Python é legal demais!\n",
            "Python é legal demais!\n",
            "Python é legal demais!\n",
            "Python é legal demais!\n",
            "Python é legal demais!\n",
            "Python é legal demais!\n",
            "Python é legal demais!\n",
            "Python é legal demais!\n",
            "Python é legal demais!\n",
            "Python é legal demais!\n",
            "Python é legal demais!\n",
            "Python é legal demais!\n",
            "Python é legal demais!\n",
            "Python é legal demais!\n",
            "Python é legal demais!\n",
            "Python é legal demais!\n",
            "Python é legal demais!\n",
            "Python é legal demais!\n",
            "Python é legal demais!\n",
            "Python é legal demais!\n",
            "Python é legal demais!\n",
            "Python é legal demais!\n",
            "Python é legal demais!\n",
            "Python é legal demais!\n",
            "Python é legal demais!\n",
            "Python é legal demais!\n",
            "Python é legal demais!\n",
            "Python é legal demais!\n",
            "Python é legal demais!\n",
            "Python é legal demais!\n",
            "Python é legal demais!\n",
            "Python é legal demais!\n",
            "Python é legal demais!\n",
            "Python é legal demais!\n",
            "Python é legal demais!\n",
            "Python é legal demais!\n",
            "Python é legal demais!\n",
            "Python é legal demais!\n",
            "Python é legal demais!\n",
            "Python é legal demais!\n",
            "Python é legal demais!\n",
            "Python é legal demais!\n",
            "Python é legal demais!\n",
            "Python é legal demais!\n",
            "Python é legal demais!\n",
            "Python é legal demais!\n",
            "Python é legal demais!\n",
            "Python é legal demais!\n",
            "Python é legal demais!\n",
            "Python é legal demais!\n",
            "Python é legal demais!\n",
            "Python é legal demais!\n",
            "Python é legal demais!\n",
            "Python é legal demais!\n",
            "Python é legal demais!\n",
            "Python é legal demais!\n",
            "Python é legal demais!\n",
            "Python é legal demais!\n",
            "Python é legal demais!\n",
            "Python é legal demais!\n",
            "Python é legal demais!\n",
            "Python é legal demais!\n",
            "Python é legal demais!\n",
            "Python é legal demais!\n",
            "Python é legal demais!\n",
            "Python é legal demais!\n",
            "Python é legal demais!\n",
            "Python é legal demais!\n",
            "Python é legal demais!\n",
            "Python é legal demais!\n",
            "Python é legal demais!\n",
            "Python é legal demais!\n",
            "Python é legal demais!\n",
            "Python é legal demais!\n",
            "Python é legal demais!\n",
            "Python é legal demais!\n",
            "Python é legal demais!\n",
            "Python é legal demais!\n",
            "Python é legal demais!\n",
            "Python é legal demais!\n",
            "Python é legal demais!\n",
            "Python é legal demais!\n",
            "Python é legal demais!\n",
            "Python é legal demais!\n",
            "Python é legal demais!\n",
            "Python é legal demais!\n",
            "Python é legal demais!\n",
            "Python é legal demais!\n",
            "Python é legal demais!\n",
            "Python é legal demais!\n",
            "Python é legal demais!\n",
            "Python é legal demais!\n",
            "Python é legal demais!\n",
            "Python é legal demais!\n",
            "Python é legal demais!\n",
            "Python é legal demais!\n",
            "Python é legal demais!\n",
            "Python é legal demais!\n",
            "Python é legal demais!\n",
            "Python é legal demais!\n",
            "Python é legal demais!\n",
            "Python é legal demais!\n",
            "Python é legal demais!\n",
            "Python é legal demais!\n",
            "Python é legal demais!\n",
            "Python é legal demais!\n",
            "Python é legal demais!\n",
            "Python é legal demais!\n",
            "Python é legal demais!\n",
            "Python é legal demais!\n",
            "Python é legal demais!\n",
            "Python é legal demais!\n",
            "Python é legal demais!\n",
            "Python é legal demais!\n",
            "Python é legal demais!\n",
            "Python é legal demais!\n",
            "Python é legal demais!\n",
            "Python é legal demais!\n",
            "Python é legal demais!\n",
            "Python é legal demais!\n",
            "Python é legal demais!\n",
            "Python é legal demais!\n",
            "Python é legal demais!\n",
            "Python é legal demais!\n",
            "Python é legal demais!\n",
            "Python é legal demais!\n",
            "Python é legal demais!\n",
            "Python é legal demais!\n",
            "Python é legal demais!\n",
            "Python é legal demais!\n",
            "Python é legal demais!\n",
            "Python é legal demais!\n",
            "Python é legal demais!\n",
            "Python é legal demais!\n",
            "Python é legal demais!\n",
            "Python é legal demais!\n",
            "Python é legal demais!\n",
            "Python é legal demais!\n",
            "Python é legal demais!\n",
            "Python é legal demais!\n",
            "Python é legal demais!\n",
            "Python é legal demais!\n",
            "Python é legal demais!\n",
            "Python é legal demais!\n",
            "Python é legal demais!\n",
            "Python é legal demais!\n",
            "Python é legal demais!\n",
            "Python é legal demais!\n",
            "Python é legal demais!\n",
            "Python é legal demais!\n",
            "Python é legal demais!\n",
            "Python é legal demais!\n",
            "Python é legal demais!\n",
            "Python é legal demais!\n",
            "Python é legal demais!\n",
            "Python é legal demais!\n",
            "Python é legal demais!\n",
            "Python é legal demais!\n",
            "Python é legal demais!\n",
            "Python é legal demais!\n",
            "Python é legal demais!\n",
            "Python é legal demais!\n",
            "Python é legal demais!\n",
            "Python é legal demais!\n",
            "Python é legal demais!\n",
            "Python é legal demais!\n",
            "Python é legal demais!\n",
            "Python é legal demais!\n",
            "Python é legal demais!\n",
            "Python é legal demais!\n",
            "Python é legal demais!\n",
            "Python é legal demais!\n",
            "Python é legal demais!\n",
            "Python é legal demais!\n",
            "Python é legal demais!\n",
            "Python é legal demais!\n",
            "Python é legal demais!\n",
            "Python é legal demais!\n",
            "Python é legal demais!\n",
            "Python é legal demais!\n",
            "Python é legal demais!\n",
            "Python é legal demais!\n",
            "Python é legal demais!\n",
            "Python é legal demais!\n",
            "Python é legal demais!\n",
            "Python é legal demais!\n",
            "Python é legal demais!\n",
            "Python é legal demais!\n",
            "Python é legal demais!\n",
            "Python é legal demais!\n",
            "Python é legal demais!\n",
            "Python é legal demais!\n",
            "Python é legal demais!\n",
            "Python é legal demais!\n",
            "Python é legal demais!\n",
            "Python é legal demais!\n",
            "Python é legal demais!\n",
            "Python é legal demais!\n",
            "Python é legal demais!\n",
            "Python é legal demais!\n",
            "Python é legal demais!\n",
            "Python é legal demais!\n",
            "Python é legal demais!\n",
            "Python é legal demais!\n",
            "Python é legal demais!\n",
            "Python é legal demais!\n",
            "Python é legal demais!\n",
            "Python é legal demais!\n",
            "Python é legal demais!\n",
            "Python é legal demais!\n",
            "Python é legal demais!\n",
            "Python é legal demais!\n",
            "Python é legal demais!\n",
            "Python é legal demais!\n",
            "Python é legal demais!\n",
            "Python é legal demais!\n",
            "Python é legal demais!\n",
            "Python é legal demais!\n",
            "Python é legal demais!\n",
            "Python é legal demais!\n",
            "Python é legal demais!\n",
            "Python é legal demais!\n",
            "Python é legal demais!\n",
            "Python é legal demais!\n",
            "Python é legal demais!\n",
            "Python é legal demais!\n",
            "Python é legal demais!\n",
            "Python é legal demais!\n",
            "Python é legal demais!\n",
            "Python é legal demais!\n",
            "Python é legal demais!\n",
            "Python é legal demais!\n",
            "Python é legal demais!\n",
            "Python é legal demais!\n",
            "Python é legal demais!\n",
            "Python é legal demais!\n",
            "Python é legal demais!\n",
            "Python é legal demais!\n",
            "Python é legal demais!\n",
            "Python é legal demais!\n",
            "Python é legal demais!\n",
            "Python é legal demais!\n",
            "Python é legal demais!\n",
            "Python é legal demais!\n",
            "Python é legal demais!\n",
            "Python é legal demais!\n",
            "Python é legal demais!\n",
            "Python é legal demais!\n",
            "Python é legal demais!\n",
            "Python é legal demais!\n",
            "Python é legal demais!\n",
            "Python é legal demais!\n",
            "Python é legal demais!\n",
            "Python é legal demais!\n",
            "Python é legal demais!\n",
            "Python é legal demais!\n",
            "Python é legal demais!\n",
            "Python é legal demais!\n",
            "Python é legal demais!\n",
            "Python é legal demais!\n",
            "Python é legal demais!\n",
            "Python é legal demais!\n",
            "Python é legal demais!\n",
            "Python é legal demais!\n",
            "Python é legal demais!\n",
            "Python é legal demais!\n",
            "Python é legal demais!\n",
            "Python é legal demais!\n",
            "Python é legal demais!\n",
            "Python é legal demais!\n",
            "Python é legal demais!\n",
            "Python é legal demais!\n",
            "Python é legal demais!\n",
            "Python é legal demais!\n",
            "Python é legal demais!\n",
            "Python é legal demais!\n",
            "Python é legal demais!\n",
            "Python é legal demais!\n",
            "Python é legal demais!\n",
            "Python é legal demais!\n",
            "Python é legal demais!\n",
            "Python é legal demais!\n",
            "Python é legal demais!\n",
            "Python é legal demais!\n",
            "Python é legal demais!\n",
            "Python é legal demais!\n",
            "Python é legal demais!\n",
            "Python é legal demais!\n",
            "Python é legal demais!\n",
            "Python é legal demais!\n",
            "Python é legal demais!\n",
            "Python é legal demais!\n",
            "Python é legal demais!\n",
            "Python é legal demais!\n",
            "Python é legal demais!\n",
            "Python é legal demais!\n",
            "Python é legal demais!\n",
            "Python é legal demais!\n",
            "Python é legal demais!\n",
            "Python é legal demais!\n",
            "Python é legal demais!\n",
            "Python é legal demais!\n",
            "Python é legal demais!\n",
            "Python é legal demais!\n",
            "Python é legal demais!\n",
            "Python é legal demais!\n",
            "Python é legal demais!\n",
            "Python é legal demais!\n",
            "Python é legal demais!\n",
            "Python é legal demais!\n",
            "Python é legal demais!\n",
            "Python é legal demais!\n",
            "Python é legal demais!\n",
            "Python é legal demais!\n",
            "Python é legal demais!\n",
            "Python é legal demais!\n",
            "Python é legal demais!\n",
            "Python é legal demais!\n",
            "Python é legal demais!\n",
            "Python é legal demais!\n",
            "Python é legal demais!\n",
            "Python é legal demais!\n",
            "Python é legal demais!\n",
            "Python é legal demais!\n",
            "Python é legal demais!\n",
            "Python é legal demais!\n",
            "Python é legal demais!\n",
            "Python é legal demais!\n",
            "Python é legal demais!\n",
            "Python é legal demais!\n",
            "Python é legal demais!\n",
            "Python é legal demais!\n",
            "Python é legal demais!\n",
            "Python é legal demais!\n",
            "Python é legal demais!\n",
            "Python é legal demais!\n",
            "Python é legal demais!\n",
            "Python é legal demais!\n",
            "Python é legal demais!\n",
            "Python é legal demais!\n",
            "Python é legal demais!\n",
            "Python é legal demais!\n",
            "Python é legal demais!\n",
            "Python é legal demais!\n",
            "Python é legal demais!\n",
            "Python é legal demais!\n",
            "Python é legal demais!\n",
            "Python é legal demais!\n",
            "Python é legal demais!\n",
            "Python é legal demais!\n",
            "Python é legal demais!\n",
            "Python é legal demais!\n",
            "Python é legal demais!\n",
            "Python é legal demais!\n",
            "Python é legal demais!\n",
            "Python é legal demais!\n",
            "Python é legal demais!\n",
            "Python é legal demais!\n",
            "Python é legal demais!\n",
            "Python é legal demais!\n",
            "Python é legal demais!\n",
            "Python é legal demais!\n",
            "Python é legal demais!\n",
            "Python é legal demais!\n",
            "Python é legal demais!\n",
            "Python é legal demais!\n",
            "Python é legal demais!\n",
            "Python é legal demais!\n",
            "Python é legal demais!\n",
            "Python é legal demais!\n",
            "Python é legal demais!\n",
            "Python é legal demais!\n",
            "Python é legal demais!\n",
            "Python é legal demais!\n",
            "Python é legal demais!\n",
            "Python é legal demais!\n",
            "Python é legal demais!\n",
            "Python é legal demais!\n",
            "Python é legal demais!\n",
            "Python é legal demais!\n",
            "Python é legal demais!\n",
            "Python é legal demais!\n",
            "Python é legal demais!\n",
            "Python é legal demais!\n",
            "Python é legal demais!\n",
            "Python é legal demais!\n",
            "Python é legal demais!\n",
            "Python é legal demais!\n",
            "Python é legal demais!\n",
            "Python é legal demais!\n",
            "Python é legal demais!\n",
            "Python é legal demais!\n",
            "Python é legal demais!\n",
            "Python é legal demais!\n",
            "Python é legal demais!\n",
            "Python é legal demais!\n",
            "Python é legal demais!\n",
            "Python é legal demais!\n",
            "Python é legal demais!\n",
            "Python é legal demais!\n",
            "Python é legal demais!\n",
            "Python é legal demais!\n",
            "Python é legal demais!\n",
            "Python é legal demais!\n",
            "Python é legal demais!\n",
            "Python é legal demais!\n",
            "Python é legal demais!\n",
            "Python é legal demais!\n",
            "Python é legal demais!\n",
            "Python é legal demais!\n",
            "Python é legal demais!\n",
            "Python é legal demais!\n",
            "Python é legal demais!\n",
            "Python é legal demais!\n",
            "Python é legal demais!\n",
            "Python é legal demais!\n",
            "Python é legal demais!\n",
            "Python é legal demais!\n",
            "Python é legal demais!\n",
            "Python é legal demais!\n",
            "Python é legal demais!\n",
            "Python é legal demais!\n",
            "Python é legal demais!\n",
            "Python é legal demais!\n",
            "Python é legal demais!\n",
            "Python é legal demais!\n",
            "Python é legal demais!\n",
            "Python é legal demais!\n",
            "Python é legal demais!\n",
            "Python é legal demais!\n",
            "Python é legal demais!\n",
            "Python é legal demais!\n",
            "Python é legal demais!\n",
            "Python é legal demais!\n",
            "Python é legal demais!\n",
            "Python é legal demais!\n",
            "Python é legal demais!\n",
            "Python é legal demais!\n",
            "Python é legal demais!\n",
            "Python é legal demais!\n",
            "Python é legal demais!\n",
            "Python é legal demais!\n",
            "Python é legal demais!\n",
            "Python é legal demais!\n",
            "Python é legal demais!\n",
            "Python é legal demais!\n",
            "Python é legal demais!\n",
            "Python é legal demais!\n",
            "Python é legal demais!\n",
            "Python é legal demais!\n",
            "Python é legal demais!\n",
            "Python é legal demais!\n",
            "Python é legal demais!\n",
            "Python é legal demais!\n",
            "Python é legal demais!\n",
            "Python é legal demais!\n",
            "Python é legal demais!\n",
            "Python é legal demais!\n",
            "Python é legal demais!\n",
            "Python é legal demais!\n",
            "Python é legal demais!\n",
            "Python é legal demais!\n",
            "Python é legal demais!\n",
            "Python é legal demais!\n",
            "Python é legal demais!\n",
            "Python é legal demais!\n",
            "Python é legal demais!\n",
            "Python é legal demais!\n",
            "Python é legal demais!\n",
            "Python é legal demais!\n",
            "Python é legal demais!\n",
            "Python é legal demais!\n",
            "Python é legal demais!\n",
            "Python é legal demais!\n",
            "Python é legal demais!\n",
            "Python é legal demais!\n",
            "Python é legal demais!\n",
            "Python é legal demais!\n",
            "Python é legal demais!\n",
            "Python é legal demais!\n",
            "Python é legal demais!\n",
            "Python é legal demais!\n",
            "Python é legal demais!\n",
            "Python é legal demais!\n",
            "Python é legal demais!\n",
            "Python é legal demais!\n",
            "Python é legal demais!\n",
            "Python é legal demais!\n",
            "Python é legal demais!\n",
            "Python é legal demais!\n",
            "Python é legal demais!\n",
            "Python é legal demais!\n",
            "Python é legal demais!\n",
            "Python é legal demais!\n",
            "Python é legal demais!\n",
            "Python é legal demais!\n",
            "Python é legal demais!\n",
            "Python é legal demais!\n",
            "Python é legal demais!\n",
            "Python é legal demais!\n",
            "Python é legal demais!\n",
            "Python é legal demais!\n",
            "Python é legal demais!\n",
            "Python é legal demais!\n",
            "Python é legal demais!\n",
            "Python é legal demais!\n",
            "Python é legal demais!\n",
            "Python é legal demais!\n",
            "Python é legal demais!\n",
            "Python é legal demais!\n",
            "Python é legal demais!\n",
            "Python é legal demais!\n",
            "Python é legal demais!\n",
            "Python é legal demais!\n",
            "Python é legal demais!\n",
            "Python é legal demais!\n",
            "Python é legal demais!\n",
            "Python é legal demais!\n",
            "Python é legal demais!\n",
            "Python é legal demais!\n",
            "Python é legal demais!\n",
            "Python é legal demais!\n",
            "Python é legal demais!\n",
            "Python é legal demais!\n",
            "Python é legal demais!\n",
            "Python é legal demais!\n",
            "Python é legal demais!\n",
            "Python é legal demais!\n",
            "Python é legal demais!\n",
            "Python é legal demais!\n",
            "Python é legal demais!\n",
            "Python é legal demais!\n",
            "Python é legal demais!\n",
            "Python é legal demais!\n",
            "Python é legal demais!\n",
            "Python é legal demais!\n",
            "Python é legal demais!\n",
            "Python é legal demais!\n",
            "Python é legal demais!\n",
            "Python é legal demais!\n",
            "Python é legal demais!\n",
            "Python é legal demais!\n",
            "Python é legal demais!\n",
            "Python é legal demais!\n",
            "Python é legal demais!\n",
            "Python é legal demais!\n",
            "Python é legal demais!\n",
            "Python é legal demais!\n",
            "Python é legal demais!\n",
            "Python é legal demais!\n",
            "Python é legal demais!\n",
            "Python é legal demais!\n",
            "Python é legal demais!\n",
            "Python é legal demais!\n",
            "Python é legal demais!\n",
            "Python é legal demais!\n",
            "Python é legal demais!\n",
            "Python é legal demais!\n",
            "Python é legal demais!\n",
            "Python é legal demais!\n",
            "Python é legal demais!\n",
            "Python é legal demais!\n",
            "Python é legal demais!\n",
            "Python é legal demais!\n",
            "Python é legal demais!\n",
            "Python é legal demais!\n",
            "Python é legal demais!\n",
            "Python é legal demais!\n",
            "Python é legal demais!\n",
            "Python é legal demais!\n",
            "Python é legal demais!\n",
            "Python é legal demais!\n",
            "Python é legal demais!\n",
            "Python é legal demais!\n",
            "Python é legal demais!\n",
            "Python é legal demais!\n",
            "Python é legal demais!\n",
            "Python é legal demais!\n",
            "Python é legal demais!\n",
            "Python é legal demais!\n",
            "Python é legal demais!\n",
            "Python é legal demais!\n",
            "Python é legal demais!\n",
            "Python é legal demais!\n",
            "Python é legal demais!\n",
            "Python é legal demais!\n",
            "Python é legal demais!\n",
            "Python é legal demais!\n",
            "Python é legal demais!\n",
            "Python é legal demais!\n",
            "Python é legal demais!\n",
            "Python é legal demais!\n",
            "Python é legal demais!\n",
            "Python é legal demais!\n",
            "Python é legal demais!\n",
            "Python é legal demais!\n",
            "Python é legal demais!\n",
            "Python é legal demais!\n",
            "Python é legal demais!\n",
            "Python é legal demais!\n",
            "Python é legal demais!\n",
            "Python é legal demais!\n",
            "Python é legal demais!\n",
            "Python é legal demais!\n",
            "Python é legal demais!\n",
            "Python é legal demais!\n",
            "Python é legal demais!\n",
            "Python é legal demais!\n",
            "Python é legal demais!\n",
            "Python é legal demais!\n",
            "Python é legal demais!\n",
            "Python é legal demais!\n",
            "Python é legal demais!\n",
            "Python é legal demais!\n",
            "Python é legal demais!\n",
            "Python é legal demais!\n",
            "Python é legal demais!\n",
            "Python é legal demais!\n",
            "Python é legal demais!\n",
            "Python é legal demais!\n",
            "Python é legal demais!\n",
            "Python é legal demais!\n",
            "Python é legal demais!\n",
            "Python é legal demais!\n",
            "Python é legal demais!\n",
            "Python é legal demais!\n",
            "Python é legal demais!\n",
            "Python é legal demais!\n",
            "Python é legal demais!\n",
            "Python é legal demais!\n",
            "Python é legal demais!\n",
            "Python é legal demais!\n",
            "Python é legal demais!\n",
            "Python é legal demais!\n",
            "Python é legal demais!\n",
            "Python é legal demais!\n",
            "Python é legal demais!\n",
            "Python é legal demais!\n",
            "Python é legal demais!\n",
            "Python é legal demais!\n",
            "Python é legal demais!\n",
            "Python é legal demais!\n",
            "Python é legal demais!\n",
            "Python é legal demais!\n",
            "Python é legal demais!\n",
            "Python é legal demais!\n",
            "Python é legal demais!\n",
            "Python é legal demais!\n",
            "Python é legal demais!\n",
            "Python é legal demais!\n",
            "Python é legal demais!\n",
            "Python é legal demais!\n",
            "Python é legal demais!\n",
            "Python é legal demais!\n",
            "Python é legal demais!\n",
            "Python é legal demais!\n",
            "Python é legal demais!\n",
            "Python é legal demais!\n",
            "Python é legal demais!\n",
            "Python é legal demais!\n",
            "Python é legal demais!\n",
            "Python é legal demais!\n",
            "Python é legal demais!\n",
            "Python é legal demais!\n",
            "Python é legal demais!\n",
            "Python é legal demais!\n",
            "Python é legal demais!\n",
            "Python é legal demais!\n",
            "Python é legal demais!\n",
            "Python é legal demais!\n",
            "Python é legal demais!\n",
            "Python é legal demais!\n",
            "Python é legal demais!\n",
            "Python é legal demais!\n",
            "Python é legal demais!\n",
            "Python é legal demais!\n",
            "Python é legal demais!\n",
            "Python é legal demais!\n",
            "Python é legal demais!\n",
            "Python é legal demais!\n",
            "Python é legal demais!\n",
            "Python é legal demais!\n",
            "Python é legal demais!\n",
            "Python é legal demais!\n",
            "Python é legal demais!\n",
            "Python é legal demais!\n",
            "Python é legal demais!\n",
            "Python é legal demais!\n",
            "Python é legal demais!\n",
            "Python é legal demais!\n",
            "Python é legal demais!\n",
            "Python é legal demais!\n",
            "Python é legal demais!\n",
            "Python é legal demais!\n",
            "Python é legal demais!\n",
            "Python é legal demais!\n",
            "Python é legal demais!\n",
            "Python é legal demais!\n",
            "Python é legal demais!\n",
            "Python é legal demais!\n",
            "Python é legal demais!\n",
            "Python é legal demais!\n",
            "Python é legal demais!\n",
            "Python é legal demais!\n",
            "Python é legal demais!\n",
            "Python é legal demais!\n",
            "Python é legal demais!\n",
            "Python é legal demais!\n",
            "Python é legal demais!\n",
            "Python é legal demais!\n",
            "Python é legal demais!\n",
            "Python é legal demais!\n",
            "Python é legal demais!\n",
            "Python é legal demais!\n",
            "Python é legal demais!\n",
            "Python é legal demais!\n",
            "Python é legal demais!\n",
            "Python é legal demais!\n",
            "Python é legal demais!\n",
            "Python é legal demais!\n",
            "Python é legal demais!\n",
            "Python é legal demais!\n",
            "Python é legal demais!\n",
            "Python é legal demais!\n",
            "Python é legal demais!\n",
            "Python é legal demais!\n",
            "Python é legal demais!\n",
            "Python é legal demais!\n",
            "Python é legal demais!\n",
            "Python é legal demais!\n",
            "Python é legal demais!\n",
            "Python é legal demais!\n",
            "Python é legal demais!\n",
            "Python é legal demais!\n",
            "Python é legal demais!\n",
            "Python é legal demais!\n",
            "Python é legal demais!\n",
            "Python é legal demais!\n",
            "Python é legal demais!\n",
            "Python é legal demais!\n",
            "Python é legal demais!\n",
            "Python é legal demais!\n",
            "Python é legal demais!\n",
            "Python é legal demais!\n",
            "Python é legal demais!\n",
            "Python é legal demais!\n",
            "Python é legal demais!\n",
            "Python é legal demais!\n",
            "Python é legal demais!\n",
            "Python é legal demais!\n",
            "Python é legal demais!\n",
            "Python é legal demais!\n",
            "Python é legal demais!\n",
            "Python é legal demais!\n",
            "Python é legal demais!\n",
            "Python é legal demais!\n",
            "Python é legal demais!\n",
            "Python é legal demais!\n",
            "Python é legal demais!\n",
            "Python é legal demais!\n",
            "Python é legal demais!\n",
            "Python é legal demais!\n",
            "Python é legal demais!\n",
            "Python é legal demais!\n",
            "Python é legal demais!\n",
            "Python é legal demais!\n",
            "Python é legal demais!\n",
            "Python é legal demais!\n",
            "Python é legal demais!\n",
            "Python é legal demais!\n",
            "Python é legal demais!\n",
            "Python é legal demais!\n",
            "Python é legal demais!\n",
            "Python é legal demais!\n",
            "Python é legal demais!\n",
            "Python é legal demais!\n",
            "Python é legal demais!\n",
            "Python é legal demais!\n",
            "Python é legal demais!\n",
            "Python é legal demais!\n",
            "Python é legal demais!\n",
            "Python é legal demais!\n",
            "Python é legal demais!\n",
            "Python é legal demais!\n",
            "Python é legal demais!\n",
            "Python é legal demais!\n",
            "Python é legal demais!\n",
            "Python é legal demais!\n",
            "Python é legal demais!\n",
            "Python é legal demais!\n",
            "Python é legal demais!\n",
            "Python é legal demais!\n",
            "Python é legal demais!\n",
            "Python é legal demais!\n",
            "Python é legal demais!\n",
            "Python é legal demais!\n",
            "Python é legal demais!\n",
            "Python é legal demais!\n",
            "Python é legal demais!\n",
            "Python é legal demais!\n",
            "Python é legal demais!\n",
            "Python é legal demais!\n",
            "Python é legal demais!\n",
            "Python é legal demais!\n",
            "Python é legal demais!\n",
            "Python é legal demais!\n",
            "Python é legal demais!\n",
            "Python é legal demais!\n",
            "Python é legal demais!\n",
            "Python é legal demais!\n",
            "Python é legal demais!\n",
            "Python é legal demais!\n",
            "Python é legal demais!\n",
            "Python é legal demais!\n",
            "Python é legal demais!\n",
            "Python é legal demais!\n",
            "Python é legal demais!\n",
            "Python é legal demais!\n",
            "Python é legal demais!\n",
            "Python é legal demais!\n",
            "Python é legal demais!\n",
            "Python é legal demais!\n",
            "Python é legal demais!\n",
            "Python é legal demais!\n",
            "Python é legal demais!\n",
            "Python é legal demais!\n",
            "Python é legal demais!\n",
            "Python é legal demais!\n",
            "Python é legal demais!\n",
            "Python é legal demais!\n",
            "Python é legal demais!\n",
            "Python é legal demais!\n",
            "Python é legal demais!\n",
            "Python é legal demais!\n",
            "Python é legal demais!\n",
            "Python é legal demais!\n",
            "Python é legal demais!\n",
            "Python é legal demais!\n",
            "Python é legal demais!\n",
            "Python é legal demais!\n",
            "Python é legal demais!\n",
            "Python é legal demais!\n",
            "Python é legal demais!\n",
            "Python é legal demais!\n",
            "Python é legal demais!\n",
            "Python é legal demais!\n",
            "Python é legal demais!\n",
            "Python é legal demais!\n",
            "Python é legal demais!\n",
            "Python é legal demais!\n",
            "Python é legal demais!\n",
            "Python é legal demais!\n",
            "Python é legal demais!\n",
            "Python é legal demais!\n",
            "Python é legal demais!\n",
            "Python é legal demais!\n",
            "Python é legal demais!\n",
            "Python é legal demais!\n",
            "Python é legal demais!\n",
            "Python é legal demais!\n",
            "Python é legal demais!\n",
            "Python é legal demais!\n",
            "Python é legal demais!\n",
            "Python é legal demais!\n",
            "Python é legal demais!\n",
            "Python é legal demais!\n",
            "Python é legal demais!\n",
            "Python é legal demais!\n",
            "Python é legal demais!\n",
            "Python é legal demais!\n",
            "Python é legal demais!\n",
            "Python é legal demais!\n",
            "Python é legal demais!\n",
            "Python é legal demais!\n",
            "Python é legal demais!\n",
            "Python é legal demais!\n",
            "Python é legal demais!\n",
            "Python é legal demais!\n",
            "Python é legal demais!\n",
            "Python é legal demais!\n",
            "Python é legal demais!\n",
            "Python é legal demais!\n",
            "Python é legal demais!\n",
            "Python é legal demais!\n",
            "Python é legal demais!\n",
            "Python é legal demais!\n",
            "Python é legal demais!\n",
            "Python é legal demais!\n",
            "Python é legal demais!\n",
            "Python é legal demais!\n",
            "Python é legal demais!\n",
            "Python é legal demais!\n",
            "Python é legal demais!\n",
            "Python é legal demais!\n",
            "Python é legal demais!\n",
            "Python é legal demais!\n",
            "Python é legal demais!\n",
            "Python é legal demais!\n",
            "Python é legal demais!\n",
            "Python é legal demais!\n",
            "Python é legal demais!\n",
            "Python é legal demais!\n",
            "Python é legal demais!\n",
            "Python é legal demais!\n",
            "Python é legal demais!\n",
            "Python é legal demais!\n",
            "Python é legal demais!\n",
            "Python é legal demais!\n",
            "Python é legal demais!\n",
            "Python é legal demais!\n",
            "Python é legal demais!\n",
            "Python é legal demais!\n",
            "Python é legal demais!\n",
            "Python é legal demais!\n",
            "Python é legal demais!\n",
            "Python é legal demais!\n",
            "Python é legal demais!\n",
            "Python é legal demais!\n",
            "Python é legal demais!\n",
            "Python é legal demais!\n",
            "Python é legal demais!\n",
            "Python é legal demais!\n",
            "Python é legal demais!\n",
            "Python é legal demais!\n",
            "Python é legal demais!\n",
            "Python é legal demais!\n",
            "Python é legal demais!\n",
            "Python é legal demais!\n",
            "Python é legal demais!\n",
            "Python é legal demais!\n",
            "Python é legal demais!\n",
            "Python é legal demais!\n",
            "Python é legal demais!\n",
            "Python é legal demais!\n",
            "Python é legal demais!\n",
            "Python é legal demais!\n",
            "Python é legal demais!\n",
            "Python é legal demais!\n",
            "Python é legal demais!\n",
            "Python é legal demais!\n",
            "Python é legal demais!\n",
            "Python é legal demais!\n",
            "Python é legal demais!\n",
            "Python é legal demais!\n",
            "Python é legal demais!\n",
            "Python é legal demais!\n",
            "Python é legal demais!\n",
            "Python é legal demais!\n",
            "Python é legal demais!\n",
            "Python é legal demais!\n",
            "Python é legal demais!\n",
            "Python é legal demais!\n",
            "Python é legal demais!\n",
            "Python é legal demais!\n",
            "Python é legal demais!\n",
            "Python é legal demais!\n",
            "Python é legal demais!\n",
            "Python é legal demais!\n",
            "Python é legal demais!\n",
            "Python é legal demais!\n",
            "Python é legal demais!\n",
            "Python é legal demais!\n",
            "Python é legal demais!\n",
            "Python é legal demais!\n",
            "Python é legal demais!\n",
            "Python é legal demais!\n",
            "Python é legal demais!\n",
            "Python é legal demais!\n",
            "Python é legal demais!\n",
            "Python é legal demais!\n",
            "Python é legal demais!\n",
            "Python é legal demais!\n",
            "Python é legal demais!\n",
            "Python é legal demais!\n",
            "Python é legal demais!\n",
            "Python é legal demais!\n",
            "Python é legal demais!\n",
            "Python é legal demais!\n",
            "Python é legal demais!\n",
            "Python é legal demais!\n",
            "Python é legal demais!\n",
            "Python é legal demais!\n",
            "Python é legal demais!\n",
            "Python é legal demais!\n",
            "Python é legal demais!\n",
            "Python é legal demais!\n",
            "Python é legal demais!\n",
            "Python é legal demais!\n",
            "Python é legal demais!\n",
            "Python é legal demais!\n",
            "Python é legal demais!\n",
            "Python é legal demais!\n",
            "Python é legal demais!\n",
            "Python é legal demais!\n",
            "Python é legal demais!\n",
            "Python é legal demais!\n",
            "Python é legal demais!\n",
            "Python é legal demais!\n",
            "Python é legal demais!\n",
            "Python é legal demais!\n",
            "Python é legal demais!\n",
            "Python é legal demais!\n",
            "Python é legal demais!\n",
            "Python é legal demais!\n",
            "Python é legal demais!\n",
            "Python é legal demais!\n",
            "Python é legal demais!\n",
            "Python é legal demais!\n",
            "Python é legal demais!\n",
            "Python é legal demais!\n",
            "Python é legal demais!\n",
            "Python é legal demais!\n",
            "Python é legal demais!\n",
            "Python é legal demais!\n",
            "Python é legal demais!\n",
            "Python é legal demais!\n",
            "Python é legal demais!\n",
            "Python é legal demais!\n",
            "Python é legal demais!\n",
            "Python é legal demais!\n",
            "Python é legal demais!\n",
            "Python é legal demais!\n",
            "Python é legal demais!\n",
            "Python é legal demais!\n",
            "Python é legal demais!\n",
            "Python é legal demais!\n",
            "Python é legal demais!\n",
            "Python é legal demais!\n",
            "Python é legal demais!\n",
            "Python é legal demais!\n",
            "Python é legal demais!\n",
            "Python é legal demais!\n",
            "Python é legal demais!\n",
            "Python é legal demais!\n",
            "Python é legal demais!\n",
            "Python é legal demais!\n",
            "Python é legal demais!\n",
            "Python é legal demais!\n",
            "Python é legal demais!\n",
            "Python é legal demais!\n",
            "Python é legal demais!\n",
            "Python é legal demais!\n",
            "Python é legal demais!\n",
            "Python é legal demais!\n",
            "Python é legal demais!\n",
            "Python é legal demais!\n",
            "Python é legal demais!\n",
            "Python é legal demais!\n",
            "Python é legal demais!\n",
            "Python é legal demais!\n",
            "Python é legal demais!\n",
            "Python é legal demais!\n",
            "Python é legal demais!\n",
            "Python é legal demais!\n",
            "Python é legal demais!\n",
            "Python é legal demais!\n",
            "Python é legal demais!\n",
            "Python é legal demais!\n",
            "Python é legal demais!\n",
            "Python é legal demais!\n",
            "Python é legal demais!\n",
            "Python é legal demais!\n",
            "Python é legal demais!\n",
            "Python é legal demais!\n",
            "Python é legal demais!\n",
            "Python é legal demais!\n",
            "Python é legal demais!\n",
            "Python é legal demais!\n",
            "Python é legal demais!\n",
            "Python é legal demais!\n",
            "Python é legal demais!\n",
            "Python é legal demais!\n",
            "Python é legal demais!\n",
            "Python é legal demais!\n",
            "Python é legal demais!\n",
            "Python é legal demais!\n",
            "Python é legal demais!\n",
            "Python é legal demais!\n",
            "Python é legal demais!\n",
            "Python é legal demais!\n",
            "Python é legal demais!\n",
            "Python é legal demais!\n",
            "Python é legal demais!\n",
            "Python é legal demais!\n",
            "Python é legal demais!\n",
            "Python é legal demais!\n",
            "Python é legal demais!\n",
            "Python é legal demais!\n",
            "Python é legal demais!\n",
            "Python é legal demais!\n",
            "Python é legal demais!\n",
            "Python é legal demais!\n",
            "Python é legal demais!\n",
            "Python é legal demais!\n",
            "Python é legal demais!\n",
            "Python é legal demais!\n",
            "Python é legal demais!\n",
            "Python é legal demais!\n",
            "Python é legal demais!\n",
            "Python é legal demais!\n",
            "Python é legal demais!\n",
            "Python é legal demais!\n",
            "Python é legal demais!\n",
            "Python é legal demais!\n",
            "Python é legal demais!\n",
            "Python é legal demais!\n",
            "Python é legal demais!\n",
            "Python é legal demais!\n",
            "Python é legal demais!\n",
            "Python é legal demais!\n",
            "Python é legal demais!\n",
            "Python é legal demais!\n",
            "Python é legal demais!\n",
            "Python é legal demais!\n",
            "Python é legal demais!\n",
            "Python é legal demais!\n",
            "Python é legal demais!\n",
            "Python é legal demais!\n",
            "Python é legal demais!\n",
            "Python é legal demais!\n",
            "Python é legal demais!\n",
            "Python é legal demais!\n",
            "Python é legal demais!\n",
            "Python é legal demais!\n",
            "Python é legal demais!\n",
            "Python é legal demais!\n",
            "Python é legal demais!\n",
            "Python é legal demais!\n",
            "Python é legal demais!\n",
            "Python é legal demais!\n",
            "Python é legal demais!\n",
            "Python é legal demais!\n",
            "Python é legal demais!\n",
            "Python é legal demais!\n",
            "Python é legal demais!\n",
            "Python é legal demais!\n",
            "Python é legal demais!\n",
            "Python é legal demais!\n",
            "Python é legal demais!\n",
            "Python é legal demais!\n",
            "Python é legal demais!\n",
            "Python é legal demais!\n",
            "Python é legal demais!\n",
            "Python é legal demais!\n",
            "Python é legal demais!\n",
            "Python é legal demais!\n",
            "Python é legal demais!\n",
            "Python é legal demais!\n",
            "Python é legal demais!\n",
            "Python é legal demais!\n",
            "Python é legal demais!\n",
            "Python é legal demais!\n",
            "Python é legal demais!\n",
            "Python é legal demais!\n",
            "Python é legal demais!\n",
            "Python é legal demais!\n",
            "Python é legal demais!\n",
            "Python é legal demais!\n",
            "Python é legal demais!\n",
            "Python é legal demais!\n",
            "Python é legal demais!\n",
            "Python é legal demais!\n",
            "Python é legal demais!\n",
            "Python é legal demais!\n",
            "Python é legal demais!\n",
            "Python é legal demais!\n",
            "Python é legal demais!\n",
            "Python é legal demais!\n",
            "Python é legal demais!\n",
            "Python é legal demais!\n",
            "Python é legal demais!\n",
            "Python é legal demais!\n",
            "Python é legal demais!\n",
            "Python é legal demais!\n",
            "Python é legal demais!\n",
            "Python é legal demais!\n",
            "Python é legal demais!\n",
            "Python é legal demais!\n",
            "Python é legal demais!\n",
            "Python é legal demais!\n",
            "Python é legal demais!\n",
            "Python é legal demais!\n",
            "Python é legal demais!\n",
            "Python é legal demais!\n",
            "Python é legal demais!\n",
            "Python é legal demais!\n",
            "Python é legal demais!\n",
            "Python é legal demais!\n",
            "Python é legal demais!\n",
            "Python é legal demais!\n",
            "Python é legal demais!\n",
            "Python é legal demais!\n",
            "Python é legal demais!\n",
            "Python é legal demais!\n",
            "Python é legal demais!\n",
            "Python é legal demais!\n",
            "Python é legal demais!\n",
            "Python é legal demais!\n",
            "Python é legal demais!\n",
            "Python é legal demais!\n",
            "Python é legal demais!\n",
            "Python é legal demais!\n",
            "Python é legal demais!\n",
            "Python é legal demais!\n",
            "Python é legal demais!\n",
            "Python é legal demais!\n",
            "Python é legal demais!\n",
            "Python é legal demais!\n",
            "Python é legal demais!\n",
            "Python é legal demais!\n",
            "Python é legal demais!\n",
            "Python é legal demais!\n",
            "Python é legal demais!\n",
            "Python é legal demais!\n",
            "Python é legal demais!\n",
            "Python é legal demais!\n",
            "Python é legal demais!\n",
            "Python é legal demais!\n",
            "Python é legal demais!\n",
            "Python é legal demais!\n",
            "Python é legal demais!\n",
            "Python é legal demais!\n",
            "Python é legal demais!\n",
            "Python é legal demais!\n",
            "Python é legal demais!\n",
            "Python é legal demais!\n",
            "Python é legal demais!\n",
            "Python é legal demais!\n",
            "Python é legal demais!\n",
            "Python é legal demais!\n",
            "Python é legal demais!\n",
            "Python é legal demais!\n",
            "Python é legal demais!\n",
            "Python é legal demais!\n",
            "Python é legal demais!\n",
            "Python é legal demais!\n",
            "Python é legal demais!\n",
            "Python é legal demais!\n",
            "Python é legal demais!\n",
            "Python é legal demais!\n",
            "Python é legal demais!\n",
            "Python é legal demais!\n",
            "Python é legal demais!\n",
            "Python é legal demais!\n",
            "Python é legal demais!\n",
            "Python é legal demais!\n",
            "Python é legal demais!\n",
            "Python é legal demais!\n",
            "Python é legal demais!\n",
            "Python é legal demais!\n",
            "Python é legal demais!\n",
            "Python é legal demais!\n",
            "Python é legal demais!\n",
            "Python é legal demais!\n",
            "Python é legal demais!\n",
            "Python é legal demais!\n",
            "Python é legal demais!\n",
            "Python é legal demais!\n",
            "Python é legal demais!\n",
            "Python é legal demais!\n",
            "Python é legal demais!\n",
            "Python é legal demais!\n",
            "Python é legal demais!\n",
            "Python é legal demais!\n",
            "Python é legal demais!\n",
            "Python é legal demais!\n",
            "Python é legal demais!\n",
            "Python é legal demais!\n",
            "Python é legal demais!\n",
            "Python é legal demais!\n",
            "Python é legal demais!\n",
            "Python é legal demais!\n",
            "Python é legal demais!\n",
            "Python é legal demais!\n",
            "Python é legal demais!\n",
            "Python é legal demais!\n",
            "Python é legal demais!\n",
            "Python é legal demais!\n",
            "Python é legal demais!\n",
            "Python é legal demais!\n",
            "Python é legal demais!\n",
            "Python é legal demais!\n",
            "Python é legal demais!\n",
            "Python é legal demais!\n",
            "Python é legal demais!\n",
            "Python é legal demais!\n",
            "Python é legal demais!\n",
            "Python é legal demais!\n",
            "Python é legal demais!\n",
            "Python é legal demais!\n",
            "Python é legal demais!\n",
            "Python é legal demais!\n",
            "Python é legal demais!\n",
            "Python é legal demais!\n",
            "Python é legal demais!\n",
            "Python é legal demais!\n",
            "Python é legal demais!\n",
            "Python é legal demais!\n",
            "Python é legal demais!\n",
            "Python é legal demais!\n",
            "Python é legal demais!\n",
            "Python é legal demais!\n",
            "Python é legal demais!\n",
            "Python é legal demais!\n",
            "Python é legal demais!\n",
            "Python é legal demais!\n",
            "Python é legal demais!\n",
            "Python é legal demais!\n",
            "Python é legal demais!\n",
            "Python é legal demais!\n",
            "Python é legal demais!\n",
            "Python é legal demais!\n",
            "Python é legal demais!\n",
            "Python é legal demais!\n",
            "Python é legal demais!\n",
            "Python é legal demais!\n",
            "Python é legal demais!\n",
            "Python é legal demais!\n",
            "Python é legal demais!\n",
            "Python é legal demais!\n",
            "Python é legal demais!\n",
            "Python é legal demais!\n",
            "Python é legal demais!\n",
            "Python é legal demais!\n",
            "Python é legal demais!\n",
            "Python é legal demais!\n",
            "Python é legal demais!\n",
            "Python é legal demais!\n",
            "Python é legal demais!\n",
            "Python é legal demais!\n",
            "Python é legal demais!\n",
            "Python é legal demais!\n",
            "Python é legal demais!\n",
            "Python é legal demais!\n",
            "Python é legal demais!\n",
            "Python é legal demais!\n",
            "Python é legal demais!\n",
            "Python é legal demais!\n",
            "Python é legal demais!\n",
            "Python é legal demais!\n",
            "Python é legal demais!\n",
            "Python é legal demais!\n",
            "Python é legal demais!\n",
            "Python é legal demais!\n",
            "Python é legal demais!\n",
            "Python é legal demais!\n",
            "Python é legal demais!\n",
            "Python é legal demais!\n",
            "Python é legal demais!\n",
            "Python é legal demais!\n",
            "Python é legal demais!\n"
          ],
          "name": "stdout"
        },
        {
          "output_type": "error",
          "ename": "KeyboardInterrupt",
          "evalue": "ignored",
          "traceback": [
            "\u001b[0;31m---------------------------------------------------------------------------\u001b[0m",
            "\u001b[0;31mKeyboardInterrupt\u001b[0m                         Traceback (most recent call last)",
            "\u001b[0;32m<ipython-input-56-53d78d1fa14d>\u001b[0m in \u001b[0;36m<module>\u001b[0;34m()\u001b[0m\n\u001b[1;32m      1\u001b[0m \u001b[0;32mwhile\u001b[0m \u001b[0;32mTrue\u001b[0m\u001b[0;34m:\u001b[0m\u001b[0;34m\u001b[0m\u001b[0;34m\u001b[0m\u001b[0m\n\u001b[0;32m----> 2\u001b[0;31m     \u001b[0mprint\u001b[0m\u001b[0;34m(\u001b[0m\u001b[0;34m'Python é legal demais!'\u001b[0m\u001b[0;34m)\u001b[0m\u001b[0;34m\u001b[0m\u001b[0;34m\u001b[0m\u001b[0m\n\u001b[0m",
            "\u001b[0;32m/usr/local/lib/python3.7/dist-packages/ipykernel/iostream.py\u001b[0m in \u001b[0;36mwrite\u001b[0;34m(self, string)\u001b[0m\n\u001b[1;32m    398\u001b[0m             \u001b[0mis_child\u001b[0m \u001b[0;34m=\u001b[0m \u001b[0;34m(\u001b[0m\u001b[0;32mnot\u001b[0m \u001b[0mself\u001b[0m\u001b[0;34m.\u001b[0m\u001b[0m_is_master_process\u001b[0m\u001b[0;34m(\u001b[0m\u001b[0;34m)\u001b[0m\u001b[0;34m)\u001b[0m\u001b[0;34m\u001b[0m\u001b[0;34m\u001b[0m\u001b[0m\n\u001b[1;32m    399\u001b[0m             \u001b[0;31m# only touch the buffer in the IO thread to avoid races\u001b[0m\u001b[0;34m\u001b[0m\u001b[0;34m\u001b[0m\u001b[0;34m\u001b[0m\u001b[0m\n\u001b[0;32m--> 400\u001b[0;31m             \u001b[0mself\u001b[0m\u001b[0;34m.\u001b[0m\u001b[0mpub_thread\u001b[0m\u001b[0;34m.\u001b[0m\u001b[0mschedule\u001b[0m\u001b[0;34m(\u001b[0m\u001b[0;32mlambda\u001b[0m \u001b[0;34m:\u001b[0m \u001b[0mself\u001b[0m\u001b[0;34m.\u001b[0m\u001b[0m_buffer\u001b[0m\u001b[0;34m.\u001b[0m\u001b[0mwrite\u001b[0m\u001b[0;34m(\u001b[0m\u001b[0mstring\u001b[0m\u001b[0;34m)\u001b[0m\u001b[0;34m)\u001b[0m\u001b[0;34m\u001b[0m\u001b[0;34m\u001b[0m\u001b[0m\n\u001b[0m\u001b[1;32m    401\u001b[0m             \u001b[0;32mif\u001b[0m \u001b[0mis_child\u001b[0m\u001b[0;34m:\u001b[0m\u001b[0;34m\u001b[0m\u001b[0;34m\u001b[0m\u001b[0m\n\u001b[1;32m    402\u001b[0m                 \u001b[0;31m# newlines imply flush in subprocesses\u001b[0m\u001b[0;34m\u001b[0m\u001b[0;34m\u001b[0m\u001b[0;34m\u001b[0m\u001b[0m\n",
            "\u001b[0;32m/usr/local/lib/python3.7/dist-packages/ipykernel/iostream.py\u001b[0m in \u001b[0;36mschedule\u001b[0;34m(self, f)\u001b[0m\n\u001b[1;32m    201\u001b[0m             \u001b[0mself\u001b[0m\u001b[0;34m.\u001b[0m\u001b[0m_events\u001b[0m\u001b[0;34m.\u001b[0m\u001b[0mappend\u001b[0m\u001b[0;34m(\u001b[0m\u001b[0mf\u001b[0m\u001b[0;34m)\u001b[0m\u001b[0;34m\u001b[0m\u001b[0;34m\u001b[0m\u001b[0m\n\u001b[1;32m    202\u001b[0m             \u001b[0;31m# wake event thread (message content is ignored)\u001b[0m\u001b[0;34m\u001b[0m\u001b[0;34m\u001b[0m\u001b[0;34m\u001b[0m\u001b[0m\n\u001b[0;32m--> 203\u001b[0;31m             \u001b[0mself\u001b[0m\u001b[0;34m.\u001b[0m\u001b[0m_event_pipe\u001b[0m\u001b[0;34m.\u001b[0m\u001b[0msend\u001b[0m\u001b[0;34m(\u001b[0m\u001b[0;34mb''\u001b[0m\u001b[0;34m)\u001b[0m\u001b[0;34m\u001b[0m\u001b[0;34m\u001b[0m\u001b[0m\n\u001b[0m\u001b[1;32m    204\u001b[0m         \u001b[0;32melse\u001b[0m\u001b[0;34m:\u001b[0m\u001b[0;34m\u001b[0m\u001b[0;34m\u001b[0m\u001b[0m\n\u001b[1;32m    205\u001b[0m             \u001b[0mf\u001b[0m\u001b[0;34m(\u001b[0m\u001b[0;34m)\u001b[0m\u001b[0;34m\u001b[0m\u001b[0;34m\u001b[0m\u001b[0m\n",
            "\u001b[0;32m/usr/local/lib/python3.7/dist-packages/zmq/sugar/socket.py\u001b[0m in \u001b[0;36msend\u001b[0;34m(self, data, flags, copy, track, routing_id, group)\u001b[0m\n\u001b[1;32m    503\u001b[0m                 )\n\u001b[1;32m    504\u001b[0m             \u001b[0mdata\u001b[0m\u001b[0;34m.\u001b[0m\u001b[0mgroup\u001b[0m \u001b[0;34m=\u001b[0m \u001b[0mgroup\u001b[0m\u001b[0;34m\u001b[0m\u001b[0;34m\u001b[0m\u001b[0m\n\u001b[0;32m--> 505\u001b[0;31m         \u001b[0;32mreturn\u001b[0m \u001b[0msuper\u001b[0m\u001b[0;34m(\u001b[0m\u001b[0mSocket\u001b[0m\u001b[0;34m,\u001b[0m \u001b[0mself\u001b[0m\u001b[0;34m)\u001b[0m\u001b[0;34m.\u001b[0m\u001b[0msend\u001b[0m\u001b[0;34m(\u001b[0m\u001b[0mdata\u001b[0m\u001b[0;34m,\u001b[0m \u001b[0mflags\u001b[0m\u001b[0;34m=\u001b[0m\u001b[0mflags\u001b[0m\u001b[0;34m,\u001b[0m \u001b[0mcopy\u001b[0m\u001b[0;34m=\u001b[0m\u001b[0mcopy\u001b[0m\u001b[0;34m,\u001b[0m \u001b[0mtrack\u001b[0m\u001b[0;34m=\u001b[0m\u001b[0mtrack\u001b[0m\u001b[0;34m)\u001b[0m\u001b[0;34m\u001b[0m\u001b[0;34m\u001b[0m\u001b[0m\n\u001b[0m\u001b[1;32m    506\u001b[0m \u001b[0;34m\u001b[0m\u001b[0m\n\u001b[1;32m    507\u001b[0m     \u001b[0;32mdef\u001b[0m \u001b[0msend_multipart\u001b[0m\u001b[0;34m(\u001b[0m\u001b[0mself\u001b[0m\u001b[0;34m,\u001b[0m \u001b[0mmsg_parts\u001b[0m\u001b[0;34m,\u001b[0m \u001b[0mflags\u001b[0m\u001b[0;34m=\u001b[0m\u001b[0;36m0\u001b[0m\u001b[0;34m,\u001b[0m \u001b[0mcopy\u001b[0m\u001b[0;34m=\u001b[0m\u001b[0;32mTrue\u001b[0m\u001b[0;34m,\u001b[0m \u001b[0mtrack\u001b[0m\u001b[0;34m=\u001b[0m\u001b[0;32mFalse\u001b[0m\u001b[0;34m,\u001b[0m \u001b[0;34m**\u001b[0m\u001b[0mkwargs\u001b[0m\u001b[0;34m)\u001b[0m\u001b[0;34m:\u001b[0m\u001b[0;34m\u001b[0m\u001b[0;34m\u001b[0m\u001b[0m\n",
            "\u001b[0;32mzmq/backend/cython/socket.pyx\u001b[0m in \u001b[0;36mzmq.backend.cython.socket.Socket.send\u001b[0;34m()\u001b[0m\n",
            "\u001b[0;32mzmq/backend/cython/socket.pyx\u001b[0m in \u001b[0;36mzmq.backend.cython.socket.Socket.send\u001b[0;34m()\u001b[0m\n",
            "\u001b[0;32mzmq/backend/cython/socket.pyx\u001b[0m in \u001b[0;36mzmq.backend.cython.socket._send_copy\u001b[0;34m()\u001b[0m\n",
            "\u001b[0;32m/usr/local/lib/python3.7/dist-packages/zmq/backend/cython/checkrc.pxd\u001b[0m in \u001b[0;36mzmq.backend.cython.checkrc._check_rc\u001b[0;34m()\u001b[0m\n",
            "\u001b[0;31mKeyboardInterrupt\u001b[0m: "
          ]
        }
      ]
    },
    {
      "cell_type": "markdown",
      "metadata": {
        "id": "ZAOdZjiQiyJ8"
      },
      "source": [
        "O **while** também aceita o comando **else** no após o seu fim. Algo para executar após o break acontecer"
      ]
    },
    {
      "cell_type": "code",
      "metadata": {
        "id": "B9vxNRKOi9zH",
        "colab": {
          "base_uri": "https://localhost:8080/"
        },
        "outputId": "8e5fa533-d740-46ca-f08c-39345fa9b48e"
      },
      "source": [
        "i = 1\n",
        "while i <= 10:\n",
        "    print(i * '*') \n",
        "    i += 1\n",
        "else:\n",
        "    print('*')"
      ],
      "execution_count": 57,
      "outputs": [
        {
          "output_type": "stream",
          "text": [
            "*\n",
            "**\n",
            "***\n",
            "****\n",
            "*****\n",
            "******\n",
            "*******\n",
            "********\n",
            "*********\n",
            "**********\n",
            "*\n"
          ],
          "name": "stdout"
        }
      ]
    },
    {
      "cell_type": "markdown",
      "metadata": {
        "id": "SpNvv45sE3Vi"
      },
      "source": [
        "---"
      ]
    },
    {
      "cell_type": "markdown",
      "metadata": {
        "id": "iTybxsEjYEko"
      },
      "source": [
        "## **PROJETO: Álbum One Piece 2021**\n",
        "- Total de cromos: **212**.\n",
        "- Preço do livro ilustrado capa brochura: **R\\$ 10,00**.\n",
        "- Envelope com 4 cromos: **R\\$ 4,00**.\n"
      ]
    },
    {
      "cell_type": "markdown",
      "metadata": {
        "id": "8L_o_sWYFr9o"
      },
      "source": [
        "\n",
        "### **SUPOSIÇÕES**\n",
        "1. Todas as figurinhas tem igual probabilidade de serem sorteradas.\n",
        "2. Um pacotinho é comprado por vez até que se complete o álbum.  \n"
      ]
    },
    {
      "cell_type": "markdown",
      "metadata": {
        "id": "yPqI87X_Frc3"
      },
      "source": [
        "\n",
        "### **ALGORITMO**\n",
        "1. Comprar um pacotinho de figurinhas (4 figurinhas cada, que podem ser repetidas);\n",
        "2. Colar no álbum e verificar se o álbum está completo;\n",
        "3. Caso esteja incompleto, comprar mais um pacotinho, caso contrário, terminar.\n"
      ]
    },
    {
      "cell_type": "markdown",
      "metadata": {
        "id": "P5cBz-uZDI8a"
      },
      "source": [
        "\n",
        "### **PERGUNTAS**\n",
        "1. Qual o valor médio investido para completar o álbum nessas condições?\n",
        "2. Quantos pacotes são necessários comprar, em média, para completar o álbum?\n",
        "3. Qual é a distribuição empírica do valor investido para completar o álbum?\n",
        "4. Qual a probabilidade de se gastar menos que R\\$1500,00 para completar o álbum?\n",
        "5. Qual a probabilidade de se gastar mais do que a média para completar o álbum?\n",
        "6. Qual é um intervalo de confiança de 95% para o gasto ao se completar o álbum?\n",
        "7. Qual o valor médio gasto caso se esteja completando o álbum com mais um amigo? \n",
        "8. Qual o valor médio gasto caso se esteja completando o álbum com mais dois amigos? \n"
      ]
    },
    {
      "cell_type": "code",
      "metadata": {
        "id": "h2l9BcKaV_eX"
      },
      "source": [
        "n_album = 212\n",
        "preco_pacote = 4\n",
        "cromos_por_pacote = 4\n",
        "preco_album = 10 \n",
        "simulacoes = 1000"
      ],
      "execution_count": 58,
      "outputs": []
    },
    {
      "cell_type": "code",
      "metadata": {
        "id": "xB0munEeV_n_"
      },
      "source": [
        "import numpy as np\n",
        "\n",
        "# representação do álbum\n",
        "album = np.zeros(n_album) \n",
        "\n",
        "# representação do pacote de figurinhas\n",
        "pacotinho = np.random.choice(range(n_album), cromos_por_pacote)\n",
        "pacotinho\n",
        "\n",
        "# 'colando' as figurinhas obtidas no álbum\n",
        "for i in pacotinho:\n",
        "    album[i] += 1"
      ],
      "execution_count": 59,
      "outputs": []
    },
    {
      "cell_type": "code",
      "metadata": {
        "colab": {
          "base_uri": "https://localhost:8080/"
        },
        "id": "wZA98qWkY6eS",
        "outputId": "bb2eba4b-da2a-4552-c351-6be619b894cc"
      },
      "source": [
        "# comprando figurinhas até completar o álbum\n",
        "def SimulaAlbum():\n",
        "    album = np.zeros(n_album) \n",
        "    pacotes = 0\n",
        "    while not np.all(album >= 1):\n",
        "        pacotinho = np.random.choice(range(n_album), 4)\n",
        "        pacotes += 1\n",
        "\n",
        "        for i in pacotinho:\n",
        "            album[i] += 1\n",
        " \n",
        "    valor_gasto = preco_album + preco_pacote * pacotes \n",
        "\n",
        "    return valor_gasto, pacotes\n",
        "\n",
        "SimulaAlbum()"
      ],
      "execution_count": 60,
      "outputs": [
        {
          "output_type": "execute_result",
          "data": {
            "text/plain": [
              "(1542, 383)"
            ]
          },
          "metadata": {
            "tags": []
          },
          "execution_count": 60
        }
      ]
    },
    {
      "cell_type": "code",
      "metadata": {
        "id": "q1khZHjQoJhg",
        "colab": {
          "base_uri": "https://localhost:8080/"
        },
        "outputId": "d90f5099-08ae-43b8-9828-53643f586f09"
      },
      "source": [
        "def Simulacao(simulacoes = 1000, silencio = False):\n",
        "    valores = []\n",
        "    for i in range(simulacoes):\n",
        "        valores.append(SimulaAlbum()[0])\n",
        "        if not silencio:\n",
        "            if (i+1) % 100 == 0:\n",
        "                print('Simulação: ', i+1, '/', simulacoes)\n",
        "    return valores\n",
        "\n",
        "sim = Simulacao(simulacoes)"
      ],
      "execution_count": 61,
      "outputs": [
        {
          "output_type": "stream",
          "text": [
            "Simulação:  100 / 1000\n",
            "Simulação:  200 / 1000\n",
            "Simulação:  300 / 1000\n",
            "Simulação:  400 / 1000\n",
            "Simulação:  500 / 1000\n",
            "Simulação:  600 / 1000\n",
            "Simulação:  700 / 1000\n",
            "Simulação:  800 / 1000\n",
            "Simulação:  900 / 1000\n",
            "Simulação:  1000 / 1000\n"
          ],
          "name": "stdout"
        }
      ]
    },
    {
      "cell_type": "code",
      "metadata": {
        "id": "aWgOBRkHqoKk",
        "colab": {
          "base_uri": "https://localhost:8080/"
        },
        "outputId": "6c197fa6-d375-424b-e7ca-a5ebe8c04fc5"
      },
      "source": [
        "#questões 1 e 2\n",
        "print('O valor médio gasto foi:', round(np.mean(sim), 2))\n",
        "print('O numero de pacotes médio foi:', round((np.mean(sim) - preco_album)/preco_pacote, 2))"
      ],
      "execution_count": 62,
      "outputs": [
        {
          "output_type": "stream",
          "text": [
            "O valor médio gasto foi: 1269.72\n",
            "O numero de pacotes médio foi: 314.93\n"
          ],
          "name": "stdout"
        }
      ]
    },
    {
      "cell_type": "code",
      "metadata": {
        "colab": {
          "base_uri": "https://localhost:8080/",
          "height": 283
        },
        "id": "5Okpk1hpdsL1",
        "outputId": "d9eb673d-431d-4eb0-93ee-fa197cc42162"
      },
      "source": [
        "#questão 3\n",
        "import matplotlib.pyplot as plt\n",
        "plt.hist(sim, bins = 20, density = True, color = 'royalblue', edgecolor = 'black')\n",
        "plt.title('Distribuição Empírica do Valor Gasto para Completar o Álbum')\n",
        "plt.show()"
      ],
      "execution_count": 63,
      "outputs": [
        {
          "output_type": "display_data",
          "data": {
            "image/png": "[encoded data removed]",
            "text/plain": [
              "<Figure size 432x288 with 1 Axes>"
            ]
          },
          "metadata": {
            "tags": [],
            "needs_background": "light"
          }
        }
      ]
    },
    {
      "cell_type": "code",
      "metadata": {
        "colab": {
          "base_uri": "https://localhost:8080/"
        },
        "id": "EXppupwcGvGz",
        "outputId": "fcaf8da9-f104-4479-8c9a-dd1d2655cb77"
      },
      "source": [
        "# questoes 4 e 5\n",
        " \n",
        "prob1 = sum(np.array(sim) < 1500)/simulacoes\n",
        "prob2 = sum(np.array(sim) > np.array(sim).mean())/simulacoes\n",
        " \n",
        "print('A probabilidade de se gastar menos de 1500 é {:.2f}%'.format(prob1*100))\n",
        "print('A probabilidade de se gastar mais do que a média é {:.2f}%'.format(prob2*100))"
      ],
      "execution_count": 64,
      "outputs": [
        {
          "output_type": "stream",
          "text": [
            "A probabilidade de se gastar menos de 1500 é 81.70%\n",
            "A probabilidade de se gastar mais do que a média é 44.30%\n"
          ],
          "name": "stdout"
        }
      ]
    },
    {
      "cell_type": "code",
      "metadata": {
        "colab": {
          "base_uri": "https://localhost:8080/"
        },
        "id": "JIOgRcqAHKqR",
        "outputId": "5c4c2d57-56c0-467c-97fa-35ca6ed562b6"
      },
      "source": [
        "# questao 6\n",
        "\n",
        "qts = np.quantile(sim, [0.025, 0.975])\n",
        "print('O intervalo de confiança de 95% para o gasto total é ({:.2f}, {:.2f})'.format(qts[0], qts[1]))"
      ],
      "execution_count": 65,
      "outputs": [
        {
          "output_type": "stream",
          "text": [
            "O intervalo de confiança de 95% para o gasto total é (873.90, 1910.20)\n"
          ],
          "name": "stdout"
        }
      ]
    },
    {
      "cell_type": "markdown",
      "metadata": {
        "id": "GLhYEJ6Ctddf"
      },
      "source": [
        "### **E quando estamos trocando figurinhas na praça?**"
      ]
    },
    {
      "cell_type": "markdown",
      "metadata": {
        "id": "hqjOg8hEuCur"
      },
      "source": [
        "Vamos ajustar a nossa função que simula o completamento de um álbum, para funcionar para uma quantidade variável de álbuns, representando assim uma estratégia de completar o álbum em grupo. "
      ]
    },
    {
      "cell_type": "code",
      "metadata": {
        "colab": {
          "base_uri": "https://localhost:8080/"
        },
        "id": "gP4ji2LJtztb",
        "outputId": "b90f90ad-a535-4337-f13e-e0b0b21191a1"
      },
      "source": [
        "# comprando figurinhas até completar o álbum\n",
        "def SimulaAlbum(qtde_albuns = 1):\n",
        "    album = np.zeros(n_album) \n",
        "    pacotes = 0\n",
        "    while not np.all(album >= qtde_albuns):\n",
        "        pacotinho = np.random.choice(range(n_album), 4)\n",
        "        pacotes += 1\n",
        "\n",
        "        for i in pacotinho:\n",
        "            album[i] += 1\n",
        " \n",
        "\n",
        "    valor_gasto = qtde_albuns*preco_album + preco_pacote * pacotes \n",
        "    valor_gasto_por_album = valor_gasto/qtde_albuns\n",
        "\n",
        "    return valor_gasto, pacotes, valor_gasto_por_album\n",
        "\n",
        "SimulaAlbum(2)"
      ],
      "execution_count": 66,
      "outputs": [
        {
          "output_type": "execute_result",
          "data": {
            "text/plain": [
              "(1948, 482, 974.0)"
            ]
          },
          "metadata": {
            "tags": []
          },
          "execution_count": 66
        }
      ]
    },
    {
      "cell_type": "code",
      "metadata": {
        "colab": {
          "base_uri": "https://localhost:8080/"
        },
        "id": "ApA_PH4MH8ri",
        "outputId": "4638e591-c8cb-4812-d11f-16e2f839ba5e"
      },
      "source": [
        "def Simulacao(qtde_albuns, simulacoes = 1000, silencio = False):\n",
        "    valores = []\n",
        "    for i in range(simulacoes):\n",
        "        valores.append(SimulaAlbum(qtde_albuns)[2])\n",
        "        if not silencio:\n",
        "            if (i+1) % 100 == 0:\n",
        "                print('Simulação: ', i+1, '/', simulacoes)\n",
        "    return valores\n",
        "\n",
        "sim = Simulacao(qtde_albuns = 2, simulacoes = 100)"
      ],
      "execution_count": 67,
      "outputs": [
        {
          "output_type": "stream",
          "text": [
            "Simulação:  100 / 100\n"
          ],
          "name": "stdout"
        }
      ]
    },
    {
      "cell_type": "code",
      "metadata": {
        "colab": {
          "base_uri": "https://localhost:8080/"
        },
        "id": "bIumjhsGHmfk",
        "outputId": "b399cc7b-9b53-4c41-c188-11249d0f3f43"
      },
      "source": [
        "# questões 7 e 8\n",
        "\n",
        "sim2 = Simulacao(2, 100, silencio = True) \n",
        "c2 = np.array(sim2).mean() \n",
        "\n",
        "sim3 = Simulacao(3, 100, silencio = True) \n",
        "c3 = np.array(sim3).mean()  \n",
        "\n",
        "print('Custo médio entre 2 amigos:', round(c2, 2) )\n",
        "print('Custo médio entre 3 amigos:', round(c3, 2) )"
      ],
      "execution_count": 68,
      "outputs": [
        {
          "output_type": "stream",
          "text": [
            "Custo médio entre 2 amigos: 878.56\n",
            "Custo médio entre 3 amigos: 716.87\n"
          ],
          "name": "stdout"
        }
      ]
    },
    {
      "cell_type": "code",
      "metadata": {
        "colab": {
          "base_uri": "https://localhost:8080/"
        },
        "id": "Hg-vAjb4hjd_",
        "outputId": "3cb0e20b-66fd-4017-8b7a-e48171cfc21d"
      },
      "source": [
        "import time\n",
        "def SimulacaoAmigos(amigos = 40, simulacoes = 10):\n",
        "    medias = []\n",
        "    amigos = list(range(1, amigos + 1, 1))\n",
        "    for i in amigos: \n",
        "        t = time.time()\n",
        "        aux = Simulacao(i, simulacoes, silencio = True)\n",
        "        tempo = round(time.time() - t, 2)\n",
        "        print('Tempo total de {}s para a simulação com {} amigo(s)'.format(tempo, i))\n",
        "        medias.append(np.array(aux).mean())\n",
        "    return amigos, medias\n",
        "\n",
        "sim_amigos = SimulacaoAmigos(amigos = 10, simulacoes = 5)"
      ],
      "execution_count": 74,
      "outputs": [
        {
          "output_type": "stream",
          "text": [
            "Tempo total de 0.17s para a simulação com 1 amigo(s)\n",
            "Tempo total de 0.21s para a simulação com 2 amigo(s)\n",
            "Tempo total de 0.25s para a simulação com 3 amigo(s)\n",
            "Tempo total de 0.31s para a simulação com 4 amigo(s)\n",
            "Tempo total de 0.31s para a simulação com 5 amigo(s)\n",
            "Tempo total de 0.33s para a simulação com 6 amigo(s)\n",
            "Tempo total de 0.26s para a simulação com 7 amigo(s)\n",
            "Tempo total de 0.39s para a simulação com 8 amigo(s)\n",
            "Tempo total de 0.48s para a simulação com 9 amigo(s)\n",
            "Tempo total de 0.32s para a simulação com 10 amigo(s)\n"
          ],
          "name": "stdout"
        }
      ]
    },
    {
      "cell_type": "code",
      "metadata": {
        "colab": {
          "base_uri": "https://localhost:8080/",
          "height": 420
        },
        "id": "8M-zC-gjl79-",
        "outputId": "126663d9-0c1c-47b0-c5b6-cb6db14b92d2"
      },
      "source": [
        "import math \n",
        "def GraficoCustoAmigos(simulacao):\n",
        "\n",
        "    minimo_possivel = math.ceil(n_album/cromos_por_pacote)*preco_pacote \n",
        "\n",
        "    plt.figure(figsize=(18, 6))\n",
        "    plt.bar(simulacao[0], simulacao[1], width = 0.5, color = 'royalblue')\n",
        "    plt.xticks(simulacao[0])\n",
        "    plt.axhline(y = minimo_possivel, linestyle = 'dashed', color = 'blue')\n",
        "    plt.title('Custo médio aproximado para\\n completar o álbum em função do tamanho\\n do grupo de pessoas trocando figurinhas')\n",
        "    plt.show()\n",
        "\n",
        "GraficoCustoAmigos(sim_amigos)"
      ],
      "execution_count": 77,
      "outputs": [
        {
          "output_type": "display_data",
          "data": {
            "image/png": "[encoded data removed]",
            "text/plain": [
              "<Figure size 1296x432 with 1 Axes>"
            ]
          },
          "metadata": {
            "tags": [],
            "needs_background": "light"
          }
        }
      ]
    },
    {
      "cell_type": "markdown",
      "metadata": {
        "id": "K8sVmb44l9gy"
      },
      "source": [
        "---"
      ]
    },
    {
      "cell_type": "markdown",
      "metadata": {
        "id": "jksGTpRxDGd8"
      },
      "source": [
        "\n",
        "### **OUTRAS PERGUNTAS (FAÇA COMO EXERCÍCIO)**\n",
        "\n",
        "Considere o contexto do projeto do álbum de figurinhas e responda as perguntas adicionais: \n",
        "\n",
        "1. Quantas vezes saiu a figurinha mais repetida, em média?\n",
        "2. Em média, quantas figurinhas não se repetem ao completar o álbum?\n",
        "3. Faça um gráfico da porcentagem completada esperada em função do número de pacotes comprados. \n"
      ]
    },
    {
      "cell_type": "markdown",
      "metadata": {
        "id": "yCY_R2exFSDX"
      },
      "source": [
        "---"
      ]
    },
    {
      "cell_type": "markdown",
      "metadata": {
        "id": "2rBE-DdbJ3Am"
      },
      "source": [
        "## **Exercícios Complementares: Python para Data Science**  <a name=\"exer\"></a>\n",
        "Os exercícios abaixo foram pensados para que iniciantes desenvolvam manejo e intimidade programando em python, utilizando os recursos fundamentais da linguagem.\n",
        "\n",
        "Os dois primeiros exercícios são mais simples. O exercício 3 já é um pouco mais elaborado e pode ser resolvido de várias formas. E o último exercício é apenas um complemento do projeto desenvolvido em aula sobre o álbum de figurinhas. Foram feitas mais perguntas para serem respondidas com o experimento. "
      ]
    },
    {
      "cell_type": "markdown",
      "metadata": {
        "id": "r1X1E_zEge7K"
      },
      "source": [
        "### **Exercício 1** \n",
        "Considere um balde cuja base possui raio  $r_1$ e altura igual ao diâmetro da base. Considere também uma esfera de raio $r_2$ cheia de água. Faça um programa que verifique se o volume da esfera cabe no balde, dados os valores de $r_1$ e $r_2$. \n"
      ]
    },
    {
      "cell_type": "code",
      "metadata": {
        "id": "r0-FOP6vxeIK"
      },
      "source": [
        "from math import pi\n",
        "\n",
        "def Verificadora(r_1, r_2):\n",
        "    if r_1 <= 0:\n",
        "        print('O valor do raio do balde é inadequado!')\n",
        "    elif r_2 <= 0:\n",
        "        print('O valor do raio da esfera é inadequado!')\n",
        "    else:\n",
        "        vol_balde = 2*pi*r_1**3 \n",
        "        vol_esfera = (4/3)*pi*r_2**2\n",
        "\n",
        "        if vol_balde < vol_esfera:\n",
        "            print('O volume da esfera NÂO cabe no balde')\n",
        "        else:\n",
        "            print('O volume da esfera CABE no balde')"
      ],
      "execution_count": 54,
      "outputs": []
    },
    {
      "cell_type": "code",
      "metadata": {
        "colab": {
          "base_uri": "https://localhost:8080/"
        },
        "id": "ogUCWngrxin4",
        "outputId": "ea0b8937-e4c6-46e6-f45b-42bb80682f56"
      },
      "source": [
        "Verificadora(1,1)"
      ],
      "execution_count": 3,
      "outputs": [
        {
          "output_type": "stream",
          "text": [
            "O volume da esfera CABE no balde\n"
          ],
          "name": "stdout"
        }
      ]
    },
    {
      "cell_type": "markdown",
      "metadata": {
        "id": "ZRfHvmZ548aq"
      },
      "source": [
        "\n",
        "### **Exercício 2** \n",
        "Crie uma função que simule o jogo do *jokempô*, isto é, dada a entrada de dois jogadores, retorne a indicação de qual deles venceu. "
      ]
    },
    {
      "cell_type": "code",
      "metadata": {
        "id": "mZHV2HPyxnAE"
      },
      "source": [
        "def Jokenpo(j1, j2):\n",
        "    jogador1 = j1.lower()\n",
        "    jogador2 = j2.lower()\n",
        "\n",
        "    simbolos = ['pedra', 'papel', 'tesoura']\n",
        "\n",
        "    if jogador1 not in simbolos or jogador2 not in simbolos:\n",
        "        print('Entradas Inadequadas!')\n",
        "    else:\n",
        "        if jogador1 == 'pedra':\n",
        "            if jogador2 == 'tesoura':\n",
        "                print('Jogador 1 Ganhou!')\n",
        "            elif jogador2 == 'papel':\n",
        "                print('Jogador 2 Ganhou!')\n",
        "            else:\n",
        "                print('Empate')\n",
        "\n",
        "        if jogador1 == 'papel':\n",
        "            if jogador2 == 'pedra':\n",
        "                print('Jogador 1 Ganhou!')\n",
        "            elif jogador2 == 'tesoura':\n",
        "                print('Jogador 2 Ganhou!')\n",
        "            else:\n",
        "                print('Empate')\n",
        "\n",
        "        if jogador1 == 'tesoura':\n",
        "            if jogador2 == 'papel':\n",
        "                print('Jogador 1 Ganhou!')\n",
        "            elif jogador2 == 'pedra':\n",
        "                print('Jogador 2 Ganhou!')\n",
        "            else:\n",
        "                print('Empate')        "
      ],
      "execution_count": 5,
      "outputs": []
    },
    {
      "cell_type": "code",
      "metadata": {
        "colab": {
          "base_uri": "https://localhost:8080/"
        },
        "id": "OySpBUQcxnRv",
        "outputId": "0433b985-c313-410c-a388-5e8d28804413"
      },
      "source": [
        "Jokenpo('TESOURA', 'papeL')"
      ],
      "execution_count": 6,
      "outputs": [
        {
          "output_type": "stream",
          "text": [
            "Jogador 1 Ganhou!\n"
          ],
          "name": "stdout"
        }
      ]
    },
    {
      "cell_type": "markdown",
      "metadata": {
        "id": "XW7xW90KucKA"
      },
      "source": [
        "### **Exercício 3**  \n",
        "\n",
        "Faça um programa que simule uma **slot machine**. Uma slot machine é uma máquina muito comum em cassinos. A pessoa puxa uma alavanca e aparecem na tela 3 símbolos aleatoriamente, de uma lista com diversos deles. Se os símbolos forem iguais, então a pessoa ganha. A pessoa entrar com um tanto escolhido de fichas, e joga até que acabe. Quando o programa terminar, uma mensagem resumindo os totais que ela ganhou deve ser exibida."
      ]
    },
    {
      "cell_type": "code",
      "metadata": {
        "colab": {
          "base_uri": "https://localhost:8080/"
        },
        "id": "vBuzmaCdxyhD",
        "outputId": "2f28ae0a-c841-43a2-a4c9-0198f131896f"
      },
      "source": [
        "!pip install emoji "
      ],
      "execution_count": 7,
      "outputs": [
        {
          "output_type": "stream",
          "text": [
            "Collecting emoji\n",
            "\u001b[?25l  Downloading https://files.pythonhosted.org/packages/24/fa/b3368f41b95a286f8d300e323449ab4e86b85334c2e0b477e94422b8ed0f/emoji-1.2.0-py3-none-any.whl (131kB)\n",
            "\r\u001b[K     |██▌                             | 10kB 14.7MB/s eta 0:00:01\r\u001b[K     |█████                           | 20kB 20.1MB/s eta 0:00:01\r\u001b[K     |███████▌                        | 30kB 10.8MB/s eta 0:00:01\r\u001b[K     |██████████                      | 40kB 8.5MB/s eta 0:00:01\r\u001b[K     |████████████▌                   | 51kB 5.2MB/s eta 0:00:01\r\u001b[K     |███████████████                 | 61kB 6.1MB/s eta 0:00:01\r\u001b[K     |█████████████████▌              | 71kB 6.4MB/s eta 0:00:01\r\u001b[K     |████████████████████            | 81kB 6.2MB/s eta 0:00:01\r\u001b[K     |██████████████████████▌         | 92kB 6.1MB/s eta 0:00:01\r\u001b[K     |█████████████████████████       | 102kB 6.6MB/s eta 0:00:01\r\u001b[K     |███████████████████████████▌    | 112kB 6.6MB/s eta 0:00:01\r\u001b[K     |██████████████████████████████  | 122kB 6.6MB/s eta 0:00:01\r\u001b[K     |████████████████████████████████| 133kB 6.6MB/s \n",
            "\u001b[?25hInstalling collected packages: emoji\n",
            "Successfully installed emoji-1.2.0\n"
          ],
          "name": "stdout"
        }
      ]
    },
    {
      "cell_type": "code",
      "metadata": {
        "id": "xveqKJpyxzGc"
      },
      "source": [
        "from random import randint\n",
        "from time import sleep\n",
        "from emoji import emojize "
      ],
      "execution_count": 8,
      "outputs": []
    },
    {
      "cell_type": "code",
      "metadata": {
        "id": "pGnssJjox0q5"
      },
      "source": [
        "def SimbolosPremios():\n",
        "    simbolos = [':gem:', ':cherries:', ':banana:', ':poop:']\n",
        "    premios = [15, 10, 5, 3]\n",
        "    return simbolos, premios"
      ],
      "execution_count": 16,
      "outputs": []
    },
    {
      "cell_type": "code",
      "metadata": {
        "id": "KNllUNa9x2MH"
      },
      "source": [
        "def Linhas(frase, simbolo = '*', cor = ''):\n",
        "    print(cor, end = '')\n",
        "    linha = (len(frase) + 2) * simbolo\n",
        "    print('\\n' + '\\033[1m' + linha)\n",
        "    print(' ' + frase)\n",
        "    print(linha + '\\033[0m')  "
      ],
      "execution_count": 18,
      "outputs": []
    },
    {
      "cell_type": "code",
      "metadata": {
        "id": "ryN4pSLUx3y_"
      },
      "source": [
        "def Suspense(e1, e2, e3):\n",
        "    lista = ['\\nAlavanca acionada!     ', e1, '.', '.', '. ', e2, '.', '.', '. ', e3+'!\\n'] \n",
        "    for i in lista:\n",
        "        print(i, end = '')\n",
        "        sleep(0.5)  "
      ],
      "execution_count": 19,
      "outputs": []
    },
    {
      "cell_type": "code",
      "metadata": {
        "id": "QWr2gVdix5Dj"
      },
      "source": [
        "def Explicacao():\n",
        "    simbs, premios = SimbolosPremios()\n",
        "    sleep(1.5)\n",
        "    print('-' * 70)\n",
        "    print('\\033[1m' + '\\nRegras:\\n' + '\\033[0m')\n",
        "    for i in range(len(simbs)): \n",
        "        print(emojize('Acerte ' + 3*simbs[i] + '  >>>>>  e ganhe {} fichas!'.format(premios[i]) , use_aliases = True))\n",
        "    print('\\033[1m' + '\\nBoa Sorte! Haha\\n' + '\\033[0m') "
      ],
      "execution_count": 20,
      "outputs": []
    },
    {
      "cell_type": "code",
      "metadata": {
        "id": "Dj_1uhkWx6pQ"
      },
      "source": [
        "def Jogo():\n",
        "    simbs, premios = SimbolosPremios() \n",
        "    s = len(simbs)\n",
        "\n",
        "    s1 = randint(1, s) - 1\n",
        "    s2 = randint(1, s) - 1\n",
        "    s3 = randint(1, s) - 1\n",
        "\n",
        "    Suspense(emojize(simbs[s1], use_aliases = True), \n",
        "             emojize(simbs[s2], use_aliases = True), \n",
        "             emojize(simbs[s3], use_aliases = True))  \n",
        "\n",
        "    if simbs[s1] == simbs[s2] == simbs[s3]:\n",
        "        premio = premios[simbs.index(simbs[s1])]\n",
        "        Linhas('***** GANHOU! *****', '$', '\\033[92m')\n",
        "        print('\\n' + '\\033[1m' + 'Seu prêmio é de {} fichas!'.format(premio) + '\\033[0m')\n",
        "    else:\n",
        "        print('\\nNão foi dessa vez! :(')\n",
        "        premio = 0\n",
        "   \n",
        "    return premio"
      ],
      "execution_count": 21,
      "outputs": []
    },
    {
      "cell_type": "code",
      "metadata": {
        "id": "MTZzHTWgx755"
      },
      "source": [
        "def SlotMachine():\n",
        "    nome = input('- Entre com o seu nome: ') \n",
        "\n",
        "    while True:\n",
        "        fichas0 = input('- Quantas fichas você gostaria de comprar? ')\n",
        "        if fichas0.isdigit():\n",
        "            break\n",
        "        else:\n",
        "            print('\\n**Entrada inválida** - Tente novamente.\\n')\n",
        "\n",
        "    fichas = int(fichas0)\n",
        "\n",
        "    f1 = 'Seja muito bem-vindo, {}!'.format(nome)\n",
        "    Linhas(f1.upper(), '*', '\\033[94m')\n",
        " \n",
        "    Explicacao()\n",
        "\n",
        "    while fichas > 0:\n",
        "        print('-' * 70)\n",
        "        x = input('Aperte ENTER para puxar a alavanca ou digite SAIR para ir embora. ')\n",
        "\n",
        "        if x.lower() == 'sair':\n",
        "            print('-' * 70)\n",
        "            Linhas('Fim de jogo! Você saiu com um total de {} fichas!'.format(fichas), '*', '\\033[94m') \n",
        "            break  \n",
        "        else:\n",
        "            jogo = Jogo()\n",
        "            fichas += jogo -1\n",
        "            print('\\nSeu saldo atual é de fichas é {}'.format(fichas))\n",
        "    else:\n",
        "        print('-' * 80)\n",
        "        Linhas('Fim de jogo! Suas fichas acabaram! Até a próxima! Haha', '*', '\\033[94m')"
      ],
      "execution_count": 22,
      "outputs": []
    },
    {
      "cell_type": "code",
      "metadata": {
        "colab": {
          "base_uri": "https://localhost:8080/"
        },
        "id": "Eum6kiIJx983",
        "outputId": "44bda448-efa5-4b3f-b4bc-6c2da1220e5c"
      },
      "source": [
        "SlotMachine()"
      ],
      "execution_count": 23,
      "outputs": [
        {
          "output_type": "stream",
          "text": [
            "- Entre com o seu nome: Emmanuel\n",
            "- Quantas fichas você gostaria de comprar? 2\n",
            "\u001b[94m\n",
            "\u001b[1m*********************************\n",
            " SEJA MUITO BEM-VINDO, EMMANUEL!\n",
            "*********************************\u001b[0m\n",
            "----------------------------------------------------------------------\n",
            "\u001b[1m\n",
            "Regras:\n",
            "\u001b[0m\n",
            "Acerte 💎💎💎  >>>>>  e ganhe 15 fichas!\n",
            "Acerte 🍒🍒🍒  >>>>>  e ganhe 10 fichas!\n",
            "Acerte 🍌🍌🍌  >>>>>  e ganhe 5 fichas!\n",
            "Acerte 💩💩💩  >>>>>  e ganhe 3 fichas!\n",
            "\u001b[1m\n",
            "Boa Sorte! Haha\n",
            "\u001b[0m\n",
            "----------------------------------------------------------------------\n",
            "Aperte ENTER para puxar a alavanca ou digite SAIR para ir embora. Sair\n",
            "----------------------------------------------------------------------\n",
            "\u001b[94m\n",
            "\u001b[1m**************************************************\n",
            " Fim de jogo! Você saiu com um total de 2 fichas!\n",
            "**************************************************\u001b[0m\n"
          ],
          "name": "stdout"
        }
      ]
    },
    {
      "cell_type": "markdown",
      "metadata": {
        "id": "9Ag5BSnM5G9B"
      },
      "source": [
        "Exercício 4\n",
        "Considere o contexto do projeto do álbum de figurinhas e responda as perguntas adicionais:\n",
        "\n",
        "Quantas vezes saiu a figurinha mais repetida, em média?\n",
        "\n",
        "Em média, quantas figurinhas não se repetem ao completar o álbum?\n",
        "\n",
        "Qual a probabilidade de se gastar mais que R$3000,00  para completar o álbum?\n",
        "\n",
        "Qual a probabilidade de se gastar menos que R$1500,00 para completar o álbum?\n",
        "\n",
        "Qual a probabilidade de se gastar mais do que a média para completar o álbum?\n",
        "\n",
        "Qual é o intervalo de confiança de 95% para o gasto ao se completar o álbum?\n",
        "\n",
        "Qual o valor médio gasto caso se esteja completando o álbum com mais um amigo?\n",
        "\n",
        "Quanto se economiza ao utilizar o cenário da questão 7?\n",
        "\n",
        "Qual o valor médio gasto caso se esteja completando o álbum com mais dois amigos?\n",
        "\n",
        "Quanto se economiza ao utilizar o cenário da questão 9?\n"
      ]
    },
    {
      "cell_type": "code",
      "metadata": {
        "id": "aL4ie10h5IIm"
      },
      "source": [
        "n_album = 636\n",
        "preco_pacote = 2.50\n",
        "preco_album = 8.90\n",
        "simulacoes = 1000"
      ],
      "execution_count": 78,
      "outputs": []
    },
    {
      "cell_type": "code",
      "metadata": {
        "id": "rbACkpSR5cXw"
      },
      "source": [
        "import numpy as np"
      ],
      "execution_count": 79,
      "outputs": []
    },
    {
      "cell_type": "code",
      "metadata": {
        "colab": {
          "base_uri": "https://localhost:8080/"
        },
        "id": "Xb03rv5x5fVK",
        "outputId": "38ed9387-c26e-4b99-823e-0cc2115104cf"
      },
      "source": [
        "# comprando figurinhas até completar o álbum\n",
        "def SimulaAlbum():\n",
        "    album = np.zeros(n_album) \n",
        "    pacotes = 0\n",
        "    while not np.all(album > 0):\n",
        "        pacotinho = np.random.choice(range(n_album), 5)\n",
        "        pacotes += 1\n",
        "\n",
        "        for i in pacotinho:\n",
        "            album[i] += 1\n",
        " \n",
        "\n",
        "    valor_gasto = preco_album + preco_pacote * pacotes \n",
        "\n",
        "    mais_repetida = max(album)\n",
        "\n",
        "    nao_repetidas = sum(album == 1)\n",
        "\n",
        "    # print(album)\n",
        "    return valor_gasto, mais_repetida, nao_repetidas\n",
        "\n",
        "SimulaAlbum()"
      ],
      "execution_count": 80,
      "outputs": [
        {
          "output_type": "execute_result",
          "data": {
            "text/plain": [
              "(2133.9, 17.0, 7)"
            ]
          },
          "metadata": {
            "tags": []
          },
          "execution_count": 80
        }
      ]
    },
    {
      "cell_type": "code",
      "metadata": {
        "colab": {
          "base_uri": "https://localhost:8080/"
        },
        "id": "Q0u0UTXK5iOc",
        "outputId": "b8bc1a89-5502-4fb8-ef62-de5b82da4c41"
      },
      "source": [
        "valores = []\n",
        "maisrep = []\n",
        "nao_rep = []\n",
        "\n",
        "for i in range(simulacoes):\n",
        "\n",
        "    s1, s2, s3 = SimulaAlbum()\n",
        "\n",
        "    valores.append(s1)\n",
        "    maisrep.append(s2)\n",
        "    nao_rep.append(s3)\n",
        "\n",
        "    if (i+1) % 100 == 0:\n",
        "        print('Simulação:', i+1, '/', simulacoes)"
      ],
      "execution_count": 81,
      "outputs": [
        {
          "output_type": "stream",
          "text": [
            "Simulação: 100 / 1000\n",
            "Simulação: 200 / 1000\n",
            "Simulação: 300 / 1000\n",
            "Simulação: 400 / 1000\n",
            "Simulação: 500 / 1000\n",
            "Simulação: 600 / 1000\n",
            "Simulação: 700 / 1000\n",
            "Simulação: 800 / 1000\n",
            "Simulação: 900 / 1000\n",
            "Simulação: 1000 / 1000\n"
          ],
          "name": "stdout"
        }
      ]
    },
    {
      "cell_type": "code",
      "metadata": {
        "id": "Cs3KbE5O5nGp"
      },
      "source": [
        "# Exercicio 1 e 2 \n",
        "print('O valor médio aproximado gasto foi:', round(np.mean(valores), 2))\n",
        "print('O numero de pacotes médio aproximado foi:', round((np.mean(valores) - preco_album)/preco_pacote, 2))"
      ],
      "execution_count": null,
      "outputs": []
    },
    {
      "cell_type": "code",
      "metadata": {
        "colab": {
          "base_uri": "https://localhost:8080/",
          "height": 283
        },
        "id": "z8oAUMW65uZm",
        "outputId": "f8a4fb04-e284-4bad-cd33-f309de88a829"
      },
      "source": [
        "# Exercicio 3\n",
        "import matplotlib.pyplot as plt\n",
        "\n",
        "plt.hist(valores, bins = 20, density = True, edgecolor = 'black')\n",
        "plt.title('Distribuição Empírica do Valor Gasto para Completar o Álbum')\n",
        "plt.show()"
      ],
      "execution_count": 82,
      "outputs": [
        {
          "output_type": "display_data",
          "data": {
            "image/png": "[encoded data removed]",
            "text/plain": [
              "<Figure size 432x288 with 1 Axes>"
            ]
          },
          "metadata": {
            "tags": [],
            "needs_background": "light"
          }
        }
      ]
    },
    {
      "cell_type": "code",
      "metadata": {
        "colab": {
          "base_uri": "https://localhost:8080/"
        },
        "id": "QLgc1emu5yVZ",
        "outputId": "ea5eef5c-c809-4655-a1e3-62df39790d84"
      },
      "source": [
        "# Exercicio 4\n",
        "np.mean(maisrep)"
      ],
      "execution_count": 83,
      "outputs": [
        {
          "output_type": "execute_result",
          "data": {
            "text/plain": [
              "16.538"
            ]
          },
          "metadata": {
            "tags": []
          },
          "execution_count": 83
        }
      ]
    },
    {
      "cell_type": "code",
      "metadata": {
        "colab": {
          "base_uri": "https://localhost:8080/"
        },
        "id": "67Gf0yvm53Nl",
        "outputId": "82fa3e12-eea4-4187-837b-5421d8109ab4"
      },
      "source": [
        "# Exercicio 5\n",
        "np.mean(nao_rep)"
      ],
      "execution_count": 84,
      "outputs": [
        {
          "output_type": "execute_result",
          "data": {
            "text/plain": [
              "6.937"
            ]
          },
          "metadata": {
            "tags": []
          },
          "execution_count": 84
        }
      ]
    },
    {
      "cell_type": "code",
      "metadata": {
        "colab": {
          "base_uri": "https://localhost:8080/"
        },
        "id": "zlvLE8A356w1",
        "outputId": "4d17ef62-cd7e-4758-a3ab-c71da33d1e68"
      },
      "source": [
        "# Exercicio 6\n",
        "(np.array(valores) > 3000).mean()"
      ],
      "execution_count": 85,
      "outputs": [
        {
          "output_type": "execute_result",
          "data": {
            "text/plain": [
              "0.052"
            ]
          },
          "metadata": {
            "tags": []
          },
          "execution_count": 85
        }
      ]
    },
    {
      "cell_type": "code",
      "metadata": {
        "colab": {
          "base_uri": "https://localhost:8080/"
        },
        "id": "9erqSN2r5910",
        "outputId": "aeae1e34-a705-45e1-f5e8-0dab81f93b8c"
      },
      "source": [
        "# Exercicio 7\n",
        "(np.array(valores) < 1500).mean()"
      ],
      "execution_count": 86,
      "outputs": [
        {
          "output_type": "execute_result",
          "data": {
            "text/plain": [
              "0.0"
            ]
          },
          "metadata": {
            "tags": []
          },
          "execution_count": 86
        }
      ]
    },
    {
      "cell_type": "code",
      "metadata": {
        "colab": {
          "base_uri": "https://localhost:8080/"
        },
        "id": "EmkFBkRH6Ame",
        "outputId": "53caa25b-6fad-4c3d-9e39-2ee0dce8adc4"
      },
      "source": [
        "# Exercicio 8\n",
        "(np.array(valores) > np.mean(valores)).mean()"
      ],
      "execution_count": 87,
      "outputs": [
        {
          "output_type": "execute_result",
          "data": {
            "text/plain": [
              "0.42"
            ]
          },
          "metadata": {
            "tags": []
          },
          "execution_count": 87
        }
      ]
    },
    {
      "cell_type": "code",
      "metadata": {
        "colab": {
          "base_uri": "https://localhost:8080/"
        },
        "id": "26FQjAZc6IrD",
        "outputId": "df8f0d6c-f663-4674-e6a1-d90754bfd10c"
      },
      "source": [
        "# Exercio 9\n",
        "np.quantile(valores, [0.025, 0.975])"
      ],
      "execution_count": 88,
      "outputs": [
        {
          "output_type": "execute_result",
          "data": {
            "text/plain": [
              "array([1666.4  , 3259.275])"
            ]
          },
          "metadata": {
            "tags": []
          },
          "execution_count": 88
        }
      ]
    },
    {
      "cell_type": "code",
      "metadata": {
        "id": "jqSMth0f6Mu8"
      },
      "source": [
        "# Exercicio 10\n",
        "def SimulaAlbum2(n_amigos):\n",
        "    album = np.zeros(n_album) \n",
        "    pacotes = 0\n",
        "    while not np.all(album > n_amigos):\n",
        "        pacotinho = np.random.choice(range(n_album), 5)\n",
        "        pacotes += 1\n",
        "\n",
        "        for i in pacotinho:\n",
        "            album[i] += 1\n",
        " \n",
        "\n",
        "    valor_gasto = preco_album + preco_pacote * pacotes \n",
        " \n",
        "    return valor_gasto"
      ],
      "execution_count": 89,
      "outputs": []
    },
    {
      "cell_type": "code",
      "metadata": {
        "colab": {
          "base_uri": "https://localhost:8080/"
        },
        "id": "N4_2JkmQ6Peq",
        "outputId": "f6e65ebb-801d-4066-e423-8d2f9a216ccf"
      },
      "source": [
        "# Exercicio 10\n",
        "valores2 = []\n",
        "\n",
        "for i in range(simulacoes):\n",
        "\n",
        "    valores2.append(SimulaAlbum2(n_amigos = 1))\n",
        "\n",
        "    if (i+1) % 100 == 0:\n",
        "        print('Simulação:', i+1, '/', simulacoes)"
      ],
      "execution_count": 90,
      "outputs": [
        {
          "output_type": "stream",
          "text": [
            "Simulação: 100 / 1000\n",
            "Simulação: 200 / 1000\n",
            "Simulação: 300 / 1000\n",
            "Simulação: 400 / 1000\n",
            "Simulação: 500 / 1000\n",
            "Simulação: 600 / 1000\n",
            "Simulação: 700 / 1000\n",
            "Simulação: 800 / 1000\n",
            "Simulação: 900 / 1000\n",
            "Simulação: 1000 / 1000\n"
          ],
          "name": "stdout"
        }
      ]
    },
    {
      "cell_type": "code",
      "metadata": {
        "colab": {
          "base_uri": "https://localhost:8080/"
        },
        "id": "ya_9CogL6Sx6",
        "outputId": "cceca63c-4337-463a-e155-946ffeede0f9"
      },
      "source": [
        "#Exercicio 10\n",
        "valor2 = np.mean(valores2)/2\n",
        "print(valor2)"
      ],
      "execution_count": 91,
      "outputs": [
        {
          "output_type": "stream",
          "text": [
            "1499.5837500000005\n"
          ],
          "name": "stdout"
        }
      ]
    },
    {
      "cell_type": "code",
      "metadata": {
        "colab": {
          "base_uri": "https://localhost:8080/"
        },
        "id": "VNxXMd5R6W5R",
        "outputId": "37742e85-5527-4cbf-b031-2dad151c2e6f"
      },
      "source": [
        "# Exercicio 11\n",
        "1 - valor2/np.mean(valores)"
      ],
      "execution_count": 92,
      "outputs": [
        {
          "output_type": "execute_result",
          "data": {
            "text/plain": [
              "0.33187623358743934"
            ]
          },
          "metadata": {
            "tags": []
          },
          "execution_count": 92
        }
      ]
    },
    {
      "cell_type": "code",
      "metadata": {
        "colab": {
          "base_uri": "https://localhost:8080/"
        },
        "id": "5TMufGyC6aFr",
        "outputId": "14819a38-78dd-4331-b51e-8ce2006b1a63"
      },
      "source": [
        "# Exercicio 12\n",
        "valores3 = []\n",
        "\n",
        "for i in range(simulacoes):\n",
        "\n",
        "    valores3.append(SimulaAlbum2(n_amigos = 2))\n",
        "\n",
        "    if (i+1) % 100 == 0:\n",
        "        print('Simulação:', i+1, '/', simulacoes)"
      ],
      "execution_count": 93,
      "outputs": [
        {
          "output_type": "stream",
          "text": [
            "Simulação: 100 / 1000\n",
            "Simulação: 200 / 1000\n",
            "Simulação: 300 / 1000\n",
            "Simulação: 400 / 1000\n",
            "Simulação: 500 / 1000\n",
            "Simulação: 600 / 1000\n",
            "Simulação: 700 / 1000\n",
            "Simulação: 800 / 1000\n",
            "Simulação: 900 / 1000\n",
            "Simulação: 1000 / 1000\n"
          ],
          "name": "stdout"
        }
      ]
    },
    {
      "cell_type": "code",
      "metadata": {
        "colab": {
          "base_uri": "https://localhost:8080/"
        },
        "id": "2tH_tKsr6qdE",
        "outputId": "5a90beb0-248b-4a2c-80fb-75e342cfa742"
      },
      "source": [
        "# Exercicio 12\n",
        "valor3 = np.mean(valores3)/3\n",
        "valor3"
      ],
      "execution_count": 94,
      "outputs": [
        {
          "output_type": "execute_result",
          "data": {
            "text/plain": [
              "1206.5483333333336"
            ]
          },
          "metadata": {
            "tags": []
          },
          "execution_count": 94
        }
      ]
    },
    {
      "cell_type": "code",
      "metadata": {
        "colab": {
          "base_uri": "https://localhost:8080/"
        },
        "id": "XiSFqYmw6txt",
        "outputId": "131eb81e-8e96-47ba-ffa3-1afbfe04b78a"
      },
      "source": [
        "#Exercicio 13\n",
        "1 - valor3/np.mean(valores)"
      ],
      "execution_count": 95,
      "outputs": [
        {
          "output_type": "execute_result",
          "data": {
            "text/plain": [
              "0.4624350811847192"
            ]
          },
          "metadata": {
            "tags": []
          },
          "execution_count": 95
        }
      ]
    },
    {
      "cell_type": "code",
      "metadata": {
        "colab": {
          "base_uri": "https://localhost:8080/"
        },
        "id": "LzoKzgxS6w-1",
        "outputId": "ba250630-8937-4e54-9426-595eecf51061"
      },
      "source": [
        "#Exercicio 13\n",
        "valores10 = []\n",
        "\n",
        "for i in range(simulacoes):\n",
        "\n",
        "    valores10.append(SimulaAlbum2(n_amigos = 9))\n",
        "\n",
        "    if (i+1) % 100 == 0:\n",
        "        print('Simulação:', i+1, '/', simulacoes)"
      ],
      "execution_count": 97,
      "outputs": [
        {
          "output_type": "stream",
          "text": [
            "Simulação: 100 / 1000\n",
            "Simulação: 200 / 1000\n",
            "Simulação: 300 / 1000\n",
            "Simulação: 400 / 1000\n",
            "Simulação: 500 / 1000\n",
            "Simulação: 600 / 1000\n",
            "Simulação: 700 / 1000\n",
            "Simulação: 800 / 1000\n",
            "Simulação: 900 / 1000\n",
            "Simulação: 1000 / 1000\n"
          ],
          "name": "stdout"
        }
      ]
    },
    {
      "cell_type": "code",
      "metadata": {
        "colab": {
          "base_uri": "https://localhost:8080/",
          "height": 197
        },
        "id": "uyaAonnW6xBx",
        "outputId": "a9c7620a-c03f-4a84-a362-da15ee5d2199"
      },
      "source": [
        "#Exercicio 13\n",
        "valor10 = np.mean(valores10)/10\n",
        "valor10"
      ],
      "execution_count": 96,
      "outputs": [
        {
          "output_type": "error",
          "ename": "NameError",
          "evalue": "ignored",
          "traceback": [
            "\u001b[0;31m---------------------------------------------------------------------------\u001b[0m",
            "\u001b[0;31mNameError\u001b[0m                                 Traceback (most recent call last)",
            "\u001b[0;32m<ipython-input-96-cac58ca7e3c4>\u001b[0m in \u001b[0;36m<module>\u001b[0;34m()\u001b[0m\n\u001b[1;32m      1\u001b[0m \u001b[0;31m#Exercicio 13\u001b[0m\u001b[0;34m\u001b[0m\u001b[0;34m\u001b[0m\u001b[0;34m\u001b[0m\u001b[0m\n\u001b[0;32m----> 2\u001b[0;31m \u001b[0mvalor10\u001b[0m \u001b[0;34m=\u001b[0m \u001b[0mnp\u001b[0m\u001b[0;34m.\u001b[0m\u001b[0mmean\u001b[0m\u001b[0;34m(\u001b[0m\u001b[0mvalores10\u001b[0m\u001b[0;34m)\u001b[0m\u001b[0;34m/\u001b[0m\u001b[0;36m10\u001b[0m\u001b[0;34m\u001b[0m\u001b[0;34m\u001b[0m\u001b[0m\n\u001b[0m\u001b[1;32m      3\u001b[0m \u001b[0mvalor10\u001b[0m\u001b[0;34m\u001b[0m\u001b[0;34m\u001b[0m\u001b[0m\n",
            "\u001b[0;31mNameError\u001b[0m: name 'valores10' is not defined"
          ]
        }
      ]
    },
    {
      "cell_type": "code",
      "metadata": {
        "colab": {
          "base_uri": "https://localhost:8080/",
          "height": 180
        },
        "id": "1OTLSGpP65L0",
        "outputId": "8dc1ba5e-3e04-423a-dac9-cdd6a0def595"
      },
      "source": [
        "#Exercicio 13\n",
        "1 - valor10/np.mean(valores)"
      ],
      "execution_count": 98,
      "outputs": [
        {
          "output_type": "error",
          "ename": "NameError",
          "evalue": "ignored",
          "traceback": [
            "\u001b[0;31m---------------------------------------------------------------------------\u001b[0m",
            "\u001b[0;31mNameError\u001b[0m                                 Traceback (most recent call last)",
            "\u001b[0;32m<ipython-input-98-0552016be7e0>\u001b[0m in \u001b[0;36m<module>\u001b[0;34m()\u001b[0m\n\u001b[1;32m      1\u001b[0m \u001b[0;31m#Exercicio 13\u001b[0m\u001b[0;34m\u001b[0m\u001b[0;34m\u001b[0m\u001b[0;34m\u001b[0m\u001b[0m\n\u001b[0;32m----> 2\u001b[0;31m \u001b[0;36m1\u001b[0m \u001b[0;34m-\u001b[0m \u001b[0mvalor10\u001b[0m\u001b[0;34m/\u001b[0m\u001b[0mnp\u001b[0m\u001b[0;34m.\u001b[0m\u001b[0mmean\u001b[0m\u001b[0;34m(\u001b[0m\u001b[0mvalores\u001b[0m\u001b[0;34m)\u001b[0m\u001b[0;34m\u001b[0m\u001b[0;34m\u001b[0m\u001b[0m\n\u001b[0m",
            "\u001b[0;31mNameError\u001b[0m: name 'valor10' is not defined"
          ]
        }
      ]
    }
  ]
}