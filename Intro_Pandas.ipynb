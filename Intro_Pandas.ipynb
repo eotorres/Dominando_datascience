{
  "nbformat": 4,
  "nbformat_minor": 0,
  "metadata": {
    "colab": {
      "name": "Intro_Pandas.ipynb",
      "provenance": []
    },
    "kernelspec": {
      "name": "python3",
      "display_name": "Python 3"
    },
    "language_info": {
      "name": "python"
    }
  },
  "cells": [
    {
      "cell_type": "markdown",
      "metadata": {
        "id": "lg3QS0u91Z2j"
      },
      "source": [
        "##  Introdução\n"
      ]
    },
    {
      "cell_type": "markdown",
      "metadata": {
        "id": "_YJVo12P1put"
      },
      "source": [
        "##Dicionário\n"
      ]
    },
    {
      "cell_type": "code",
      "metadata": {
        "colab": {
          "base_uri": "https://localhost:8080/"
        },
        "id": "jfkOfvPW1sUN",
        "outputId": "5a758c2f-1b8e-4b4f-f65e-2133b2bcfe05"
      },
      "source": [
        "conjunto ={'A',2,print,'Emmanuel','A'}\n",
        "type(conjunto)"
      ],
      "execution_count": 7,
      "outputs": [
        {
          "output_type": "execute_result",
          "data": {
            "text/plain": [
              "set"
            ]
          },
          "metadata": {
            "tags": []
          },
          "execution_count": 7
        }
      ]
    },
    {
      "cell_type": "code",
      "metadata": {
        "colab": {
          "base_uri": "https://localhost:8080/"
        },
        "id": "2jimprxv1y8N",
        "outputId": "b38ecb59-b496-43a8-fd79-6f665277fa3d"
      },
      "source": [
        "dicionario = {'nome': 'Emmanuel',\n",
        "              'Idade':29,\n",
        "              'Lista':[1,2,3]}\n",
        "dicionario"
      ],
      "execution_count": 8,
      "outputs": [
        {
          "output_type": "execute_result",
          "data": {
            "text/plain": [
              "{'Idade': 29, 'Lista': [1, 2, 3], 'nome': 'Emmanuel'}"
            ]
          },
          "metadata": {
            "tags": []
          },
          "execution_count": 8
        }
      ]
    },
    {
      "cell_type": "code",
      "metadata": {
        "id": "vHrChLY83pkF"
      },
      "source": [
        "##Criando uma variavel para 'guardar' os dados\n",
        "parametros = {'low':2,'high':9,'size':12}"
      ],
      "execution_count": 9,
      "outputs": []
    },
    {
      "cell_type": "code",
      "metadata": {
        "colab": {
          "base_uri": "https://localhost:8080/"
        },
        "id": "Zpq8BdYa3x90",
        "outputId": "c410caf0-6a8d-48e7-bc30-fbf99391643f"
      },
      "source": [
        "import numpy as np\n",
        "np.random.uniform(**parametros)"
      ],
      "execution_count": 26,
      "outputs": [
        {
          "output_type": "execute_result",
          "data": {
            "text/plain": [
              "array([8.99873139, 2.08527272, 2.19184376, 7.54922464, 2.85565318,\n",
              "       3.48179953, 4.80406815, 6.46323449, 2.00709954, 4.59335874,\n",
              "       4.59801209, 6.3344441 ])"
            ]
          },
          "metadata": {
            "tags": []
          },
          "execution_count": 26
        }
      ]
    },
    {
      "cell_type": "code",
      "metadata": {
        "id": "DTHH6_K533CV"
      },
      "source": [
        "##Criando uma variavel para 'guardar' os dados\n",
        "parametros_notas = {'low':2,'high':9,'size':28}"
      ],
      "execution_count": 30,
      "outputs": []
    },
    {
      "cell_type": "code",
      "metadata": {
        "colab": {
          "base_uri": "https://localhost:8080/"
        },
        "id": "t67eKwic4MNt",
        "outputId": "7fd3010d-6c40-4bd2-82b4-724b21d8203b"
      },
      "source": [
        "notas= np.random.uniform(**parametros_notas).reshape(7,4).round(2)\n",
        "notas"
      ],
      "execution_count": 102,
      "outputs": [
        {
          "output_type": "execute_result",
          "data": {
            "text/plain": [
              "array([[6.47, 6.88, 6.3 , 4.74],\n",
              "       [7.26, 8.45, 4.71, 7.4 ],\n",
              "       [2.75, 8.47, 8.57, 5.94],\n",
              "       [4.37, 7.53, 8.36, 6.63],\n",
              "       [2.47, 4.95, 5.76, 2.06],\n",
              "       [5.21, 2.56, 6.68, 2.11],\n",
              "       [5.45, 4.35, 7.77, 4.25]])"
            ]
          },
          "metadata": {
            "tags": []
          },
          "execution_count": 102
        }
      ]
    },
    {
      "cell_type": "code",
      "metadata": {
        "id": "luJ0J-vm4Uc9"
      },
      "source": [
        "nomes =['Emmanuel','Teste1','Teste2','Teste3','Teste4','Teste5','Teste6']\n",
        "colunas = ['P1','P2','P3','P4']"
      ],
      "execution_count": 130,
      "outputs": []
    },
    {
      "cell_type": "code",
      "metadata": {
        "colab": {
          "base_uri": "https://localhost:8080/",
          "height": 254
        },
        "id": "O_2vEJwQ4hEl",
        "outputId": "58ef3870-2296-4be6-bdde-89c29dcd19ec"
      },
      "source": [
        "import pandas as pd\n",
        "\n",
        "notas_alunos = pd.DataFrame(notas,  index=nomes,columns=colunas) \n",
        "notas_alunos"
      ],
      "execution_count": 131,
      "outputs": [
        {
          "output_type": "execute_result",
          "data": {
            "text/html": [
              "<div>\n",
              "<style scoped>\n",
              "    .dataframe tbody tr th:only-of-type {\n",
              "        vertical-align: middle;\n",
              "    }\n",
              "\n",
              "    .dataframe tbody tr th {\n",
              "        vertical-align: top;\n",
              "    }\n",
              "\n",
              "    .dataframe thead th {\n",
              "        text-align: right;\n",
              "    }\n",
              "</style>\n",
              "<table border=\"1\" class=\"dataframe\">\n",
              "  <thead>\n",
              "    <tr style=\"text-align: right;\">\n",
              "      <th></th>\n",
              "      <th>P1</th>\n",
              "      <th>P2</th>\n",
              "      <th>P3</th>\n",
              "      <th>P4</th>\n",
              "    </tr>\n",
              "  </thead>\n",
              "  <tbody>\n",
              "    <tr>\n",
              "      <th>Emmanuel</th>\n",
              "      <td>6.47</td>\n",
              "      <td>6.88</td>\n",
              "      <td>6.30</td>\n",
              "      <td>4.74</td>\n",
              "    </tr>\n",
              "    <tr>\n",
              "      <th>Teste1</th>\n",
              "      <td>7.26</td>\n",
              "      <td>8.45</td>\n",
              "      <td>4.71</td>\n",
              "      <td>7.40</td>\n",
              "    </tr>\n",
              "    <tr>\n",
              "      <th>Teste2</th>\n",
              "      <td>2.75</td>\n",
              "      <td>8.47</td>\n",
              "      <td>8.57</td>\n",
              "      <td>5.94</td>\n",
              "    </tr>\n",
              "    <tr>\n",
              "      <th>Teste3</th>\n",
              "      <td>4.37</td>\n",
              "      <td>7.53</td>\n",
              "      <td>8.36</td>\n",
              "      <td>6.63</td>\n",
              "    </tr>\n",
              "    <tr>\n",
              "      <th>Teste4</th>\n",
              "      <td>2.47</td>\n",
              "      <td>4.95</td>\n",
              "      <td>5.76</td>\n",
              "      <td>2.06</td>\n",
              "    </tr>\n",
              "    <tr>\n",
              "      <th>Teste5</th>\n",
              "      <td>5.21</td>\n",
              "      <td>2.56</td>\n",
              "      <td>6.68</td>\n",
              "      <td>2.11</td>\n",
              "    </tr>\n",
              "    <tr>\n",
              "      <th>Teste6</th>\n",
              "      <td>5.45</td>\n",
              "      <td>4.35</td>\n",
              "      <td>7.77</td>\n",
              "      <td>4.25</td>\n",
              "    </tr>\n",
              "  </tbody>\n",
              "</table>\n",
              "</div>"
            ],
            "text/plain": [
              "            P1    P2    P3    P4\n",
              "Emmanuel  6.47  6.88  6.30  4.74\n",
              "Teste1    7.26  8.45  4.71  7.40\n",
              "Teste2    2.75  8.47  8.57  5.94\n",
              "Teste3    4.37  7.53  8.36  6.63\n",
              "Teste4    2.47  4.95  5.76  2.06\n",
              "Teste5    5.21  2.56  6.68  2.11\n",
              "Teste6    5.45  4.35  7.77  4.25"
            ]
          },
          "metadata": {
            "tags": []
          },
          "execution_count": 131
        }
      ]
    },
    {
      "cell_type": "code",
      "metadata": {
        "id": "tfiBoaCx5AAe"
      },
      "source": [
        "#notas_alunos.info()\n",
        "#notas_alunos.transpose()\n",
        "#notas_aluno.shape            --> 0 linhas / 1 Colunas\n",
        "#notas_aluno.head()           --> Cabeçalho\n",
        "#notas_aluno.tail()           --> Ultimos elementos do conjunto de dados\n",
        "#notas_aluno.sample()         --> Amostragem do tamanho que for passar aleatória\n",
        "#notas_aluno.describe()       --> Descreve o processo do conjunto de dados"
      ],
      "execution_count": 105,
      "outputs": []
    },
    {
      "cell_type": "code",
      "metadata": {
        "id": "nXZ-5voU6qeO"
      },
      "source": [
        "sexo = ['M','F','F','F','F','F','F']"
      ],
      "execution_count": 132,
      "outputs": []
    },
    {
      "cell_type": "code",
      "metadata": {
        "colab": {
          "base_uri": "https://localhost:8080/",
          "height": 254
        },
        "id": "YxV6HElH8uXI",
        "outputId": "ebfcc436-996d-45b0-d56e-38211e30d58a"
      },
      "source": [
        "notas_alunos [['P1','P3']]"
      ],
      "execution_count": 133,
      "outputs": [
        {
          "output_type": "execute_result",
          "data": {
            "text/html": [
              "<div>\n",
              "<style scoped>\n",
              "    .dataframe tbody tr th:only-of-type {\n",
              "        vertical-align: middle;\n",
              "    }\n",
              "\n",
              "    .dataframe tbody tr th {\n",
              "        vertical-align: top;\n",
              "    }\n",
              "\n",
              "    .dataframe thead th {\n",
              "        text-align: right;\n",
              "    }\n",
              "</style>\n",
              "<table border=\"1\" class=\"dataframe\">\n",
              "  <thead>\n",
              "    <tr style=\"text-align: right;\">\n",
              "      <th></th>\n",
              "      <th>P1</th>\n",
              "      <th>P3</th>\n",
              "    </tr>\n",
              "  </thead>\n",
              "  <tbody>\n",
              "    <tr>\n",
              "      <th>Emmanuel</th>\n",
              "      <td>6.47</td>\n",
              "      <td>6.30</td>\n",
              "    </tr>\n",
              "    <tr>\n",
              "      <th>Teste1</th>\n",
              "      <td>7.26</td>\n",
              "      <td>4.71</td>\n",
              "    </tr>\n",
              "    <tr>\n",
              "      <th>Teste2</th>\n",
              "      <td>2.75</td>\n",
              "      <td>8.57</td>\n",
              "    </tr>\n",
              "    <tr>\n",
              "      <th>Teste3</th>\n",
              "      <td>4.37</td>\n",
              "      <td>8.36</td>\n",
              "    </tr>\n",
              "    <tr>\n",
              "      <th>Teste4</th>\n",
              "      <td>2.47</td>\n",
              "      <td>5.76</td>\n",
              "    </tr>\n",
              "    <tr>\n",
              "      <th>Teste5</th>\n",
              "      <td>5.21</td>\n",
              "      <td>6.68</td>\n",
              "    </tr>\n",
              "    <tr>\n",
              "      <th>Teste6</th>\n",
              "      <td>5.45</td>\n",
              "      <td>7.77</td>\n",
              "    </tr>\n",
              "  </tbody>\n",
              "</table>\n",
              "</div>"
            ],
            "text/plain": [
              "            P1    P3\n",
              "Emmanuel  6.47  6.30\n",
              "Teste1    7.26  4.71\n",
              "Teste2    2.75  8.57\n",
              "Teste3    4.37  8.36\n",
              "Teste4    2.47  5.76\n",
              "Teste5    5.21  6.68\n",
              "Teste6    5.45  7.77"
            ]
          },
          "metadata": {
            "tags": []
          },
          "execution_count": 133
        }
      ]
    },
    {
      "cell_type": "code",
      "metadata": {
        "colab": {
          "base_uri": "https://localhost:8080/",
          "height": 254
        },
        "id": "5lPBZgMO87hV",
        "outputId": "18ccd3c4-7f98-4b6c-dc68-7f6b97bd4a0f"
      },
      "source": [
        "notas_alunos['Sexo'] = sexo\n",
        "notas_alunos"
      ],
      "execution_count": 134,
      "outputs": [
        {
          "output_type": "execute_result",
          "data": {
            "text/html": [
              "<div>\n",
              "<style scoped>\n",
              "    .dataframe tbody tr th:only-of-type {\n",
              "        vertical-align: middle;\n",
              "    }\n",
              "\n",
              "    .dataframe tbody tr th {\n",
              "        vertical-align: top;\n",
              "    }\n",
              "\n",
              "    .dataframe thead th {\n",
              "        text-align: right;\n",
              "    }\n",
              "</style>\n",
              "<table border=\"1\" class=\"dataframe\">\n",
              "  <thead>\n",
              "    <tr style=\"text-align: right;\">\n",
              "      <th></th>\n",
              "      <th>P1</th>\n",
              "      <th>P2</th>\n",
              "      <th>P3</th>\n",
              "      <th>P4</th>\n",
              "      <th>Sexo</th>\n",
              "    </tr>\n",
              "  </thead>\n",
              "  <tbody>\n",
              "    <tr>\n",
              "      <th>Emmanuel</th>\n",
              "      <td>6.47</td>\n",
              "      <td>6.88</td>\n",
              "      <td>6.30</td>\n",
              "      <td>4.74</td>\n",
              "      <td>M</td>\n",
              "    </tr>\n",
              "    <tr>\n",
              "      <th>Teste1</th>\n",
              "      <td>7.26</td>\n",
              "      <td>8.45</td>\n",
              "      <td>4.71</td>\n",
              "      <td>7.40</td>\n",
              "      <td>F</td>\n",
              "    </tr>\n",
              "    <tr>\n",
              "      <th>Teste2</th>\n",
              "      <td>2.75</td>\n",
              "      <td>8.47</td>\n",
              "      <td>8.57</td>\n",
              "      <td>5.94</td>\n",
              "      <td>F</td>\n",
              "    </tr>\n",
              "    <tr>\n",
              "      <th>Teste3</th>\n",
              "      <td>4.37</td>\n",
              "      <td>7.53</td>\n",
              "      <td>8.36</td>\n",
              "      <td>6.63</td>\n",
              "      <td>F</td>\n",
              "    </tr>\n",
              "    <tr>\n",
              "      <th>Teste4</th>\n",
              "      <td>2.47</td>\n",
              "      <td>4.95</td>\n",
              "      <td>5.76</td>\n",
              "      <td>2.06</td>\n",
              "      <td>F</td>\n",
              "    </tr>\n",
              "    <tr>\n",
              "      <th>Teste5</th>\n",
              "      <td>5.21</td>\n",
              "      <td>2.56</td>\n",
              "      <td>6.68</td>\n",
              "      <td>2.11</td>\n",
              "      <td>F</td>\n",
              "    </tr>\n",
              "    <tr>\n",
              "      <th>Teste6</th>\n",
              "      <td>5.45</td>\n",
              "      <td>4.35</td>\n",
              "      <td>7.77</td>\n",
              "      <td>4.25</td>\n",
              "      <td>F</td>\n",
              "    </tr>\n",
              "  </tbody>\n",
              "</table>\n",
              "</div>"
            ],
            "text/plain": [
              "            P1    P2    P3    P4 Sexo\n",
              "Emmanuel  6.47  6.88  6.30  4.74    M\n",
              "Teste1    7.26  8.45  4.71  7.40    F\n",
              "Teste2    2.75  8.47  8.57  5.94    F\n",
              "Teste3    4.37  7.53  8.36  6.63    F\n",
              "Teste4    2.47  4.95  5.76  2.06    F\n",
              "Teste5    5.21  2.56  6.68  2.11    F\n",
              "Teste6    5.45  4.35  7.77  4.25    F"
            ]
          },
          "metadata": {
            "tags": []
          },
          "execution_count": 134
        }
      ]
    },
    {
      "cell_type": "code",
      "metadata": {
        "colab": {
          "base_uri": "https://localhost:8080/",
          "height": 77
        },
        "id": "Mifp18G79wDv",
        "outputId": "3cde7269-b41f-4298-9374-fd5f9cd206ac"
      },
      "source": [
        "notas_alunos[ notas_alunos ['Sexo'] == 'M']"
      ],
      "execution_count": 135,
      "outputs": [
        {
          "output_type": "execute_result",
          "data": {
            "text/html": [
              "<div>\n",
              "<style scoped>\n",
              "    .dataframe tbody tr th:only-of-type {\n",
              "        vertical-align: middle;\n",
              "    }\n",
              "\n",
              "    .dataframe tbody tr th {\n",
              "        vertical-align: top;\n",
              "    }\n",
              "\n",
              "    .dataframe thead th {\n",
              "        text-align: right;\n",
              "    }\n",
              "</style>\n",
              "<table border=\"1\" class=\"dataframe\">\n",
              "  <thead>\n",
              "    <tr style=\"text-align: right;\">\n",
              "      <th></th>\n",
              "      <th>P1</th>\n",
              "      <th>P2</th>\n",
              "      <th>P3</th>\n",
              "      <th>P4</th>\n",
              "      <th>Sexo</th>\n",
              "    </tr>\n",
              "  </thead>\n",
              "  <tbody>\n",
              "    <tr>\n",
              "      <th>Emmanuel</th>\n",
              "      <td>6.47</td>\n",
              "      <td>6.88</td>\n",
              "      <td>6.3</td>\n",
              "      <td>4.74</td>\n",
              "      <td>M</td>\n",
              "    </tr>\n",
              "  </tbody>\n",
              "</table>\n",
              "</div>"
            ],
            "text/plain": [
              "            P1    P2   P3    P4 Sexo\n",
              "Emmanuel  6.47  6.88  6.3  4.74    M"
            ]
          },
          "metadata": {
            "tags": []
          },
          "execution_count": 135
        }
      ]
    },
    {
      "cell_type": "code",
      "metadata": {
        "colab": {
          "base_uri": "https://localhost:8080/",
          "height": 77
        },
        "id": "QTORTwKk-0fJ",
        "outputId": "6ba45e8c-69b1-4772-c9e9-c5f25246ccfb"
      },
      "source": [
        "notas_alunos[ (notas_alunos ['Sexo'] == 'M') & (notas_alunos['P3']>4)]"
      ],
      "execution_count": 136,
      "outputs": [
        {
          "output_type": "execute_result",
          "data": {
            "text/html": [
              "<div>\n",
              "<style scoped>\n",
              "    .dataframe tbody tr th:only-of-type {\n",
              "        vertical-align: middle;\n",
              "    }\n",
              "\n",
              "    .dataframe tbody tr th {\n",
              "        vertical-align: top;\n",
              "    }\n",
              "\n",
              "    .dataframe thead th {\n",
              "        text-align: right;\n",
              "    }\n",
              "</style>\n",
              "<table border=\"1\" class=\"dataframe\">\n",
              "  <thead>\n",
              "    <tr style=\"text-align: right;\">\n",
              "      <th></th>\n",
              "      <th>P1</th>\n",
              "      <th>P2</th>\n",
              "      <th>P3</th>\n",
              "      <th>P4</th>\n",
              "      <th>Sexo</th>\n",
              "    </tr>\n",
              "  </thead>\n",
              "  <tbody>\n",
              "    <tr>\n",
              "      <th>Emmanuel</th>\n",
              "      <td>6.47</td>\n",
              "      <td>6.88</td>\n",
              "      <td>6.3</td>\n",
              "      <td>4.74</td>\n",
              "      <td>M</td>\n",
              "    </tr>\n",
              "  </tbody>\n",
              "</table>\n",
              "</div>"
            ],
            "text/plain": [
              "            P1    P2   P3    P4 Sexo\n",
              "Emmanuel  6.47  6.88  6.3  4.74    M"
            ]
          },
          "metadata": {
            "tags": []
          },
          "execution_count": 136
        }
      ]
    },
    {
      "cell_type": "code",
      "metadata": {
        "colab": {
          "base_uri": "https://localhost:8080/",
          "height": 77
        },
        "id": "El8gR__J_pPQ",
        "outputId": "3bfdbdfe-4e5c-4a7c-beec-f8c7abb03e19"
      },
      "source": [
        "notas_alunos [(notas_alunos['P3']>4)] [(notas_alunos ['Sexo'] == 'M')]"
      ],
      "execution_count": 137,
      "outputs": [
        {
          "output_type": "execute_result",
          "data": {
            "text/html": [
              "<div>\n",
              "<style scoped>\n",
              "    .dataframe tbody tr th:only-of-type {\n",
              "        vertical-align: middle;\n",
              "    }\n",
              "\n",
              "    .dataframe tbody tr th {\n",
              "        vertical-align: top;\n",
              "    }\n",
              "\n",
              "    .dataframe thead th {\n",
              "        text-align: right;\n",
              "    }\n",
              "</style>\n",
              "<table border=\"1\" class=\"dataframe\">\n",
              "  <thead>\n",
              "    <tr style=\"text-align: right;\">\n",
              "      <th></th>\n",
              "      <th>P1</th>\n",
              "      <th>P2</th>\n",
              "      <th>P3</th>\n",
              "      <th>P4</th>\n",
              "      <th>Sexo</th>\n",
              "    </tr>\n",
              "  </thead>\n",
              "  <tbody>\n",
              "    <tr>\n",
              "      <th>Emmanuel</th>\n",
              "      <td>6.47</td>\n",
              "      <td>6.88</td>\n",
              "      <td>6.3</td>\n",
              "      <td>4.74</td>\n",
              "      <td>M</td>\n",
              "    </tr>\n",
              "  </tbody>\n",
              "</table>\n",
              "</div>"
            ],
            "text/plain": [
              "            P1    P2   P3    P4 Sexo\n",
              "Emmanuel  6.47  6.88  6.3  4.74    M"
            ]
          },
          "metadata": {
            "tags": []
          },
          "execution_count": 137
        }
      ]
    },
    {
      "cell_type": "code",
      "metadata": {
        "colab": {
          "base_uri": "https://localhost:8080/",
          "height": 77
        },
        "id": "1R0YfnWN_7uB",
        "outputId": "6bd8e32d-a67b-4709-a88e-b6af166bb26a"
      },
      "source": [
        "notas_alunos.loc[(notas_alunos['P3']>4),:]    .loc[(notas_alunos ['Sexo'] == 'M'),:]"
      ],
      "execution_count": 138,
      "outputs": [
        {
          "output_type": "execute_result",
          "data": {
            "text/html": [
              "<div>\n",
              "<style scoped>\n",
              "    .dataframe tbody tr th:only-of-type {\n",
              "        vertical-align: middle;\n",
              "    }\n",
              "\n",
              "    .dataframe tbody tr th {\n",
              "        vertical-align: top;\n",
              "    }\n",
              "\n",
              "    .dataframe thead th {\n",
              "        text-align: right;\n",
              "    }\n",
              "</style>\n",
              "<table border=\"1\" class=\"dataframe\">\n",
              "  <thead>\n",
              "    <tr style=\"text-align: right;\">\n",
              "      <th></th>\n",
              "      <th>P1</th>\n",
              "      <th>P2</th>\n",
              "      <th>P3</th>\n",
              "      <th>P4</th>\n",
              "      <th>Sexo</th>\n",
              "    </tr>\n",
              "  </thead>\n",
              "  <tbody>\n",
              "    <tr>\n",
              "      <th>Emmanuel</th>\n",
              "      <td>6.47</td>\n",
              "      <td>6.88</td>\n",
              "      <td>6.3</td>\n",
              "      <td>4.74</td>\n",
              "      <td>M</td>\n",
              "    </tr>\n",
              "  </tbody>\n",
              "</table>\n",
              "</div>"
            ],
            "text/plain": [
              "            P1    P2   P3    P4 Sexo\n",
              "Emmanuel  6.47  6.88  6.3  4.74    M"
            ]
          },
          "metadata": {
            "tags": []
          },
          "execution_count": 138
        }
      ]
    },
    {
      "cell_type": "code",
      "metadata": {
        "colab": {
          "base_uri": "https://localhost:8080/",
          "height": 254
        },
        "id": "JUiBZBqt959G",
        "outputId": "a938f51f-ae28-4580-90a8-c31c88c7770e"
      },
      "source": [
        "notas_alunos['MF'] = notas_alunos.mean(axis = 1).round(1)\n",
        "notas_alunos"
      ],
      "execution_count": 139,
      "outputs": [
        {
          "output_type": "execute_result",
          "data": {
            "text/html": [
              "<div>\n",
              "<style scoped>\n",
              "    .dataframe tbody tr th:only-of-type {\n",
              "        vertical-align: middle;\n",
              "    }\n",
              "\n",
              "    .dataframe tbody tr th {\n",
              "        vertical-align: top;\n",
              "    }\n",
              "\n",
              "    .dataframe thead th {\n",
              "        text-align: right;\n",
              "    }\n",
              "</style>\n",
              "<table border=\"1\" class=\"dataframe\">\n",
              "  <thead>\n",
              "    <tr style=\"text-align: right;\">\n",
              "      <th></th>\n",
              "      <th>P1</th>\n",
              "      <th>P2</th>\n",
              "      <th>P3</th>\n",
              "      <th>P4</th>\n",
              "      <th>Sexo</th>\n",
              "      <th>MF</th>\n",
              "    </tr>\n",
              "  </thead>\n",
              "  <tbody>\n",
              "    <tr>\n",
              "      <th>Emmanuel</th>\n",
              "      <td>6.47</td>\n",
              "      <td>6.88</td>\n",
              "      <td>6.30</td>\n",
              "      <td>4.74</td>\n",
              "      <td>M</td>\n",
              "      <td>6.1</td>\n",
              "    </tr>\n",
              "    <tr>\n",
              "      <th>Teste1</th>\n",
              "      <td>7.26</td>\n",
              "      <td>8.45</td>\n",
              "      <td>4.71</td>\n",
              "      <td>7.40</td>\n",
              "      <td>F</td>\n",
              "      <td>7.0</td>\n",
              "    </tr>\n",
              "    <tr>\n",
              "      <th>Teste2</th>\n",
              "      <td>2.75</td>\n",
              "      <td>8.47</td>\n",
              "      <td>8.57</td>\n",
              "      <td>5.94</td>\n",
              "      <td>F</td>\n",
              "      <td>6.4</td>\n",
              "    </tr>\n",
              "    <tr>\n",
              "      <th>Teste3</th>\n",
              "      <td>4.37</td>\n",
              "      <td>7.53</td>\n",
              "      <td>8.36</td>\n",
              "      <td>6.63</td>\n",
              "      <td>F</td>\n",
              "      <td>6.7</td>\n",
              "    </tr>\n",
              "    <tr>\n",
              "      <th>Teste4</th>\n",
              "      <td>2.47</td>\n",
              "      <td>4.95</td>\n",
              "      <td>5.76</td>\n",
              "      <td>2.06</td>\n",
              "      <td>F</td>\n",
              "      <td>3.8</td>\n",
              "    </tr>\n",
              "    <tr>\n",
              "      <th>Teste5</th>\n",
              "      <td>5.21</td>\n",
              "      <td>2.56</td>\n",
              "      <td>6.68</td>\n",
              "      <td>2.11</td>\n",
              "      <td>F</td>\n",
              "      <td>4.1</td>\n",
              "    </tr>\n",
              "    <tr>\n",
              "      <th>Teste6</th>\n",
              "      <td>5.45</td>\n",
              "      <td>4.35</td>\n",
              "      <td>7.77</td>\n",
              "      <td>4.25</td>\n",
              "      <td>F</td>\n",
              "      <td>5.5</td>\n",
              "    </tr>\n",
              "  </tbody>\n",
              "</table>\n",
              "</div>"
            ],
            "text/plain": [
              "            P1    P2    P3    P4 Sexo   MF\n",
              "Emmanuel  6.47  6.88  6.30  4.74    M  6.1\n",
              "Teste1    7.26  8.45  4.71  7.40    F  7.0\n",
              "Teste2    2.75  8.47  8.57  5.94    F  6.4\n",
              "Teste3    4.37  7.53  8.36  6.63    F  6.7\n",
              "Teste4    2.47  4.95  5.76  2.06    F  3.8\n",
              "Teste5    5.21  2.56  6.68  2.11    F  4.1\n",
              "Teste6    5.45  4.35  7.77  4.25    F  5.5"
            ]
          },
          "metadata": {
            "tags": []
          },
          "execution_count": 139
        }
      ]
    },
    {
      "cell_type": "code",
      "metadata": {
        "colab": {
          "base_uri": "https://localhost:8080/",
          "height": 254
        },
        "id": "CZjTE4gCCdCZ",
        "outputId": "0e62a778-b427-47b8-c449-44f342b71599"
      },
      "source": [
        "def aux(x):\n",
        "    if x >= 5:\n",
        "        return 'Aprovado'\n",
        "    else:\n",
        "        return 'Reprovado'\n",
        "\n",
        "notas_alunos['Situação'] = notas_alunos['MF'].apply(aux)\n",
        "notas_alunos"
      ],
      "execution_count": 140,
      "outputs": [
        {
          "output_type": "execute_result",
          "data": {
            "text/html": [
              "<div>\n",
              "<style scoped>\n",
              "    .dataframe tbody tr th:only-of-type {\n",
              "        vertical-align: middle;\n",
              "    }\n",
              "\n",
              "    .dataframe tbody tr th {\n",
              "        vertical-align: top;\n",
              "    }\n",
              "\n",
              "    .dataframe thead th {\n",
              "        text-align: right;\n",
              "    }\n",
              "</style>\n",
              "<table border=\"1\" class=\"dataframe\">\n",
              "  <thead>\n",
              "    <tr style=\"text-align: right;\">\n",
              "      <th></th>\n",
              "      <th>P1</th>\n",
              "      <th>P2</th>\n",
              "      <th>P3</th>\n",
              "      <th>P4</th>\n",
              "      <th>Sexo</th>\n",
              "      <th>MF</th>\n",
              "      <th>Situação</th>\n",
              "    </tr>\n",
              "  </thead>\n",
              "  <tbody>\n",
              "    <tr>\n",
              "      <th>Emmanuel</th>\n",
              "      <td>6.47</td>\n",
              "      <td>6.88</td>\n",
              "      <td>6.30</td>\n",
              "      <td>4.74</td>\n",
              "      <td>M</td>\n",
              "      <td>6.1</td>\n",
              "      <td>Aprovado</td>\n",
              "    </tr>\n",
              "    <tr>\n",
              "      <th>Teste1</th>\n",
              "      <td>7.26</td>\n",
              "      <td>8.45</td>\n",
              "      <td>4.71</td>\n",
              "      <td>7.40</td>\n",
              "      <td>F</td>\n",
              "      <td>7.0</td>\n",
              "      <td>Aprovado</td>\n",
              "    </tr>\n",
              "    <tr>\n",
              "      <th>Teste2</th>\n",
              "      <td>2.75</td>\n",
              "      <td>8.47</td>\n",
              "      <td>8.57</td>\n",
              "      <td>5.94</td>\n",
              "      <td>F</td>\n",
              "      <td>6.4</td>\n",
              "      <td>Aprovado</td>\n",
              "    </tr>\n",
              "    <tr>\n",
              "      <th>Teste3</th>\n",
              "      <td>4.37</td>\n",
              "      <td>7.53</td>\n",
              "      <td>8.36</td>\n",
              "      <td>6.63</td>\n",
              "      <td>F</td>\n",
              "      <td>6.7</td>\n",
              "      <td>Aprovado</td>\n",
              "    </tr>\n",
              "    <tr>\n",
              "      <th>Teste4</th>\n",
              "      <td>2.47</td>\n",
              "      <td>4.95</td>\n",
              "      <td>5.76</td>\n",
              "      <td>2.06</td>\n",
              "      <td>F</td>\n",
              "      <td>3.8</td>\n",
              "      <td>Reprovado</td>\n",
              "    </tr>\n",
              "    <tr>\n",
              "      <th>Teste5</th>\n",
              "      <td>5.21</td>\n",
              "      <td>2.56</td>\n",
              "      <td>6.68</td>\n",
              "      <td>2.11</td>\n",
              "      <td>F</td>\n",
              "      <td>4.1</td>\n",
              "      <td>Reprovado</td>\n",
              "    </tr>\n",
              "    <tr>\n",
              "      <th>Teste6</th>\n",
              "      <td>5.45</td>\n",
              "      <td>4.35</td>\n",
              "      <td>7.77</td>\n",
              "      <td>4.25</td>\n",
              "      <td>F</td>\n",
              "      <td>5.5</td>\n",
              "      <td>Aprovado</td>\n",
              "    </tr>\n",
              "  </tbody>\n",
              "</table>\n",
              "</div>"
            ],
            "text/plain": [
              "            P1    P2    P3    P4 Sexo   MF   Situação\n",
              "Emmanuel  6.47  6.88  6.30  4.74    M  6.1   Aprovado\n",
              "Teste1    7.26  8.45  4.71  7.40    F  7.0   Aprovado\n",
              "Teste2    2.75  8.47  8.57  5.94    F  6.4   Aprovado\n",
              "Teste3    4.37  7.53  8.36  6.63    F  6.7   Aprovado\n",
              "Teste4    2.47  4.95  5.76  2.06    F  3.8  Reprovado\n",
              "Teste5    5.21  2.56  6.68  2.11    F  4.1  Reprovado\n",
              "Teste6    5.45  4.35  7.77  4.25    F  5.5   Aprovado"
            ]
          },
          "metadata": {
            "tags": []
          },
          "execution_count": 140
        }
      ]
    },
    {
      "cell_type": "code",
      "metadata": {
        "colab": {
          "base_uri": "https://localhost:8080/",
          "height": 254
        },
        "id": "O5JFtK_1Cz7i",
        "outputId": "1f2e4838-088e-48d4-bdf2-bc7ed238e809"
      },
      "source": [
        "notas_alunos.sort_values(['MF','P3'], ascending = False)"
      ],
      "execution_count": 141,
      "outputs": [
        {
          "output_type": "execute_result",
          "data": {
            "text/html": [
              "<div>\n",
              "<style scoped>\n",
              "    .dataframe tbody tr th:only-of-type {\n",
              "        vertical-align: middle;\n",
              "    }\n",
              "\n",
              "    .dataframe tbody tr th {\n",
              "        vertical-align: top;\n",
              "    }\n",
              "\n",
              "    .dataframe thead th {\n",
              "        text-align: right;\n",
              "    }\n",
              "</style>\n",
              "<table border=\"1\" class=\"dataframe\">\n",
              "  <thead>\n",
              "    <tr style=\"text-align: right;\">\n",
              "      <th></th>\n",
              "      <th>P1</th>\n",
              "      <th>P2</th>\n",
              "      <th>P3</th>\n",
              "      <th>P4</th>\n",
              "      <th>Sexo</th>\n",
              "      <th>MF</th>\n",
              "      <th>Situação</th>\n",
              "    </tr>\n",
              "  </thead>\n",
              "  <tbody>\n",
              "    <tr>\n",
              "      <th>Teste1</th>\n",
              "      <td>7.26</td>\n",
              "      <td>8.45</td>\n",
              "      <td>4.71</td>\n",
              "      <td>7.40</td>\n",
              "      <td>F</td>\n",
              "      <td>7.0</td>\n",
              "      <td>Aprovado</td>\n",
              "    </tr>\n",
              "    <tr>\n",
              "      <th>Teste3</th>\n",
              "      <td>4.37</td>\n",
              "      <td>7.53</td>\n",
              "      <td>8.36</td>\n",
              "      <td>6.63</td>\n",
              "      <td>F</td>\n",
              "      <td>6.7</td>\n",
              "      <td>Aprovado</td>\n",
              "    </tr>\n",
              "    <tr>\n",
              "      <th>Teste2</th>\n",
              "      <td>2.75</td>\n",
              "      <td>8.47</td>\n",
              "      <td>8.57</td>\n",
              "      <td>5.94</td>\n",
              "      <td>F</td>\n",
              "      <td>6.4</td>\n",
              "      <td>Aprovado</td>\n",
              "    </tr>\n",
              "    <tr>\n",
              "      <th>Emmanuel</th>\n",
              "      <td>6.47</td>\n",
              "      <td>6.88</td>\n",
              "      <td>6.30</td>\n",
              "      <td>4.74</td>\n",
              "      <td>M</td>\n",
              "      <td>6.1</td>\n",
              "      <td>Aprovado</td>\n",
              "    </tr>\n",
              "    <tr>\n",
              "      <th>Teste6</th>\n",
              "      <td>5.45</td>\n",
              "      <td>4.35</td>\n",
              "      <td>7.77</td>\n",
              "      <td>4.25</td>\n",
              "      <td>F</td>\n",
              "      <td>5.5</td>\n",
              "      <td>Aprovado</td>\n",
              "    </tr>\n",
              "    <tr>\n",
              "      <th>Teste5</th>\n",
              "      <td>5.21</td>\n",
              "      <td>2.56</td>\n",
              "      <td>6.68</td>\n",
              "      <td>2.11</td>\n",
              "      <td>F</td>\n",
              "      <td>4.1</td>\n",
              "      <td>Reprovado</td>\n",
              "    </tr>\n",
              "    <tr>\n",
              "      <th>Teste4</th>\n",
              "      <td>2.47</td>\n",
              "      <td>4.95</td>\n",
              "      <td>5.76</td>\n",
              "      <td>2.06</td>\n",
              "      <td>F</td>\n",
              "      <td>3.8</td>\n",
              "      <td>Reprovado</td>\n",
              "    </tr>\n",
              "  </tbody>\n",
              "</table>\n",
              "</div>"
            ],
            "text/plain": [
              "            P1    P2    P3    P4 Sexo   MF   Situação\n",
              "Teste1    7.26  8.45  4.71  7.40    F  7.0   Aprovado\n",
              "Teste3    4.37  7.53  8.36  6.63    F  6.7   Aprovado\n",
              "Teste2    2.75  8.47  8.57  5.94    F  6.4   Aprovado\n",
              "Emmanuel  6.47  6.88  6.30  4.74    M  6.1   Aprovado\n",
              "Teste6    5.45  4.35  7.77  4.25    F  5.5   Aprovado\n",
              "Teste5    5.21  2.56  6.68  2.11    F  4.1  Reprovado\n",
              "Teste4    2.47  4.95  5.76  2.06    F  3.8  Reprovado"
            ]
          },
          "metadata": {
            "tags": []
          },
          "execution_count": 141
        }
      ]
    },
    {
      "cell_type": "code",
      "metadata": {
        "colab": {
          "base_uri": "https://localhost:8080/"
        },
        "id": "f-a_cl9mE2Vb",
        "outputId": "ddaa43c0-fe08-4242-fadb-a0130c738b82"
      },
      "source": [
        "notas_alunos[notas_alunos['Sexo']=='F']['MF'].mean()"
      ],
      "execution_count": 142,
      "outputs": [
        {
          "output_type": "execute_result",
          "data": {
            "text/plain": [
              "5.583333333333333"
            ]
          },
          "metadata": {
            "tags": []
          },
          "execution_count": 142
        }
      ]
    },
    {
      "cell_type": "code",
      "metadata": {
        "colab": {
          "base_uri": "https://localhost:8080/",
          "height": 166
        },
        "id": "G3juRoXRFWCC",
        "outputId": "d695652e-df08-495b-f04f-c507385126ae"
      },
      "source": [
        "notas_alunos.groupby([notas_alunos['Situação'], \n",
        "                      notas_alunos['Sexo']]).mean().round(2)"
      ],
      "execution_count": 143,
      "outputs": [
        {
          "output_type": "execute_result",
          "data": {
            "text/html": [
              "<div>\n",
              "<style scoped>\n",
              "    .dataframe tbody tr th:only-of-type {\n",
              "        vertical-align: middle;\n",
              "    }\n",
              "\n",
              "    .dataframe tbody tr th {\n",
              "        vertical-align: top;\n",
              "    }\n",
              "\n",
              "    .dataframe thead th {\n",
              "        text-align: right;\n",
              "    }\n",
              "</style>\n",
              "<table border=\"1\" class=\"dataframe\">\n",
              "  <thead>\n",
              "    <tr style=\"text-align: right;\">\n",
              "      <th></th>\n",
              "      <th></th>\n",
              "      <th>P1</th>\n",
              "      <th>P2</th>\n",
              "      <th>P3</th>\n",
              "      <th>P4</th>\n",
              "      <th>MF</th>\n",
              "    </tr>\n",
              "    <tr>\n",
              "      <th>Situação</th>\n",
              "      <th>Sexo</th>\n",
              "      <th></th>\n",
              "      <th></th>\n",
              "      <th></th>\n",
              "      <th></th>\n",
              "      <th></th>\n",
              "    </tr>\n",
              "  </thead>\n",
              "  <tbody>\n",
              "    <tr>\n",
              "      <th rowspan=\"2\" valign=\"top\">Aprovado</th>\n",
              "      <th>F</th>\n",
              "      <td>4.96</td>\n",
              "      <td>7.20</td>\n",
              "      <td>7.35</td>\n",
              "      <td>6.06</td>\n",
              "      <td>6.40</td>\n",
              "    </tr>\n",
              "    <tr>\n",
              "      <th>M</th>\n",
              "      <td>6.47</td>\n",
              "      <td>6.88</td>\n",
              "      <td>6.30</td>\n",
              "      <td>4.74</td>\n",
              "      <td>6.10</td>\n",
              "    </tr>\n",
              "    <tr>\n",
              "      <th>Reprovado</th>\n",
              "      <th>F</th>\n",
              "      <td>3.84</td>\n",
              "      <td>3.76</td>\n",
              "      <td>6.22</td>\n",
              "      <td>2.08</td>\n",
              "      <td>3.95</td>\n",
              "    </tr>\n",
              "  </tbody>\n",
              "</table>\n",
              "</div>"
            ],
            "text/plain": [
              "                  P1    P2    P3    P4    MF\n",
              "Situação  Sexo                              \n",
              "Aprovado  F     4.96  7.20  7.35  6.06  6.40\n",
              "          M     6.47  6.88  6.30  4.74  6.10\n",
              "Reprovado F     3.84  3.76  6.22  2.08  3.95"
            ]
          },
          "metadata": {
            "tags": []
          },
          "execution_count": 143
        }
      ]
    },
    {
      "cell_type": "code",
      "metadata": {
        "colab": {
          "base_uri": "https://localhost:8080/",
          "height": 265
        },
        "id": "dPww7Hb7Dph6",
        "outputId": "6d2462a8-26c0-4ee7-98b5-dcfddbe40f72"
      },
      "source": [
        "notas_alunos['Situação'].value_counts().plot(kind = 'barh') ;"
      ],
      "execution_count": 144,
      "outputs": [
        {
          "output_type": "display_data",
          "data": {
            "image/png": "[encoded data removed]",
            "text/plain": [
              "<Figure size 432x288 with 1 Axes>"
            ]
          },
          "metadata": {
            "tags": [],
            "needs_background": "light"
          }
        }
      ]
    },
    {
      "cell_type": "code",
      "metadata": {
        "colab": {
          "base_uri": "https://localhost:8080/",
          "height": 308
        },
        "id": "uoD_WHzhHTmy",
        "outputId": "e1c16e5a-5422-4517-ee2b-5aa140a73761"
      },
      "source": [
        "notas_alunos['Situação'].value_counts().plot(kind = 'bar', color = ['green', 'red']) ;"
      ],
      "execution_count": 145,
      "outputs": [
        {
          "output_type": "display_data",
          "data": {
            "image/png": "[encoded data removed]",
            "text/plain": [
              "<Figure size 432x288 with 1 Axes>"
            ]
          },
          "metadata": {
            "tags": [],
            "needs_background": "light"
          }
        }
      ]
    },
    {
      "cell_type": "code",
      "metadata": {
        "colab": {
          "base_uri": "https://localhost:8080/",
          "height": 265
        },
        "id": "c2ice2QnHdMT",
        "outputId": "0df535ce-9af6-4119-9401-f706836a3734"
      },
      "source": [
        "notas_alunos[['P1', 'P2', 'P3', 'P4']].transpose().plot(kind = 'line');"
      ],
      "execution_count": 146,
      "outputs": [
        {
          "output_type": "display_data",
          "data": {
            "image/png": "[encoded data removed]",
            "text/plain": [
              "<Figure size 432x288 with 1 Axes>"
            ]
          },
          "metadata": {
            "tags": [],
            "needs_background": "light"
          }
        }
      ]
    },
    {
      "cell_type": "code",
      "metadata": {
        "colab": {
          "base_uri": "https://localhost:8080/",
          "height": 265
        },
        "id": "t_okl_7-HyoS",
        "outputId": "06c35d82-0205-4245-e8ed-3869f92e4fe1"
      },
      "source": [
        "notas_alunos[colunas].T.plot(kind = 'box');"
      ],
      "execution_count": 147,
      "outputs": [
        {
          "output_type": "display_data",
          "data": {
            "image/png": "[encoded data removed]",
            "text/plain": [
              "<Figure size 432x288 with 1 Axes>"
            ]
          },
          "metadata": {
            "tags": [],
            "needs_background": "light"
          }
        }
      ]
    },
    {
      "cell_type": "code",
      "metadata": {
        "colab": {
          "base_uri": "https://localhost:8080/",
          "height": 265
        },
        "id": "BRrxwUGBH-6S",
        "outputId": "d2c8d7ba-711e-4c5e-8320-8ad3650fe515"
      },
      "source": [
        "notas_alunos[colunas].plot(kind = 'box');"
      ],
      "execution_count": 129,
      "outputs": [
        {
          "output_type": "display_data",
          "data": {
            "image/png": "[encoded data removed]",
            "text/plain": [
              "<Figure size 432x288 with 1 Axes>"
            ]
          },
          "metadata": {
            "tags": [],
            "needs_background": "light"
          }
        }
      ]
    },
    {
      "cell_type": "code",
      "metadata": {
        "id": "1bcUrUwsIqTS"
      },
      "source": [
        "notas_alunos['Nome'] = notas_alunos.index"
      ],
      "execution_count": 148,
      "outputs": []
    },
    {
      "cell_type": "code",
      "metadata": {
        "colab": {
          "base_uri": "https://localhost:8080/",
          "height": 254
        },
        "id": "_DGergPMIm2L",
        "outputId": "29dec7b0-901c-423a-ed89-5864506e3702"
      },
      "source": [
        "notas_alunos.reset_index(inplace = True, drop = True)\n",
        "notas_alunos = notas_alunos[['Nome', 'Sexo', 'P1', 'P2', 'P3', 'P4', 'MF', 'Situação']]\n",
        "notas_alunos"
      ],
      "execution_count": 149,
      "outputs": [
        {
          "output_type": "execute_result",
          "data": {
            "text/html": [
              "<div>\n",
              "<style scoped>\n",
              "    .dataframe tbody tr th:only-of-type {\n",
              "        vertical-align: middle;\n",
              "    }\n",
              "\n",
              "    .dataframe tbody tr th {\n",
              "        vertical-align: top;\n",
              "    }\n",
              "\n",
              "    .dataframe thead th {\n",
              "        text-align: right;\n",
              "    }\n",
              "</style>\n",
              "<table border=\"1\" class=\"dataframe\">\n",
              "  <thead>\n",
              "    <tr style=\"text-align: right;\">\n",
              "      <th></th>\n",
              "      <th>Nome</th>\n",
              "      <th>Sexo</th>\n",
              "      <th>P1</th>\n",
              "      <th>P2</th>\n",
              "      <th>P3</th>\n",
              "      <th>P4</th>\n",
              "      <th>MF</th>\n",
              "      <th>Situação</th>\n",
              "    </tr>\n",
              "  </thead>\n",
              "  <tbody>\n",
              "    <tr>\n",
              "      <th>0</th>\n",
              "      <td>Emmanuel</td>\n",
              "      <td>M</td>\n",
              "      <td>6.47</td>\n",
              "      <td>6.88</td>\n",
              "      <td>6.30</td>\n",
              "      <td>4.74</td>\n",
              "      <td>6.1</td>\n",
              "      <td>Aprovado</td>\n",
              "    </tr>\n",
              "    <tr>\n",
              "      <th>1</th>\n",
              "      <td>Teste1</td>\n",
              "      <td>F</td>\n",
              "      <td>7.26</td>\n",
              "      <td>8.45</td>\n",
              "      <td>4.71</td>\n",
              "      <td>7.40</td>\n",
              "      <td>7.0</td>\n",
              "      <td>Aprovado</td>\n",
              "    </tr>\n",
              "    <tr>\n",
              "      <th>2</th>\n",
              "      <td>Teste2</td>\n",
              "      <td>F</td>\n",
              "      <td>2.75</td>\n",
              "      <td>8.47</td>\n",
              "      <td>8.57</td>\n",
              "      <td>5.94</td>\n",
              "      <td>6.4</td>\n",
              "      <td>Aprovado</td>\n",
              "    </tr>\n",
              "    <tr>\n",
              "      <th>3</th>\n",
              "      <td>Teste3</td>\n",
              "      <td>F</td>\n",
              "      <td>4.37</td>\n",
              "      <td>7.53</td>\n",
              "      <td>8.36</td>\n",
              "      <td>6.63</td>\n",
              "      <td>6.7</td>\n",
              "      <td>Aprovado</td>\n",
              "    </tr>\n",
              "    <tr>\n",
              "      <th>4</th>\n",
              "      <td>Teste4</td>\n",
              "      <td>F</td>\n",
              "      <td>2.47</td>\n",
              "      <td>4.95</td>\n",
              "      <td>5.76</td>\n",
              "      <td>2.06</td>\n",
              "      <td>3.8</td>\n",
              "      <td>Reprovado</td>\n",
              "    </tr>\n",
              "    <tr>\n",
              "      <th>5</th>\n",
              "      <td>Teste5</td>\n",
              "      <td>F</td>\n",
              "      <td>5.21</td>\n",
              "      <td>2.56</td>\n",
              "      <td>6.68</td>\n",
              "      <td>2.11</td>\n",
              "      <td>4.1</td>\n",
              "      <td>Reprovado</td>\n",
              "    </tr>\n",
              "    <tr>\n",
              "      <th>6</th>\n",
              "      <td>Teste6</td>\n",
              "      <td>F</td>\n",
              "      <td>5.45</td>\n",
              "      <td>4.35</td>\n",
              "      <td>7.77</td>\n",
              "      <td>4.25</td>\n",
              "      <td>5.5</td>\n",
              "      <td>Aprovado</td>\n",
              "    </tr>\n",
              "  </tbody>\n",
              "</table>\n",
              "</div>"
            ],
            "text/plain": [
              "       Nome Sexo    P1    P2    P3    P4   MF   Situação\n",
              "0  Emmanuel    M  6.47  6.88  6.30  4.74  6.1   Aprovado\n",
              "1    Teste1    F  7.26  8.45  4.71  7.40  7.0   Aprovado\n",
              "2    Teste2    F  2.75  8.47  8.57  5.94  6.4   Aprovado\n",
              "3    Teste3    F  4.37  7.53  8.36  6.63  6.7   Aprovado\n",
              "4    Teste4    F  2.47  4.95  5.76  2.06  3.8  Reprovado\n",
              "5    Teste5    F  5.21  2.56  6.68  2.11  4.1  Reprovado\n",
              "6    Teste6    F  5.45  4.35  7.77  4.25  5.5   Aprovado"
            ]
          },
          "metadata": {
            "tags": []
          },
          "execution_count": 149
        }
      ]
    },
    {
      "cell_type": "code",
      "metadata": {
        "id": "wvZbKSEoKtVT"
      },
      "source": [
        ""
      ],
      "execution_count": null,
      "outputs": []
    }
  ]
}